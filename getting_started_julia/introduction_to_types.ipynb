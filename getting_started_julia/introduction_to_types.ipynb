{
 "cells": [
  {
   "cell_type": "markdown",
   "id": "51de96fd",
   "metadata": {},
   "source": [
    "\n",
    "<a id='introduction-to-types'></a>"
   ]
  },
  {
   "cell_type": "markdown",
   "id": "6d21caa0",
   "metadata": {},
   "source": [
    "# Introduction to Types and Generic Programming"
   ]
  },
  {
   "cell_type": "markdown",
   "id": "b1816161",
   "metadata": {},
   "source": [
    "## Contents\n",
    "\n",
    "- [Introduction to Types and Generic Programming](#Introduction-to-Types-and-Generic-Programming)  \n",
    "  - [Overview](#Overview)  \n",
    "  - [Finding and Interpreting Types](#Finding-and-Interpreting-Types)  \n",
    "  - [The Type Hierarchy](#The-Type-Hierarchy)  \n",
    "  - [Deducing and Declaring Types](#Deducing-and-Declaring-Types)  \n",
    "  - [Creating New Types](#Creating-New-Types)  \n",
    "  - [Introduction to Multiple Dispatch](#Introduction-to-Multiple-Dispatch)  \n",
    "  - [Exercises](#Exercises)  "
   ]
  },
  {
   "cell_type": "markdown",
   "id": "463a0e4c",
   "metadata": {},
   "source": [
    "## Overview\n",
    "\n",
    "In Julia, arrays and tuples are the most important data type for working with numerical data.\n",
    "\n",
    "In this lecture we give more details on\n",
    "\n",
    "- declaring types  \n",
    "- abstract types  \n",
    "- motivation for generic programming  \n",
    "- multiple dispatch  \n",
    "- building user-defined types  "
   ]
  },
  {
   "cell_type": "code",
   "execution_count": 3,
   "id": "c4460e54",
   "metadata": {
    "hide-output": false
   },
   "outputs": [],
   "source": [
    "using LinearAlgebra, Statistics"
   ]
  },
  {
   "cell_type": "markdown",
   "id": "e9dc1de8",
   "metadata": {},
   "source": [
    "## Finding and Interpreting Types"
   ]
  },
  {
   "cell_type": "markdown",
   "id": "a27d0720",
   "metadata": {},
   "source": [
    "### Finding The Type\n",
    "\n",
    "As we have seen in the previous lectures, in Julia all values have a type, which can be queried using the `typeof` function"
   ]
  },
  {
   "cell_type": "code",
   "execution_count": 2,
   "id": "4a0ea73b",
   "metadata": {
    "hide-output": false
   },
   "outputs": [
    {
     "name": "stdout",
     "output_type": "stream",
     "text": [
      "typeof(1) = Int64\n",
      "typeof(1.0) = Float64\n"
     ]
    }
   ],
   "source": [
    "@show typeof(1)\n",
    "@show typeof(1.0);"
   ]
  },
  {
   "cell_type": "markdown",
   "id": "aed30f28",
   "metadata": {},
   "source": [
    "The hard-coded values `1` and `1.0` are called literals in a programming\n",
    "language, and the compiler deduces their types (`Int64` and `Float64` respectively in the example above).\n",
    "\n",
    "You can also query the type of a value"
   ]
  },
  {
   "cell_type": "code",
   "execution_count": 3,
   "id": "fc6525e6",
   "metadata": {
    "hide-output": false
   },
   "outputs": [
    {
     "data": {
      "text/plain": [
       "Int64"
      ]
     },
     "metadata": {},
     "output_type": "display_data"
    }
   ],
   "source": [
    "x = 1\n",
    "typeof(x)"
   ]
  },
  {
   "cell_type": "markdown",
   "id": "48c55058",
   "metadata": {},
   "source": [
    "The name `x` binds to the value `1`, created as a literal."
   ]
  },
  {
   "cell_type": "markdown",
   "id": "79feaa90",
   "metadata": {},
   "source": [
    "### Parametric Types\n",
    "\n",
    "(See [parametric types documentation](https://docs.julialang.org/en/v1/manual/types/#Parametric-Types-1)).\n",
    "\n",
    "The next two types use curly bracket notation to express the fact that they are *parametric*"
   ]
  },
  {
   "cell_type": "code",
   "execution_count": 4,
   "id": "c302b963",
   "metadata": {
    "hide-output": false
   },
   "outputs": [
    {
     "name": "stdout",
     "output_type": "stream",
     "text": [
      "typeof(1.0 + 1im) = ComplexF64\n",
      "typeof(ones(2, 2)) = Matrix{Float64}\n"
     ]
    }
   ],
   "source": [
    "@show typeof(1.0 + 1im)\n",
    "@show typeof(ones(2, 2));"
   ]
  },
  {
   "cell_type": "markdown",
   "id": "0bd5b856",
   "metadata": {},
   "source": [
    "We will learn more details about [generic programming](https://julia.quantecon.org/../more_julia/generic_programming.html) later, but the key is to interpret the curly brackets as swappable parameters for a given type.\n",
    "\n",
    "For example, `Array{Float64, 2}` can be read as\n",
    "\n",
    "1. `Array` is a parametric type representing a dense array, where the first parameter is the type stored, and the second is the number of dimensions.  \n",
    "1. `Float64` is a concrete type declaring that the data stored will be a particular size of floating point.  \n",
    "1. `2` is the number of dimensions of that array.  \n",
    "\n",
    "\n",
    "A concrete type is one where values can be created by the compiler (equivalently, one which can be the result of `typeof(x)` for some object `x`).\n",
    "\n",
    "Values of a **parametric type** cannot be concretely constructed unless all of the parameters are given (themselves with concrete types).\n",
    "\n",
    "In the case of `Complex{Float64}`\n",
    "\n",
    "1. `Complex` is an abstract complex number type.  \n",
    "1. `Float64` is a concrete type declaring what the type of the real and imaginary parts of the value should store.  \n",
    "\n",
    "\n",
    "Another type to consider is the `Tuple` and `NamedTuple`"
   ]
  },
  {
   "cell_type": "code",
   "execution_count": 5,
   "id": "ef663669",
   "metadata": {
    "hide-output": false
   },
   "outputs": [
    {
     "name": "stdout",
     "output_type": "stream",
     "text": [
      "typeof(x) = Tuple{Int64, Float64, String}\n"
     ]
    },
    {
     "data": {
      "text/plain": [
       "Tuple{Int64, Float64, String}"
      ]
     },
     "metadata": {},
     "output_type": "display_data"
    }
   ],
   "source": [
    "x = (1, 2.0, \"test\")\n",
    "@show typeof(x)"
   ]
  },
  {
   "cell_type": "markdown",
   "id": "f861a820",
   "metadata": {},
   "source": [
    "In this case, `Tuple` is the parametric type, and the three parameters are a list of the types of each value.\n",
    "\n",
    "For a named tuple"
   ]
  },
  {
   "cell_type": "code",
   "execution_count": 6,
   "id": "56740ac5",
   "metadata": {
    "hide-output": false
   },
   "outputs": [
    {
     "name": "stdout",
     "output_type": "stream",
     "text": [
      "typeof(x) = @NamedTuple{a::Int64, b::Float64, c::String}\n"
     ]
    },
    {
     "data": {
      "text/plain": [
       "@NamedTuple{a::Int64, b::Float64, c::String}"
      ]
     },
     "metadata": {},
     "output_type": "display_data"
    }
   ],
   "source": [
    "x = (a = 1, b = 2.0, c = \"test\")\n",
    "@show typeof(x)"
   ]
  },
  {
   "cell_type": "markdown",
   "id": "49ee9629",
   "metadata": {},
   "source": [
    "The parametric `NamedTuple` type contains two parameters: first a list of names for each field of the tuple, and second the underlying `Tuple` type to store the values.\n",
    "\n",
    "Anytime a value is prefixed by a colon, as in the `:a` above, the type is `Symbol` – a special kind of string used by the compiler."
   ]
  },
  {
   "cell_type": "code",
   "execution_count": 7,
   "id": "559f937d",
   "metadata": {
    "hide-output": false
   },
   "outputs": [
    {
     "data": {
      "text/plain": [
       "Symbol"
      ]
     },
     "metadata": {},
     "output_type": "display_data"
    }
   ],
   "source": [
    "typeof(:a)"
   ]
  },
  {
   "cell_type": "markdown",
   "id": "0305640c",
   "metadata": {},
   "source": [
    "**Remark:** Note that, by convention, type names use CamelCase –  `Array`, `AbstractArray`, etc."
   ]
  },
  {
   "cell_type": "markdown",
   "id": "e2d0799f",
   "metadata": {},
   "source": [
    "### Variables, Types, and Values\n",
    "\n",
    "Since variables and functions are lower case by convention, this can be used to easily identify types when reading code and output.\n",
    "\n",
    "After assigning a variable name to a value, we can query the type of the\n",
    "value via the name."
   ]
  },
  {
   "cell_type": "code",
   "execution_count": 8,
   "id": "69d9a9da",
   "metadata": {
    "hide-output": false
   },
   "outputs": [
    {
     "name": "stdout",
     "output_type": "stream",
     "text": [
      "typeof(x) = Int64\n"
     ]
    }
   ],
   "source": [
    "x = 42\n",
    "@show typeof(x);"
   ]
  },
  {
   "cell_type": "markdown",
   "id": "63444c75",
   "metadata": {},
   "source": [
    "Thus, `x` is just a symbol bound to a value of type `Int64`.\n",
    "\n",
    "We can *rebind* the symbol `x` to any other value, of the same type or otherwise."
   ]
  },
  {
   "cell_type": "code",
   "execution_count": 9,
   "id": "ba45b332",
   "metadata": {
    "hide-output": false
   },
   "outputs": [
    {
     "data": {
      "text/plain": [
       "42.0"
      ]
     },
     "metadata": {},
     "output_type": "display_data"
    }
   ],
   "source": [
    "x = 42.0"
   ]
  },
  {
   "cell_type": "markdown",
   "id": "b8676a4e",
   "metadata": {},
   "source": [
    "Now `x` “points to” another value, of type `Float64`"
   ]
  },
  {
   "cell_type": "code",
   "execution_count": 10,
   "id": "670e9650",
   "metadata": {
    "hide-output": false
   },
   "outputs": [
    {
     "data": {
      "text/plain": [
       "Float64"
      ]
     },
     "metadata": {},
     "output_type": "display_data"
    }
   ],
   "source": [
    "typeof(x)"
   ]
  },
  {
   "cell_type": "markdown",
   "id": "48a239bb",
   "metadata": {},
   "source": [
    "However, beyond a few notable exceptions (e.g. `nothing` used for [error handling](https://julia.quantecon.org/fundamental_types.html#error-handling)),\n",
    "changing types is usually a symptom of poorly organized code, and makes\n",
    "[type inference](#type-inference) more difficult for the compiler."
   ]
  },
  {
   "cell_type": "markdown",
   "id": "d0b74ff0",
   "metadata": {},
   "source": [
    "## The Type Hierarchy\n",
    "\n",
    "Let’s discuss how types are organized."
   ]
  },
  {
   "cell_type": "markdown",
   "id": "94b13ff1",
   "metadata": {},
   "source": [
    "### Abstract vs Concrete Types\n",
    "\n",
    "(See [abstract types documentation](https://docs.julialang.org/en/v1/manual/types/#man-abstract-types-1))\n",
    "\n",
    "Up to this point, most of the types we have worked with (e.g., `Float64, Int64`) are examples of **concrete types**.\n",
    "\n",
    "Concrete types are types that we can *instantiate* – i.e., pair with data in memory.\n",
    "\n",
    "We will now examine **abstract types** that cannot be instantiated (e.g., `Real`, `AbstractFloat`).\n",
    "\n",
    "For example, while you will never have a `Real` number directly in memory, the abstract types\n",
    "help us organize and work with related concrete types."
   ]
  },
  {
   "cell_type": "markdown",
   "id": "7c29d6b5",
   "metadata": {},
   "source": [
    "### Subtypes and Supertypes\n",
    "\n",
    "How exactly do abstract types organize or relate different concrete types?\n",
    "\n",
    "In the Julia language specification, the types form a hierarchy.\n",
    "\n",
    "You can check if a type is a subtype of another with the `<:` operator."
   ]
  },
  {
   "cell_type": "code",
   "execution_count": 1,
   "id": "b97f79cf",
   "metadata": {
    "hide-output": false
   },
   "outputs": [
    {
     "name": "stdout",
     "output_type": "stream",
     "text": [
      "Float64 <: Real = true\n",
      "Int64 <: Real = true\n",
      "Complex{Float64} <: Real = false\n",
      "Array <: Real = false\n"
     ]
    }
   ],
   "source": [
    "@show Float64 <: Real\n",
    "@show Int64 <: Real\n",
    "@show Complex{Float64} <: Real\n",
    "@show Array <: Real;"
   ]
  },
  {
   "cell_type": "markdown",
   "id": "f20f07f9",
   "metadata": {},
   "source": [
    "In the above, both `Float64` and `Int64` are **subtypes** of `Real`, whereas the `Complex` numbers are not.\n",
    "\n",
    "They are, however, all subtypes of `Number`"
   ]
  },
  {
   "cell_type": "code",
   "execution_count": 2,
   "id": "d48b7477",
   "metadata": {
    "hide-output": false
   },
   "outputs": [
    {
     "name": "stdout",
     "output_type": "stream",
     "text": [
      "Real <: Number = true\n",
      "Float64 <: Number = true\n",
      "Int64 <: Number = true\n",
      "Complex{Float64} <: Number = true\n"
     ]
    }
   ],
   "source": [
    "@show Real <: Number\n",
    "@show Float64 <: Number\n",
    "@show Int64 <: Number\n",
    "@show Complex{Float64} <: Number;"
   ]
  },
  {
   "cell_type": "markdown",
   "id": "54af0ac1",
   "metadata": {},
   "source": [
    "`Number` in turn is a subtype of `Any`, which is a parent of all types."
   ]
  },
  {
   "cell_type": "code",
   "execution_count": 3,
   "id": "a69bc741",
   "metadata": {
    "hide-output": false
   },
   "outputs": [
    {
     "data": {
      "text/plain": [
       "true"
      ]
     },
     "metadata": {},
     "output_type": "display_data"
    }
   ],
   "source": [
    "Number <: Any"
   ]
  },
  {
   "cell_type": "markdown",
   "id": "7ea5a614",
   "metadata": {},
   "source": [
    "In particular, the type tree is organized with `Any` at the top and the concrete types at the bottom.\n",
    "\n",
    "We never actually see *instances* of abstract types (i.e., `typeof(x)` never returns an abstract type).\n",
    "\n",
    "The point of abstract types is to categorize the concrete types, as well as other abstract types that sit below them in the hierarchy.\n",
    "\n",
    "There are some further functions to help you explore the type hierarchy, such as `show_supertypes` which walks up the tree of types to `Any` for a given type."
   ]
  },
  {
   "cell_type": "code",
   "execution_count": 18,
   "id": "6b75f240",
   "metadata": {
    "hide-output": false
   },
   "outputs": [
    {
     "name": "stdout",
     "output_type": "stream",
     "text": [
      "Int64 <: Signed <: Integer <: Real <: Number <: Any"
     ]
    }
   ],
   "source": [
    "using Base: show_supertypes  # import the function from the `Base` package\n",
    "\n",
    "show_supertypes(Int64)"
   ]
  },
  {
   "cell_type": "markdown",
   "id": "a6c100e6",
   "metadata": {},
   "source": [
    "And the `subtypes` which gives a list of the available subtypes for any packages or code currently loaded"
   ]
  },
  {
   "cell_type": "code",
   "execution_count": 5,
   "id": "1f28148d",
   "metadata": {
    "hide-output": false
   },
   "outputs": [
    {
     "name": "stdout",
     "output_type": "stream",
     "text": [
      "subtypes(Real) = Any[AbstractFloat, AbstractIrrational, Integer, Rational]\n",
      "subtypes(AbstractFloat) = Any[BigFloat, Float16, Float32, Float64]\n"
     ]
    }
   ],
   "source": [
    "@show subtypes(Real)\n",
    "@show subtypes(AbstractFloat);"
   ]
  },
  {
   "cell_type": "markdown",
   "id": "6b516b12",
   "metadata": {},
   "source": [
    "\n",
    "<a id='type-inference'></a>"
   ]
  },
  {
   "cell_type": "markdown",
   "id": "3f24c946",
   "metadata": {},
   "source": [
    "## Deducing and Declaring Types\n",
    "\n",
    "We will discuss this in detail in [generic programming](https://julia.quantecon.org/../more_julia/generic_programming.html),\n",
    "but much of Julia’s performance gains and generality of notation comes from its type system.\n",
    "\n",
    "For example"
   ]
  },
  {
   "cell_type": "code",
   "execution_count": 6,
   "id": "0c501e5d",
   "metadata": {
    "hide-output": false
   },
   "outputs": [
    {
     "name": "stdout",
     "output_type": "stream",
     "text": [
      "typeof(x1) = Vector{Int64}\n",
      "typeof(x2) = Vector{Float64}\n"
     ]
    },
    {
     "data": {
      "text/plain": [
       "Vector{Float64}\u001b[90m (alias for \u001b[39m\u001b[90mArray{Float64, 1}\u001b[39m\u001b[90m)\u001b[39m"
      ]
     },
     "metadata": {},
     "output_type": "display_data"
    }
   ],
   "source": [
    "x1 = [1, 2, 3]\n",
    "x2 = [1.0, 2.0, 3.0]\n",
    "\n",
    "@show typeof(x1)\n",
    "@show typeof(x2)"
   ]
  },
  {
   "cell_type": "markdown",
   "id": "9a4a460f",
   "metadata": {},
   "source": [
    "These return `Array{Int64,1}` and `Array{Float64,1}` respectively, which the compiler is able to infer from the right hand side of the expressions.\n",
    "\n",
    "Given the information on the type, the compiler can work through the sequence of expressions to infer other types."
   ]
  },
  {
   "cell_type": "code",
   "execution_count": 7,
   "id": "6bb2e187",
   "metadata": {
    "hide-output": false
   },
   "outputs": [
    {
     "data": {
      "text/plain": [
       "3-element Vector{Int64}:\n",
       " 2\n",
       " 4\n",
       " 6"
      ]
     },
     "metadata": {},
     "output_type": "display_data"
    }
   ],
   "source": [
    "f(y) = 2y # define some function\n",
    "\n",
    "x = [1, 2, 3]\n",
    "z = f(x) # call with an integer array - compiler deduces type"
   ]
  },
  {
   "cell_type": "markdown",
   "id": "9d220e8d",
   "metadata": {},
   "source": [
    "### Good Practices for Functions and Variable Types\n",
    "\n",
    "In order to keep many of the benefits of Julia, you will sometimes want to ensure\n",
    "the compiler can always deduce a single type from any function or expression.\n",
    "\n",
    "An example of bad practice is to use an array to hold unrelated types"
   ]
  },
  {
   "cell_type": "code",
   "execution_count": 8,
   "id": "3a2fe6cd",
   "metadata": {
    "hide-output": false
   },
   "outputs": [
    {
     "data": {
      "text/plain": [
       "3-element Vector{Any}:\n",
       " 1.0\n",
       "  \"test\"\n",
       " 1"
      ]
     },
     "metadata": {},
     "output_type": "display_data"
    }
   ],
   "source": [
    "x = [1.0, \"test\", 1]  # typically poor style"
   ]
  },
  {
   "cell_type": "markdown",
   "id": "ca05fb7f",
   "metadata": {},
   "source": [
    "The type of this array is `Array{Any,1}`, where `Any` means the compiler has determined that any valid Julia type can be added to the array.\n",
    "\n",
    "While occasionally useful, this is to be avoided whenever possible in performance sensitive code.\n",
    "\n",
    "The other place this can come up is in the declaration of functions.\n",
    "\n",
    "As an example, consider a function which returns different types depending on the arguments."
   ]
  },
  {
   "cell_type": "code",
   "execution_count": 9,
   "id": "4717658f",
   "metadata": {
    "hide-output": false
   },
   "outputs": [
    {
     "name": "stdout",
     "output_type": "stream",
     "text": [
      "f(1) = 1.0\n",
      "f(-1) = 0\n"
     ]
    }
   ],
   "source": [
    "function f(x)\n",
    "    if x > 0\n",
    "        return 1.0\n",
    "    else\n",
    "        return 0  # probably meant `0.0`\n",
    "    end\n",
    "end\n",
    "\n",
    "@show f(1)\n",
    "@show f(-1);"
   ]
  },
  {
   "cell_type": "markdown",
   "id": "22762195",
   "metadata": {},
   "source": [
    "The issue here is relatively subtle:  `1.0` is a floating point, while `0` is an integer.\n",
    "\n",
    "Consequently, given the type of `x`, the compiler cannot in general determine what type the function will return.\n",
    "\n",
    "This issue, called **type stability**, is at the heart of most Julia performance considerations.\n",
    "\n",
    "Luckily, trying to ensure that functions return the same types is also generally consistent with simple, clear code."
   ]
  },
  {
   "cell_type": "markdown",
   "id": "7ab05d7a",
   "metadata": {},
   "source": [
    "### Manually Declaring Function and Variable Types\n",
    "\n",
    "(See [type declarations documentation](https://docs.julialang.org/en/v1/manual/types/#Type-Declarations-1))\n",
    "\n",
    "You will notice that in the lecture notes we have never directly declared any types.\n",
    "\n",
    "This is intentional both for exposition and as a best practice for using packages (as opposed to writing new packages, where declaring these types is very important).\n",
    "\n",
    "It is also in contrast to some of the sample code you will see in other Julia sources, which you will need to be able to read.\n",
    "\n",
    "To give an example of the declaration of types, the following are equivalent"
   ]
  },
  {
   "cell_type": "code",
   "execution_count": 10,
   "id": "5d154b53",
   "metadata": {
    "hide-output": false
   },
   "outputs": [
    {
     "data": {
      "text/plain": [
       "2-element Vector{Float64}:\n",
       "  9.1\n",
       " 14.3"
      ]
     },
     "metadata": {},
     "output_type": "display_data"
    }
   ],
   "source": [
    "function f(x, A)\n",
    "    b = [5.0, 6.0]\n",
    "    return A * x .+ b\n",
    "end\n",
    "\n",
    "val = f([0.1, 2.0], [1.0 2.0; 3.0 4.0])"
   ]
  },
  {
   "cell_type": "code",
   "execution_count": 11,
   "id": "508d523b",
   "metadata": {
    "hide-output": false
   },
   "outputs": [
    {
     "data": {
      "text/plain": [
       "2-element Vector{Float64}:\n",
       "  9.1\n",
       " 14.3"
      ]
     },
     "metadata": {},
     "output_type": "display_data"
    }
   ],
   "source": [
    "function f2(x::Vector{Float64}, A::Matrix{Float64})::Vector{Float64}\n",
    "    # argument and return types\n",
    "    b::Vector{Float64} = [5.0, 6.0]\n",
    "    return A * x .+ b\n",
    "end\n",
    "\n",
    "val = f2([0.1; 2.0], [1.0 2.0; 3.0 4.0])"
   ]
  },
  {
   "cell_type": "markdown",
   "id": "e508a415",
   "metadata": {},
   "source": [
    "While declaring the types may be verbose, would it ever generate faster code?\n",
    "\n",
    "The answer is almost never.\n",
    "\n",
    "Furthermore, it can lead to confusion and inefficiencies since many things that behave like vectors and matrices are not `Matrix{Float64}` and `Vector{Float64}`.\n",
    "\n",
    "Here, the first line works and the second line fails"
   ]
  },
  {
   "cell_type": "code",
   "execution_count": null,
   "id": "b00b9be6",
   "metadata": {
    "hide-output": false
   },
   "outputs": [],
   "source": [
    "@show f([0.1; 2.0], [1 2; 3 4])\n",
    "@show f([0.1; 2.0], Diagonal([1.0, 2.0]))\n",
    "\n",
    "# f2([0.1; 2.0], [1 2; 3 4]) # not a `Float64`\n",
    "# f2([0.1; 2.0], Diagonal([1.0, 2.0])) # not a `Matrix{Float64}`"
   ]
  },
  {
   "cell_type": "markdown",
   "id": "1d4ae0e9",
   "metadata": {},
   "source": [
    "## Creating New Types\n",
    "\n",
    "(See [type declarations documentation](https://docs.julialang.org/en/v1/manual/types/#Type-Declarations-1))\n",
    "\n",
    "Up until now, we have used `NamedTuple` to collect sets of parameters for our models and examples.\n",
    "\n",
    "These are useful for maintaining values for model parameters,\n",
    "but you will eventually need to be able to use code that creates its own types."
   ]
  },
  {
   "cell_type": "markdown",
   "id": "fa68f1d2",
   "metadata": {},
   "source": [
    "### Syntax for Creating Concrete Types\n",
    "\n",
    "(See [composite types documentation](https://docs.julialang.org/en/v1/manual/types/#Composite-Types-1))\n",
    "\n",
    "While other sorts of types exist, we almost always use the `struct` keyword, which is for creation of composite data types\n",
    "\n",
    "- “Composite” refers to the fact that the data types in question can be used as collection of named fields.  \n",
    "- The `struct` terminology is used in a number of programming languages to refer to composite data types.  \n",
    "\n",
    "\n",
    "Let’s start with a trivial example where the `struct` we build has fields named `a, b, c`, are not typed"
   ]
  },
  {
   "cell_type": "code",
   "execution_count": 1,
   "id": "1cad92a9",
   "metadata": {
    "hide-output": false
   },
   "outputs": [],
   "source": [
    "struct FooNotTyped  # immutable by default, use `mutable struct` otherwise\n",
    "    a # BAD! not typed\n",
    "    b\n",
    "    c\n",
    "end"
   ]
  },
  {
   "cell_type": "markdown",
   "id": "ac71499b",
   "metadata": {},
   "source": [
    "And another where the types of the fields are chosen"
   ]
  },
  {
   "cell_type": "code",
   "execution_count": 2,
   "id": "719a106c",
   "metadata": {
    "hide-output": false
   },
   "outputs": [],
   "source": [
    "struct Foo\n",
    "    a::Float64\n",
    "    b::Int64\n",
    "    c::Vector{Float64}\n",
    "end"
   ]
  },
  {
   "cell_type": "markdown",
   "id": "8e82e01f",
   "metadata": {},
   "source": [
    "In either case, the compiler generates a function to create new values of the data type, called a “constructor”.\n",
    "\n",
    "It has the same name as the data type but uses function call notion"
   ]
  },
  {
   "cell_type": "code",
   "execution_count": 15,
   "id": "c81d2242",
   "metadata": {
    "hide-output": false
   },
   "outputs": [
    {
     "name": "stdout",
     "output_type": "stream",
     "text": [
      "typeof(foo) = Foo\n",
      "foo.a = 2.0\n",
      "foo.b = 3\n",
      "foo.c = [1.0, 2.0, 3.0]\n"
     ]
    },
    {
     "data": {
      "text/plain": [
       "3-element Vector{Float64}:\n",
       " 1.0\n",
       " 2.0\n",
       " 3.0"
      ]
     },
     "metadata": {},
     "output_type": "display_data"
    }
   ],
   "source": [
    "foo_nt = FooNotTyped(2.0, 3, [1.0, 2.0, 3.0])  # new `FooNotTyped`\n",
    "foo = Foo(2.0, 3, [1.0, 2.0, 3.0]) # creates a new `Foo`\n",
    "\n",
    "@show typeof(foo)\n",
    "@show foo.a       # get the value for a field\n",
    "@show foo.b\n",
    "@show foo.c;\n",
    "\n",
    "# foo.a = 2.0     # fails since it is immutable"
   ]
  },
  {
   "cell_type": "markdown",
   "id": "cf928db4",
   "metadata": {},
   "source": [
    "You will notice two differences above for the creation of a `struct` compared to our use of `NamedTuple`.\n",
    "\n",
    "- Types are declared for the fields, rather than inferred by the compiler.  \n",
    "- The construction of a new instance has no named parameters to prevent accidental misuse if the wrong order is chosen.  "
   ]
  },
  {
   "cell_type": "markdown",
   "id": "83b8ee24",
   "metadata": {},
   "source": [
    "### Issues with Type Declarations\n",
    "\n",
    "Was it necessary to manually declare the types `a::Float64` in the above struct?\n",
    "\n",
    "The answer, in practice, is usually yes.\n",
    "\n",
    "Without a declaration of the type, the compiler is unable to generate efficient code, and the use of a `struct` declared without types could drop performance by orders of magnitude.\n",
    "\n",
    "Moreover, it is very easy to use the wrong type, or unnecessarily constrain the types.\n",
    "\n",
    "The first example, which is usually just as low-performance as no declaration of types at all, is to accidentally declare it with an abstract type"
   ]
  },
  {
   "cell_type": "code",
   "execution_count": 16,
   "id": "96a0703a",
   "metadata": {
    "hide-output": false
   },
   "outputs": [],
   "source": [
    "struct Foo2\n",
    "    a::Float64\n",
    "    b::Integer  # BAD! Not a concrete type\n",
    "    c::Vector{Real}  # BAD! Not a concrete type\n",
    "end"
   ]
  },
  {
   "cell_type": "markdown",
   "id": "b11b2d1b",
   "metadata": {},
   "source": [
    "The second issue is that by choosing a type (as in the `Foo` above), you may\n",
    "be unnecessarily constraining what is allowed"
   ]
  },
  {
   "cell_type": "code",
   "execution_count": 17,
   "id": "ea9be78d",
   "metadata": {
    "hide-output": false
   },
   "outputs": [
    {
     "name": "stdout",
     "output_type": "stream",
     "text": [
      "f(foo) = 11.0\n",
      "f(foo_nt) = 11.0\n"
     ]
    }
   ],
   "source": [
    "f(x) = x.a + x.b + sum(x.c) # use the type\n",
    "a = 2.0\n",
    "b = 3\n",
    "c = [1.0, 2.0, 3.0]\n",
    "foo = Foo(a, b, c)\n",
    "@show f(foo)   # call with the foo, no problem\n",
    "\n",
    "# some other typed for the values\n",
    "a = 2   # not a floating point but `f()` would work\n",
    "b = 3\n",
    "c = [1.0, 2.0, 3.0]'   # transpose is not a `Vector` but `f()` would work\n",
    "# foo = Foo(a, b, c)   # fails to compile\n",
    "\n",
    "# works with `NotTyped` version, but low performance\n",
    "foo_nt = FooNotTyped(a, b, c)\n",
    "@show f(foo_nt);"
   ]
  },
  {
   "cell_type": "markdown",
   "id": "6f8db62f",
   "metadata": {},
   "source": [
    "### Declaring Parametric Types (Advanced)\n",
    "\n",
    "(See [type parametric types documentation](https://docs.julialang.org/en/v1/manual/types/#Parametric-Types-1))\n",
    "\n",
    "Motivated by the above, we can create a type which can adapt to holding fields of different types."
   ]
  },
  {
   "cell_type": "code",
   "execution_count": 18,
   "id": "77d2c9b0",
   "metadata": {
    "hide-output": false
   },
   "outputs": [
    {
     "name": "stdout",
     "output_type": "stream",
     "text": [
      "typeof(foo) = Foo3{Int64, Int64, LinearAlgebra.Adjoint{Float64, Vector{Float64}}}\n"
     ]
    },
    {
     "data": {
      "text/plain": [
       "11.0"
      ]
     },
     "metadata": {},
     "output_type": "display_data"
    }
   ],
   "source": [
    "struct Foo3{T1, T2, T3}\n",
    "    a::T1   # could be any type\n",
    "    b::T2\n",
    "    c::T3\n",
    "end\n",
    "\n",
    "# works fine\n",
    "a = 2\n",
    "b = 3\n",
    "c = [1.0, 2.0, 3.0]'    # transpose is not a `Vector` but `f()` would work\n",
    "foo = Foo3(a, b, c)\n",
    "@show typeof(foo)\n",
    "f(foo)"
   ]
  },
  {
   "cell_type": "markdown",
   "id": "1f3ae62a",
   "metadata": {},
   "source": [
    "Of course, this is probably too flexible, and the `f` function might not work on an arbitrary set of `a, b, c`.\n",
    "\n",
    "You could constrain the types based on the abstract parent type using the `<:` operator"
   ]
  },
  {
   "cell_type": "code",
   "execution_count": 19,
   "id": "29a08589",
   "metadata": {
    "hide-output": false
   },
   "outputs": [
    {
     "name": "stdout",
     "output_type": "stream",
     "text": [
      "typeof(foo) = Foo4{Int64, Int64, LinearAlgebra.Adjoint{Float64, Vector{Float64}}}\n"
     ]
    },
    {
     "data": {
      "text/plain": [
       "11.0"
      ]
     },
     "metadata": {},
     "output_type": "display_data"
    }
   ],
   "source": [
    "struct Foo4{T1 <: Real, T2 <: Real, T3 <: AbstractVecOrMat{<:Real}}\n",
    "    a::T1\n",
    "    b::T2\n",
    "    c::T3  # should check dimensions as well\n",
    "end\n",
    "foo = Foo4(a, b, c)  # no problem, and high performance\n",
    "@show typeof(foo)\n",
    "f(foo)"
   ]
  },
  {
   "cell_type": "markdown",
   "id": "47f9dc40",
   "metadata": {},
   "source": [
    "This ensures that\n",
    "\n",
    "- `a` and `b` are a subtype of `Real`, and `+` in the definition of `f` works  \n",
    "- `c` is a one dimensional abstract array of `Real` values  \n",
    "\n",
    "\n",
    "The code works, and is equivalent in performance to a `NamedTuple`, but is more verbose and error prone."
   ]
  },
  {
   "cell_type": "markdown",
   "id": "448904ab",
   "metadata": {},
   "source": [
    "### Keyword Argument Constructors (Advanced)\n",
    "\n",
    "There is no way to avoid learning parametric types to achieve high performance code.\n",
    "\n",
    "However, the other issue where constructor arguments are error-prone can be\n",
    "remedied with the `@kwdef` macro from `Base`."
   ]
  },
  {
   "cell_type": "code",
   "execution_count": 20,
   "id": "f213449e",
   "metadata": {
    "hide-output": false
   },
   "outputs": [
    {
     "name": "stdout",
     "output_type": "stream",
     "text": [
      "foo = Foo5(0.1, 2, [1.0, 2.0, 3.0])\n",
      "foo2 = Foo5(2.0, 2, [1.0, 2.0, 3.0])\n"
     ]
    },
    {
     "data": {
      "text/plain": [
       "8.1"
      ]
     },
     "metadata": {},
     "output_type": "display_data"
    }
   ],
   "source": [
    "using Base: @kwdef\n",
    "\n",
    "@kwdef struct Foo5\n",
    "    a::Float64 = 2.0     # adds default value\n",
    "    b::Int64\n",
    "    c::Vector{Float64}\n",
    "end\n",
    "\n",
    "foo = Foo5(a = 0.1, b = 2, c = [1.0, 2.0, 3.0])\n",
    "foo2 = Foo5(c = [1.0, 2.0, 3.0], b = 2)  # rearrange order, uses default values\n",
    "\n",
    "@show foo\n",
    "@show foo2\n",
    "\n",
    "function f(x)\n",
    "    (; a, b, c) = x # unpacks any struct or named tuple\n",
    "    return a + b + sum(c)\n",
    "end\n",
    "\n",
    "f(foo)"
   ]
  },
  {
   "cell_type": "markdown",
   "id": "62b3e70e",
   "metadata": {},
   "source": [
    "\n",
    "<a id='generic-tips-tricks'></a>"
   ]
  },
  {
   "cell_type": "markdown",
   "id": "e96c7465",
   "metadata": {},
   "source": [
    "### Tips and Tricks for Writing Generic Functions\n",
    "\n",
    "As discussed in the previous sections, there is major advantage to never declaring a type unless it is absolutely necessary.\n",
    "\n",
    "The main place where it is necessary is designing code around [multiple dispatch](#intro-multiple-dispatch).\n",
    "\n",
    "If you are careful to write code that doesn’t unnecessarily assume types,\n",
    "you will both achieve higher performance and allow seamless use of a\n",
    "number of powerful libraries such as\n",
    "[auto-differentiation](https://github.com/JuliaDiff/ForwardDiff.jl),\n",
    "[static arrays](https://github.com/JuliaArrays/StaticArrays.jl),\n",
    "[GPUs](https://github.com/JuliaGPU/CuArrays.jl),\n",
    "[interval arithmetic and root finding](https://github.com/JuliaIntervals/IntervalRootFinding.jl),\n",
    "[arbitrary precision numbers](https://docs.julialang.org/en/v1/manual/integers-and-floating-point-numbers/index.html#Arbitrary-Precision-Arithmetic-1),\n",
    "and many more packages – including ones that have not even been written yet.\n",
    "\n",
    "A few simple programming patterns ensure that this is possible\n",
    "\n",
    "- Do not declare types when declaring variables or functions unless necessary.  "
   ]
  },
  {
   "cell_type": "code",
   "execution_count": 23,
   "id": "2a4317e8",
   "metadata": {
    "hide-output": false
   },
   "outputs": [
    {
     "data": {
      "text/plain": [
       "3-element Vector{Float64}:\n",
       " 6.0\n",
       " 7.0\n",
       " 3.1"
      ]
     },
     "metadata": {},
     "output_type": "display_data"
    }
   ],
   "source": [
    "# BAD\n",
    "x = [5.0, 6.0, 2.1]\n",
    "\n",
    "function g(x::Array{Float64, 1})   # not generic!\n",
    "    y = zeros(length(x))   # not generic, hidden float!\n",
    "    z = Diagonal(ones(length(x)))  # not generic, hidden float!\n",
    "    q = ones(length(x))\n",
    "    y .= z * x + q\n",
    "    return y\n",
    "end\n",
    "\n",
    "g(x)\n",
    "\n",
    "# GOOD\n",
    "function g2(x)  # or `x::AbstractVector`\n",
    "    y = similar(x)\n",
    "    z = I\n",
    "    q = ones(eltype(x), length(x))  # or `fill(one(x), length(x))`\n",
    "    y .= z * x + q\n",
    "    return y\n",
    "end\n",
    "\n",
    "g2(x)"
   ]
  },
  {
   "cell_type": "markdown",
   "id": "40d82179",
   "metadata": {},
   "source": [
    "- Preallocate related vectors with `similar` where possible, and use `eltype` or `typeof`. This is important when using Multiple Dispatch given the different input types the function can call  "
   ]
  },
  {
   "cell_type": "code",
   "execution_count": 4,
   "id": "180c759d",
   "metadata": {
    "hide-output": false
   },
   "outputs": [
    {
     "data": {
      "text/plain": [
       "2-element Vector{BigInt}:\n",
       " 1\n",
       " 4"
      ]
     },
     "metadata": {},
     "output_type": "display_data"
    }
   ],
   "source": [
    "function g(x)\n",
    "    y = similar(x)\n",
    "    for i in eachindex(x)\n",
    "        y[i] = x[i]^2      # could broadcast\n",
    "    end\n",
    "    return y\n",
    "end\n",
    "\n",
    "g([BigInt(1), BigInt(2)])"
   ]
  },
  {
   "cell_type": "markdown",
   "id": "c7b7c8d3",
   "metadata": {},
   "source": [
    "- Use `typeof` or `eltype` to declare a type  "
   ]
  },
  {
   "cell_type": "code",
   "execution_count": 5,
   "id": "920d76c2",
   "metadata": {
    "hide-output": false
   },
   "outputs": [
    {
     "name": "stdout",
     "output_type": "stream",
     "text": [
      "typeof([1.0, 2.0, 3.0]) = Vector{Float64}\n",
      "eltype([1.0, 2.0, 3.0]) = Float64\n"
     ]
    }
   ],
   "source": [
    "@show typeof([1.0, 2.0, 3.0])\n",
    "@show eltype([1.0, 2.0, 3.0]);"
   ]
  },
  {
   "cell_type": "markdown",
   "id": "a3445473",
   "metadata": {},
   "source": [
    "- Beware of hidden floating points  "
   ]
  },
  {
   "cell_type": "code",
   "execution_count": 6,
   "id": "f7abdbe5",
   "metadata": {
    "hide-output": false
   },
   "outputs": [
    {
     "name": "stdout",
     "output_type": "stream",
     "text": [
      "typeof(ones(3)) = Vector{Float64}\n",
      "typeof(ones(Int64, 3)) = Vector{Int64}\n",
      "typeof(zeros(3)) = Vector{Float64}\n",
      "typeof(zeros(Int64, 3)) = Vector{Int64}\n"
     ]
    }
   ],
   "source": [
    "@show typeof(ones(3))\n",
    "@show typeof(ones(Int64, 3))\n",
    "@show typeof(zeros(3))\n",
    "@show typeof(zeros(Int64, 3));"
   ]
  },
  {
   "cell_type": "markdown",
   "id": "228f3cea",
   "metadata": {},
   "source": [
    "- Use `one` and `zero` to write generic code  "
   ]
  },
  {
   "cell_type": "code",
   "execution_count": 7,
   "id": "cf5dcd2d",
   "metadata": {
    "hide-output": false
   },
   "outputs": [
    {
     "name": "stdout",
     "output_type": "stream",
     "text": [
      "typeof(1) = Int64\n",
      "typeof(1.0) = Float64\n",
      "typeof(BigFloat(1.0)) = BigFloat\n",
      "typeof(one(BigFloat)) = BigFloat\n",
      "typeof(zero(BigFloat)) = BigFloat\n",
      "typeof(one(x)) = BigFloat\n",
      "typeof(zero(x)) = BigFloat\n"
     ]
    }
   ],
   "source": [
    "@show typeof(1)\n",
    "@show typeof(1.0)\n",
    "@show typeof(BigFloat(1.0))\n",
    "@show typeof(one(BigFloat))  # gets multiplicative identity, passing in type\n",
    "@show typeof(zero(BigFloat))\n",
    "\n",
    "x = BigFloat(2)\n",
    "\n",
    "@show typeof(one(x))  # can call with a variable for convenience\n",
    "@show typeof(zero(x));"
   ]
  },
  {
   "cell_type": "markdown",
   "id": "8e09cf7d",
   "metadata": {},
   "source": [
    "This last example is a subtle, because of something called [type promotion](https://docs.julialang.org/en/v1/manual/conversion-and-promotion/#Promotion-1)\n",
    "\n",
    "- Assume reasonable type promotion exists for numeric types  "
   ]
  },
  {
   "cell_type": "code",
   "execution_count": 8,
   "id": "e2b17d5d",
   "metadata": {
    "hide-output": false
   },
   "outputs": [
    {
     "name": "stdout",
     "output_type": "stream",
     "text": [
      "typeof(g(x)) = BigFloat\n"
     ]
    }
   ],
   "source": [
    "# ACCEPTABLE\n",
    "function g(x::AbstractFloat)\n",
    "    return x + 1.0   # assumes `1.0` can be converted to something compatible with `typeof(x)`\n",
    "end\n",
    "\n",
    "x = BigFloat(1.0)\n",
    "\n",
    "@show typeof(g(x));  # this has \"promoted\" the `1.0` to a `BigFloat`"
   ]
  },
  {
   "cell_type": "markdown",
   "id": "dea05681",
   "metadata": {},
   "source": [
    "But sometimes assuming promotion is not enough"
   ]
  },
  {
   "cell_type": "code",
   "execution_count": 9,
   "id": "febe68ba",
   "metadata": {
    "hide-output": false
   },
   "outputs": [
    {
     "name": "stdout",
     "output_type": "stream",
     "text": [
      "typeof(g2(x)) = BigFloat\n",
      "typeof(g2(x2)) = Int64\n",
      "typeof(g3(x)) = BigFloat\n",
      "typeof(g3(x2)) = BigFloat\n"
     ]
    }
   ],
   "source": [
    "# BAD\n",
    "function g2(x::AbstractFloat)\n",
    "    if x > 0.0   # can't efficiently call with `x::Integer`\n",
    "        return x + 1.0   # OK - assumes you can promote `Float64` to `AbstractFloat`\n",
    "    else\n",
    "        return 0   # BAD! Returns a `Int64`\n",
    "    end\n",
    "end\n",
    "\n",
    "x = BigFloat(1.0)\n",
    "x2 = BigFloat(-1.0)\n",
    "\n",
    "@show typeof(g2(x))\n",
    "@show typeof(g2(x2))  # type unstable\n",
    "\n",
    "# GOOD\n",
    "function g3(x) #\n",
    "    if x > zero(x)   # any type with an additive identity\n",
    "        return x + one(x)  # more general but less important of a change\n",
    "    else\n",
    "        return zero(x)\n",
    "    end\n",
    "end\n",
    "\n",
    "@show typeof(g3(x))\n",
    "@show typeof(g3(x2));  # type stable"
   ]
  },
  {
   "cell_type": "markdown",
   "id": "5749bb4c",
   "metadata": {},
   "source": [
    "These patterns are relatively straightforward, but generic programming can be thought of\n",
    "as a Leontief production function:  if *any* of the functions you write or call are not\n",
    "precise enough, then it may break the chain.\n",
    "\n",
    "This is all the more reason to exploit carefully designed packages rather than “do-it-yourself”."
   ]
  },
  {
   "cell_type": "markdown",
   "id": "b4bf00c6",
   "metadata": {},
   "source": [
    "### A Digression on Style and Naming\n",
    "\n",
    "The previous section helps to establish some of the reasoning behind the style\n",
    "choices in these lectures: “be aware of types, but avoid declaring them”.\n",
    "\n",
    "The purpose of this is threefold:\n",
    "\n",
    "- Provide easy to read code with minimal “syntactic noise” and a clear correspondence to the math.  \n",
    "- Ensure that code is sufficiently generic to exploit other packages and types.  \n",
    "- Avoid common mistakes and unnecessary performance degradations.  \n",
    "\n",
    "\n",
    "This is just one of many decisions and patterns to ensure that your code is consistent and clear.\n",
    "\n",
    "The best resource is to carefully read other peoples code, but a few sources to review are\n",
    "\n",
    "- [Julia Style Guide](https://docs.julialang.org/en/v1/manual/style-guide/)  \n",
    "- [SciML Style Guide](https://github.com/SciML/SciMLStyle)  \n",
    "- [Blue Style Guide](https://github.com/invenia/BlueStyle)  \n",
    "\n",
    "\n",
    "Now why would we emphasize naming and style as a crucial part of the lectures?\n",
    "\n",
    "Because it is an essential tool for creating research that is\n",
    "**reproducible** and [**correct**](https://en.wikipedia.org/wiki/Correctness_%28computer_science%29).\n",
    "\n",
    "Some helpful ways to think about this are\n",
    "\n",
    "- **Clearly written code is easier to review for errors**: The first-order\n",
    "  concern of any code is that it correctly implements the whiteboard math.  \n",
    "- **Code is read many more times than it is written**: Saving a few keystrokes\n",
    "  in typing a variable name is never worth it, nor is a divergence from the\n",
    "  mathematical notation where a single symbol for a variable name would map better to the model.  \n",
    "- **Write code to be read in the future, not today**: If you are not sure\n",
    "  anyone else will read the code, then write it for an ignorant future version\n",
    "  of yourself who may have forgotten everything, and is likely to misuse the code.  \n",
    "- **Maintain the correspondence between the whiteboard math and the code**:\n",
    "  For example, if you change notation in your model, then immediately update\n",
    "  all variables in the code to reflect it.  \n",
    "\n",
    "\n",
    "While variable naming takes discipline, code formatting for a specific style guide can be automated using [JuliaFormatter.jl](https://github.com/domluna/JuliaFormatter.jl) which is built into the Julia VS Code extension."
   ]
  },
  {
   "cell_type": "markdown",
   "id": "3f2cec02",
   "metadata": {},
   "source": [
    "#### Commenting Code\n",
    "\n",
    "One common mistake people make when trying to apply these goals is to add in a large number of comments.\n",
    "\n",
    "Over the years, developers have found that excess comments in code (and *especially* big comment headers used before every function declaration) can make code *harder* to read.\n",
    "\n",
    "The issue is one of syntactic noise: if most of the comments are redundant given clear variable and function names, then the comments make it more difficult to mentally parse and read the code.\n",
    "\n",
    "If you examine Julia code in packages and the core language, you will see a great amount of care taken in function and variable names, and comments are only added where helpful.\n",
    "\n",
    "For creating packages that you intend others to use, instead of a comment header, you should use [docstrings](https://docs.julialang.org/en/v1/manual/documentation/index.html#Syntax-Guide-1).\n",
    "\n",
    "\n",
    "<a id='intro-multiple-dispatch'></a>"
   ]
  },
  {
   "cell_type": "markdown",
   "id": "34e1b2b5",
   "metadata": {},
   "source": [
    "## Introduction to Multiple Dispatch\n",
    "\n",
    "One of the defining features of Julia is **multiple dispatch**, whereby the same function name can do different things depending on the underlying types.\n",
    "\n",
    "Without realizing it, in nearly every function call within packages or the standard library you have used this feature.\n",
    "\n",
    "To see this in action, consider the absolute value function `abs`"
   ]
  },
  {
   "cell_type": "code",
   "execution_count": 10,
   "id": "b43cf7c8",
   "metadata": {
    "hide-output": false
   },
   "outputs": [
    {
     "name": "stdout",
     "output_type": "stream",
     "text": [
      "abs(-1) = 1\n",
      "abs(-1.0) = 1.0\n",
      "abs(0.0 - 1.0im) = 1.0\n"
     ]
    }
   ],
   "source": [
    "@show abs(-1)   # `Int64`\n",
    "@show abs(-1.0)  # `Float64`\n",
    "@show abs(0.0 - 1.0im);  # `Complex{Float64}`"
   ]
  },
  {
   "cell_type": "markdown",
   "id": "b5bc3079",
   "metadata": {},
   "source": [
    "In all of these cases, the `abs` function has specialized code depending on the type passed in.\n",
    "\n",
    "To do this, a function specifies different **methods** which operate on a particular set of types.\n",
    "\n",
    "Unlike most cases we have seen before, this requires a type annotation.\n",
    "\n",
    "To rewrite the `abs` function"
   ]
  },
  {
   "cell_type": "code",
   "execution_count": 11,
   "id": "b5a4bfdc",
   "metadata": {
    "hide-output": false
   },
   "outputs": [
    {
     "name": "stdout",
     "output_type": "stream",
     "text": [
      "ourabs(-1) = 1\n",
      "ourabs(-1.0) = 1.0\n",
      "ourabs(1.0 - 2.0im) = 2.23606797749979\n"
     ]
    }
   ],
   "source": [
    "function ourabs(x::Real)\n",
    "    if x > zero(x)   # note, not 0!\n",
    "        return x\n",
    "    else\n",
    "        return -x\n",
    "    end\n",
    "end\n",
    "\n",
    "function ourabs(x::Complex)\n",
    "    sqrt(real(x)^2 + imag(x)^2)\n",
    "end\n",
    "\n",
    "@show ourabs(-1)   # `Int64`\n",
    "@show ourabs(-1.0) # `Float64`\n",
    "@show ourabs(1.0 - 2.0im);  # `Complex{Float64}`"
   ]
  },
  {
   "cell_type": "markdown",
   "id": "7bed7af7",
   "metadata": {},
   "source": [
    "Note that in the above, `x` works for any type of `Real`, including `Int64`, `Float64`, and ones you may not have realized exist"
   ]
  },
  {
   "cell_type": "code",
   "execution_count": 12,
   "id": "07aea0b7",
   "metadata": {
    "hide-output": false
   },
   "outputs": [
    {
     "name": "stdout",
     "output_type": "stream",
     "text": [
      "typeof(x) = Rational{Int64}\n",
      "ourabs(x) = 2//3\n"
     ]
    }
   ],
   "source": [
    "x = -2 // 3  # `Rational` number, -2/3\n",
    "@show typeof(x)\n",
    "@show ourabs(x);"
   ]
  },
  {
   "cell_type": "markdown",
   "id": "0bdc7bda",
   "metadata": {},
   "source": [
    "You will also note that we used an abstract type, `Real`, and an incomplete\n",
    "parametric type, `Complex`, when defining the above functions.\n",
    "\n",
    "Unlike the creation of `struct` fields, there is no penalty in using abstract\n",
    "types when you define function parameters, as they are used purely to determine which version of a function to use."
   ]
  },
  {
   "cell_type": "markdown",
   "id": "c1d60a5e",
   "metadata": {},
   "source": [
    "### Multiple Dispatch in Algorithms (Advanced)\n",
    "\n",
    "If you want an algorithm to have specialized versions when given different input types, you need to declare the types for the function inputs.\n",
    "\n",
    "As an example where this could come up, assume that we have some grid `x` of values, the results of a function `f` applied at those values, and want to calculate an approximate derivative using forward differences.\n",
    "\n",
    "In that case, given $ x_n, x_{n+1}, f(x_n) $ and $ f(x_{n+1}) $, the forward-difference approximation of the derivative is\n",
    "\n",
    "$$\n",
    "f'(x_n) \\approx \\frac{f(x_{n+1}) - f(x_n)}{x_{n+1} - x_n}\n",
    "$$\n",
    "\n",
    "To implement this calculation for a vector of inputs, we notice that there is a specialized implementation if the grid is uniform.\n",
    "\n",
    "The uniform grid can be implemented using an `AbstractRange`, which we can analyze with\n",
    "`typeof`, `supertype` and `show_supertypes`."
   ]
  },
  {
   "cell_type": "code",
   "execution_count": 15,
   "id": "c5031f34",
   "metadata": {},
   "outputs": [],
   "source": [
    "using Base"
   ]
  },
  {
   "cell_type": "code",
   "execution_count": 16,
   "id": "5779a660",
   "metadata": {
    "hide-output": false
   },
   "outputs": [
    {
     "name": "stdout",
     "output_type": "stream",
     "text": [
      "typeof(x) = StepRangeLen{Float64, Base.TwicePrecision{Float64}, Base.TwicePrecision{Float64}, Int64}\n",
      "typeof(x_2) = StepRange{Int64, Int64}\n",
      "supertype(typeof(x)) = AbstractRange{Float64}\n"
     ]
    },
    {
     "data": {
      "text/plain": [
       "AbstractRange{Float64}"
      ]
     },
     "metadata": {},
     "output_type": "display_data"
    }
   ],
   "source": [
    "x = range(0.0, 1.0, length = 20)\n",
    "x_2 = 1:1:20   # if integers\n",
    "\n",
    "@show typeof(x)\n",
    "@show typeof(x_2)\n",
    "@show supertype(typeof(x))"
   ]
  },
  {
   "cell_type": "markdown",
   "id": "67af996e",
   "metadata": {},
   "source": [
    "To see the entire tree about a particular type, use `show_supertypes`."
   ]
  },
  {
   "cell_type": "code",
   "execution_count": 19,
   "id": "edafd985",
   "metadata": {
    "hide-output": false
   },
   "outputs": [
    {
     "name": "stdout",
     "output_type": "stream",
     "text": [
      "StepRangeLen{Float64, Base.TwicePrecision{Float64}, Base.TwicePrecision{Float64}, Int64} <: AbstractRange{Float64} <: AbstractVector{Float64} <: Any"
     ]
    }
   ],
   "source": [
    "show_supertypes(typeof(x))  # or typeof(x) |> show_supertypes"
   ]
  },
  {
   "cell_type": "code",
   "execution_count": 20,
   "id": "7a061343",
   "metadata": {
    "hide-output": false
   },
   "outputs": [
    {
     "name": "stdout",
     "output_type": "stream",
     "text": [
      "StepRange{Int64, Int64} <: OrdinalRange{Int64, Int64} <: AbstractRange{Int64} <: AbstractVector{Int64} <: Any"
     ]
    }
   ],
   "source": [
    "show_supertypes(typeof(x_2))"
   ]
  },
  {
   "cell_type": "markdown",
   "id": "dbf87d8e",
   "metadata": {},
   "source": [
    "The types of the range objects can be very complicated, but are both subtypes of `AbstractRange`."
   ]
  },
  {
   "cell_type": "code",
   "execution_count": 21,
   "id": "68849b5e",
   "metadata": {
    "hide-output": false
   },
   "outputs": [
    {
     "name": "stdout",
     "output_type": "stream",
     "text": [
      "typeof(x) <: AbstractRange = true\n",
      "typeof(x_2) <: AbstractRange = true\n"
     ]
    }
   ],
   "source": [
    "@show typeof(x) <: AbstractRange\n",
    "@show typeof(x_2) <: AbstractRange;"
   ]
  },
  {
   "cell_type": "markdown",
   "id": "8aa97d4f",
   "metadata": {},
   "source": [
    "While you may not know the exact concrete type, any `AbstractRange` has an informal set of operations that are available."
   ]
  },
  {
   "cell_type": "code",
   "execution_count": 22,
   "id": "7775e4fa",
   "metadata": {
    "hide-output": false
   },
   "outputs": [
    {
     "name": "stdout",
     "output_type": "stream",
     "text": [
      "minimum(x) = 0.0\n",
      "maximum(x) = 1.0\n",
      "length(x) = 20\n",
      "step(x) = 0.05263157894736842\n"
     ]
    }
   ],
   "source": [
    "@show minimum(x)\n",
    "@show maximum(x)\n",
    "@show length(x)\n",
    "@show step(x);"
   ]
  },
  {
   "cell_type": "markdown",
   "id": "eddf9747",
   "metadata": {},
   "source": [
    "Similarly, there are a number of operations available for any `AbstractVector`, such as `length`."
   ]
  },
  {
   "cell_type": "code",
   "execution_count": 23,
   "id": "27587f89",
   "metadata": {
    "hide-output": false
   },
   "outputs": [
    {
     "name": "stdout",
     "output_type": "stream",
     "text": [
      "typeof(f_x) = Vector{Float64}\n",
      "supertype(typeof(f_x)) = DenseVector{Float64}\n",
      "supertype(supertype(typeof(f_x))) = AbstractVector{Float64}\n",
      "length(f_x) = 20\n"
     ]
    }
   ],
   "source": [
    "f(x) = x^2\n",
    "f_x = f.(x)  # calculating at the range values\n",
    "\n",
    "@show typeof(f_x)\n",
    "@show supertype(typeof(f_x))\n",
    "@show supertype(supertype(typeof(f_x)))  # walk up tree again!\n",
    "@show length(f_x);   # and many more"
   ]
  },
  {
   "cell_type": "code",
   "execution_count": 24,
   "id": "3c0bf9c4",
   "metadata": {
    "hide-output": false
   },
   "outputs": [
    {
     "name": "stdout",
     "output_type": "stream",
     "text": [
      "Vector{Float64} <: DenseVector{Float64} <: AbstractVector{Float64} <: Any"
     ]
    }
   ],
   "source": [
    "show_supertypes(typeof(f_x))"
   ]
  },
  {
   "cell_type": "markdown",
   "id": "79a9a032",
   "metadata": {},
   "source": [
    "There are also many functions that can use any `AbstractArray`, such as `diff`."
   ]
  },
  {
   "cell_type": "code",
   "execution_count": null,
   "id": "060e628b",
   "metadata": {
    "hide-output": false
   },
   "outputs": [],
   "source": [
    "?diff\n",
    "\n",
    "search: diff symdiff setdiff symdiff! setdiff! Cptrdiff_t\n",
    "\n",
    "diff(A::AbstractVector) # finite difference operator of matrix or vector A\n",
    "\n",
    "# if A is a matrix, specify the dimension over which to operate with the dims keyword argument\n",
    "diff(A::AbstractMatrix; dims::Integer)"
   ]
  },
  {
   "cell_type": "markdown",
   "id": "fb030039",
   "metadata": {},
   "source": [
    "Hence, we can call this function for anything of type `AbstractVector`.\n",
    "\n",
    "Finally, we can make a high performance specialization for any `AbstractVector` and `AbstractRange`."
   ]
  },
  {
   "cell_type": "code",
   "execution_count": 26,
   "id": "c75be79b",
   "metadata": {
    "hide-output": false
   },
   "outputs": [
    {
     "data": {
      "text/plain": [
       "slopes (generic function with 1 method)"
      ]
     },
     "metadata": {},
     "output_type": "display_data"
    }
   ],
   "source": [
    "slopes(f_x::AbstractVector, x::AbstractRange) = diff(f_x) / step(x)"
   ]
  },
  {
   "cell_type": "markdown",
   "id": "62e9f51e",
   "metadata": {},
   "source": [
    "We can use auto-differentiation to compare the results."
   ]
  },
  {
   "cell_type": "code",
   "execution_count": 27,
   "id": "9f5063d3",
   "metadata": {
    "hide-output": false
   },
   "outputs": [
    {
     "data": {
      "image/png": "[encoded data removed]",
      "image/svg+xml": [
       "<?xml version=\"1.0\" encoding=\"utf-8\"?>\n",
       "<svg xmlns=\"http://www.w3.org/2000/svg\" xmlns:xlink=\"http://www.w3.org/1999/xlink\" width=\"600\" height=\"400\" viewBox=\"0 0 2400 1600\">\n",
       "<defs>\n",
       "  <clipPath id=\"clip490\">\n",
       "    <rect x=\"0\" y=\"0\" width=\"2400\" height=\"1600\"/>\n",
       "  </clipPath>\n",
       "</defs>\n",
       "<path clip-path=\"url(#clip490)\" d=\"M0 1600 L2400 1600 L2400 0 L0 0  Z\" fill=\"#ffffff\" fill-rule=\"evenodd\" fill-opacity=\"1\"/>\n",
       "<defs>\n",
       "  <clipPath id=\"clip491\">\n",
       "    <rect x=\"480\" y=\"0\" width=\"1681\" height=\"1600\"/>\n",
       "  </clipPath>\n",
       "</defs>\n",
       "<path clip-path=\"url(#clip490)\" d=\"M193.936 1486.45 L2352.76 1486.45 L2352.76 47.2441 L193.936 47.2441  Z\" fill=\"#ffffff\" fill-rule=\"evenodd\" fill-opacity=\"1\"/>\n",
       "<defs>\n",
       "  <clipPath id=\"clip492\">\n",
       "    <rect x=\"193\" y=\"47\" width=\"2160\" height=\"1440\"/>\n",
       "  </clipPath>\n",
       "</defs>\n",
       "<polyline clip-path=\"url(#clip492)\" style=\"stroke:#000000; stroke-linecap:round; stroke-linejoin:round; stroke-width:2; stroke-opacity:0.1; fill:none\" points=\"255.035,1486.45 255.035,47.2441 \"/>\n",
       "<polyline clip-path=\"url(#clip492)\" style=\"stroke:#000000; stroke-linecap:round; stroke-linejoin:round; stroke-width:2; stroke-opacity:0.1; fill:none\" points=\"777.246,1486.45 777.246,47.2441 \"/>\n",
       "<polyline clip-path=\"url(#clip492)\" style=\"stroke:#000000; stroke-linecap:round; stroke-linejoin:round; stroke-width:2; stroke-opacity:0.1; fill:none\" points=\"1299.46,1486.45 1299.46,47.2441 \"/>\n",
       "<polyline clip-path=\"url(#clip492)\" style=\"stroke:#000000; stroke-linecap:round; stroke-linejoin:round; stroke-width:2; stroke-opacity:0.1; fill:none\" points=\"1821.67,1486.45 1821.67,47.2441 \"/>\n",
       "<polyline clip-path=\"url(#clip492)\" style=\"stroke:#000000; stroke-linecap:round; stroke-linejoin:round; stroke-width:2; stroke-opacity:0.1; fill:none\" points=\"2343.88,1486.45 2343.88,47.2441 \"/>\n",
       "<polyline clip-path=\"url(#clip490)\" style=\"stroke:#000000; stroke-linecap:round; stroke-linejoin:round; stroke-width:4; stroke-opacity:1; fill:none\" points=\"193.936,1486.45 2352.76,1486.45 \"/>\n",
       "<polyline clip-path=\"url(#clip490)\" style=\"stroke:#000000; stroke-linecap:round; stroke-linejoin:round; stroke-width:4; stroke-opacity:1; fill:none\" points=\"255.035,1486.45 255.035,1467.55 \"/>\n",
       "<polyline clip-path=\"url(#clip490)\" style=\"stroke:#000000; stroke-linecap:round; stroke-linejoin:round; stroke-width:4; stroke-opacity:1; fill:none\" points=\"777.246,1486.45 777.246,1467.55 \"/>\n",
       "<polyline clip-path=\"url(#clip490)\" style=\"stroke:#000000; stroke-linecap:round; stroke-linejoin:round; stroke-width:4; stroke-opacity:1; fill:none\" points=\"1299.46,1486.45 1299.46,1467.55 \"/>\n",
       "<polyline clip-path=\"url(#clip490)\" style=\"stroke:#000000; stroke-linecap:round; stroke-linejoin:round; stroke-width:4; stroke-opacity:1; fill:none\" points=\"1821.67,1486.45 1821.67,1467.55 \"/>\n",
       "<polyline clip-path=\"url(#clip490)\" style=\"stroke:#000000; stroke-linecap:round; stroke-linejoin:round; stroke-width:4; stroke-opacity:1; fill:none\" points=\"2343.88,1486.45 2343.88,1467.55 \"/>\n",
       "<path clip-path=\"url(#clip490)\" d=\"M255.035 1517.37 Q251.424 1517.37 249.595 1520.93 Q247.789 1524.47 247.789 1531.6 Q247.789 1538.71 249.595 1542.27 Q251.424 1545.82 255.035 1545.82 Q258.669 1545.82 260.474 1542.27 Q262.303 1538.71 262.303 1531.6 Q262.303 1524.47 260.474 1520.93 Q258.669 1517.37 255.035 1517.37 M255.035 1513.66 Q260.845 1513.66 263.9 1518.27 Q266.979 1522.85 266.979 1531.6 Q266.979 1540.33 263.9 1544.94 Q260.845 1549.52 255.035 1549.52 Q249.225 1549.52 246.146 1544.94 Q243.09 1540.33 243.09 1531.6 Q243.09 1522.85 246.146 1518.27 Q249.225 1513.66 255.035 1513.66 Z\" fill=\"#000000\" fill-rule=\"nonzero\" fill-opacity=\"1\" /><path clip-path=\"url(#clip490)\" d=\"M767.628 1544.91 L775.266 1544.91 L775.266 1518.55 L766.956 1520.21 L766.956 1515.95 L775.22 1514.29 L779.896 1514.29 L779.896 1544.91 L787.535 1544.91 L787.535 1548.85 L767.628 1548.85 L767.628 1544.91 Z\" fill=\"#000000\" fill-rule=\"nonzero\" fill-opacity=\"1\" /><path clip-path=\"url(#clip490)\" d=\"M1294.11 1544.91 L1310.43 1544.91 L1310.43 1548.85 L1288.48 1548.85 L1288.48 1544.91 Q1291.15 1542.16 1295.73 1537.53 Q1300.34 1532.88 1301.52 1531.53 Q1303.76 1529.01 1304.64 1527.27 Q1305.54 1525.51 1305.54 1523.82 Q1305.54 1521.07 1303.6 1519.33 Q1301.68 1517.6 1298.58 1517.6 Q1296.38 1517.6 1293.92 1518.36 Q1291.49 1519.13 1288.72 1520.68 L1288.72 1515.95 Q1291.54 1514.82 1293.99 1514.24 Q1296.45 1513.66 1298.48 1513.66 Q1303.85 1513.66 1307.05 1516.35 Q1310.24 1519.03 1310.24 1523.52 Q1310.24 1525.65 1309.43 1527.57 Q1308.65 1529.47 1306.54 1532.07 Q1305.96 1532.74 1302.86 1535.95 Q1299.76 1539.15 1294.11 1544.91 Z\" fill=\"#000000\" fill-rule=\"nonzero\" fill-opacity=\"1\" /><path clip-path=\"url(#clip490)\" d=\"M1825.92 1530.21 Q1829.27 1530.93 1831.15 1533.2 Q1833.04 1535.47 1833.04 1538.8 Q1833.04 1543.92 1829.53 1546.72 Q1826.01 1549.52 1819.53 1549.52 Q1817.35 1549.52 1815.04 1549.08 Q1812.74 1548.66 1810.29 1547.81 L1810.29 1543.29 Q1812.23 1544.43 1814.55 1545.01 Q1816.86 1545.58 1819.39 1545.58 Q1823.79 1545.58 1826.08 1543.85 Q1828.39 1542.11 1828.39 1538.8 Q1828.39 1535.75 1826.24 1534.03 Q1824.11 1532.3 1820.29 1532.3 L1816.26 1532.3 L1816.26 1528.45 L1820.48 1528.45 Q1823.92 1528.45 1825.75 1527.09 Q1827.58 1525.7 1827.58 1523.11 Q1827.58 1520.45 1825.68 1519.03 Q1823.81 1517.6 1820.29 1517.6 Q1818.37 1517.6 1816.17 1518.01 Q1813.97 1518.43 1811.33 1519.31 L1811.33 1515.14 Q1813.99 1514.4 1816.31 1514.03 Q1818.65 1513.66 1820.71 1513.66 Q1826.03 1513.66 1829.13 1516.09 Q1832.23 1518.5 1832.23 1522.62 Q1832.23 1525.49 1830.59 1527.48 Q1828.95 1529.45 1825.92 1530.21 Z\" fill=\"#000000\" fill-rule=\"nonzero\" fill-opacity=\"1\" /><path clip-path=\"url(#clip490)\" d=\"M2346.89 1518.36 L2335.08 1536.81 L2346.89 1536.81 L2346.89 1518.36 M2345.66 1514.29 L2351.54 1514.29 L2351.54 1536.81 L2356.47 1536.81 L2356.47 1540.7 L2351.54 1540.7 L2351.54 1548.85 L2346.89 1548.85 L2346.89 1540.7 L2331.29 1540.7 L2331.29 1536.19 L2345.66 1514.29 Z\" fill=\"#000000\" fill-rule=\"nonzero\" fill-opacity=\"1\" /><polyline clip-path=\"url(#clip492)\" style=\"stroke:#000000; stroke-linecap:round; stroke-linejoin:round; stroke-width:2; stroke-opacity:0.1; fill:none\" points=\"193.936,1446.02 2352.76,1446.02 \"/>\n",
       "<polyline clip-path=\"url(#clip492)\" style=\"stroke:#000000; stroke-linecap:round; stroke-linejoin:round; stroke-width:2; stroke-opacity:0.1; fill:none\" points=\"193.936,1106.51 2352.76,1106.51 \"/>\n",
       "<polyline clip-path=\"url(#clip492)\" style=\"stroke:#000000; stroke-linecap:round; stroke-linejoin:round; stroke-width:2; stroke-opacity:0.1; fill:none\" points=\"193.936,766.999 2352.76,766.999 \"/>\n",
       "<polyline clip-path=\"url(#clip492)\" style=\"stroke:#000000; stroke-linecap:round; stroke-linejoin:round; stroke-width:2; stroke-opacity:0.1; fill:none\" points=\"193.936,427.488 2352.76,427.488 \"/>\n",
       "<polyline clip-path=\"url(#clip492)\" style=\"stroke:#000000; stroke-linecap:round; stroke-linejoin:round; stroke-width:2; stroke-opacity:0.1; fill:none\" points=\"193.936,87.9763 2352.76,87.9763 \"/>\n",
       "<polyline clip-path=\"url(#clip490)\" style=\"stroke:#000000; stroke-linecap:round; stroke-linejoin:round; stroke-width:4; stroke-opacity:1; fill:none\" points=\"193.936,1486.45 193.936,47.2441 \"/>\n",
       "<polyline clip-path=\"url(#clip490)\" style=\"stroke:#000000; stroke-linecap:round; stroke-linejoin:round; stroke-width:4; stroke-opacity:1; fill:none\" points=\"193.936,1446.02 212.834,1446.02 \"/>\n",
       "<polyline clip-path=\"url(#clip490)\" style=\"stroke:#000000; stroke-linecap:round; stroke-linejoin:round; stroke-width:4; stroke-opacity:1; fill:none\" points=\"193.936,1106.51 212.834,1106.51 \"/>\n",
       "<polyline clip-path=\"url(#clip490)\" style=\"stroke:#000000; stroke-linecap:round; stroke-linejoin:round; stroke-width:4; stroke-opacity:1; fill:none\" points=\"193.936,766.999 212.834,766.999 \"/>\n",
       "<polyline clip-path=\"url(#clip490)\" style=\"stroke:#000000; stroke-linecap:round; stroke-linejoin:round; stroke-width:4; stroke-opacity:1; fill:none\" points=\"193.936,427.488 212.834,427.488 \"/>\n",
       "<polyline clip-path=\"url(#clip490)\" style=\"stroke:#000000; stroke-linecap:round; stroke-linejoin:round; stroke-width:4; stroke-opacity:1; fill:none\" points=\"193.936,87.9763 212.834,87.9763 \"/>\n",
       "<path clip-path=\"url(#clip490)\" d=\"M50.9921 1446.47 L80.6679 1446.47 L80.6679 1450.41 L50.9921 1450.41 L50.9921 1446.47 Z\" fill=\"#000000\" fill-rule=\"nonzero\" fill-opacity=\"1\" /><path clip-path=\"url(#clip490)\" d=\"M91.5706 1459.37 L99.2095 1459.37 L99.2095 1433 L90.8993 1434.67 L90.8993 1430.41 L99.1632 1428.74 L103.839 1428.74 L103.839 1459.37 L111.478 1459.37 L111.478 1463.3 L91.5706 1463.3 L91.5706 1459.37 Z\" fill=\"#000000\" fill-rule=\"nonzero\" fill-opacity=\"1\" /><path clip-path=\"url(#clip490)\" d=\"M120.922 1457.42 L125.807 1457.42 L125.807 1463.3 L120.922 1463.3 L120.922 1457.42 Z\" fill=\"#000000\" fill-rule=\"nonzero\" fill-opacity=\"1\" /><path clip-path=\"url(#clip490)\" d=\"M145.992 1431.82 Q142.381 1431.82 140.552 1435.39 Q138.746 1438.93 138.746 1446.06 Q138.746 1453.16 140.552 1456.73 Q142.381 1460.27 145.992 1460.27 Q149.626 1460.27 151.431 1456.73 Q153.26 1453.16 153.26 1446.06 Q153.26 1438.93 151.431 1435.39 Q149.626 1431.82 145.992 1431.82 M145.992 1428.12 Q151.802 1428.12 154.857 1432.72 Q157.936 1437.31 157.936 1446.06 Q157.936 1454.78 154.857 1459.39 Q151.802 1463.97 145.992 1463.97 Q140.181 1463.97 137.103 1459.39 Q134.047 1454.78 134.047 1446.06 Q134.047 1437.31 137.103 1432.72 Q140.181 1428.12 145.992 1428.12 Z\" fill=\"#000000\" fill-rule=\"nonzero\" fill-opacity=\"1\" /><path clip-path=\"url(#clip490)\" d=\"M51.9875 1106.96 L81.6633 1106.96 L81.6633 1110.9 L51.9875 1110.9 L51.9875 1106.96 Z\" fill=\"#000000\" fill-rule=\"nonzero\" fill-opacity=\"1\" /><path clip-path=\"url(#clip490)\" d=\"M101.756 1092.31 Q98.1447 1092.31 96.316 1095.87 Q94.5104 1099.42 94.5104 1106.55 Q94.5104 1113.65 96.316 1117.22 Q98.1447 1120.76 101.756 1120.76 Q105.39 1120.76 107.196 1117.22 Q109.024 1113.65 109.024 1106.55 Q109.024 1099.42 107.196 1095.87 Q105.39 1092.31 101.756 1092.31 M101.756 1088.61 Q107.566 1088.61 110.621 1093.21 Q113.7 1097.8 113.7 1106.55 Q113.7 1115.27 110.621 1119.88 Q107.566 1124.46 101.756 1124.46 Q95.9456 1124.46 92.8669 1119.88 Q89.8114 1115.27 89.8114 1106.55 Q89.8114 1097.8 92.8669 1093.21 Q95.9456 1088.61 101.756 1088.61 Z\" fill=\"#000000\" fill-rule=\"nonzero\" fill-opacity=\"1\" /><path clip-path=\"url(#clip490)\" d=\"M121.918 1117.91 L126.802 1117.91 L126.802 1123.79 L121.918 1123.79 L121.918 1117.91 Z\" fill=\"#000000\" fill-rule=\"nonzero\" fill-opacity=\"1\" /><path clip-path=\"url(#clip490)\" d=\"M137.033 1089.23 L155.39 1089.23 L155.39 1093.17 L141.316 1093.17 L141.316 1101.64 Q142.334 1101.29 143.353 1101.13 Q144.371 1100.94 145.39 1100.94 Q151.177 1100.94 154.556 1104.12 Q157.936 1107.29 157.936 1112.7 Q157.936 1118.28 154.464 1121.38 Q150.992 1124.46 144.672 1124.46 Q142.496 1124.46 140.228 1124.09 Q137.982 1123.72 135.575 1122.98 L135.575 1118.28 Q137.658 1119.42 139.881 1119.97 Q142.103 1120.53 144.58 1120.53 Q148.584 1120.53 150.922 1118.42 Q153.26 1116.31 153.26 1112.7 Q153.26 1109.09 150.922 1106.99 Q148.584 1104.88 144.58 1104.88 Q142.705 1104.88 140.83 1105.3 Q138.978 1105.71 137.033 1106.59 L137.033 1089.23 Z\" fill=\"#000000\" fill-rule=\"nonzero\" fill-opacity=\"1\" /><path clip-path=\"url(#clip490)\" d=\"M100.76 752.798 Q97.1493 752.798 95.3206 756.363 Q93.515 759.905 93.515 767.034 Q93.515 774.141 95.3206 777.705 Q97.1493 781.247 100.76 781.247 Q104.395 781.247 106.2 777.705 Q108.029 774.141 108.029 767.034 Q108.029 759.905 106.2 756.363 Q104.395 752.798 100.76 752.798 M100.76 749.094 Q106.571 749.094 109.626 753.701 Q112.705 758.284 112.705 767.034 Q112.705 775.761 109.626 780.367 Q106.571 784.951 100.76 784.951 Q94.9502 784.951 91.8715 780.367 Q88.816 775.761 88.816 767.034 Q88.816 758.284 91.8715 753.701 Q94.9502 749.094 100.76 749.094 Z\" fill=\"#000000\" fill-rule=\"nonzero\" fill-opacity=\"1\" /><path clip-path=\"url(#clip490)\" d=\"M120.922 778.4 L125.807 778.4 L125.807 784.279 L120.922 784.279 L120.922 778.4 Z\" fill=\"#000000\" fill-rule=\"nonzero\" fill-opacity=\"1\" /><path clip-path=\"url(#clip490)\" d=\"M145.992 752.798 Q142.381 752.798 140.552 756.363 Q138.746 759.905 138.746 767.034 Q138.746 774.141 140.552 777.705 Q142.381 781.247 145.992 781.247 Q149.626 781.247 151.431 777.705 Q153.26 774.141 153.26 767.034 Q153.26 759.905 151.431 756.363 Q149.626 752.798 145.992 752.798 M145.992 749.094 Q151.802 749.094 154.857 753.701 Q157.936 758.284 157.936 767.034 Q157.936 775.761 154.857 780.367 Q151.802 784.951 145.992 784.951 Q140.181 784.951 137.103 780.367 Q134.047 775.761 134.047 767.034 Q134.047 758.284 137.103 753.701 Q140.181 749.094 145.992 749.094 Z\" fill=\"#000000\" fill-rule=\"nonzero\" fill-opacity=\"1\" /><path clip-path=\"url(#clip490)\" d=\"M101.756 413.287 Q98.1447 413.287 96.316 416.851 Q94.5104 420.393 94.5104 427.523 Q94.5104 434.629 96.316 438.194 Q98.1447 441.735 101.756 441.735 Q105.39 441.735 107.196 438.194 Q109.024 434.629 109.024 427.523 Q109.024 420.393 107.196 416.851 Q105.39 413.287 101.756 413.287 M101.756 409.583 Q107.566 409.583 110.621 414.189 Q113.7 418.773 113.7 427.523 Q113.7 436.249 110.621 440.856 Q107.566 445.439 101.756 445.439 Q95.9456 445.439 92.8669 440.856 Q89.8114 436.249 89.8114 427.523 Q89.8114 418.773 92.8669 414.189 Q95.9456 409.583 101.756 409.583 Z\" fill=\"#000000\" fill-rule=\"nonzero\" fill-opacity=\"1\" /><path clip-path=\"url(#clip490)\" d=\"M121.918 438.888 L126.802 438.888 L126.802 444.768 L121.918 444.768 L121.918 438.888 Z\" fill=\"#000000\" fill-rule=\"nonzero\" fill-opacity=\"1\" /><path clip-path=\"url(#clip490)\" d=\"M137.033 410.208 L155.39 410.208 L155.39 414.143 L141.316 414.143 L141.316 422.615 Q142.334 422.268 143.353 422.106 Q144.371 421.921 145.39 421.921 Q151.177 421.921 154.556 425.092 Q157.936 428.263 157.936 433.68 Q157.936 439.259 154.464 442.36 Q150.992 445.439 144.672 445.439 Q142.496 445.439 140.228 445.069 Q137.982 444.698 135.575 443.958 L135.575 439.259 Q137.658 440.393 139.881 440.948 Q142.103 441.504 144.58 441.504 Q148.584 441.504 150.922 439.398 Q153.26 437.291 153.26 433.68 Q153.26 430.069 150.922 427.962 Q148.584 425.856 144.58 425.856 Q142.705 425.856 140.83 426.273 Q138.978 426.689 137.033 427.569 L137.033 410.208 Z\" fill=\"#000000\" fill-rule=\"nonzero\" fill-opacity=\"1\" /><path clip-path=\"url(#clip490)\" d=\"M91.5706 101.321 L99.2095 101.321 L99.2095 74.9555 L90.8993 76.6222 L90.8993 72.3629 L99.1632 70.6963 L103.839 70.6963 L103.839 101.321 L111.478 101.321 L111.478 105.256 L91.5706 105.256 L91.5706 101.321 Z\" fill=\"#000000\" fill-rule=\"nonzero\" fill-opacity=\"1\" /><path clip-path=\"url(#clip490)\" d=\"M120.922 99.3767 L125.807 99.3767 L125.807 105.256 L120.922 105.256 L120.922 99.3767 Z\" fill=\"#000000\" fill-rule=\"nonzero\" fill-opacity=\"1\" /><path clip-path=\"url(#clip490)\" d=\"M145.992 73.775 Q142.381 73.775 140.552 77.3398 Q138.746 80.8814 138.746 88.011 Q138.746 95.1174 140.552 98.6822 Q142.381 102.224 145.992 102.224 Q149.626 102.224 151.431 98.6822 Q153.26 95.1174 153.26 88.011 Q153.26 80.8814 151.431 77.3398 Q149.626 73.775 145.992 73.775 M145.992 70.0713 Q151.802 70.0713 154.857 74.6777 Q157.936 79.261 157.936 88.011 Q157.936 96.7378 154.857 101.344 Q151.802 105.928 145.992 105.928 Q140.181 105.928 137.103 101.344 Q134.047 96.7378 134.047 88.011 Q134.047 79.261 137.103 74.6777 Q140.181 70.0713 145.992 70.0713 Z\" fill=\"#000000\" fill-rule=\"nonzero\" fill-opacity=\"1\" /><polyline clip-path=\"url(#clip492)\" style=\"stroke:#009af9; stroke-linecap:round; stroke-linejoin:round; stroke-width:4; stroke-opacity:1; fill:none\" points=\"255.035,87.9763 307.256,91.3686 359.477,101.512 411.698,118.304 463.919,141.578 516.14,171.101 568.361,206.577 620.582,247.654 672.803,293.919 725.024,344.912 777.246,400.122 829.467,458.997 881.688,520.95 933.909,585.362 986.13,651.588 1038.35,718.967 1090.57,786.827 1142.79,854.488 1195.01,921.275 1247.24,986.521 1299.46,1049.57 1351.68,1109.8 1403.9,1166.61 1456.12,1219.42 1508.34,1267.71 1560.56,1310.99 1612.78,1348.85 1665,1380.89 1717.23,1406.79 1769.45,1426.3 1821.67,1439.23 1873.89,1445.44 1926.11,1444.86 1978.33,1437.52 2030.55,1423.48 2082.77,1402.88 2134.99,1375.92 2187.22,1342.88 2239.44,1304.08 2291.66,1259.92 \"/>\n",
       "<polyline clip-path=\"url(#clip492)\" style=\"stroke:#e26f46; stroke-linecap:round; stroke-linejoin:round; stroke-width:4; stroke-opacity:1; fill:none\" points=\"255.035,89.1074 307.256,95.8807 359.477,109.36 411.698,129.409 463.919,155.83 516.14,188.357 568.361,226.665 620.582,270.373 672.803,319.042 725.024,372.188 777.246,429.278 829.467,489.743 881.688,552.977 933.909,618.351 986.13,685.209 1038.35,752.885 1090.57,820.702 1142.79,887.982 1195.01,954.054 1247.24,1018.26 1299.46,1079.95 1351.68,1138.51 1403.9,1193.37 1456.12,1243.96 1508.34,1289.79 1560.56,1330.39 1612.78,1365.36 1665,1394.36 1717.23,1417.09 1769.45,1433.32 1821.67,1442.89 1873.89,1445.72 1926.11,1441.76 1978.33,1431.05 2030.55,1413.72 2082.77,1389.92 2134.99,1359.89 2187.22,1323.95 2239.44,1282.43 2291.66,1235.77 \"/>\n",
       "<path clip-path=\"url(#clip490)\" d=\"M1827.55 250.738 L2280.8 250.738 L2280.8 95.2176 L1827.55 95.2176  Z\" fill=\"#ffffff\" fill-rule=\"evenodd\" fill-opacity=\"1\"/>\n",
       "<polyline clip-path=\"url(#clip490)\" style=\"stroke:#000000; stroke-linecap:round; stroke-linejoin:round; stroke-width:4; stroke-opacity:1; fill:none\" points=\"1827.55,250.738 2280.8,250.738 2280.8,95.2176 1827.55,95.2176 1827.55,250.738 \"/>\n",
       "<polyline clip-path=\"url(#clip490)\" style=\"stroke:#009af9; stroke-linecap:round; stroke-linejoin:round; stroke-width:4; stroke-opacity:1; fill:none\" points=\"1851.54,147.058 1995.46,147.058 \"/>\n",
       "<path clip-path=\"url(#clip490)\" d=\"M2023.85 151.398 Q2023.85 156.097 2025.77 158.782 Q2027.71 161.444 2031.09 161.444 Q2034.47 161.444 2036.42 158.782 Q2038.36 156.097 2038.36 151.398 Q2038.36 146.699 2036.42 144.037 Q2034.47 141.352 2031.09 141.352 Q2027.71 141.352 2025.77 144.037 Q2023.85 146.699 2023.85 151.398 M2038.36 160.449 Q2037.02 162.763 2034.96 163.898 Q2032.92 165.009 2030.05 165.009 Q2025.35 165.009 2022.39 161.259 Q2019.45 157.509 2019.45 151.398 Q2019.45 145.287 2022.39 141.537 Q2025.35 137.787 2030.05 137.787 Q2032.92 137.787 2034.96 138.921 Q2037.02 140.032 2038.36 142.347 L2038.36 138.412 L2042.62 138.412 L2042.62 174.199 L2038.36 174.199 L2038.36 160.449 Z\" fill=\"#000000\" fill-rule=\"nonzero\" fill-opacity=\"1\" /><path clip-path=\"url(#clip490)\" d=\"M2055.42 129.778 L2055.42 142.625 L2051.49 142.625 L2051.49 129.778 L2055.42 129.778 Z\" fill=\"#000000\" fill-rule=\"nonzero\" fill-opacity=\"1\" /><path clip-path=\"url(#clip490)\" d=\"M2077.02 138.412 L2081.28 138.412 L2086.6 158.643 L2091.9 138.412 L2096.92 138.412 L2102.25 158.643 L2107.55 138.412 L2111.81 138.412 L2105.03 164.338 L2100 164.338 L2094.42 143.088 L2088.82 164.338 L2083.8 164.338 L2077.02 138.412 Z\" fill=\"#000000\" fill-rule=\"nonzero\" fill-opacity=\"1\" /><path clip-path=\"url(#clip490)\" d=\"M2118.27 138.412 L2122.53 138.412 L2122.53 164.338 L2118.27 164.338 L2118.27 138.412 M2118.27 128.319 L2122.53 128.319 L2122.53 133.713 L2118.27 133.713 L2118.27 128.319 Z\" fill=\"#000000\" fill-rule=\"nonzero\" fill-opacity=\"1\" /><path clip-path=\"url(#clip490)\" d=\"M2135.65 131.051 L2135.65 138.412 L2144.42 138.412 L2144.42 141.722 L2135.65 141.722 L2135.65 155.796 Q2135.65 158.967 2136.51 159.87 Q2137.39 160.773 2140.05 160.773 L2144.42 160.773 L2144.42 164.338 L2140.05 164.338 Q2135.12 164.338 2133.24 162.509 Q2131.37 160.657 2131.37 155.796 L2131.37 141.722 L2128.24 141.722 L2128.24 138.412 L2131.37 138.412 L2131.37 131.051 L2135.65 131.051 Z\" fill=\"#000000\" fill-rule=\"nonzero\" fill-opacity=\"1\" /><path clip-path=\"url(#clip490)\" d=\"M2171.58 148.689 L2171.58 164.338 L2167.32 164.338 L2167.32 148.828 Q2167.32 145.148 2165.88 143.319 Q2164.45 141.49 2161.58 141.49 Q2158.13 141.49 2156.14 143.69 Q2154.15 145.889 2154.15 149.685 L2154.15 164.338 L2149.86 164.338 L2149.86 128.319 L2154.15 128.319 L2154.15 142.44 Q2155.67 140.102 2157.73 138.944 Q2159.82 137.787 2162.53 137.787 Q2166.99 137.787 2169.29 140.565 Q2171.58 143.319 2171.58 148.689 Z\" fill=\"#000000\" fill-rule=\"nonzero\" fill-opacity=\"1\" /><path clip-path=\"url(#clip490)\" d=\"M2206.88 134.384 L2200.54 151.583 L2213.24 151.583 L2206.88 134.384 M2204.24 129.778 L2209.54 129.778 L2222.71 164.338 L2217.85 164.338 L2214.7 155.472 L2199.12 155.472 L2195.98 164.338 L2191.04 164.338 L2204.24 129.778 Z\" fill=\"#000000\" fill-rule=\"nonzero\" fill-opacity=\"1\" /><path clip-path=\"url(#clip490)\" d=\"M2232.43 133.62 L2232.43 160.495 L2238.08 160.495 Q2245.23 160.495 2248.54 157.254 Q2251.88 154.014 2251.88 147.023 Q2251.88 140.078 2248.54 136.861 Q2245.23 133.62 2238.08 133.62 L2232.43 133.62 M2227.76 129.778 L2237.36 129.778 Q2247.41 129.778 2252.11 133.967 Q2256.81 138.134 2256.81 147.023 Q2256.81 155.958 2252.09 160.148 Q2247.36 164.338 2237.36 164.338 L2227.76 164.338 L2227.76 129.778 Z\" fill=\"#000000\" fill-rule=\"nonzero\" fill-opacity=\"1\" /><polyline clip-path=\"url(#clip490)\" style=\"stroke:#e26f46; stroke-linecap:round; stroke-linejoin:round; stroke-width:4; stroke-opacity:1; fill:none\" points=\"1851.54,198.898 1995.46,198.898 \"/>\n",
       "<path clip-path=\"url(#clip490)\" d=\"M2023.85 203.238 Q2023.85 207.937 2025.77 210.622 Q2027.71 213.284 2031.09 213.284 Q2034.47 213.284 2036.42 210.622 Q2038.36 207.937 2038.36 203.238 Q2038.36 198.539 2036.42 195.877 Q2034.47 193.192 2031.09 193.192 Q2027.71 193.192 2025.77 195.877 Q2023.85 198.539 2023.85 203.238 M2038.36 212.289 Q2037.02 214.603 2034.96 215.738 Q2032.92 216.849 2030.05 216.849 Q2025.35 216.849 2022.39 213.099 Q2019.45 209.349 2019.45 203.238 Q2019.45 197.127 2022.39 193.377 Q2025.35 189.627 2030.05 189.627 Q2032.92 189.627 2034.96 190.761 Q2037.02 191.872 2038.36 194.187 L2038.36 190.252 L2042.62 190.252 L2042.62 226.039 L2038.36 226.039 L2038.36 212.289 Z\" fill=\"#000000\" fill-rule=\"nonzero\" fill-opacity=\"1\" /><path clip-path=\"url(#clip490)\" d=\"M2082.99 191.016 L2082.99 195.043 Q2081.18 194.117 2079.24 193.655 Q2077.3 193.192 2075.21 193.192 Q2072.04 193.192 2070.44 194.164 Q2068.87 195.136 2068.87 197.08 Q2068.87 198.562 2070 199.418 Q2071.14 200.252 2074.56 201.016 L2076.02 201.34 Q2080.56 202.312 2082.46 204.094 Q2084.38 205.854 2084.38 209.025 Q2084.38 212.636 2081.51 214.742 Q2078.66 216.849 2073.66 216.849 Q2071.58 216.849 2069.31 216.432 Q2067.06 216.039 2064.56 215.228 L2064.56 210.83 Q2066.93 212.057 2069.22 212.682 Q2071.51 213.284 2073.75 213.284 Q2076.76 213.284 2078.38 212.266 Q2080 211.224 2080 209.349 Q2080 207.613 2078.82 206.687 Q2077.67 205.761 2073.71 204.904 L2072.23 204.557 Q2068.27 203.724 2066.51 202.011 Q2064.75 200.275 2064.75 197.266 Q2064.75 193.608 2067.34 191.618 Q2069.93 189.627 2074.7 189.627 Q2077.06 189.627 2079.15 189.974 Q2081.23 190.321 2082.99 191.016 Z\" fill=\"#000000\" fill-rule=\"nonzero\" fill-opacity=\"1\" /><path clip-path=\"url(#clip490)\" d=\"M2091.16 180.159 L2095.42 180.159 L2095.42 216.178 L2091.16 216.178 L2091.16 180.159 Z\" fill=\"#000000\" fill-rule=\"nonzero\" fill-opacity=\"1\" /><path clip-path=\"url(#clip490)\" d=\"M2114.38 193.238 Q2110.95 193.238 2108.96 195.923 Q2106.97 198.585 2106.97 203.238 Q2106.97 207.891 2108.94 210.576 Q2110.93 213.238 2114.38 213.238 Q2117.78 213.238 2119.77 210.553 Q2121.76 207.867 2121.76 203.238 Q2121.76 198.631 2119.77 195.946 Q2117.78 193.238 2114.38 193.238 M2114.38 189.627 Q2119.93 189.627 2123.11 193.238 Q2126.28 196.849 2126.28 203.238 Q2126.28 209.604 2123.11 213.238 Q2119.93 216.849 2114.38 216.849 Q2108.8 216.849 2105.63 213.238 Q2102.48 209.604 2102.48 203.238 Q2102.48 196.849 2105.63 193.238 Q2108.8 189.627 2114.38 189.627 Z\" fill=\"#000000\" fill-rule=\"nonzero\" fill-opacity=\"1\" /><path clip-path=\"url(#clip490)\" d=\"M2137.46 212.289 L2137.46 226.039 L2133.17 226.039 L2133.17 190.252 L2137.46 190.252 L2137.46 194.187 Q2138.8 191.872 2140.84 190.761 Q2142.9 189.627 2145.74 189.627 Q2150.47 189.627 2153.41 193.377 Q2156.37 197.127 2156.37 203.238 Q2156.37 209.349 2153.41 213.099 Q2150.47 216.849 2145.74 216.849 Q2142.9 216.849 2140.84 215.738 Q2138.8 214.603 2137.46 212.289 M2151.95 203.238 Q2151.95 198.539 2150 195.877 Q2148.08 193.192 2144.7 193.192 Q2141.32 193.192 2139.38 195.877 Q2137.46 198.539 2137.46 203.238 Q2137.46 207.937 2139.38 210.622 Q2141.32 213.284 2144.7 213.284 Q2148.08 213.284 2150 210.622 Q2151.95 207.937 2151.95 203.238 Z\" fill=\"#000000\" fill-rule=\"nonzero\" fill-opacity=\"1\" /><path clip-path=\"url(#clip490)\" d=\"M2185.61 202.15 L2185.61 204.233 L2166.02 204.233 Q2166.3 208.631 2168.66 210.946 Q2171.04 213.238 2175.28 213.238 Q2177.73 213.238 2180.03 212.636 Q2182.34 212.034 2184.61 210.83 L2184.61 214.858 Q2182.32 215.83 2179.91 216.34 Q2177.5 216.849 2175.03 216.849 Q2168.82 216.849 2165.19 213.238 Q2161.58 209.627 2161.58 203.469 Q2161.58 197.104 2165 193.377 Q2168.45 189.627 2174.29 189.627 Q2179.52 189.627 2182.55 193.006 Q2185.61 196.363 2185.61 202.15 M2181.35 200.9 Q2181.3 197.405 2179.38 195.321 Q2177.48 193.238 2174.33 193.238 Q2170.77 193.238 2168.61 195.252 Q2166.48 197.266 2166.16 200.923 L2181.35 200.9 Z\" fill=\"#000000\" fill-rule=\"nonzero\" fill-opacity=\"1\" /><path clip-path=\"url(#clip490)\" d=\"M2209.12 191.016 L2209.12 195.043 Q2207.32 194.117 2205.37 193.655 Q2203.43 193.192 2201.35 193.192 Q2198.17 193.192 2196.58 194.164 Q2195 195.136 2195 197.08 Q2195 198.562 2196.14 199.418 Q2197.27 200.252 2200.7 201.016 L2202.16 201.34 Q2206.69 202.312 2208.59 204.094 Q2210.51 205.854 2210.51 209.025 Q2210.51 212.636 2207.64 214.742 Q2204.79 216.849 2199.79 216.849 Q2197.71 216.849 2195.44 216.432 Q2193.2 216.039 2190.7 215.228 L2190.7 210.83 Q2193.06 212.057 2195.35 212.682 Q2197.64 213.284 2199.89 213.284 Q2202.9 213.284 2204.52 212.266 Q2206.14 211.224 2206.14 209.349 Q2206.14 207.613 2204.96 206.687 Q2203.8 205.761 2199.84 204.904 L2198.36 204.557 Q2194.4 203.724 2192.64 202.011 Q2190.88 200.275 2190.88 197.266 Q2190.88 193.608 2193.48 191.618 Q2196.07 189.627 2200.84 189.627 Q2203.2 189.627 2205.28 189.974 Q2207.36 190.321 2209.12 191.016 Z\" fill=\"#000000\" fill-rule=\"nonzero\" fill-opacity=\"1\" /></svg>\n"
      ],
      "text/html": [
       "<?xml version=\"1.0\" encoding=\"utf-8\"?>\n",
       "<svg xmlns=\"http://www.w3.org/2000/svg\" xmlns:xlink=\"http://www.w3.org/1999/xlink\" width=\"600\" height=\"400\" viewBox=\"0 0 2400 1600\">\n",
       "<defs>\n",
       "  <clipPath id=\"clip540\">\n",
       "    <rect x=\"0\" y=\"0\" width=\"2400\" height=\"1600\"/>\n",
       "  </clipPath>\n",
       "</defs>\n",
       "<path clip-path=\"url(#clip540)\" d=\"M0 1600 L2400 1600 L2400 0 L0 0  Z\" fill=\"#ffffff\" fill-rule=\"evenodd\" fill-opacity=\"1\"/>\n",
       "<defs>\n",
       "  <clipPath id=\"clip541\">\n",
       "    <rect x=\"480\" y=\"0\" width=\"1681\" height=\"1600\"/>\n",
       "  </clipPath>\n",
       "</defs>\n",
       "<path clip-path=\"url(#clip540)\" d=\"M193.936 1486.45 L2352.76 1486.45 L2352.76 47.2441 L193.936 47.2441  Z\" fill=\"#ffffff\" fill-rule=\"evenodd\" fill-opacity=\"1\"/>\n",
       "<defs>\n",
       "  <clipPath id=\"clip542\">\n",
       "    <rect x=\"193\" y=\"47\" width=\"2160\" height=\"1440\"/>\n",
       "  </clipPath>\n",
       "</defs>\n",
       "<polyline clip-path=\"url(#clip542)\" style=\"stroke:#000000; stroke-linecap:round; stroke-linejoin:round; stroke-width:2; stroke-opacity:0.1; fill:none\" points=\"255.035,1486.45 255.035,47.2441 \"/>\n",
       "<polyline clip-path=\"url(#clip542)\" style=\"stroke:#000000; stroke-linecap:round; stroke-linejoin:round; stroke-width:2; stroke-opacity:0.1; fill:none\" points=\"777.246,1486.45 777.246,47.2441 \"/>\n",
       "<polyline clip-path=\"url(#clip542)\" style=\"stroke:#000000; stroke-linecap:round; stroke-linejoin:round; stroke-width:2; stroke-opacity:0.1; fill:none\" points=\"1299.46,1486.45 1299.46,47.2441 \"/>\n",
       "<polyline clip-path=\"url(#clip542)\" style=\"stroke:#000000; stroke-linecap:round; stroke-linejoin:round; stroke-width:2; stroke-opacity:0.1; fill:none\" points=\"1821.67,1486.45 1821.67,47.2441 \"/>\n",
       "<polyline clip-path=\"url(#clip542)\" style=\"stroke:#000000; stroke-linecap:round; stroke-linejoin:round; stroke-width:2; stroke-opacity:0.1; fill:none\" points=\"2343.88,1486.45 2343.88,47.2441 \"/>\n",
       "<polyline clip-path=\"url(#clip540)\" style=\"stroke:#000000; stroke-linecap:round; stroke-linejoin:round; stroke-width:4; stroke-opacity:1; fill:none\" points=\"193.936,1486.45 2352.76,1486.45 \"/>\n",
       "<polyline clip-path=\"url(#clip540)\" style=\"stroke:#000000; stroke-linecap:round; stroke-linejoin:round; stroke-width:4; stroke-opacity:1; fill:none\" points=\"255.035,1486.45 255.035,1467.55 \"/>\n",
       "<polyline clip-path=\"url(#clip540)\" style=\"stroke:#000000; stroke-linecap:round; stroke-linejoin:round; stroke-width:4; stroke-opacity:1; fill:none\" points=\"777.246,1486.45 777.246,1467.55 \"/>\n",
       "<polyline clip-path=\"url(#clip540)\" style=\"stroke:#000000; stroke-linecap:round; stroke-linejoin:round; stroke-width:4; stroke-opacity:1; fill:none\" points=\"1299.46,1486.45 1299.46,1467.55 \"/>\n",
       "<polyline clip-path=\"url(#clip540)\" style=\"stroke:#000000; stroke-linecap:round; stroke-linejoin:round; stroke-width:4; stroke-opacity:1; fill:none\" points=\"1821.67,1486.45 1821.67,1467.55 \"/>\n",
       "<polyline clip-path=\"url(#clip540)\" style=\"stroke:#000000; stroke-linecap:round; stroke-linejoin:round; stroke-width:4; stroke-opacity:1; fill:none\" points=\"2343.88,1486.45 2343.88,1467.55 \"/>\n",
       "<path clip-path=\"url(#clip540)\" d=\"M255.035 1517.37 Q251.424 1517.37 249.595 1520.93 Q247.789 1524.47 247.789 1531.6 Q247.789 1538.71 249.595 1542.27 Q251.424 1545.82 255.035 1545.82 Q258.669 1545.82 260.474 1542.27 Q262.303 1538.71 262.303 1531.6 Q262.303 1524.47 260.474 1520.93 Q258.669 1517.37 255.035 1517.37 M255.035 1513.66 Q260.845 1513.66 263.9 1518.27 Q266.979 1522.85 266.979 1531.6 Q266.979 1540.33 263.9 1544.94 Q260.845 1549.52 255.035 1549.52 Q249.225 1549.52 246.146 1544.94 Q243.09 1540.33 243.09 1531.6 Q243.09 1522.85 246.146 1518.27 Q249.225 1513.66 255.035 1513.66 Z\" fill=\"#000000\" fill-rule=\"nonzero\" fill-opacity=\"1\" /><path clip-path=\"url(#clip540)\" d=\"M767.628 1544.91 L775.266 1544.91 L775.266 1518.55 L766.956 1520.21 L766.956 1515.95 L775.22 1514.29 L779.896 1514.29 L779.896 1544.91 L787.535 1544.91 L787.535 1548.85 L767.628 1548.85 L767.628 1544.91 Z\" fill=\"#000000\" fill-rule=\"nonzero\" fill-opacity=\"1\" /><path clip-path=\"url(#clip540)\" d=\"M1294.11 1544.91 L1310.43 1544.91 L1310.43 1548.85 L1288.48 1548.85 L1288.48 1544.91 Q1291.15 1542.16 1295.73 1537.53 Q1300.34 1532.88 1301.52 1531.53 Q1303.76 1529.01 1304.64 1527.27 Q1305.54 1525.51 1305.54 1523.82 Q1305.54 1521.07 1303.6 1519.33 Q1301.68 1517.6 1298.58 1517.6 Q1296.38 1517.6 1293.92 1518.36 Q1291.49 1519.13 1288.72 1520.68 L1288.72 1515.95 Q1291.54 1514.82 1293.99 1514.24 Q1296.45 1513.66 1298.48 1513.66 Q1303.85 1513.66 1307.05 1516.35 Q1310.24 1519.03 1310.24 1523.52 Q1310.24 1525.65 1309.43 1527.57 Q1308.65 1529.47 1306.54 1532.07 Q1305.96 1532.74 1302.86 1535.95 Q1299.76 1539.15 1294.11 1544.91 Z\" fill=\"#000000\" fill-rule=\"nonzero\" fill-opacity=\"1\" /><path clip-path=\"url(#clip540)\" d=\"M1825.92 1530.21 Q1829.27 1530.93 1831.15 1533.2 Q1833.04 1535.47 1833.04 1538.8 Q1833.04 1543.92 1829.53 1546.72 Q1826.01 1549.52 1819.53 1549.52 Q1817.35 1549.52 1815.04 1549.08 Q1812.74 1548.66 1810.29 1547.81 L1810.29 1543.29 Q1812.23 1544.43 1814.55 1545.01 Q1816.86 1545.58 1819.39 1545.58 Q1823.79 1545.58 1826.08 1543.85 Q1828.39 1542.11 1828.39 1538.8 Q1828.39 1535.75 1826.24 1534.03 Q1824.11 1532.3 1820.29 1532.3 L1816.26 1532.3 L1816.26 1528.45 L1820.48 1528.45 Q1823.92 1528.45 1825.75 1527.09 Q1827.58 1525.7 1827.58 1523.11 Q1827.58 1520.45 1825.68 1519.03 Q1823.81 1517.6 1820.29 1517.6 Q1818.37 1517.6 1816.17 1518.01 Q1813.97 1518.43 1811.33 1519.31 L1811.33 1515.14 Q1813.99 1514.4 1816.31 1514.03 Q1818.65 1513.66 1820.71 1513.66 Q1826.03 1513.66 1829.13 1516.09 Q1832.23 1518.5 1832.23 1522.62 Q1832.23 1525.49 1830.59 1527.48 Q1828.95 1529.45 1825.92 1530.21 Z\" fill=\"#000000\" fill-rule=\"nonzero\" fill-opacity=\"1\" /><path clip-path=\"url(#clip540)\" d=\"M2346.89 1518.36 L2335.08 1536.81 L2346.89 1536.81 L2346.89 1518.36 M2345.66 1514.29 L2351.54 1514.29 L2351.54 1536.81 L2356.47 1536.81 L2356.47 1540.7 L2351.54 1540.7 L2351.54 1548.85 L2346.89 1548.85 L2346.89 1540.7 L2331.29 1540.7 L2331.29 1536.19 L2345.66 1514.29 Z\" fill=\"#000000\" fill-rule=\"nonzero\" fill-opacity=\"1\" /><polyline clip-path=\"url(#clip542)\" style=\"stroke:#000000; stroke-linecap:round; stroke-linejoin:round; stroke-width:2; stroke-opacity:0.1; fill:none\" points=\"193.936,1446.02 2352.76,1446.02 \"/>\n",
       "<polyline clip-path=\"url(#clip542)\" style=\"stroke:#000000; stroke-linecap:round; stroke-linejoin:round; stroke-width:2; stroke-opacity:0.1; fill:none\" points=\"193.936,1106.51 2352.76,1106.51 \"/>\n",
       "<polyline clip-path=\"url(#clip542)\" style=\"stroke:#000000; stroke-linecap:round; stroke-linejoin:round; stroke-width:2; stroke-opacity:0.1; fill:none\" points=\"193.936,766.999 2352.76,766.999 \"/>\n",
       "<polyline clip-path=\"url(#clip542)\" style=\"stroke:#000000; stroke-linecap:round; stroke-linejoin:round; stroke-width:2; stroke-opacity:0.1; fill:none\" points=\"193.936,427.488 2352.76,427.488 \"/>\n",
       "<polyline clip-path=\"url(#clip542)\" style=\"stroke:#000000; stroke-linecap:round; stroke-linejoin:round; stroke-width:2; stroke-opacity:0.1; fill:none\" points=\"193.936,87.9763 2352.76,87.9763 \"/>\n",
       "<polyline clip-path=\"url(#clip540)\" style=\"stroke:#000000; stroke-linecap:round; stroke-linejoin:round; stroke-width:4; stroke-opacity:1; fill:none\" points=\"193.936,1486.45 193.936,47.2441 \"/>\n",
       "<polyline clip-path=\"url(#clip540)\" style=\"stroke:#000000; stroke-linecap:round; stroke-linejoin:round; stroke-width:4; stroke-opacity:1; fill:none\" points=\"193.936,1446.02 212.834,1446.02 \"/>\n",
       "<polyline clip-path=\"url(#clip540)\" style=\"stroke:#000000; stroke-linecap:round; stroke-linejoin:round; stroke-width:4; stroke-opacity:1; fill:none\" points=\"193.936,1106.51 212.834,1106.51 \"/>\n",
       "<polyline clip-path=\"url(#clip540)\" style=\"stroke:#000000; stroke-linecap:round; stroke-linejoin:round; stroke-width:4; stroke-opacity:1; fill:none\" points=\"193.936,766.999 212.834,766.999 \"/>\n",
       "<polyline clip-path=\"url(#clip540)\" style=\"stroke:#000000; stroke-linecap:round; stroke-linejoin:round; stroke-width:4; stroke-opacity:1; fill:none\" points=\"193.936,427.488 212.834,427.488 \"/>\n",
       "<polyline clip-path=\"url(#clip540)\" style=\"stroke:#000000; stroke-linecap:round; stroke-linejoin:round; stroke-width:4; stroke-opacity:1; fill:none\" points=\"193.936,87.9763 212.834,87.9763 \"/>\n",
       "<path clip-path=\"url(#clip540)\" d=\"M50.9921 1446.47 L80.6679 1446.47 L80.6679 1450.41 L50.9921 1450.41 L50.9921 1446.47 Z\" fill=\"#000000\" fill-rule=\"nonzero\" fill-opacity=\"1\" /><path clip-path=\"url(#clip540)\" d=\"M91.5706 1459.37 L99.2095 1459.37 L99.2095 1433 L90.8993 1434.67 L90.8993 1430.41 L99.1632 1428.74 L103.839 1428.74 L103.839 1459.37 L111.478 1459.37 L111.478 1463.3 L91.5706 1463.3 L91.5706 1459.37 Z\" fill=\"#000000\" fill-rule=\"nonzero\" fill-opacity=\"1\" /><path clip-path=\"url(#clip540)\" d=\"M120.922 1457.42 L125.807 1457.42 L125.807 1463.3 L120.922 1463.3 L120.922 1457.42 Z\" fill=\"#000000\" fill-rule=\"nonzero\" fill-opacity=\"1\" /><path clip-path=\"url(#clip540)\" d=\"M145.992 1431.82 Q142.381 1431.82 140.552 1435.39 Q138.746 1438.93 138.746 1446.06 Q138.746 1453.16 140.552 1456.73 Q142.381 1460.27 145.992 1460.27 Q149.626 1460.27 151.431 1456.73 Q153.26 1453.16 153.26 1446.06 Q153.26 1438.93 151.431 1435.39 Q149.626 1431.82 145.992 1431.82 M145.992 1428.12 Q151.802 1428.12 154.857 1432.72 Q157.936 1437.31 157.936 1446.06 Q157.936 1454.78 154.857 1459.39 Q151.802 1463.97 145.992 1463.97 Q140.181 1463.97 137.103 1459.39 Q134.047 1454.78 134.047 1446.06 Q134.047 1437.31 137.103 1432.72 Q140.181 1428.12 145.992 1428.12 Z\" fill=\"#000000\" fill-rule=\"nonzero\" fill-opacity=\"1\" /><path clip-path=\"url(#clip540)\" d=\"M51.9875 1106.96 L81.6633 1106.96 L81.6633 1110.9 L51.9875 1110.9 L51.9875 1106.96 Z\" fill=\"#000000\" fill-rule=\"nonzero\" fill-opacity=\"1\" /><path clip-path=\"url(#clip540)\" d=\"M101.756 1092.31 Q98.1447 1092.31 96.316 1095.87 Q94.5104 1099.42 94.5104 1106.55 Q94.5104 1113.65 96.316 1117.22 Q98.1447 1120.76 101.756 1120.76 Q105.39 1120.76 107.196 1117.22 Q109.024 1113.65 109.024 1106.55 Q109.024 1099.42 107.196 1095.87 Q105.39 1092.31 101.756 1092.31 M101.756 1088.61 Q107.566 1088.61 110.621 1093.21 Q113.7 1097.8 113.7 1106.55 Q113.7 1115.27 110.621 1119.88 Q107.566 1124.46 101.756 1124.46 Q95.9456 1124.46 92.8669 1119.88 Q89.8114 1115.27 89.8114 1106.55 Q89.8114 1097.8 92.8669 1093.21 Q95.9456 1088.61 101.756 1088.61 Z\" fill=\"#000000\" fill-rule=\"nonzero\" fill-opacity=\"1\" /><path clip-path=\"url(#clip540)\" d=\"M121.918 1117.91 L126.802 1117.91 L126.802 1123.79 L121.918 1123.79 L121.918 1117.91 Z\" fill=\"#000000\" fill-rule=\"nonzero\" fill-opacity=\"1\" /><path clip-path=\"url(#clip540)\" d=\"M137.033 1089.23 L155.39 1089.23 L155.39 1093.17 L141.316 1093.17 L141.316 1101.64 Q142.334 1101.29 143.353 1101.13 Q144.371 1100.94 145.39 1100.94 Q151.177 1100.94 154.556 1104.12 Q157.936 1107.29 157.936 1112.7 Q157.936 1118.28 154.464 1121.38 Q150.992 1124.46 144.672 1124.46 Q142.496 1124.46 140.228 1124.09 Q137.982 1123.72 135.575 1122.98 L135.575 1118.28 Q137.658 1119.42 139.881 1119.97 Q142.103 1120.53 144.58 1120.53 Q148.584 1120.53 150.922 1118.42 Q153.26 1116.31 153.26 1112.7 Q153.26 1109.09 150.922 1106.99 Q148.584 1104.88 144.58 1104.88 Q142.705 1104.88 140.83 1105.3 Q138.978 1105.71 137.033 1106.59 L137.033 1089.23 Z\" fill=\"#000000\" fill-rule=\"nonzero\" fill-opacity=\"1\" /><path clip-path=\"url(#clip540)\" d=\"M100.76 752.798 Q97.1493 752.798 95.3206 756.363 Q93.515 759.905 93.515 767.034 Q93.515 774.141 95.3206 777.705 Q97.1493 781.247 100.76 781.247 Q104.395 781.247 106.2 777.705 Q108.029 774.141 108.029 767.034 Q108.029 759.905 106.2 756.363 Q104.395 752.798 100.76 752.798 M100.76 749.094 Q106.571 749.094 109.626 753.701 Q112.705 758.284 112.705 767.034 Q112.705 775.761 109.626 780.367 Q106.571 784.951 100.76 784.951 Q94.9502 784.951 91.8715 780.367 Q88.816 775.761 88.816 767.034 Q88.816 758.284 91.8715 753.701 Q94.9502 749.094 100.76 749.094 Z\" fill=\"#000000\" fill-rule=\"nonzero\" fill-opacity=\"1\" /><path clip-path=\"url(#clip540)\" d=\"M120.922 778.4 L125.807 778.4 L125.807 784.279 L120.922 784.279 L120.922 778.4 Z\" fill=\"#000000\" fill-rule=\"nonzero\" fill-opacity=\"1\" /><path clip-path=\"url(#clip540)\" d=\"M145.992 752.798 Q142.381 752.798 140.552 756.363 Q138.746 759.905 138.746 767.034 Q138.746 774.141 140.552 777.705 Q142.381 781.247 145.992 781.247 Q149.626 781.247 151.431 777.705 Q153.26 774.141 153.26 767.034 Q153.26 759.905 151.431 756.363 Q149.626 752.798 145.992 752.798 M145.992 749.094 Q151.802 749.094 154.857 753.701 Q157.936 758.284 157.936 767.034 Q157.936 775.761 154.857 780.367 Q151.802 784.951 145.992 784.951 Q140.181 784.951 137.103 780.367 Q134.047 775.761 134.047 767.034 Q134.047 758.284 137.103 753.701 Q140.181 749.094 145.992 749.094 Z\" fill=\"#000000\" fill-rule=\"nonzero\" fill-opacity=\"1\" /><path clip-path=\"url(#clip540)\" d=\"M101.756 413.287 Q98.1447 413.287 96.316 416.851 Q94.5104 420.393 94.5104 427.523 Q94.5104 434.629 96.316 438.194 Q98.1447 441.735 101.756 441.735 Q105.39 441.735 107.196 438.194 Q109.024 434.629 109.024 427.523 Q109.024 420.393 107.196 416.851 Q105.39 413.287 101.756 413.287 M101.756 409.583 Q107.566 409.583 110.621 414.189 Q113.7 418.773 113.7 427.523 Q113.7 436.249 110.621 440.856 Q107.566 445.439 101.756 445.439 Q95.9456 445.439 92.8669 440.856 Q89.8114 436.249 89.8114 427.523 Q89.8114 418.773 92.8669 414.189 Q95.9456 409.583 101.756 409.583 Z\" fill=\"#000000\" fill-rule=\"nonzero\" fill-opacity=\"1\" /><path clip-path=\"url(#clip540)\" d=\"M121.918 438.888 L126.802 438.888 L126.802 444.768 L121.918 444.768 L121.918 438.888 Z\" fill=\"#000000\" fill-rule=\"nonzero\" fill-opacity=\"1\" /><path clip-path=\"url(#clip540)\" d=\"M137.033 410.208 L155.39 410.208 L155.39 414.143 L141.316 414.143 L141.316 422.615 Q142.334 422.268 143.353 422.106 Q144.371 421.921 145.39 421.921 Q151.177 421.921 154.556 425.092 Q157.936 428.263 157.936 433.68 Q157.936 439.259 154.464 442.36 Q150.992 445.439 144.672 445.439 Q142.496 445.439 140.228 445.069 Q137.982 444.698 135.575 443.958 L135.575 439.259 Q137.658 440.393 139.881 440.948 Q142.103 441.504 144.58 441.504 Q148.584 441.504 150.922 439.398 Q153.26 437.291 153.26 433.68 Q153.26 430.069 150.922 427.962 Q148.584 425.856 144.58 425.856 Q142.705 425.856 140.83 426.273 Q138.978 426.689 137.033 427.569 L137.033 410.208 Z\" fill=\"#000000\" fill-rule=\"nonzero\" fill-opacity=\"1\" /><path clip-path=\"url(#clip540)\" d=\"M91.5706 101.321 L99.2095 101.321 L99.2095 74.9555 L90.8993 76.6222 L90.8993 72.3629 L99.1632 70.6963 L103.839 70.6963 L103.839 101.321 L111.478 101.321 L111.478 105.256 L91.5706 105.256 L91.5706 101.321 Z\" fill=\"#000000\" fill-rule=\"nonzero\" fill-opacity=\"1\" /><path clip-path=\"url(#clip540)\" d=\"M120.922 99.3767 L125.807 99.3767 L125.807 105.256 L120.922 105.256 L120.922 99.3767 Z\" fill=\"#000000\" fill-rule=\"nonzero\" fill-opacity=\"1\" /><path clip-path=\"url(#clip540)\" d=\"M145.992 73.775 Q142.381 73.775 140.552 77.3398 Q138.746 80.8814 138.746 88.011 Q138.746 95.1174 140.552 98.6822 Q142.381 102.224 145.992 102.224 Q149.626 102.224 151.431 98.6822 Q153.26 95.1174 153.26 88.011 Q153.26 80.8814 151.431 77.3398 Q149.626 73.775 145.992 73.775 M145.992 70.0713 Q151.802 70.0713 154.857 74.6777 Q157.936 79.261 157.936 88.011 Q157.936 96.7378 154.857 101.344 Q151.802 105.928 145.992 105.928 Q140.181 105.928 137.103 101.344 Q134.047 96.7378 134.047 88.011 Q134.047 79.261 137.103 74.6777 Q140.181 70.0713 145.992 70.0713 Z\" fill=\"#000000\" fill-rule=\"nonzero\" fill-opacity=\"1\" /><polyline clip-path=\"url(#clip542)\" style=\"stroke:#009af9; stroke-linecap:round; stroke-linejoin:round; stroke-width:4; stroke-opacity:1; fill:none\" points=\"255.035,87.9763 307.256,91.3686 359.477,101.512 411.698,118.304 463.919,141.578 516.14,171.101 568.361,206.577 620.582,247.654 672.803,293.919 725.024,344.912 777.246,400.122 829.467,458.997 881.688,520.95 933.909,585.362 986.13,651.588 1038.35,718.967 1090.57,786.827 1142.79,854.488 1195.01,921.275 1247.24,986.521 1299.46,1049.57 1351.68,1109.8 1403.9,1166.61 1456.12,1219.42 1508.34,1267.71 1560.56,1310.99 1612.78,1348.85 1665,1380.89 1717.23,1406.79 1769.45,1426.3 1821.67,1439.23 1873.89,1445.44 1926.11,1444.86 1978.33,1437.52 2030.55,1423.48 2082.77,1402.88 2134.99,1375.92 2187.22,1342.88 2239.44,1304.08 2291.66,1259.92 \"/>\n",
       "<polyline clip-path=\"url(#clip542)\" style=\"stroke:#e26f46; stroke-linecap:round; stroke-linejoin:round; stroke-width:4; stroke-opacity:1; fill:none\" points=\"255.035,89.1074 307.256,95.8807 359.477,109.36 411.698,129.409 463.919,155.83 516.14,188.357 568.361,226.665 620.582,270.373 672.803,319.042 725.024,372.188 777.246,429.278 829.467,489.743 881.688,552.977 933.909,618.351 986.13,685.209 1038.35,752.885 1090.57,820.702 1142.79,887.982 1195.01,954.054 1247.24,1018.26 1299.46,1079.95 1351.68,1138.51 1403.9,1193.37 1456.12,1243.96 1508.34,1289.79 1560.56,1330.39 1612.78,1365.36 1665,1394.36 1717.23,1417.09 1769.45,1433.32 1821.67,1442.89 1873.89,1445.72 1926.11,1441.76 1978.33,1431.05 2030.55,1413.72 2082.77,1389.92 2134.99,1359.89 2187.22,1323.95 2239.44,1282.43 2291.66,1235.77 \"/>\n",
       "<path clip-path=\"url(#clip540)\" d=\"M1827.55 250.738 L2280.8 250.738 L2280.8 95.2176 L1827.55 95.2176  Z\" fill=\"#ffffff\" fill-rule=\"evenodd\" fill-opacity=\"1\"/>\n",
       "<polyline clip-path=\"url(#clip540)\" style=\"stroke:#000000; stroke-linecap:round; stroke-linejoin:round; stroke-width:4; stroke-opacity:1; fill:none\" points=\"1827.55,250.738 2280.8,250.738 2280.8,95.2176 1827.55,95.2176 1827.55,250.738 \"/>\n",
       "<polyline clip-path=\"url(#clip540)\" style=\"stroke:#009af9; stroke-linecap:round; stroke-linejoin:round; stroke-width:4; stroke-opacity:1; fill:none\" points=\"1851.54,147.058 1995.46,147.058 \"/>\n",
       "<path clip-path=\"url(#clip540)\" d=\"M2023.85 151.398 Q2023.85 156.097 2025.77 158.782 Q2027.71 161.444 2031.09 161.444 Q2034.47 161.444 2036.42 158.782 Q2038.36 156.097 2038.36 151.398 Q2038.36 146.699 2036.42 144.037 Q2034.47 141.352 2031.09 141.352 Q2027.71 141.352 2025.77 144.037 Q2023.85 146.699 2023.85 151.398 M2038.36 160.449 Q2037.02 162.763 2034.96 163.898 Q2032.92 165.009 2030.05 165.009 Q2025.35 165.009 2022.39 161.259 Q2019.45 157.509 2019.45 151.398 Q2019.45 145.287 2022.39 141.537 Q2025.35 137.787 2030.05 137.787 Q2032.92 137.787 2034.96 138.921 Q2037.02 140.032 2038.36 142.347 L2038.36 138.412 L2042.62 138.412 L2042.62 174.199 L2038.36 174.199 L2038.36 160.449 Z\" fill=\"#000000\" fill-rule=\"nonzero\" fill-opacity=\"1\" /><path clip-path=\"url(#clip540)\" d=\"M2055.42 129.778 L2055.42 142.625 L2051.49 142.625 L2051.49 129.778 L2055.42 129.778 Z\" fill=\"#000000\" fill-rule=\"nonzero\" fill-opacity=\"1\" /><path clip-path=\"url(#clip540)\" d=\"M2077.02 138.412 L2081.28 138.412 L2086.6 158.643 L2091.9 138.412 L2096.92 138.412 L2102.25 158.643 L2107.55 138.412 L2111.81 138.412 L2105.03 164.338 L2100 164.338 L2094.42 143.088 L2088.82 164.338 L2083.8 164.338 L2077.02 138.412 Z\" fill=\"#000000\" fill-rule=\"nonzero\" fill-opacity=\"1\" /><path clip-path=\"url(#clip540)\" d=\"M2118.27 138.412 L2122.53 138.412 L2122.53 164.338 L2118.27 164.338 L2118.27 138.412 M2118.27 128.319 L2122.53 128.319 L2122.53 133.713 L2118.27 133.713 L2118.27 128.319 Z\" fill=\"#000000\" fill-rule=\"nonzero\" fill-opacity=\"1\" /><path clip-path=\"url(#clip540)\" d=\"M2135.65 131.051 L2135.65 138.412 L2144.42 138.412 L2144.42 141.722 L2135.65 141.722 L2135.65 155.796 Q2135.65 158.967 2136.51 159.87 Q2137.39 160.773 2140.05 160.773 L2144.42 160.773 L2144.42 164.338 L2140.05 164.338 Q2135.12 164.338 2133.24 162.509 Q2131.37 160.657 2131.37 155.796 L2131.37 141.722 L2128.24 141.722 L2128.24 138.412 L2131.37 138.412 L2131.37 131.051 L2135.65 131.051 Z\" fill=\"#000000\" fill-rule=\"nonzero\" fill-opacity=\"1\" /><path clip-path=\"url(#clip540)\" d=\"M2171.58 148.689 L2171.58 164.338 L2167.32 164.338 L2167.32 148.828 Q2167.32 145.148 2165.88 143.319 Q2164.45 141.49 2161.58 141.49 Q2158.13 141.49 2156.14 143.69 Q2154.15 145.889 2154.15 149.685 L2154.15 164.338 L2149.86 164.338 L2149.86 128.319 L2154.15 128.319 L2154.15 142.44 Q2155.67 140.102 2157.73 138.944 Q2159.82 137.787 2162.53 137.787 Q2166.99 137.787 2169.29 140.565 Q2171.58 143.319 2171.58 148.689 Z\" fill=\"#000000\" fill-rule=\"nonzero\" fill-opacity=\"1\" /><path clip-path=\"url(#clip540)\" d=\"M2206.88 134.384 L2200.54 151.583 L2213.24 151.583 L2206.88 134.384 M2204.24 129.778 L2209.54 129.778 L2222.71 164.338 L2217.85 164.338 L2214.7 155.472 L2199.12 155.472 L2195.98 164.338 L2191.04 164.338 L2204.24 129.778 Z\" fill=\"#000000\" fill-rule=\"nonzero\" fill-opacity=\"1\" /><path clip-path=\"url(#clip540)\" d=\"M2232.43 133.62 L2232.43 160.495 L2238.08 160.495 Q2245.23 160.495 2248.54 157.254 Q2251.88 154.014 2251.88 147.023 Q2251.88 140.078 2248.54 136.861 Q2245.23 133.62 2238.08 133.62 L2232.43 133.62 M2227.76 129.778 L2237.36 129.778 Q2247.41 129.778 2252.11 133.967 Q2256.81 138.134 2256.81 147.023 Q2256.81 155.958 2252.09 160.148 Q2247.36 164.338 2237.36 164.338 L2227.76 164.338 L2227.76 129.778 Z\" fill=\"#000000\" fill-rule=\"nonzero\" fill-opacity=\"1\" /><polyline clip-path=\"url(#clip540)\" style=\"stroke:#e26f46; stroke-linecap:round; stroke-linejoin:round; stroke-width:4; stroke-opacity:1; fill:none\" points=\"1851.54,198.898 1995.46,198.898 \"/>\n",
       "<path clip-path=\"url(#clip540)\" d=\"M2023.85 203.238 Q2023.85 207.937 2025.77 210.622 Q2027.71 213.284 2031.09 213.284 Q2034.47 213.284 2036.42 210.622 Q2038.36 207.937 2038.36 203.238 Q2038.36 198.539 2036.42 195.877 Q2034.47 193.192 2031.09 193.192 Q2027.71 193.192 2025.77 195.877 Q2023.85 198.539 2023.85 203.238 M2038.36 212.289 Q2037.02 214.603 2034.96 215.738 Q2032.92 216.849 2030.05 216.849 Q2025.35 216.849 2022.39 213.099 Q2019.45 209.349 2019.45 203.238 Q2019.45 197.127 2022.39 193.377 Q2025.35 189.627 2030.05 189.627 Q2032.92 189.627 2034.96 190.761 Q2037.02 191.872 2038.36 194.187 L2038.36 190.252 L2042.62 190.252 L2042.62 226.039 L2038.36 226.039 L2038.36 212.289 Z\" fill=\"#000000\" fill-rule=\"nonzero\" fill-opacity=\"1\" /><path clip-path=\"url(#clip540)\" d=\"M2082.99 191.016 L2082.99 195.043 Q2081.18 194.117 2079.24 193.655 Q2077.3 193.192 2075.21 193.192 Q2072.04 193.192 2070.44 194.164 Q2068.87 195.136 2068.87 197.08 Q2068.87 198.562 2070 199.418 Q2071.14 200.252 2074.56 201.016 L2076.02 201.34 Q2080.56 202.312 2082.46 204.094 Q2084.38 205.854 2084.38 209.025 Q2084.38 212.636 2081.51 214.742 Q2078.66 216.849 2073.66 216.849 Q2071.58 216.849 2069.31 216.432 Q2067.06 216.039 2064.56 215.228 L2064.56 210.83 Q2066.93 212.057 2069.22 212.682 Q2071.51 213.284 2073.75 213.284 Q2076.76 213.284 2078.38 212.266 Q2080 211.224 2080 209.349 Q2080 207.613 2078.82 206.687 Q2077.67 205.761 2073.71 204.904 L2072.23 204.557 Q2068.27 203.724 2066.51 202.011 Q2064.75 200.275 2064.75 197.266 Q2064.75 193.608 2067.34 191.618 Q2069.93 189.627 2074.7 189.627 Q2077.06 189.627 2079.15 189.974 Q2081.23 190.321 2082.99 191.016 Z\" fill=\"#000000\" fill-rule=\"nonzero\" fill-opacity=\"1\" /><path clip-path=\"url(#clip540)\" d=\"M2091.16 180.159 L2095.42 180.159 L2095.42 216.178 L2091.16 216.178 L2091.16 180.159 Z\" fill=\"#000000\" fill-rule=\"nonzero\" fill-opacity=\"1\" /><path clip-path=\"url(#clip540)\" d=\"M2114.38 193.238 Q2110.95 193.238 2108.96 195.923 Q2106.97 198.585 2106.97 203.238 Q2106.97 207.891 2108.94 210.576 Q2110.93 213.238 2114.38 213.238 Q2117.78 213.238 2119.77 210.553 Q2121.76 207.867 2121.76 203.238 Q2121.76 198.631 2119.77 195.946 Q2117.78 193.238 2114.38 193.238 M2114.38 189.627 Q2119.93 189.627 2123.11 193.238 Q2126.28 196.849 2126.28 203.238 Q2126.28 209.604 2123.11 213.238 Q2119.93 216.849 2114.38 216.849 Q2108.8 216.849 2105.63 213.238 Q2102.48 209.604 2102.48 203.238 Q2102.48 196.849 2105.63 193.238 Q2108.8 189.627 2114.38 189.627 Z\" fill=\"#000000\" fill-rule=\"nonzero\" fill-opacity=\"1\" /><path clip-path=\"url(#clip540)\" d=\"M2137.46 212.289 L2137.46 226.039 L2133.17 226.039 L2133.17 190.252 L2137.46 190.252 L2137.46 194.187 Q2138.8 191.872 2140.84 190.761 Q2142.9 189.627 2145.74 189.627 Q2150.47 189.627 2153.41 193.377 Q2156.37 197.127 2156.37 203.238 Q2156.37 209.349 2153.41 213.099 Q2150.47 216.849 2145.74 216.849 Q2142.9 216.849 2140.84 215.738 Q2138.8 214.603 2137.46 212.289 M2151.95 203.238 Q2151.95 198.539 2150 195.877 Q2148.08 193.192 2144.7 193.192 Q2141.32 193.192 2139.38 195.877 Q2137.46 198.539 2137.46 203.238 Q2137.46 207.937 2139.38 210.622 Q2141.32 213.284 2144.7 213.284 Q2148.08 213.284 2150 210.622 Q2151.95 207.937 2151.95 203.238 Z\" fill=\"#000000\" fill-rule=\"nonzero\" fill-opacity=\"1\" /><path clip-path=\"url(#clip540)\" d=\"M2185.61 202.15 L2185.61 204.233 L2166.02 204.233 Q2166.3 208.631 2168.66 210.946 Q2171.04 213.238 2175.28 213.238 Q2177.73 213.238 2180.03 212.636 Q2182.34 212.034 2184.61 210.83 L2184.61 214.858 Q2182.32 215.83 2179.91 216.34 Q2177.5 216.849 2175.03 216.849 Q2168.82 216.849 2165.19 213.238 Q2161.58 209.627 2161.58 203.469 Q2161.58 197.104 2165 193.377 Q2168.45 189.627 2174.29 189.627 Q2179.52 189.627 2182.55 193.006 Q2185.61 196.363 2185.61 202.15 M2181.35 200.9 Q2181.3 197.405 2179.38 195.321 Q2177.48 193.238 2174.33 193.238 Q2170.77 193.238 2168.61 195.252 Q2166.48 197.266 2166.16 200.923 L2181.35 200.9 Z\" fill=\"#000000\" fill-rule=\"nonzero\" fill-opacity=\"1\" /><path clip-path=\"url(#clip540)\" d=\"M2209.12 191.016 L2209.12 195.043 Q2207.32 194.117 2205.37 193.655 Q2203.43 193.192 2201.35 193.192 Q2198.17 193.192 2196.58 194.164 Q2195 195.136 2195 197.08 Q2195 198.562 2196.14 199.418 Q2197.27 200.252 2200.7 201.016 L2202.16 201.34 Q2206.69 202.312 2208.59 204.094 Q2210.51 205.854 2210.51 209.025 Q2210.51 212.636 2207.64 214.742 Q2204.79 216.849 2199.79 216.849 Q2197.71 216.849 2195.44 216.432 Q2193.2 216.039 2190.7 215.228 L2190.7 210.83 Q2193.06 212.057 2195.35 212.682 Q2197.64 213.284 2199.89 213.284 Q2202.9 213.284 2204.52 212.266 Q2206.14 211.224 2206.14 209.349 Q2206.14 207.613 2204.96 206.687 Q2203.8 205.761 2199.84 204.904 L2198.36 204.557 Q2194.4 203.724 2192.64 202.011 Q2190.88 200.275 2190.88 197.266 Q2190.88 193.608 2193.48 191.618 Q2196.07 189.627 2200.84 189.627 Q2203.2 189.627 2205.28 189.974 Q2207.36 190.321 2209.12 191.016 Z\" fill=\"#000000\" fill-rule=\"nonzero\" fill-opacity=\"1\" /></svg>\n"
      ]
     },
     "metadata": {},
     "output_type": "display_data"
    }
   ],
   "source": [
    "using Plots, ForwardDiff\n",
    "\n",
    "# operator to get the derivative of this function using AD\n",
    "D(f) = x -> ForwardDiff.derivative(f, x)\n",
    "\n",
    "# compare slopes with AD for sin(x)\n",
    "q(x) = sin(x)\n",
    "x = 0.0:0.1:4.0\n",
    "q_x = q.(x)\n",
    "q_slopes_x = slopes(q_x, x)\n",
    "\n",
    "D_q_x = D(q).(x)  # broadcasts AD across vector\n",
    "\n",
    "plot(x[1:(end - 1)], D_q_x[1:(end - 1)], label = \"q' with AD\")\n",
    "plot!(x[1:(end - 1)], q_slopes_x, label = \"q slopes\")"
   ]
  },
  {
   "cell_type": "markdown",
   "id": "9da3c415",
   "metadata": {},
   "source": [
    "Consider a variation where we pass a function instead of an `AbstractArray`"
   ]
  },
  {
   "cell_type": "code",
   "execution_count": 28,
   "id": "4c9f4b04",
   "metadata": {
    "hide-output": false
   },
   "outputs": [
    {
     "name": "stdout",
     "output_type": "stream",
     "text": [
      "typeof(q) <: Function = true\n",
      "typeof(x) <: AbstractRange = true\n",
      "q_slopes_x[1] = 0.9983341664682815\n"
     ]
    }
   ],
   "source": [
    "slopes(f::Function, x::AbstractRange) = diff(f.(x)) / step(x)  # broadcast function\n",
    "\n",
    "@show typeof(q) <: Function\n",
    "@show typeof(x) <: AbstractRange\n",
    "q_slopes_x = slopes(q, x)  # use slopes(f::Function, x)\n",
    "@show q_slopes_x[1];"
   ]
  },
  {
   "cell_type": "markdown",
   "id": "c42f011c",
   "metadata": {},
   "source": [
    "Finally, if `x` was an `AbstractArray` and not an `AbstractRange` we can no longer use a uniform step.\n",
    "\n",
    "For this, we add in a version calculating slopes with forward first-differences"
   ]
  },
  {
   "cell_type": "code",
   "execution_count": 29,
   "id": "bf10206f",
   "metadata": {
    "hide-output": false
   },
   "outputs": [
    {
     "name": "stdout",
     "output_type": "stream",
     "text": [
      "typeof(x_array) <: AbstractArray = true\n",
      "q_slopes_x[1] = 0.9983341664682815\n"
     ]
    }
   ],
   "source": [
    "# broadcasts over the diff\n",
    "slopes(f::Function, x::AbstractArray) = diff(f.(x)) ./ diff(x)\n",
    "\n",
    "x_array = Array(x)  # convert range to array\n",
    "@show typeof(x_array) <: AbstractArray\n",
    "q_slopes_x = slopes(q, x_array)\n",
    "@show q_slopes_x[1];"
   ]
  },
  {
   "cell_type": "markdown",
   "id": "821cb3c7",
   "metadata": {},
   "source": [
    "In the final example, we see that it is able to use specialized implementations over both the `f` and the `x` arguments.\n",
    "\n",
    "This is the “multiple” in multiple dispatch."
   ]
  },
  {
   "cell_type": "markdown",
   "id": "e989a4c4",
   "metadata": {},
   "source": [
    "## Exercises"
   ]
  },
  {
   "cell_type": "markdown",
   "id": "d95666ab",
   "metadata": {},
   "source": [
    "### Exercise 1\n",
    "\n",
    "Explore the package [StaticArrays.jl](https://github.com/JuliaArrays/StaticArrays.jl).\n",
    "\n",
    "- Describe two abstract types and the hierarchy of three different concrete types.  \n",
    "- Benchmark the calculation of some simple linear algebra with a static array\n",
    "  compared to the following for a dense array for `N = 3` and `N = 15`.  "
   ]
  },
  {
   "cell_type": "code",
   "execution_count": 32,
   "id": "a15a7246",
   "metadata": {
    "hide-output": false
   },
   "outputs": [
    {
     "name": "stdout",
     "output_type": "stream",
     "text": [
      "  126.914 ns (1 allocation: 176 bytes)\n",
      "  4.013 μs (4 allocations: 9.78 KiB)\n",
      "  19.620 ns (0 allocations: 0 bytes)\n",
      "  4.200 μs (5 allocations: 11.77 KiB)\n"
     ]
    }
   ],
   "source": [
    "using BenchmarkTools\n",
    "using StaticArrays\n",
    "\n",
    "N = 15\n",
    "A = rand(N, N)\n",
    "x = rand(N)\n",
    "\n",
    "A_sa = @SMatrix rand(N, N)\n",
    "x_sa = @SVector rand(N)\n",
    "\n",
    "@btime $A * $x  # the $ in front of variable names is sometimes important\n",
    "@btime inv($A)\n",
    "@btime $A_sa * $x_sa\n",
    "@btime inv($A_sa);"
   ]
  },
  {
   "cell_type": "markdown",
   "id": "a17f7ec5",
   "metadata": {},
   "source": [
    "### Exercise 2\n",
    "\n",
    "A key step in the calculation of the Kalman Filter is calculation of the Kalman gain, as can be seen with the following example using dense matrices from [the Kalman lecture](https://julia.quantecon.org/../introduction_dynamics/kalman.html).\n",
    "\n",
    "Using what you learned from Exercise 1, benchmark this using Static Arrays"
   ]
  },
  {
   "cell_type": "code",
   "execution_count": 35,
   "id": "f99e88a0",
   "metadata": {
    "hide-output": false
   },
   "outputs": [
    {
     "name": "stdout",
     "output_type": "stream",
     "text": [
      "  618.391 ns (9 allocations: 1.77 KiB)\n",
      "  24.148 ns (0 allocations: 0 bytes)\n"
     ]
    }
   ],
   "source": [
    "Sigma = [0.4 0.3;\n",
    "         0.3 0.45]\n",
    "G = I\n",
    "R = 0.5 * Sigma\n",
    "\n",
    "Sigma_sa = @SMatrix [0.4 0.3;\n",
    "                     0.3 0.45]\n",
    "G_sa = @SMatrix [1.0 0.0;\n",
    "                 0.0 1.0]\n",
    "R_sa = 0.5 * Sigma_sa\n",
    "\n",
    "gain(Sigma, G, R) = Sigma * G' * inv(G * Sigma * G' + R)\n",
    "gain(Sigma_sa, G_sa, R_sa) = Sigma_sa * G_sa' * inv(G_sa * Sigma_sa * G_sa' + R_sa)\n",
    "\n",
    "@btime gain($Sigma, $G, $R)\n",
    "@btime gain($Sigma_sa, $G_sa, $R_sa);"
   ]
  },
  {
   "cell_type": "markdown",
   "id": "3b2ab7cc",
   "metadata": {},
   "source": [
    "How many times faster are static arrays in this example?"
   ]
  },
  {
   "cell_type": "markdown",
   "id": "1e1f343e",
   "metadata": {},
   "source": [
    "### Exercise 3\n",
    "\n",
    "The [Polynomial.jl](https://github.com/JuliaMath/Polynomials.jl) provides a package for simple univariate Polynomials."
   ]
  },
  {
   "cell_type": "code",
   "execution_count": 43,
   "id": "6859ae4e",
   "metadata": {
    "hide-output": false
   },
   "outputs": [
    {
     "name": "stdout",
     "output_type": "stream",
     "text": [
      "p = Polynomial(2 - 5*x + 2*x^2)\n",
      "(p(0.1), p′(0.1)) = (1.52, -4.6)\n",
      "roots(p) = [0.5, 2.0]\n"
     ]
    },
    {
     "data": {
      "image/png": "[encoded data removed]",
      "image/svg+xml": [
       "<?xml version=\"1.0\" encoding=\"utf-8\"?>\n",
       "<svg xmlns=\"http://www.w3.org/2000/svg\" xmlns:xlink=\"http://www.w3.org/1999/xlink\" width=\"600\" height=\"400\" viewBox=\"0 0 2400 1600\">\n",
       "<defs>\n",
       "  <clipPath id=\"clip670\">\n",
       "    <rect x=\"0\" y=\"0\" width=\"2400\" height=\"1600\"/>\n",
       "  </clipPath>\n",
       "</defs>\n",
       "<path clip-path=\"url(#clip670)\" d=\"M0 1600 L2400 1600 L2400 0 L0 0  Z\" fill=\"#ffffff\" fill-rule=\"evenodd\" fill-opacity=\"1\"/>\n",
       "<defs>\n",
       "  <clipPath id=\"clip671\">\n",
       "    <rect x=\"480\" y=\"0\" width=\"1681\" height=\"1600\"/>\n",
       "  </clipPath>\n",
       "</defs>\n",
       "<path clip-path=\"url(#clip670)\" d=\"M242.135 1423.18 L2352.76 1423.18 L2352.76 123.472 L242.135 123.472  Z\" fill=\"#ffffff\" fill-rule=\"evenodd\" fill-opacity=\"1\"/>\n",
       "<defs>\n",
       "  <clipPath id=\"clip672\">\n",
       "    <rect x=\"242\" y=\"123\" width=\"2112\" height=\"1301\"/>\n",
       "  </clipPath>\n",
       "</defs>\n",
       "<polyline clip-path=\"url(#clip672)\" style=\"stroke:#000000; stroke-linecap:round; stroke-linejoin:round; stroke-width:2; stroke-opacity:0.1; fill:none\" points=\"301.869,1423.18 301.869,123.472 \"/>\n",
       "<polyline clip-path=\"url(#clip672)\" style=\"stroke:#000000; stroke-linecap:round; stroke-linejoin:round; stroke-width:2; stroke-opacity:0.1; fill:none\" points=\"799.657,1423.18 799.657,123.472 \"/>\n",
       "<polyline clip-path=\"url(#clip672)\" style=\"stroke:#000000; stroke-linecap:round; stroke-linejoin:round; stroke-width:2; stroke-opacity:0.1; fill:none\" points=\"1297.45,1423.18 1297.45,123.472 \"/>\n",
       "<polyline clip-path=\"url(#clip672)\" style=\"stroke:#000000; stroke-linecap:round; stroke-linejoin:round; stroke-width:2; stroke-opacity:0.1; fill:none\" points=\"1795.23,1423.18 1795.23,123.472 \"/>\n",
       "<polyline clip-path=\"url(#clip672)\" style=\"stroke:#000000; stroke-linecap:round; stroke-linejoin:round; stroke-width:2; stroke-opacity:0.1; fill:none\" points=\"2293.02,1423.18 2293.02,123.472 \"/>\n",
       "<polyline clip-path=\"url(#clip670)\" style=\"stroke:#000000; stroke-linecap:round; stroke-linejoin:round; stroke-width:4; stroke-opacity:1; fill:none\" points=\"242.135,1423.18 2352.76,1423.18 \"/>\n",
       "<polyline clip-path=\"url(#clip670)\" style=\"stroke:#000000; stroke-linecap:round; stroke-linejoin:round; stroke-width:4; stroke-opacity:1; fill:none\" points=\"301.869,1423.18 301.869,1404.28 \"/>\n",
       "<polyline clip-path=\"url(#clip670)\" style=\"stroke:#000000; stroke-linecap:round; stroke-linejoin:round; stroke-width:4; stroke-opacity:1; fill:none\" points=\"799.657,1423.18 799.657,1404.28 \"/>\n",
       "<polyline clip-path=\"url(#clip670)\" style=\"stroke:#000000; stroke-linecap:round; stroke-linejoin:round; stroke-width:4; stroke-opacity:1; fill:none\" points=\"1297.45,1423.18 1297.45,1404.28 \"/>\n",
       "<polyline clip-path=\"url(#clip670)\" style=\"stroke:#000000; stroke-linecap:round; stroke-linejoin:round; stroke-width:4; stroke-opacity:1; fill:none\" points=\"1795.23,1423.18 1795.23,1404.28 \"/>\n",
       "<polyline clip-path=\"url(#clip670)\" style=\"stroke:#000000; stroke-linecap:round; stroke-linejoin:round; stroke-width:4; stroke-opacity:1; fill:none\" points=\"2293.02,1423.18 2293.02,1404.28 \"/>\n",
       "<path clip-path=\"url(#clip670)\" d=\"M271.812 1468.75 L301.487 1468.75 L301.487 1472.69 L271.812 1472.69 L271.812 1468.75 Z\" fill=\"#000000\" fill-rule=\"nonzero\" fill-opacity=\"1\" /><path clip-path=\"url(#clip670)\" d=\"M315.608 1481.64 L331.927 1481.64 L331.927 1485.58 L309.983 1485.58 L309.983 1481.64 Q312.645 1478.89 317.228 1474.26 Q321.834 1469.61 323.015 1468.27 Q325.26 1465.74 326.14 1464.01 Q327.043 1462.25 327.043 1460.56 Q327.043 1457.8 325.098 1456.07 Q323.177 1454.33 320.075 1454.33 Q317.876 1454.33 315.422 1455.09 Q312.992 1455.86 310.214 1457.41 L310.214 1452.69 Q313.038 1451.55 315.492 1450.97 Q317.946 1450.39 319.983 1450.39 Q325.353 1450.39 328.547 1453.08 Q331.742 1455.77 331.742 1460.26 Q331.742 1462.39 330.932 1464.31 Q330.145 1466.2 328.038 1468.8 Q327.459 1469.47 324.358 1472.69 Q321.256 1475.88 315.608 1481.64 Z\" fill=\"#000000\" fill-rule=\"nonzero\" fill-opacity=\"1\" /><path clip-path=\"url(#clip670)\" d=\"M769.414 1468.75 L799.09 1468.75 L799.09 1472.69 L769.414 1472.69 L769.414 1468.75 Z\" fill=\"#000000\" fill-rule=\"nonzero\" fill-opacity=\"1\" /><path clip-path=\"url(#clip670)\" d=\"M809.993 1481.64 L817.632 1481.64 L817.632 1455.28 L809.322 1456.95 L809.322 1452.69 L817.585 1451.02 L822.261 1451.02 L822.261 1481.64 L829.9 1481.64 L829.9 1485.58 L809.993 1485.58 L809.993 1481.64 Z\" fill=\"#000000\" fill-rule=\"nonzero\" fill-opacity=\"1\" /><path clip-path=\"url(#clip670)\" d=\"M1297.45 1454.1 Q1293.83 1454.1 1292.01 1457.66 Q1290.2 1461.2 1290.2 1468.33 Q1290.2 1475.44 1292.01 1479.01 Q1293.83 1482.55 1297.45 1482.55 Q1301.08 1482.55 1302.89 1479.01 Q1304.71 1475.44 1304.71 1468.33 Q1304.71 1461.2 1302.89 1457.66 Q1301.08 1454.1 1297.45 1454.1 M1297.45 1450.39 Q1303.26 1450.39 1306.31 1455 Q1309.39 1459.58 1309.39 1468.33 Q1309.39 1477.06 1306.31 1481.67 Q1303.26 1486.25 1297.45 1486.25 Q1291.64 1486.25 1288.56 1481.67 Q1285.5 1477.06 1285.5 1468.33 Q1285.5 1459.58 1288.56 1455 Q1291.64 1450.39 1297.45 1450.39 Z\" fill=\"#000000\" fill-rule=\"nonzero\" fill-opacity=\"1\" /><path clip-path=\"url(#clip670)\" d=\"M1785.62 1481.64 L1793.25 1481.64 L1793.25 1455.28 L1784.94 1456.95 L1784.94 1452.69 L1793.21 1451.02 L1797.88 1451.02 L1797.88 1481.64 L1805.52 1481.64 L1805.52 1485.58 L1785.62 1485.58 L1785.62 1481.64 Z\" fill=\"#000000\" fill-rule=\"nonzero\" fill-opacity=\"1\" /><path clip-path=\"url(#clip670)\" d=\"M2287.67 1481.64 L2303.99 1481.64 L2303.99 1485.58 L2282.05 1485.58 L2282.05 1481.64 Q2284.71 1478.89 2289.29 1474.26 Q2293.9 1469.61 2295.08 1468.27 Q2297.33 1465.74 2298.21 1464.01 Q2299.11 1462.25 2299.11 1460.56 Q2299.11 1457.8 2297.16 1456.07 Q2295.24 1454.33 2292.14 1454.33 Q2289.94 1454.33 2287.49 1455.09 Q2285.06 1455.86 2282.28 1457.41 L2282.28 1452.69 Q2285.1 1451.55 2287.56 1450.97 Q2290.01 1450.39 2292.05 1450.39 Q2297.42 1450.39 2300.61 1453.08 Q2303.81 1455.77 2303.81 1460.26 Q2303.81 1462.39 2303 1464.31 Q2302.21 1466.2 2300.1 1468.8 Q2299.53 1469.47 2296.42 1472.69 Q2293.32 1475.88 2287.67 1481.64 Z\" fill=\"#000000\" fill-rule=\"nonzero\" fill-opacity=\"1\" /><path clip-path=\"url(#clip670)\" d=\"M1314.06 1532.4 L1301.17 1549.74 L1314.73 1568.04 L1307.82 1568.04 L1297.45 1554.04 L1287.07 1568.04 L1280.16 1568.04 L1294.01 1549.39 L1281.34 1532.4 L1288.25 1532.4 L1297.7 1545.1 L1307.15 1532.4 L1314.06 1532.4 Z\" fill=\"#000000\" fill-rule=\"nonzero\" fill-opacity=\"1\" /><polyline clip-path=\"url(#clip672)\" style=\"stroke:#000000; stroke-linecap:round; stroke-linejoin:round; stroke-width:2; stroke-opacity:0.1; fill:none\" points=\"242.135,1274.93 2352.76,1274.93 \"/>\n",
       "<polyline clip-path=\"url(#clip672)\" style=\"stroke:#000000; stroke-linecap:round; stroke-linejoin:round; stroke-width:2; stroke-opacity:0.1; fill:none\" points=\"242.135,903.371 2352.76,903.371 \"/>\n",
       "<polyline clip-path=\"url(#clip672)\" style=\"stroke:#000000; stroke-linecap:round; stroke-linejoin:round; stroke-width:2; stroke-opacity:0.1; fill:none\" points=\"242.135,531.814 2352.76,531.814 \"/>\n",
       "<polyline clip-path=\"url(#clip672)\" style=\"stroke:#000000; stroke-linecap:round; stroke-linejoin:round; stroke-width:2; stroke-opacity:0.1; fill:none\" points=\"242.135,160.256 2352.76,160.256 \"/>\n",
       "<polyline clip-path=\"url(#clip670)\" style=\"stroke:#000000; stroke-linecap:round; stroke-linejoin:round; stroke-width:4; stroke-opacity:1; fill:none\" points=\"242.135,1423.18 242.135,123.472 \"/>\n",
       "<polyline clip-path=\"url(#clip670)\" style=\"stroke:#000000; stroke-linecap:round; stroke-linejoin:round; stroke-width:4; stroke-opacity:1; fill:none\" points=\"242.135,1274.93 261.032,1274.93 \"/>\n",
       "<polyline clip-path=\"url(#clip670)\" style=\"stroke:#000000; stroke-linecap:round; stroke-linejoin:round; stroke-width:4; stroke-opacity:1; fill:none\" points=\"242.135,903.371 261.032,903.371 \"/>\n",
       "<polyline clip-path=\"url(#clip670)\" style=\"stroke:#000000; stroke-linecap:round; stroke-linejoin:round; stroke-width:4; stroke-opacity:1; fill:none\" points=\"242.135,531.814 261.032,531.814 \"/>\n",
       "<polyline clip-path=\"url(#clip670)\" style=\"stroke:#000000; stroke-linecap:round; stroke-linejoin:round; stroke-width:4; stroke-opacity:1; fill:none\" points=\"242.135,160.256 261.032,160.256 \"/>\n",
       "<path clip-path=\"url(#clip670)\" d=\"M114.26 1275.38 L143.936 1275.38 L143.936 1279.31 L114.26 1279.31 L114.26 1275.38 Z\" fill=\"#000000\" fill-rule=\"nonzero\" fill-opacity=\"1\" /><path clip-path=\"url(#clip670)\" d=\"M154.839 1288.27 L162.477 1288.27 L162.477 1261.91 L154.167 1263.57 L154.167 1259.32 L162.431 1257.65 L167.107 1257.65 L167.107 1288.27 L174.746 1288.27 L174.746 1292.21 L154.839 1292.21 L154.839 1288.27 Z\" fill=\"#000000\" fill-rule=\"nonzero\" fill-opacity=\"1\" /><path clip-path=\"url(#clip670)\" d=\"M194.19 1260.73 Q190.579 1260.73 188.75 1264.29 Q186.945 1267.83 186.945 1274.96 Q186.945 1282.07 188.75 1285.63 Q190.579 1289.18 194.19 1289.18 Q197.825 1289.18 199.63 1285.63 Q201.459 1282.07 201.459 1274.96 Q201.459 1267.83 199.63 1264.29 Q197.825 1260.73 194.19 1260.73 M194.19 1257.02 Q200 1257.02 203.056 1261.63 Q206.135 1266.21 206.135 1274.96 Q206.135 1283.69 203.056 1288.3 Q200 1292.88 194.19 1292.88 Q188.38 1292.88 185.301 1288.3 Q182.246 1283.69 182.246 1274.96 Q182.246 1266.21 185.301 1261.63 Q188.38 1257.02 194.19 1257.02 Z\" fill=\"#000000\" fill-rule=\"nonzero\" fill-opacity=\"1\" /><path clip-path=\"url(#clip670)\" d=\"M194.19 889.17 Q190.579 889.17 188.75 892.735 Q186.945 896.276 186.945 903.406 Q186.945 910.512 188.75 914.077 Q190.579 917.619 194.19 917.619 Q197.825 917.619 199.63 914.077 Q201.459 910.512 201.459 903.406 Q201.459 896.276 199.63 892.735 Q197.825 889.17 194.19 889.17 M194.19 885.466 Q200 885.466 203.056 890.073 Q206.135 894.656 206.135 903.406 Q206.135 912.133 203.056 916.739 Q200 921.322 194.19 921.322 Q188.38 921.322 185.301 916.739 Q182.246 912.133 182.246 903.406 Q182.246 894.656 185.301 890.073 Q188.38 885.466 194.19 885.466 Z\" fill=\"#000000\" fill-rule=\"nonzero\" fill-opacity=\"1\" /><path clip-path=\"url(#clip670)\" d=\"M154.839 545.159 L162.477 545.159 L162.477 518.793 L154.167 520.46 L154.167 516.2 L162.431 514.534 L167.107 514.534 L167.107 545.159 L174.746 545.159 L174.746 549.094 L154.839 549.094 L154.839 545.159 Z\" fill=\"#000000\" fill-rule=\"nonzero\" fill-opacity=\"1\" /><path clip-path=\"url(#clip670)\" d=\"M194.19 517.612 Q190.579 517.612 188.75 521.177 Q186.945 524.719 186.945 531.848 Q186.945 538.955 188.75 542.52 Q190.579 546.061 194.19 546.061 Q197.825 546.061 199.63 542.52 Q201.459 538.955 201.459 531.848 Q201.459 524.719 199.63 521.177 Q197.825 517.612 194.19 517.612 M194.19 513.909 Q200 513.909 203.056 518.515 Q206.135 523.098 206.135 531.848 Q206.135 540.575 203.056 545.182 Q200 549.765 194.19 549.765 Q188.38 549.765 185.301 545.182 Q182.246 540.575 182.246 531.848 Q182.246 523.098 185.301 518.515 Q188.38 513.909 194.19 513.909 Z\" fill=\"#000000\" fill-rule=\"nonzero\" fill-opacity=\"1\" /><path clip-path=\"url(#clip670)\" d=\"M158.056 173.601 L174.376 173.601 L174.376 177.536 L152.431 177.536 L152.431 173.601 Q155.093 170.847 159.677 166.217 Q164.283 161.564 165.464 160.222 Q167.709 157.698 168.589 155.962 Q169.491 154.203 169.491 152.513 Q169.491 149.759 167.547 148.023 Q165.626 146.286 162.524 146.286 Q160.325 146.286 157.871 147.05 Q155.44 147.814 152.663 149.365 L152.663 144.643 Q155.487 143.509 157.94 142.93 Q160.394 142.351 162.431 142.351 Q167.802 142.351 170.996 145.036 Q174.19 147.722 174.19 152.212 Q174.19 154.342 173.38 156.263 Q172.593 158.161 170.487 160.754 Q169.908 161.425 166.806 164.643 Q163.704 167.837 158.056 173.601 Z\" fill=\"#000000\" fill-rule=\"nonzero\" fill-opacity=\"1\" /><path clip-path=\"url(#clip670)\" d=\"M194.19 146.055 Q190.579 146.055 188.75 149.62 Q186.945 153.161 186.945 160.291 Q186.945 167.397 188.75 170.962 Q190.579 174.504 194.19 174.504 Q197.825 174.504 199.63 170.962 Q201.459 167.397 201.459 160.291 Q201.459 153.161 199.63 149.62 Q197.825 146.055 194.19 146.055 M194.19 142.351 Q200 142.351 203.056 146.958 Q206.135 151.541 206.135 160.291 Q206.135 169.018 203.056 173.624 Q200 178.208 194.19 178.208 Q188.38 178.208 185.301 173.624 Q182.246 169.018 182.246 160.291 Q182.246 151.541 185.301 146.958 Q188.38 142.351 194.19 142.351 Z\" fill=\"#000000\" fill-rule=\"nonzero\" fill-opacity=\"1\" /><path clip-path=\"url(#clip670)\" d=\"M67.3143 771.639 Q73.68 774.122 75.6216 776.477 Q77.5631 778.832 77.5631 782.779 L77.5631 787.458 L72.6615 787.458 L72.6615 784.02 Q72.6615 781.601 71.5157 780.265 Q70.3699 778.928 66.1048 777.305 L63.4312 776.254 L28.3562 790.673 L28.3562 784.466 L56.238 773.326 L28.3562 762.186 L28.3562 755.979 L67.3143 771.639 Z\" fill=\"#000000\" fill-rule=\"nonzero\" fill-opacity=\"1\" /><path clip-path=\"url(#clip670)\" d=\"M888.405 18.8205 L888.405 41.5461 L898.695 41.5461 Q904.406 41.5461 907.525 38.5889 Q910.645 35.6318 910.645 30.163 Q910.645 24.7348 907.525 21.7777 Q904.406 18.8205 898.695 18.8205 L888.405 18.8205 M880.222 12.096 L898.695 12.096 Q908.862 12.096 914.047 16.714 Q919.273 21.2916 919.273 30.163 Q919.273 39.1155 914.047 43.6931 Q908.862 48.2706 898.695 48.2706 L888.405 48.2706 L888.405 72.576 L880.222 72.576 L880.222 12.096 Z\" fill=\"#000000\" fill-rule=\"nonzero\" fill-opacity=\"1\" /><path clip-path=\"url(#clip670)\" d=\"M929.927 9.54393 L937.381 9.54393 L937.381 72.576 L929.927 72.576 L929.927 9.54393 Z\" fill=\"#000000\" fill-rule=\"nonzero\" fill-opacity=\"1\" /><path clip-path=\"url(#clip670)\" d=\"M970.558 32.4315 Q964.562 32.4315 961.078 37.1306 Q957.595 41.7891 957.595 49.9314 Q957.595 58.0738 961.038 62.7728 Q964.522 67.4314 970.558 67.4314 Q976.512 67.4314 979.996 62.7323 Q983.48 58.0333 983.48 49.9314 Q983.48 41.8701 979.996 37.1711 Q976.512 32.4315 970.558 32.4315 M970.558 26.1121 Q980.28 26.1121 985.829 32.4315 Q991.379 38.7509 991.379 49.9314 Q991.379 61.0714 985.829 67.4314 Q980.28 73.7508 970.558 73.7508 Q960.795 73.7508 955.245 67.4314 Q949.736 61.0714 949.736 49.9314 Q949.736 38.7509 955.245 32.4315 Q960.795 26.1121 970.558 26.1121 Z\" fill=\"#000000\" fill-rule=\"nonzero\" fill-opacity=\"1\" /><path clip-path=\"url(#clip670)\" d=\"M1011.11 14.324 L1011.11 27.2059 L1026.46 27.2059 L1026.46 32.9987 L1011.11 32.9987 L1011.11 57.6282 Q1011.11 63.1779 1012.61 64.7578 Q1014.15 66.3376 1018.8 66.3376 L1026.46 66.3376 L1026.46 72.576 L1018.8 72.576 Q1010.18 72.576 1006.89 69.3758 Q1003.61 66.1351 1003.61 57.6282 L1003.61 32.9987 L998.144 32.9987 L998.144 27.2059 L1003.61 27.2059 L1003.61 14.324 L1011.11 14.324 Z\" fill=\"#000000\" fill-rule=\"nonzero\" fill-opacity=\"1\" /><path clip-path=\"url(#clip670)\" d=\"M1080.22 32.4315 Q1074.22 32.4315 1070.74 37.1306 Q1067.25 41.7891 1067.25 49.9314 Q1067.25 58.0738 1070.7 62.7728 Q1074.18 67.4314 1080.22 67.4314 Q1086.17 67.4314 1089.65 62.7323 Q1093.14 58.0333 1093.14 49.9314 Q1093.14 41.8701 1089.65 37.1711 Q1086.17 32.4315 1080.22 32.4315 M1080.22 26.1121 Q1089.94 26.1121 1095.49 32.4315 Q1101.04 38.7509 1101.04 49.9314 Q1101.04 61.0714 1095.49 67.4314 Q1089.94 73.7508 1080.22 73.7508 Q1070.45 73.7508 1064.9 67.4314 Q1059.39 61.0714 1059.39 49.9314 Q1059.39 38.7509 1064.9 32.4315 Q1070.45 26.1121 1080.22 26.1121 Z\" fill=\"#000000\" fill-rule=\"nonzero\" fill-opacity=\"1\" /><path clip-path=\"url(#clip670)\" d=\"M1136.36 9.54393 L1136.36 15.7418 L1129.23 15.7418 Q1125.22 15.7418 1123.64 17.3622 Q1122.1 18.9825 1122.1 23.1955 L1122.1 27.2059 L1134.38 27.2059 L1134.38 32.9987 L1122.1 32.9987 L1122.1 72.576 L1114.61 72.576 L1114.61 32.9987 L1107.48 32.9987 L1107.48 27.2059 L1114.61 27.2059 L1114.61 24.0462 Q1114.61 16.471 1118.13 13.0277 Q1121.66 9.54393 1129.31 9.54393 L1136.36 9.54393 Z\" fill=\"#000000\" fill-rule=\"nonzero\" fill-opacity=\"1\" /><path clip-path=\"url(#clip670)\" d=\"M1176.18 65.7705 L1176.18 89.8329 L1168.69 89.8329 L1168.69 27.2059 L1176.18 27.2059 L1176.18 34.0924 Q1178.53 30.0415 1182.1 28.0971 Q1185.7 26.1121 1190.68 26.1121 Q1198.95 26.1121 1204.09 32.6746 Q1209.28 39.2371 1209.28 49.9314 Q1209.28 60.6258 1204.09 67.1883 Q1198.95 73.7508 1190.68 73.7508 Q1185.7 73.7508 1182.1 71.8063 Q1178.53 69.8214 1176.18 65.7705 M1201.54 49.9314 Q1201.54 41.7081 1198.14 37.0496 Q1194.78 32.3505 1188.86 32.3505 Q1182.95 32.3505 1179.54 37.0496 Q1176.18 41.7081 1176.18 49.9314 Q1176.18 58.1548 1179.54 62.8538 Q1182.95 67.5124 1188.86 67.5124 Q1194.78 67.5124 1198.14 62.8538 Q1201.54 58.1548 1201.54 49.9314 Z\" fill=\"#000000\" fill-rule=\"nonzero\" fill-opacity=\"1\" /><path clip-path=\"url(#clip670)\" d=\"M1239.54 9.62495 Q1234.11 18.942 1231.48 28.0566 Q1228.84 37.1711 1228.84 46.5287 Q1228.84 55.8863 1231.48 65.0818 Q1234.15 74.2369 1239.54 83.5134 L1233.06 83.5134 Q1226.98 73.9938 1223.94 64.7983 Q1220.94 55.6027 1220.94 46.5287 Q1220.94 37.4952 1223.94 28.3401 Q1226.94 19.1851 1233.06 9.62495 L1239.54 9.62495 Z\" fill=\"#000000\" fill-rule=\"nonzero\" fill-opacity=\"1\" /><path clip-path=\"url(#clip670)\" d=\"M1291.71 27.2059 L1275.31 49.2833 L1292.56 72.576 L1283.77 72.576 L1270.57 54.752 L1257.36 72.576 L1248.57 72.576 L1266.19 48.8377 L1250.07 27.2059 L1258.86 27.2059 L1270.89 43.369 L1282.92 27.2059 L1291.71 27.2059 Z\" fill=\"#000000\" fill-rule=\"nonzero\" fill-opacity=\"1\" /><path clip-path=\"url(#clip670)\" d=\"M1301.92 9.62495 L1308.4 9.62495 Q1314.48 19.1851 1317.48 28.3401 Q1320.52 37.4952 1320.52 46.5287 Q1320.52 55.6027 1317.48 64.7983 Q1314.48 73.9938 1308.4 83.5134 L1301.92 83.5134 Q1307.31 74.2369 1309.94 65.0818 Q1312.62 55.8863 1312.62 46.5287 Q1312.62 37.1711 1309.94 28.0566 Q1307.31 18.942 1301.92 9.62495 Z\" fill=\"#000000\" fill-rule=\"nonzero\" fill-opacity=\"1\" /><path clip-path=\"url(#clip670)\" d=\"M1382.45 49.7694 Q1373.42 49.7694 1369.94 51.8354 Q1366.45 53.9013 1366.45 58.8839 Q1366.45 62.8538 1369.05 65.2034 Q1371.68 67.5124 1376.17 67.5124 Q1382.37 67.5124 1386.1 63.1374 Q1389.87 58.7219 1389.87 51.4303 L1389.87 49.7694 L1382.45 49.7694 M1397.32 46.6907 L1397.32 72.576 L1389.87 72.576 L1389.87 65.6895 Q1387.31 69.8214 1383.51 71.8063 Q1379.7 73.7508 1374.19 73.7508 Q1367.22 73.7508 1363.09 69.8619 Q1359 65.9325 1359 59.3701 Q1359 51.7138 1364.1 47.825 Q1369.25 43.9361 1379.42 43.9361 L1389.87 43.9361 L1389.87 43.2069 Q1389.87 38.0623 1386.46 35.2672 Q1383.1 32.4315 1376.98 32.4315 Q1373.1 32.4315 1369.41 33.3632 Q1365.72 34.295 1362.32 36.1584 L1362.32 29.2718 Q1366.41 27.692 1370.26 26.9223 Q1374.11 26.1121 1377.75 26.1121 Q1387.6 26.1121 1392.46 31.2163 Q1397.32 36.3204 1397.32 46.6907 Z\" fill=\"#000000\" fill-rule=\"nonzero\" fill-opacity=\"1\" /><path clip-path=\"url(#clip670)\" d=\"M1450.39 45.1919 L1450.39 72.576 L1442.93 72.576 L1442.93 45.4349 Q1442.93 38.994 1440.42 35.7938 Q1437.91 32.5936 1432.89 32.5936 Q1426.85 32.5936 1423.37 36.4419 Q1419.88 40.2903 1419.88 46.9338 L1419.88 72.576 L1412.39 72.576 L1412.39 27.2059 L1419.88 27.2059 L1419.88 34.2544 Q1422.56 30.163 1426.16 28.1376 Q1429.81 26.1121 1434.55 26.1121 Q1442.37 26.1121 1446.38 30.9732 Q1450.39 35.7938 1450.39 45.1919 Z\" fill=\"#000000\" fill-rule=\"nonzero\" fill-opacity=\"1\" /><path clip-path=\"url(#clip670)\" d=\"M1495.11 34.0924 L1495.11 9.54393 L1502.56 9.54393 L1502.56 72.576 L1495.11 72.576 L1495.11 65.7705 Q1492.76 69.8214 1489.15 71.8063 Q1485.59 73.7508 1480.57 73.7508 Q1472.34 73.7508 1467.16 67.1883 Q1462.01 60.6258 1462.01 49.9314 Q1462.01 39.2371 1467.16 32.6746 Q1472.34 26.1121 1480.57 26.1121 Q1485.59 26.1121 1489.15 28.0971 Q1492.76 30.0415 1495.11 34.0924 M1469.71 49.9314 Q1469.71 58.1548 1473.07 62.8538 Q1476.47 67.5124 1482.39 67.5124 Q1488.3 67.5124 1491.71 62.8538 Q1495.11 58.1548 1495.11 49.9314 Q1495.11 41.7081 1491.71 37.0496 Q1488.3 32.3505 1482.39 32.3505 Q1476.47 32.3505 1473.07 37.0496 Q1469.71 41.7081 1469.71 49.9314 Z\" fill=\"#000000\" fill-rule=\"nonzero\" fill-opacity=\"1\" /><path clip-path=\"url(#clip670)\" d=\"M1551.5 65.7705 L1551.5 89.8329 L1544 89.8329 L1544 27.2059 L1551.5 27.2059 L1551.5 34.0924 Q1553.85 30.0415 1557.41 28.0971 Q1561.02 26.1121 1566 26.1121 Q1574.26 26.1121 1579.41 32.6746 Q1584.59 39.2371 1584.59 49.9314 Q1584.59 60.6258 1579.41 67.1883 Q1574.26 73.7508 1566 73.7508 Q1561.02 73.7508 1557.41 71.8063 Q1553.85 69.8214 1551.5 65.7705 M1576.86 49.9314 Q1576.86 41.7081 1573.45 37.0496 Q1570.09 32.3505 1564.18 32.3505 Q1558.26 32.3505 1554.86 37.0496 Q1551.5 41.7081 1551.5 49.9314 Q1551.5 58.1548 1554.86 62.8538 Q1558.26 67.5124 1564.18 67.5124 Q1570.09 67.5124 1573.45 62.8538 Q1576.86 58.1548 1576.86 49.9314 Z\" fill=\"#000000\" fill-rule=\"nonzero\" fill-opacity=\"1\" /><path clip-path=\"url(#clip670)\" d=\"M1590.75 27.2059 L1597.76 12.096 L1605.98 12.096 L1594.28 27.2059 L1590.75 27.2059 Z\" fill=\"#000000\" fill-rule=\"nonzero\" fill-opacity=\"1\" /><path clip-path=\"url(#clip670)\" d=\"M1633.69 9.62495 Q1628.26 18.942 1625.63 28.0566 Q1623 37.1711 1623 46.5287 Q1623 55.8863 1625.63 65.0818 Q1628.3 74.2369 1633.69 83.5134 L1627.21 83.5134 Q1621.13 73.9938 1618.09 64.7983 Q1615.1 55.6027 1615.1 46.5287 Q1615.1 37.4952 1618.09 28.3401 Q1621.09 19.1851 1627.21 9.62495 L1633.69 9.62495 Z\" fill=\"#000000\" fill-rule=\"nonzero\" fill-opacity=\"1\" /><path clip-path=\"url(#clip670)\" d=\"M1685.87 27.2059 L1669.46 49.2833 L1686.72 72.576 L1677.93 72.576 L1664.72 54.752 L1651.51 72.576 L1642.72 72.576 L1660.35 48.8377 L1644.22 27.2059 L1653.01 27.2059 L1665.04 43.369 L1677.08 27.2059 L1685.87 27.2059 Z\" fill=\"#000000\" fill-rule=\"nonzero\" fill-opacity=\"1\" /><path clip-path=\"url(#clip670)\" d=\"M1696.07 9.62495 L1702.56 9.62495 Q1708.63 19.1851 1711.63 28.3401 Q1714.67 37.4952 1714.67 46.5287 Q1714.67 55.6027 1711.63 64.7983 Q1708.63 73.9938 1702.56 83.5134 L1696.07 83.5134 Q1701.46 74.2369 1704.1 65.0818 Q1706.77 55.8863 1706.77 46.5287 Q1706.77 37.1711 1704.1 28.0566 Q1701.46 18.942 1696.07 9.62495 Z\" fill=\"#000000\" fill-rule=\"nonzero\" fill-opacity=\"1\" /><polyline clip-path=\"url(#clip672)\" style=\"stroke:#009af9; stroke-linecap:round; stroke-linejoin:round; stroke-width:4; stroke-opacity:1; fill:none\" points=\"301.869,160.256 306.847,165.079 311.825,169.887 316.803,174.68 321.781,179.458 326.759,184.222 331.737,188.97 336.714,193.704 341.692,198.423 346.67,203.127 351.648,207.816 356.626,212.49 361.604,217.149 366.582,221.794 371.56,226.423 376.537,231.038 381.515,235.638 386.493,240.223 391.471,244.793 396.449,249.348 401.427,253.889 406.405,258.414 411.383,262.925 416.36,267.421 421.338,271.902 426.316,276.368 431.294,280.819 436.272,285.256 441.25,289.677 446.228,294.084 451.206,298.476 456.184,302.853 461.161,307.215 466.139,311.562 471.117,315.894 476.095,320.212 481.073,324.514 486.051,328.802 491.029,333.075 496.007,337.333 500.984,341.576 505.962,345.805 510.94,350.018 515.918,354.217 520.896,358.4 525.874,362.569 530.852,366.723 535.83,370.862 540.807,374.987 545.785,379.096 550.763,383.191 555.741,387.27 560.719,391.335 565.697,395.385 570.675,399.42 575.653,403.441 580.631,407.446 585.608,411.437 590.586,415.412 595.564,419.373 600.542,423.319 605.52,427.25 610.498,431.166 615.476,435.068 620.454,438.954 625.431,442.826 630.409,446.682 635.387,450.524 640.365,454.351 645.343,458.164 650.321,461.961 655.299,465.743 660.277,469.511 665.254,473.264 670.232,477.002 675.21,480.725 680.188,484.433 685.166,488.126 690.144,491.804 695.122,495.468 700.1,499.117 705.078,502.75 710.055,506.369 715.033,509.974 720.011,513.563 724.989,517.137 729.967,520.697 734.945,524.241 739.923,527.771 744.901,531.286 749.878,534.786 754.856,538.271 759.834,541.742 764.812,545.197 769.79,548.638 774.768,552.064 779.746,555.474 784.724,558.87 789.701,562.252 794.679,565.618 799.657,568.969 804.635,572.306 809.613,575.628 814.591,578.935 819.569,582.227 824.547,585.504 829.525,588.766 834.502,592.013 839.48,595.246 844.458,598.464 849.436,601.666 854.414,604.854 859.392,608.028 864.37,611.186 869.348,614.329 874.325,617.458 879.303,620.571 884.281,623.67 889.259,626.754 894.237,629.823 899.215,632.877 904.193,635.917 909.171,638.941 914.149,641.951 919.126,644.945 924.104,647.925 929.082,650.89 934.06,653.841 939.038,656.776 944.016,659.696 948.994,662.602 953.972,665.493 958.949,668.368 963.927,671.229 968.905,674.076 973.883,676.907 978.861,679.723 983.839,682.525 988.817,685.311 993.795,688.083 998.772,690.84 1003.75,693.582 1008.73,696.31 1013.71,699.022 1018.68,701.719 1023.66,704.402 1028.64,707.07 1033.62,709.723 1038.6,712.361 1043.57,714.984 1048.55,717.592 1053.53,720.186 1058.51,722.764 1063.48,725.328 1068.46,727.877 1073.44,730.411 1078.42,732.93 1083.4,735.435 1088.37,737.924 1093.35,740.399 1098.33,742.858 1103.31,745.303 1108.29,747.733 1113.26,750.148 1118.24,752.548 1123.22,754.934 1128.2,757.304 1133.18,759.66 1138.15,762.001 1143.13,764.327 1148.11,766.638 1153.09,768.934 1158.06,771.216 1163.04,773.482 1168.02,775.734 1173,777.97 1177.98,780.192 1182.95,782.399 1187.93,784.592 1192.91,786.769 1197.89,788.931 1202.87,791.079 1207.84,793.212 1212.82,795.33 1217.8,797.433 1222.78,799.521 1227.75,801.594 1232.73,803.652 1237.71,805.696 1242.69,807.725 1247.67,809.739 1252.64,811.738 1257.62,813.722 1262.6,815.691 1267.58,817.645 1272.56,819.585 1277.53,821.51 1282.51,823.419 1287.49,825.314 1292.47,827.194 1297.45,829.06 1302.42,830.91 1307.4,832.745 1312.38,834.566 1317.36,836.372 1322.33,838.163 1327.31,839.939 1332.29,841.7 1337.27,843.446 1342.25,845.178 1347.22,846.894 1352.2,848.596 1357.18,850.283 1362.16,851.955 1367.14,853.612 1372.11,855.254 1377.09,856.882 1382.07,858.494 1387.05,860.092 1392.03,861.675 1397,863.243 1401.98,864.796 1406.96,866.334 1411.94,867.858 1416.91,869.366 1421.89,870.86 1426.87,872.339 1431.85,873.803 1436.83,875.252 1441.8,876.686 1446.78,878.105 1451.76,879.51 1456.74,880.899 1461.72,882.274 1466.69,883.634 1471.67,884.979 1476.65,886.309 1481.63,887.624 1486.6,888.925 1491.58,890.211 1496.56,891.481 1501.54,892.737 1506.52,893.978 1511.49,895.204 1516.47,896.416 1521.45,897.612 1526.43,898.793 1531.41,899.96 1536.38,901.112 1541.36,902.249 1546.34,903.371 1551.32,904.478 1556.3,905.571 1561.27,906.648 1566.25,907.711 1571.23,908.759 1576.21,909.792 1581.18,910.81 1586.16,911.813 1591.14,912.801 1596.12,913.775 1601.1,914.733 1606.07,915.677 1611.05,916.606 1616.03,917.52 1621.01,918.419 1625.99,919.303 1630.96,920.173 1635.94,921.027 1640.92,921.867 1645.9,922.692 1650.87,923.502 1655.85,924.297 1660.83,925.077 1665.81,925.843 1670.79,926.593 1675.76,927.329 1680.74,928.05 1685.72,928.756 1690.7,929.447 1695.68,930.123 1700.65,930.785 1705.63,931.431 1710.61,932.063 1715.59,932.68 1720.57,933.281 1725.54,933.868 1730.52,934.441 1735.5,934.998 1740.48,935.541 1745.45,936.068 1750.43,936.581 1755.41,937.079 1760.39,937.562 1765.37,938.03 1770.34,938.483 1775.32,938.922 1780.3,939.345 1785.28,939.754 1790.26,940.148 1795.23,940.527 1800.21,940.891 1805.19,941.24 1810.17,941.575 1815.14,941.894 1820.12,942.199 1825.1,942.489 1830.08,942.764 1835.06,943.024 1840.03,943.269 1845.01,943.499 1849.99,943.715 1854.97,943.915 1859.95,944.101 1864.92,944.272 1869.9,944.428 1874.88,944.569 1879.86,944.696 1884.84,944.807 1889.81,944.904 1894.79,944.985 1899.77,945.052 1904.75,945.104 1909.72,945.142 1914.7,945.164 1919.68,945.171 1924.66,945.164 1929.64,945.142 1934.61,945.104 1939.59,945.052 1944.57,944.985 1949.55,944.904 1954.53,944.807 1959.5,944.696 1964.48,944.569 1969.46,944.428 1974.44,944.272 1979.41,944.101 1984.39,943.915 1989.37,943.715 1994.35,943.499 1999.33,943.269 2004.3,943.024 2009.28,942.764 2014.26,942.489 2019.24,942.199 2024.22,941.894 2029.19,941.575 2034.17,941.24 2039.15,940.891 2044.13,940.527 2049.11,940.148 2054.08,939.754 2059.06,939.345 2064.04,938.922 2069.02,938.483 2073.99,938.03 2078.97,937.562 2083.95,937.079 2088.93,936.581 2093.91,936.068 2098.88,935.541 2103.86,934.998 2108.84,934.441 2113.82,933.868 2118.8,933.281 2123.77,932.68 2128.75,932.063 2133.73,931.431 2138.71,930.785 2143.68,930.123 2148.66,929.447 2153.64,928.756 2158.62,928.05 2163.6,927.329 2168.57,926.593 2173.55,925.843 2178.53,925.077 2183.51,924.297 2188.49,923.502 2193.46,922.692 2198.44,921.867 2203.42,921.027 2208.4,920.173 2213.38,919.303 2218.35,918.419 2223.33,917.52 2228.31,916.606 2233.29,915.677 2238.26,914.733 2243.24,913.775 2248.22,912.801 2253.2,911.813 2258.18,910.81 2263.15,909.792 2268.13,908.759 2273.11,907.711 2278.09,906.648 2283.07,905.571 2288.04,904.478 2293.02,903.371 \"/>\n",
       "<polyline clip-path=\"url(#clip672)\" style=\"stroke:#e26f46; stroke-linecap:round; stroke-linejoin:round; stroke-width:4; stroke-opacity:1; fill:none\" points=\"301.869,1386.4 306.847,1384.91 311.825,1383.42 316.803,1381.94 321.781,1380.45 326.759,1378.96 331.737,1377.48 336.714,1375.99 341.692,1374.51 346.67,1373.02 351.648,1371.53 356.626,1370.05 361.604,1368.56 366.582,1367.07 371.56,1365.59 376.537,1364.1 381.515,1362.62 386.493,1361.13 391.471,1359.64 396.449,1358.16 401.427,1356.67 406.405,1355.18 411.383,1353.7 416.36,1352.21 421.338,1350.73 426.316,1349.24 431.294,1347.75 436.272,1346.27 441.25,1344.78 446.228,1343.3 451.206,1341.81 456.184,1340.32 461.161,1338.84 466.139,1337.35 471.117,1335.86 476.095,1334.38 481.073,1332.89 486.051,1331.41 491.029,1329.92 496.007,1328.43 500.984,1326.95 505.962,1325.46 510.94,1323.97 515.918,1322.49 520.896,1321 525.874,1319.52 530.852,1318.03 535.83,1316.54 540.807,1315.06 545.785,1313.57 550.763,1312.08 555.741,1310.6 560.719,1309.11 565.697,1307.63 570.675,1306.14 575.653,1304.65 580.631,1303.17 585.608,1301.68 590.586,1300.19 595.564,1298.71 600.542,1297.22 605.52,1295.74 610.498,1294.25 615.476,1292.76 620.454,1291.28 625.431,1289.79 630.409,1288.3 635.387,1286.82 640.365,1285.33 645.343,1283.85 650.321,1282.36 655.299,1280.87 660.277,1279.39 665.254,1277.9 670.232,1276.41 675.21,1274.93 680.188,1273.44 685.166,1271.96 690.144,1270.47 695.122,1268.98 700.1,1267.5 705.078,1266.01 710.055,1264.52 715.033,1263.04 720.011,1261.55 724.989,1260.07 729.967,1258.58 734.945,1257.09 739.923,1255.61 744.901,1254.12 749.878,1252.64 754.856,1251.15 759.834,1249.66 764.812,1248.18 769.79,1246.69 774.768,1245.2 779.746,1243.72 784.724,1242.23 789.701,1240.75 794.679,1239.26 799.657,1237.77 804.635,1236.29 809.613,1234.8 814.591,1233.31 819.569,1231.83 824.547,1230.34 829.525,1228.86 834.502,1227.37 839.48,1225.88 844.458,1224.4 849.436,1222.91 854.414,1221.42 859.392,1219.94 864.37,1218.45 869.348,1216.97 874.325,1215.48 879.303,1213.99 884.281,1212.51 889.259,1211.02 894.237,1209.53 899.215,1208.05 904.193,1206.56 909.171,1205.08 914.149,1203.59 919.126,1202.1 924.104,1200.62 929.082,1199.13 934.06,1197.64 939.038,1196.16 944.016,1194.67 948.994,1193.19 953.972,1191.7 958.949,1190.21 963.927,1188.73 968.905,1187.24 973.883,1185.75 978.861,1184.27 983.839,1182.78 988.817,1181.3 993.795,1179.81 998.772,1178.32 1003.75,1176.84 1008.73,1175.35 1013.71,1173.86 1018.68,1172.38 1023.66,1170.89 1028.64,1169.41 1033.62,1167.92 1038.6,1166.43 1043.57,1164.95 1048.55,1163.46 1053.53,1161.98 1058.51,1160.49 1063.48,1159 1068.46,1157.52 1073.44,1156.03 1078.42,1154.54 1083.4,1153.06 1088.37,1151.57 1093.35,1150.09 1098.33,1148.6 1103.31,1147.11 1108.29,1145.63 1113.26,1144.14 1118.24,1142.65 1123.22,1141.17 1128.2,1139.68 1133.18,1138.2 1138.15,1136.71 1143.13,1135.22 1148.11,1133.74 1153.09,1132.25 1158.06,1130.76 1163.04,1129.28 1168.02,1127.79 1173,1126.31 1177.98,1124.82 1182.95,1123.33 1187.93,1121.85 1192.91,1120.36 1197.89,1118.87 1202.87,1117.39 1207.84,1115.9 1212.82,1114.42 1217.8,1112.93 1222.78,1111.44 1227.75,1109.96 1232.73,1108.47 1237.71,1106.98 1242.69,1105.5 1247.67,1104.01 1252.64,1102.53 1257.62,1101.04 1262.6,1099.55 1267.58,1098.07 1272.56,1096.58 1277.53,1095.09 1282.51,1093.61 1287.49,1092.12 1292.47,1090.64 1297.45,1089.15 1302.42,1087.66 1307.4,1086.18 1312.38,1084.69 1317.36,1083.2 1322.33,1081.72 1327.31,1080.23 1332.29,1078.75 1337.27,1077.26 1342.25,1075.77 1347.22,1074.29 1352.2,1072.8 1357.18,1071.32 1362.16,1069.83 1367.14,1068.34 1372.11,1066.86 1377.09,1065.37 1382.07,1063.88 1387.05,1062.4 1392.03,1060.91 1397,1059.43 1401.98,1057.94 1406.96,1056.45 1411.94,1054.97 1416.91,1053.48 1421.89,1051.99 1426.87,1050.51 1431.85,1049.02 1436.83,1047.54 1441.8,1046.05 1446.78,1044.56 1451.76,1043.08 1456.74,1041.59 1461.72,1040.1 1466.69,1038.62 1471.67,1037.13 1476.65,1035.65 1481.63,1034.16 1486.6,1032.67 1491.58,1031.19 1496.56,1029.7 1501.54,1028.21 1506.52,1026.73 1511.49,1025.24 1516.47,1023.76 1521.45,1022.27 1526.43,1020.78 1531.41,1019.3 1536.38,1017.81 1541.36,1016.32 1546.34,1014.84 1551.32,1013.35 1556.3,1011.87 1561.27,1010.38 1566.25,1008.89 1571.23,1007.41 1576.21,1005.92 1581.18,1004.43 1586.16,1002.95 1591.14,1001.46 1596.12,999.976 1601.1,998.49 1606.07,997.004 1611.05,995.517 1616.03,994.031 1621.01,992.545 1625.99,991.059 1630.96,989.572 1635.94,988.086 1640.92,986.6 1645.9,985.114 1650.87,983.627 1655.85,982.141 1660.83,980.655 1665.81,979.169 1670.79,977.683 1675.76,976.196 1680.74,974.71 1685.72,973.224 1690.7,971.738 1695.68,970.251 1700.65,968.765 1705.63,967.279 1710.61,965.793 1715.59,964.306 1720.57,962.82 1725.54,961.334 1730.52,959.848 1735.5,958.362 1740.48,956.875 1745.45,955.389 1750.43,953.903 1755.41,952.417 1760.39,950.93 1765.37,949.444 1770.34,947.958 1775.32,946.472 1780.3,944.985 1785.28,943.499 1790.26,942.013 1795.23,940.527 1800.21,939.041 1805.19,937.554 1810.17,936.068 1815.14,934.582 1820.12,933.096 1825.1,931.609 1830.08,930.123 1835.06,928.637 1840.03,927.151 1845.01,925.665 1849.99,924.178 1854.97,922.692 1859.95,921.206 1864.92,919.72 1869.9,918.233 1874.88,916.747 1879.86,915.261 1884.84,913.775 1889.81,912.288 1894.79,910.802 1899.77,909.316 1904.75,907.83 1909.72,906.344 1914.7,904.857 1919.68,903.371 1924.66,901.885 1929.64,900.399 1934.61,898.912 1939.59,897.426 1944.57,895.94 1949.55,894.454 1954.53,892.967 1959.5,891.481 1964.48,889.995 1969.46,888.509 1974.44,887.023 1979.41,885.536 1984.39,884.05 1989.37,882.564 1994.35,881.078 1999.33,879.591 2004.3,878.105 2009.28,876.619 2014.26,875.133 2019.24,873.646 2024.22,872.16 2029.19,870.674 2034.17,869.188 2039.15,867.702 2044.13,866.215 2049.11,864.729 2054.08,863.243 2059.06,861.757 2064.04,860.27 2069.02,858.784 2073.99,857.298 2078.97,855.812 2083.95,854.325 2088.93,852.839 2093.91,851.353 2098.88,849.867 2103.86,848.381 2108.84,846.894 2113.82,845.408 2118.8,843.922 2123.77,842.436 2128.75,840.949 2133.73,839.463 2138.71,837.977 2143.68,836.491 2148.66,835.005 2153.64,833.518 2158.62,832.032 2163.6,830.546 2168.57,829.06 2173.55,827.573 2178.53,826.087 2183.51,824.601 2188.49,823.115 2193.46,821.628 2198.44,820.142 2203.42,818.656 2208.4,817.17 2213.38,815.684 2218.35,814.197 2223.33,812.711 2228.31,811.225 2233.29,809.739 2238.26,808.252 2243.24,806.766 2248.22,805.28 2253.2,803.794 2258.18,802.307 2263.15,800.821 2268.13,799.335 2273.11,797.849 2278.09,796.363 2283.07,794.876 2288.04,793.39 2293.02,791.904 \"/>\n",
       "<path clip-path=\"url(#clip670)\" d=\"M1973.82 322.316 L2282.4 322.316 L2282.4 166.796 L1973.82 166.796  Z\" fill=\"#ffffff\" fill-rule=\"evenodd\" fill-opacity=\"1\"/>\n",
       "<polyline clip-path=\"url(#clip670)\" style=\"stroke:#000000; stroke-linecap:round; stroke-linejoin:round; stroke-width:4; stroke-opacity:1; fill:none\" points=\"1973.82,322.316 2282.4,322.316 2282.4,166.796 1973.82,166.796 1973.82,322.316 \"/>\n",
       "<polyline clip-path=\"url(#clip670)\" style=\"stroke:#009af9; stroke-linecap:round; stroke-linejoin:round; stroke-width:4; stroke-opacity:1; fill:none\" points=\"1997.27,218.636 2137.98,218.636 \"/>\n",
       "<path clip-path=\"url(#clip670)\" d=\"M2165.71 232.027 L2165.71 245.777 L2161.43 245.777 L2161.43 209.99 L2165.71 209.99 L2165.71 213.925 Q2167.05 211.61 2169.09 210.499 Q2171.15 209.365 2174 209.365 Q2178.72 209.365 2181.66 213.115 Q2184.62 216.865 2184.62 222.976 Q2184.62 229.087 2181.66 232.837 Q2178.72 236.587 2174 236.587 Q2171.15 236.587 2169.09 235.476 Q2167.05 234.342 2165.71 232.027 M2180.2 222.976 Q2180.2 218.277 2178.26 215.615 Q2176.34 212.93 2172.96 212.93 Q2169.58 212.93 2167.63 215.615 Q2165.71 218.277 2165.71 222.976 Q2165.71 227.675 2167.63 230.36 Q2169.58 233.022 2172.96 233.022 Q2176.34 233.022 2178.26 230.36 Q2180.2 227.675 2180.2 222.976 Z\" fill=\"#000000\" fill-rule=\"nonzero\" fill-opacity=\"1\" /><path clip-path=\"url(#clip670)\" d=\"M2201.91 199.944 Q2198.81 205.268 2197.31 210.476 Q2195.8 215.684 2195.8 221.032 Q2195.8 226.379 2197.31 231.633 Q2198.84 236.865 2201.91 242.166 L2198.21 242.166 Q2194.74 236.726 2193 231.471 Q2191.29 226.217 2191.29 221.032 Q2191.29 215.87 2193 210.638 Q2194.71 205.407 2198.21 199.944 L2201.91 199.944 Z\" fill=\"#000000\" fill-rule=\"nonzero\" fill-opacity=\"1\" /><path clip-path=\"url(#clip670)\" d=\"M2231.73 209.99 L2222.35 222.606 L2232.21 235.916 L2227.19 235.916 L2219.65 225.731 L2212.1 235.916 L2207.08 235.916 L2217.15 222.351 L2207.93 209.99 L2212.96 209.99 L2219.83 219.226 L2226.71 209.99 L2231.73 209.99 Z\" fill=\"#000000\" fill-rule=\"nonzero\" fill-opacity=\"1\" /><path clip-path=\"url(#clip670)\" d=\"M2237.56 199.944 L2241.27 199.944 Q2244.74 205.407 2246.45 210.638 Q2248.19 215.87 2248.19 221.032 Q2248.19 226.217 2246.45 231.471 Q2244.74 236.726 2241.27 242.166 L2237.56 242.166 Q2240.64 236.865 2242.15 231.633 Q2243.67 226.379 2243.67 221.032 Q2243.67 215.684 2242.15 210.476 Q2240.64 205.268 2237.56 199.944 Z\" fill=\"#000000\" fill-rule=\"nonzero\" fill-opacity=\"1\" /><polyline clip-path=\"url(#clip670)\" style=\"stroke:#e26f46; stroke-linecap:round; stroke-linejoin:round; stroke-width:4; stroke-opacity:1; fill:none\" points=\"1997.27,270.476 2137.98,270.476 \"/>\n",
       "<path clip-path=\"url(#clip670)\" d=\"M2165.71 283.867 L2165.71 297.617 L2161.43 297.617 L2161.43 261.83 L2165.71 261.83 L2165.71 265.765 Q2167.05 263.45 2169.09 262.339 Q2171.15 261.205 2174 261.205 Q2178.72 261.205 2181.66 264.955 Q2184.62 268.705 2184.62 274.816 Q2184.62 280.927 2181.66 284.677 Q2178.72 288.427 2174 288.427 Q2171.15 288.427 2169.09 287.316 Q2167.05 286.182 2165.71 283.867 M2180.2 274.816 Q2180.2 270.117 2178.26 267.455 Q2176.34 264.77 2172.96 264.77 Q2169.58 264.77 2167.63 267.455 Q2165.71 270.117 2165.71 274.816 Q2165.71 279.515 2167.63 282.2 Q2169.58 284.862 2172.96 284.862 Q2176.34 284.862 2178.26 282.2 Q2180.2 279.515 2180.2 274.816 Z\" fill=\"#000000\" fill-rule=\"nonzero\" fill-opacity=\"1\" /><path clip-path=\"url(#clip670)\" d=\"M2188.14 261.83 L2192.15 253.196 L2196.84 253.196 L2190.15 261.83 L2188.14 261.83 Z\" fill=\"#000000\" fill-rule=\"nonzero\" fill-opacity=\"1\" /><path clip-path=\"url(#clip670)\" d=\"M2212.68 251.784 Q2209.58 257.108 2208.07 262.316 Q2206.57 267.524 2206.57 272.872 Q2206.57 278.219 2208.07 283.473 Q2209.6 288.705 2212.68 294.006 L2208.97 294.006 Q2205.5 288.566 2203.77 283.311 Q2202.05 278.057 2202.05 272.872 Q2202.05 267.71 2203.77 262.478 Q2205.48 257.247 2208.97 251.784 L2212.68 251.784 Z\" fill=\"#000000\" fill-rule=\"nonzero\" fill-opacity=\"1\" /><path clip-path=\"url(#clip670)\" d=\"M2242.49 261.83 L2233.12 274.446 L2242.98 287.756 L2237.96 287.756 L2230.41 277.571 L2222.86 287.756 L2217.84 287.756 L2227.91 274.191 L2218.7 261.83 L2223.72 261.83 L2230.59 271.066 L2237.47 261.83 L2242.49 261.83 Z\" fill=\"#000000\" fill-rule=\"nonzero\" fill-opacity=\"1\" /><path clip-path=\"url(#clip670)\" d=\"M2248.33 251.784 L2252.03 251.784 Q2255.5 257.247 2257.21 262.478 Q2258.95 267.71 2258.95 272.872 Q2258.95 278.057 2257.21 283.311 Q2255.5 288.566 2252.03 294.006 L2248.33 294.006 Q2251.4 288.705 2252.91 283.473 Q2254.44 278.219 2254.44 272.872 Q2254.44 267.524 2252.91 262.316 Q2251.4 257.108 2248.33 251.784 Z\" fill=\"#000000\" fill-rule=\"nonzero\" fill-opacity=\"1\" /></svg>\n"
      ],
      "text/html": [
       "<?xml version=\"1.0\" encoding=\"utf-8\"?>\n",
       "<svg xmlns=\"http://www.w3.org/2000/svg\" xmlns:xlink=\"http://www.w3.org/1999/xlink\" width=\"600\" height=\"400\" viewBox=\"0 0 2400 1600\">\n",
       "<defs>\n",
       "  <clipPath id=\"clip720\">\n",
       "    <rect x=\"0\" y=\"0\" width=\"2400\" height=\"1600\"/>\n",
       "  </clipPath>\n",
       "</defs>\n",
       "<path clip-path=\"url(#clip720)\" d=\"M0 1600 L2400 1600 L2400 0 L0 0  Z\" fill=\"#ffffff\" fill-rule=\"evenodd\" fill-opacity=\"1\"/>\n",
       "<defs>\n",
       "  <clipPath id=\"clip721\">\n",
       "    <rect x=\"480\" y=\"0\" width=\"1681\" height=\"1600\"/>\n",
       "  </clipPath>\n",
       "</defs>\n",
       "<path clip-path=\"url(#clip720)\" d=\"M242.135 1423.18 L2352.76 1423.18 L2352.76 123.472 L242.135 123.472  Z\" fill=\"#ffffff\" fill-rule=\"evenodd\" fill-opacity=\"1\"/>\n",
       "<defs>\n",
       "  <clipPath id=\"clip722\">\n",
       "    <rect x=\"242\" y=\"123\" width=\"2112\" height=\"1301\"/>\n",
       "  </clipPath>\n",
       "</defs>\n",
       "<polyline clip-path=\"url(#clip722)\" style=\"stroke:#000000; stroke-linecap:round; stroke-linejoin:round; stroke-width:2; stroke-opacity:0.1; fill:none\" points=\"301.869,1423.18 301.869,123.472 \"/>\n",
       "<polyline clip-path=\"url(#clip722)\" style=\"stroke:#000000; stroke-linecap:round; stroke-linejoin:round; stroke-width:2; stroke-opacity:0.1; fill:none\" points=\"799.657,1423.18 799.657,123.472 \"/>\n",
       "<polyline clip-path=\"url(#clip722)\" style=\"stroke:#000000; stroke-linecap:round; stroke-linejoin:round; stroke-width:2; stroke-opacity:0.1; fill:none\" points=\"1297.45,1423.18 1297.45,123.472 \"/>\n",
       "<polyline clip-path=\"url(#clip722)\" style=\"stroke:#000000; stroke-linecap:round; stroke-linejoin:round; stroke-width:2; stroke-opacity:0.1; fill:none\" points=\"1795.23,1423.18 1795.23,123.472 \"/>\n",
       "<polyline clip-path=\"url(#clip722)\" style=\"stroke:#000000; stroke-linecap:round; stroke-linejoin:round; stroke-width:2; stroke-opacity:0.1; fill:none\" points=\"2293.02,1423.18 2293.02,123.472 \"/>\n",
       "<polyline clip-path=\"url(#clip720)\" style=\"stroke:#000000; stroke-linecap:round; stroke-linejoin:round; stroke-width:4; stroke-opacity:1; fill:none\" points=\"242.135,1423.18 2352.76,1423.18 \"/>\n",
       "<polyline clip-path=\"url(#clip720)\" style=\"stroke:#000000; stroke-linecap:round; stroke-linejoin:round; stroke-width:4; stroke-opacity:1; fill:none\" points=\"301.869,1423.18 301.869,1404.28 \"/>\n",
       "<polyline clip-path=\"url(#clip720)\" style=\"stroke:#000000; stroke-linecap:round; stroke-linejoin:round; stroke-width:4; stroke-opacity:1; fill:none\" points=\"799.657,1423.18 799.657,1404.28 \"/>\n",
       "<polyline clip-path=\"url(#clip720)\" style=\"stroke:#000000; stroke-linecap:round; stroke-linejoin:round; stroke-width:4; stroke-opacity:1; fill:none\" points=\"1297.45,1423.18 1297.45,1404.28 \"/>\n",
       "<polyline clip-path=\"url(#clip720)\" style=\"stroke:#000000; stroke-linecap:round; stroke-linejoin:round; stroke-width:4; stroke-opacity:1; fill:none\" points=\"1795.23,1423.18 1795.23,1404.28 \"/>\n",
       "<polyline clip-path=\"url(#clip720)\" style=\"stroke:#000000; stroke-linecap:round; stroke-linejoin:round; stroke-width:4; stroke-opacity:1; fill:none\" points=\"2293.02,1423.18 2293.02,1404.28 \"/>\n",
       "<path clip-path=\"url(#clip720)\" d=\"M271.812 1468.75 L301.487 1468.75 L301.487 1472.69 L271.812 1472.69 L271.812 1468.75 Z\" fill=\"#000000\" fill-rule=\"nonzero\" fill-opacity=\"1\" /><path clip-path=\"url(#clip720)\" d=\"M315.608 1481.64 L331.927 1481.64 L331.927 1485.58 L309.983 1485.58 L309.983 1481.64 Q312.645 1478.89 317.228 1474.26 Q321.834 1469.61 323.015 1468.27 Q325.26 1465.74 326.14 1464.01 Q327.043 1462.25 327.043 1460.56 Q327.043 1457.8 325.098 1456.07 Q323.177 1454.33 320.075 1454.33 Q317.876 1454.33 315.422 1455.09 Q312.992 1455.86 310.214 1457.41 L310.214 1452.69 Q313.038 1451.55 315.492 1450.97 Q317.946 1450.39 319.983 1450.39 Q325.353 1450.39 328.547 1453.08 Q331.742 1455.77 331.742 1460.26 Q331.742 1462.39 330.932 1464.31 Q330.145 1466.2 328.038 1468.8 Q327.459 1469.47 324.358 1472.69 Q321.256 1475.88 315.608 1481.64 Z\" fill=\"#000000\" fill-rule=\"nonzero\" fill-opacity=\"1\" /><path clip-path=\"url(#clip720)\" d=\"M769.414 1468.75 L799.09 1468.75 L799.09 1472.69 L769.414 1472.69 L769.414 1468.75 Z\" fill=\"#000000\" fill-rule=\"nonzero\" fill-opacity=\"1\" /><path clip-path=\"url(#clip720)\" d=\"M809.993 1481.64 L817.632 1481.64 L817.632 1455.28 L809.322 1456.95 L809.322 1452.69 L817.585 1451.02 L822.261 1451.02 L822.261 1481.64 L829.9 1481.64 L829.9 1485.58 L809.993 1485.58 L809.993 1481.64 Z\" fill=\"#000000\" fill-rule=\"nonzero\" fill-opacity=\"1\" /><path clip-path=\"url(#clip720)\" d=\"M1297.45 1454.1 Q1293.83 1454.1 1292.01 1457.66 Q1290.2 1461.2 1290.2 1468.33 Q1290.2 1475.44 1292.01 1479.01 Q1293.83 1482.55 1297.45 1482.55 Q1301.08 1482.55 1302.89 1479.01 Q1304.71 1475.44 1304.71 1468.33 Q1304.71 1461.2 1302.89 1457.66 Q1301.08 1454.1 1297.45 1454.1 M1297.45 1450.39 Q1303.26 1450.39 1306.31 1455 Q1309.39 1459.58 1309.39 1468.33 Q1309.39 1477.06 1306.31 1481.67 Q1303.26 1486.25 1297.45 1486.25 Q1291.64 1486.25 1288.56 1481.67 Q1285.5 1477.06 1285.5 1468.33 Q1285.5 1459.58 1288.56 1455 Q1291.64 1450.39 1297.45 1450.39 Z\" fill=\"#000000\" fill-rule=\"nonzero\" fill-opacity=\"1\" /><path clip-path=\"url(#clip720)\" d=\"M1785.62 1481.64 L1793.25 1481.64 L1793.25 1455.28 L1784.94 1456.95 L1784.94 1452.69 L1793.21 1451.02 L1797.88 1451.02 L1797.88 1481.64 L1805.52 1481.64 L1805.52 1485.58 L1785.62 1485.58 L1785.62 1481.64 Z\" fill=\"#000000\" fill-rule=\"nonzero\" fill-opacity=\"1\" /><path clip-path=\"url(#clip720)\" d=\"M2287.67 1481.64 L2303.99 1481.64 L2303.99 1485.58 L2282.05 1485.58 L2282.05 1481.64 Q2284.71 1478.89 2289.29 1474.26 Q2293.9 1469.61 2295.08 1468.27 Q2297.33 1465.74 2298.21 1464.01 Q2299.11 1462.25 2299.11 1460.56 Q2299.11 1457.8 2297.16 1456.07 Q2295.24 1454.33 2292.14 1454.33 Q2289.94 1454.33 2287.49 1455.09 Q2285.06 1455.86 2282.28 1457.41 L2282.28 1452.69 Q2285.1 1451.55 2287.56 1450.97 Q2290.01 1450.39 2292.05 1450.39 Q2297.42 1450.39 2300.61 1453.08 Q2303.81 1455.77 2303.81 1460.26 Q2303.81 1462.39 2303 1464.31 Q2302.21 1466.2 2300.1 1468.8 Q2299.53 1469.47 2296.42 1472.69 Q2293.32 1475.88 2287.67 1481.64 Z\" fill=\"#000000\" fill-rule=\"nonzero\" fill-opacity=\"1\" /><path clip-path=\"url(#clip720)\" d=\"M1314.06 1532.4 L1301.17 1549.74 L1314.73 1568.04 L1307.82 1568.04 L1297.45 1554.04 L1287.07 1568.04 L1280.16 1568.04 L1294.01 1549.39 L1281.34 1532.4 L1288.25 1532.4 L1297.7 1545.1 L1307.15 1532.4 L1314.06 1532.4 Z\" fill=\"#000000\" fill-rule=\"nonzero\" fill-opacity=\"1\" /><polyline clip-path=\"url(#clip722)\" style=\"stroke:#000000; stroke-linecap:round; stroke-linejoin:round; stroke-width:2; stroke-opacity:0.1; fill:none\" points=\"242.135,1274.93 2352.76,1274.93 \"/>\n",
       "<polyline clip-path=\"url(#clip722)\" style=\"stroke:#000000; stroke-linecap:round; stroke-linejoin:round; stroke-width:2; stroke-opacity:0.1; fill:none\" points=\"242.135,903.371 2352.76,903.371 \"/>\n",
       "<polyline clip-path=\"url(#clip722)\" style=\"stroke:#000000; stroke-linecap:round; stroke-linejoin:round; stroke-width:2; stroke-opacity:0.1; fill:none\" points=\"242.135,531.814 2352.76,531.814 \"/>\n",
       "<polyline clip-path=\"url(#clip722)\" style=\"stroke:#000000; stroke-linecap:round; stroke-linejoin:round; stroke-width:2; stroke-opacity:0.1; fill:none\" points=\"242.135,160.256 2352.76,160.256 \"/>\n",
       "<polyline clip-path=\"url(#clip720)\" style=\"stroke:#000000; stroke-linecap:round; stroke-linejoin:round; stroke-width:4; stroke-opacity:1; fill:none\" points=\"242.135,1423.18 242.135,123.472 \"/>\n",
       "<polyline clip-path=\"url(#clip720)\" style=\"stroke:#000000; stroke-linecap:round; stroke-linejoin:round; stroke-width:4; stroke-opacity:1; fill:none\" points=\"242.135,1274.93 261.032,1274.93 \"/>\n",
       "<polyline clip-path=\"url(#clip720)\" style=\"stroke:#000000; stroke-linecap:round; stroke-linejoin:round; stroke-width:4; stroke-opacity:1; fill:none\" points=\"242.135,903.371 261.032,903.371 \"/>\n",
       "<polyline clip-path=\"url(#clip720)\" style=\"stroke:#000000; stroke-linecap:round; stroke-linejoin:round; stroke-width:4; stroke-opacity:1; fill:none\" points=\"242.135,531.814 261.032,531.814 \"/>\n",
       "<polyline clip-path=\"url(#clip720)\" style=\"stroke:#000000; stroke-linecap:round; stroke-linejoin:round; stroke-width:4; stroke-opacity:1; fill:none\" points=\"242.135,160.256 261.032,160.256 \"/>\n",
       "<path clip-path=\"url(#clip720)\" d=\"M114.26 1275.38 L143.936 1275.38 L143.936 1279.31 L114.26 1279.31 L114.26 1275.38 Z\" fill=\"#000000\" fill-rule=\"nonzero\" fill-opacity=\"1\" /><path clip-path=\"url(#clip720)\" d=\"M154.839 1288.27 L162.477 1288.27 L162.477 1261.91 L154.167 1263.57 L154.167 1259.32 L162.431 1257.65 L167.107 1257.65 L167.107 1288.27 L174.746 1288.27 L174.746 1292.21 L154.839 1292.21 L154.839 1288.27 Z\" fill=\"#000000\" fill-rule=\"nonzero\" fill-opacity=\"1\" /><path clip-path=\"url(#clip720)\" d=\"M194.19 1260.73 Q190.579 1260.73 188.75 1264.29 Q186.945 1267.83 186.945 1274.96 Q186.945 1282.07 188.75 1285.63 Q190.579 1289.18 194.19 1289.18 Q197.825 1289.18 199.63 1285.63 Q201.459 1282.07 201.459 1274.96 Q201.459 1267.83 199.63 1264.29 Q197.825 1260.73 194.19 1260.73 M194.19 1257.02 Q200 1257.02 203.056 1261.63 Q206.135 1266.21 206.135 1274.96 Q206.135 1283.69 203.056 1288.3 Q200 1292.88 194.19 1292.88 Q188.38 1292.88 185.301 1288.3 Q182.246 1283.69 182.246 1274.96 Q182.246 1266.21 185.301 1261.63 Q188.38 1257.02 194.19 1257.02 Z\" fill=\"#000000\" fill-rule=\"nonzero\" fill-opacity=\"1\" /><path clip-path=\"url(#clip720)\" d=\"M194.19 889.17 Q190.579 889.17 188.75 892.735 Q186.945 896.276 186.945 903.406 Q186.945 910.512 188.75 914.077 Q190.579 917.619 194.19 917.619 Q197.825 917.619 199.63 914.077 Q201.459 910.512 201.459 903.406 Q201.459 896.276 199.63 892.735 Q197.825 889.17 194.19 889.17 M194.19 885.466 Q200 885.466 203.056 890.073 Q206.135 894.656 206.135 903.406 Q206.135 912.133 203.056 916.739 Q200 921.322 194.19 921.322 Q188.38 921.322 185.301 916.739 Q182.246 912.133 182.246 903.406 Q182.246 894.656 185.301 890.073 Q188.38 885.466 194.19 885.466 Z\" fill=\"#000000\" fill-rule=\"nonzero\" fill-opacity=\"1\" /><path clip-path=\"url(#clip720)\" d=\"M154.839 545.159 L162.477 545.159 L162.477 518.793 L154.167 520.46 L154.167 516.2 L162.431 514.534 L167.107 514.534 L167.107 545.159 L174.746 545.159 L174.746 549.094 L154.839 549.094 L154.839 545.159 Z\" fill=\"#000000\" fill-rule=\"nonzero\" fill-opacity=\"1\" /><path clip-path=\"url(#clip720)\" d=\"M194.19 517.612 Q190.579 517.612 188.75 521.177 Q186.945 524.719 186.945 531.848 Q186.945 538.955 188.75 542.52 Q190.579 546.061 194.19 546.061 Q197.825 546.061 199.63 542.52 Q201.459 538.955 201.459 531.848 Q201.459 524.719 199.63 521.177 Q197.825 517.612 194.19 517.612 M194.19 513.909 Q200 513.909 203.056 518.515 Q206.135 523.098 206.135 531.848 Q206.135 540.575 203.056 545.182 Q200 549.765 194.19 549.765 Q188.38 549.765 185.301 545.182 Q182.246 540.575 182.246 531.848 Q182.246 523.098 185.301 518.515 Q188.38 513.909 194.19 513.909 Z\" fill=\"#000000\" fill-rule=\"nonzero\" fill-opacity=\"1\" /><path clip-path=\"url(#clip720)\" d=\"M158.056 173.601 L174.376 173.601 L174.376 177.536 L152.431 177.536 L152.431 173.601 Q155.093 170.847 159.677 166.217 Q164.283 161.564 165.464 160.222 Q167.709 157.698 168.589 155.962 Q169.491 154.203 169.491 152.513 Q169.491 149.759 167.547 148.023 Q165.626 146.286 162.524 146.286 Q160.325 146.286 157.871 147.05 Q155.44 147.814 152.663 149.365 L152.663 144.643 Q155.487 143.509 157.94 142.93 Q160.394 142.351 162.431 142.351 Q167.802 142.351 170.996 145.036 Q174.19 147.722 174.19 152.212 Q174.19 154.342 173.38 156.263 Q172.593 158.161 170.487 160.754 Q169.908 161.425 166.806 164.643 Q163.704 167.837 158.056 173.601 Z\" fill=\"#000000\" fill-rule=\"nonzero\" fill-opacity=\"1\" /><path clip-path=\"url(#clip720)\" d=\"M194.19 146.055 Q190.579 146.055 188.75 149.62 Q186.945 153.161 186.945 160.291 Q186.945 167.397 188.75 170.962 Q190.579 174.504 194.19 174.504 Q197.825 174.504 199.63 170.962 Q201.459 167.397 201.459 160.291 Q201.459 153.161 199.63 149.62 Q197.825 146.055 194.19 146.055 M194.19 142.351 Q200 142.351 203.056 146.958 Q206.135 151.541 206.135 160.291 Q206.135 169.018 203.056 173.624 Q200 178.208 194.19 178.208 Q188.38 178.208 185.301 173.624 Q182.246 169.018 182.246 160.291 Q182.246 151.541 185.301 146.958 Q188.38 142.351 194.19 142.351 Z\" fill=\"#000000\" fill-rule=\"nonzero\" fill-opacity=\"1\" /><path clip-path=\"url(#clip720)\" d=\"M67.3143 771.639 Q73.68 774.122 75.6216 776.477 Q77.5631 778.832 77.5631 782.779 L77.5631 787.458 L72.6615 787.458 L72.6615 784.02 Q72.6615 781.601 71.5157 780.265 Q70.3699 778.928 66.1048 777.305 L63.4312 776.254 L28.3562 790.673 L28.3562 784.466 L56.238 773.326 L28.3562 762.186 L28.3562 755.979 L67.3143 771.639 Z\" fill=\"#000000\" fill-rule=\"nonzero\" fill-opacity=\"1\" /><path clip-path=\"url(#clip720)\" d=\"M888.405 18.8205 L888.405 41.5461 L898.695 41.5461 Q904.406 41.5461 907.525 38.5889 Q910.645 35.6318 910.645 30.163 Q910.645 24.7348 907.525 21.7777 Q904.406 18.8205 898.695 18.8205 L888.405 18.8205 M880.222 12.096 L898.695 12.096 Q908.862 12.096 914.047 16.714 Q919.273 21.2916 919.273 30.163 Q919.273 39.1155 914.047 43.6931 Q908.862 48.2706 898.695 48.2706 L888.405 48.2706 L888.405 72.576 L880.222 72.576 L880.222 12.096 Z\" fill=\"#000000\" fill-rule=\"nonzero\" fill-opacity=\"1\" /><path clip-path=\"url(#clip720)\" d=\"M929.927 9.54393 L937.381 9.54393 L937.381 72.576 L929.927 72.576 L929.927 9.54393 Z\" fill=\"#000000\" fill-rule=\"nonzero\" fill-opacity=\"1\" /><path clip-path=\"url(#clip720)\" d=\"M970.558 32.4315 Q964.562 32.4315 961.078 37.1306 Q957.595 41.7891 957.595 49.9314 Q957.595 58.0738 961.038 62.7728 Q964.522 67.4314 970.558 67.4314 Q976.512 67.4314 979.996 62.7323 Q983.48 58.0333 983.48 49.9314 Q983.48 41.8701 979.996 37.1711 Q976.512 32.4315 970.558 32.4315 M970.558 26.1121 Q980.28 26.1121 985.829 32.4315 Q991.379 38.7509 991.379 49.9314 Q991.379 61.0714 985.829 67.4314 Q980.28 73.7508 970.558 73.7508 Q960.795 73.7508 955.245 67.4314 Q949.736 61.0714 949.736 49.9314 Q949.736 38.7509 955.245 32.4315 Q960.795 26.1121 970.558 26.1121 Z\" fill=\"#000000\" fill-rule=\"nonzero\" fill-opacity=\"1\" /><path clip-path=\"url(#clip720)\" d=\"M1011.11 14.324 L1011.11 27.2059 L1026.46 27.2059 L1026.46 32.9987 L1011.11 32.9987 L1011.11 57.6282 Q1011.11 63.1779 1012.61 64.7578 Q1014.15 66.3376 1018.8 66.3376 L1026.46 66.3376 L1026.46 72.576 L1018.8 72.576 Q1010.18 72.576 1006.89 69.3758 Q1003.61 66.1351 1003.61 57.6282 L1003.61 32.9987 L998.144 32.9987 L998.144 27.2059 L1003.61 27.2059 L1003.61 14.324 L1011.11 14.324 Z\" fill=\"#000000\" fill-rule=\"nonzero\" fill-opacity=\"1\" /><path clip-path=\"url(#clip720)\" d=\"M1080.22 32.4315 Q1074.22 32.4315 1070.74 37.1306 Q1067.25 41.7891 1067.25 49.9314 Q1067.25 58.0738 1070.7 62.7728 Q1074.18 67.4314 1080.22 67.4314 Q1086.17 67.4314 1089.65 62.7323 Q1093.14 58.0333 1093.14 49.9314 Q1093.14 41.8701 1089.65 37.1711 Q1086.17 32.4315 1080.22 32.4315 M1080.22 26.1121 Q1089.94 26.1121 1095.49 32.4315 Q1101.04 38.7509 1101.04 49.9314 Q1101.04 61.0714 1095.49 67.4314 Q1089.94 73.7508 1080.22 73.7508 Q1070.45 73.7508 1064.9 67.4314 Q1059.39 61.0714 1059.39 49.9314 Q1059.39 38.7509 1064.9 32.4315 Q1070.45 26.1121 1080.22 26.1121 Z\" fill=\"#000000\" fill-rule=\"nonzero\" fill-opacity=\"1\" /><path clip-path=\"url(#clip720)\" d=\"M1136.36 9.54393 L1136.36 15.7418 L1129.23 15.7418 Q1125.22 15.7418 1123.64 17.3622 Q1122.1 18.9825 1122.1 23.1955 L1122.1 27.2059 L1134.38 27.2059 L1134.38 32.9987 L1122.1 32.9987 L1122.1 72.576 L1114.61 72.576 L1114.61 32.9987 L1107.48 32.9987 L1107.48 27.2059 L1114.61 27.2059 L1114.61 24.0462 Q1114.61 16.471 1118.13 13.0277 Q1121.66 9.54393 1129.31 9.54393 L1136.36 9.54393 Z\" fill=\"#000000\" fill-rule=\"nonzero\" fill-opacity=\"1\" /><path clip-path=\"url(#clip720)\" d=\"M1176.18 65.7705 L1176.18 89.8329 L1168.69 89.8329 L1168.69 27.2059 L1176.18 27.2059 L1176.18 34.0924 Q1178.53 30.0415 1182.1 28.0971 Q1185.7 26.1121 1190.68 26.1121 Q1198.95 26.1121 1204.09 32.6746 Q1209.28 39.2371 1209.28 49.9314 Q1209.28 60.6258 1204.09 67.1883 Q1198.95 73.7508 1190.68 73.7508 Q1185.7 73.7508 1182.1 71.8063 Q1178.53 69.8214 1176.18 65.7705 M1201.54 49.9314 Q1201.54 41.7081 1198.14 37.0496 Q1194.78 32.3505 1188.86 32.3505 Q1182.95 32.3505 1179.54 37.0496 Q1176.18 41.7081 1176.18 49.9314 Q1176.18 58.1548 1179.54 62.8538 Q1182.95 67.5124 1188.86 67.5124 Q1194.78 67.5124 1198.14 62.8538 Q1201.54 58.1548 1201.54 49.9314 Z\" fill=\"#000000\" fill-rule=\"nonzero\" fill-opacity=\"1\" /><path clip-path=\"url(#clip720)\" d=\"M1239.54 9.62495 Q1234.11 18.942 1231.48 28.0566 Q1228.84 37.1711 1228.84 46.5287 Q1228.84 55.8863 1231.48 65.0818 Q1234.15 74.2369 1239.54 83.5134 L1233.06 83.5134 Q1226.98 73.9938 1223.94 64.7983 Q1220.94 55.6027 1220.94 46.5287 Q1220.94 37.4952 1223.94 28.3401 Q1226.94 19.1851 1233.06 9.62495 L1239.54 9.62495 Z\" fill=\"#000000\" fill-rule=\"nonzero\" fill-opacity=\"1\" /><path clip-path=\"url(#clip720)\" d=\"M1291.71 27.2059 L1275.31 49.2833 L1292.56 72.576 L1283.77 72.576 L1270.57 54.752 L1257.36 72.576 L1248.57 72.576 L1266.19 48.8377 L1250.07 27.2059 L1258.86 27.2059 L1270.89 43.369 L1282.92 27.2059 L1291.71 27.2059 Z\" fill=\"#000000\" fill-rule=\"nonzero\" fill-opacity=\"1\" /><path clip-path=\"url(#clip720)\" d=\"M1301.92 9.62495 L1308.4 9.62495 Q1314.48 19.1851 1317.48 28.3401 Q1320.52 37.4952 1320.52 46.5287 Q1320.52 55.6027 1317.48 64.7983 Q1314.48 73.9938 1308.4 83.5134 L1301.92 83.5134 Q1307.31 74.2369 1309.94 65.0818 Q1312.62 55.8863 1312.62 46.5287 Q1312.62 37.1711 1309.94 28.0566 Q1307.31 18.942 1301.92 9.62495 Z\" fill=\"#000000\" fill-rule=\"nonzero\" fill-opacity=\"1\" /><path clip-path=\"url(#clip720)\" d=\"M1382.45 49.7694 Q1373.42 49.7694 1369.94 51.8354 Q1366.45 53.9013 1366.45 58.8839 Q1366.45 62.8538 1369.05 65.2034 Q1371.68 67.5124 1376.17 67.5124 Q1382.37 67.5124 1386.1 63.1374 Q1389.87 58.7219 1389.87 51.4303 L1389.87 49.7694 L1382.45 49.7694 M1397.32 46.6907 L1397.32 72.576 L1389.87 72.576 L1389.87 65.6895 Q1387.31 69.8214 1383.51 71.8063 Q1379.7 73.7508 1374.19 73.7508 Q1367.22 73.7508 1363.09 69.8619 Q1359 65.9325 1359 59.3701 Q1359 51.7138 1364.1 47.825 Q1369.25 43.9361 1379.42 43.9361 L1389.87 43.9361 L1389.87 43.2069 Q1389.87 38.0623 1386.46 35.2672 Q1383.1 32.4315 1376.98 32.4315 Q1373.1 32.4315 1369.41 33.3632 Q1365.72 34.295 1362.32 36.1584 L1362.32 29.2718 Q1366.41 27.692 1370.26 26.9223 Q1374.11 26.1121 1377.75 26.1121 Q1387.6 26.1121 1392.46 31.2163 Q1397.32 36.3204 1397.32 46.6907 Z\" fill=\"#000000\" fill-rule=\"nonzero\" fill-opacity=\"1\" /><path clip-path=\"url(#clip720)\" d=\"M1450.39 45.1919 L1450.39 72.576 L1442.93 72.576 L1442.93 45.4349 Q1442.93 38.994 1440.42 35.7938 Q1437.91 32.5936 1432.89 32.5936 Q1426.85 32.5936 1423.37 36.4419 Q1419.88 40.2903 1419.88 46.9338 L1419.88 72.576 L1412.39 72.576 L1412.39 27.2059 L1419.88 27.2059 L1419.88 34.2544 Q1422.56 30.163 1426.16 28.1376 Q1429.81 26.1121 1434.55 26.1121 Q1442.37 26.1121 1446.38 30.9732 Q1450.39 35.7938 1450.39 45.1919 Z\" fill=\"#000000\" fill-rule=\"nonzero\" fill-opacity=\"1\" /><path clip-path=\"url(#clip720)\" d=\"M1495.11 34.0924 L1495.11 9.54393 L1502.56 9.54393 L1502.56 72.576 L1495.11 72.576 L1495.11 65.7705 Q1492.76 69.8214 1489.15 71.8063 Q1485.59 73.7508 1480.57 73.7508 Q1472.34 73.7508 1467.16 67.1883 Q1462.01 60.6258 1462.01 49.9314 Q1462.01 39.2371 1467.16 32.6746 Q1472.34 26.1121 1480.57 26.1121 Q1485.59 26.1121 1489.15 28.0971 Q1492.76 30.0415 1495.11 34.0924 M1469.71 49.9314 Q1469.71 58.1548 1473.07 62.8538 Q1476.47 67.5124 1482.39 67.5124 Q1488.3 67.5124 1491.71 62.8538 Q1495.11 58.1548 1495.11 49.9314 Q1495.11 41.7081 1491.71 37.0496 Q1488.3 32.3505 1482.39 32.3505 Q1476.47 32.3505 1473.07 37.0496 Q1469.71 41.7081 1469.71 49.9314 Z\" fill=\"#000000\" fill-rule=\"nonzero\" fill-opacity=\"1\" /><path clip-path=\"url(#clip720)\" d=\"M1551.5 65.7705 L1551.5 89.8329 L1544 89.8329 L1544 27.2059 L1551.5 27.2059 L1551.5 34.0924 Q1553.85 30.0415 1557.41 28.0971 Q1561.02 26.1121 1566 26.1121 Q1574.26 26.1121 1579.41 32.6746 Q1584.59 39.2371 1584.59 49.9314 Q1584.59 60.6258 1579.41 67.1883 Q1574.26 73.7508 1566 73.7508 Q1561.02 73.7508 1557.41 71.8063 Q1553.85 69.8214 1551.5 65.7705 M1576.86 49.9314 Q1576.86 41.7081 1573.45 37.0496 Q1570.09 32.3505 1564.18 32.3505 Q1558.26 32.3505 1554.86 37.0496 Q1551.5 41.7081 1551.5 49.9314 Q1551.5 58.1548 1554.86 62.8538 Q1558.26 67.5124 1564.18 67.5124 Q1570.09 67.5124 1573.45 62.8538 Q1576.86 58.1548 1576.86 49.9314 Z\" fill=\"#000000\" fill-rule=\"nonzero\" fill-opacity=\"1\" /><path clip-path=\"url(#clip720)\" d=\"M1590.75 27.2059 L1597.76 12.096 L1605.98 12.096 L1594.28 27.2059 L1590.75 27.2059 Z\" fill=\"#000000\" fill-rule=\"nonzero\" fill-opacity=\"1\" /><path clip-path=\"url(#clip720)\" d=\"M1633.69 9.62495 Q1628.26 18.942 1625.63 28.0566 Q1623 37.1711 1623 46.5287 Q1623 55.8863 1625.63 65.0818 Q1628.3 74.2369 1633.69 83.5134 L1627.21 83.5134 Q1621.13 73.9938 1618.09 64.7983 Q1615.1 55.6027 1615.1 46.5287 Q1615.1 37.4952 1618.09 28.3401 Q1621.09 19.1851 1627.21 9.62495 L1633.69 9.62495 Z\" fill=\"#000000\" fill-rule=\"nonzero\" fill-opacity=\"1\" /><path clip-path=\"url(#clip720)\" d=\"M1685.87 27.2059 L1669.46 49.2833 L1686.72 72.576 L1677.93 72.576 L1664.72 54.752 L1651.51 72.576 L1642.72 72.576 L1660.35 48.8377 L1644.22 27.2059 L1653.01 27.2059 L1665.04 43.369 L1677.08 27.2059 L1685.87 27.2059 Z\" fill=\"#000000\" fill-rule=\"nonzero\" fill-opacity=\"1\" /><path clip-path=\"url(#clip720)\" d=\"M1696.07 9.62495 L1702.56 9.62495 Q1708.63 19.1851 1711.63 28.3401 Q1714.67 37.4952 1714.67 46.5287 Q1714.67 55.6027 1711.63 64.7983 Q1708.63 73.9938 1702.56 83.5134 L1696.07 83.5134 Q1701.46 74.2369 1704.1 65.0818 Q1706.77 55.8863 1706.77 46.5287 Q1706.77 37.1711 1704.1 28.0566 Q1701.46 18.942 1696.07 9.62495 Z\" fill=\"#000000\" fill-rule=\"nonzero\" fill-opacity=\"1\" /><polyline clip-path=\"url(#clip722)\" style=\"stroke:#009af9; stroke-linecap:round; stroke-linejoin:round; stroke-width:4; stroke-opacity:1; fill:none\" points=\"301.869,160.256 306.847,165.079 311.825,169.887 316.803,174.68 321.781,179.458 326.759,184.222 331.737,188.97 336.714,193.704 341.692,198.423 346.67,203.127 351.648,207.816 356.626,212.49 361.604,217.149 366.582,221.794 371.56,226.423 376.537,231.038 381.515,235.638 386.493,240.223 391.471,244.793 396.449,249.348 401.427,253.889 406.405,258.414 411.383,262.925 416.36,267.421 421.338,271.902 426.316,276.368 431.294,280.819 436.272,285.256 441.25,289.677 446.228,294.084 451.206,298.476 456.184,302.853 461.161,307.215 466.139,311.562 471.117,315.894 476.095,320.212 481.073,324.514 486.051,328.802 491.029,333.075 496.007,337.333 500.984,341.576 505.962,345.805 510.94,350.018 515.918,354.217 520.896,358.4 525.874,362.569 530.852,366.723 535.83,370.862 540.807,374.987 545.785,379.096 550.763,383.191 555.741,387.27 560.719,391.335 565.697,395.385 570.675,399.42 575.653,403.441 580.631,407.446 585.608,411.437 590.586,415.412 595.564,419.373 600.542,423.319 605.52,427.25 610.498,431.166 615.476,435.068 620.454,438.954 625.431,442.826 630.409,446.682 635.387,450.524 640.365,454.351 645.343,458.164 650.321,461.961 655.299,465.743 660.277,469.511 665.254,473.264 670.232,477.002 675.21,480.725 680.188,484.433 685.166,488.126 690.144,491.804 695.122,495.468 700.1,499.117 705.078,502.75 710.055,506.369 715.033,509.974 720.011,513.563 724.989,517.137 729.967,520.697 734.945,524.241 739.923,527.771 744.901,531.286 749.878,534.786 754.856,538.271 759.834,541.742 764.812,545.197 769.79,548.638 774.768,552.064 779.746,555.474 784.724,558.87 789.701,562.252 794.679,565.618 799.657,568.969 804.635,572.306 809.613,575.628 814.591,578.935 819.569,582.227 824.547,585.504 829.525,588.766 834.502,592.013 839.48,595.246 844.458,598.464 849.436,601.666 854.414,604.854 859.392,608.028 864.37,611.186 869.348,614.329 874.325,617.458 879.303,620.571 884.281,623.67 889.259,626.754 894.237,629.823 899.215,632.877 904.193,635.917 909.171,638.941 914.149,641.951 919.126,644.945 924.104,647.925 929.082,650.89 934.06,653.841 939.038,656.776 944.016,659.696 948.994,662.602 953.972,665.493 958.949,668.368 963.927,671.229 968.905,674.076 973.883,676.907 978.861,679.723 983.839,682.525 988.817,685.311 993.795,688.083 998.772,690.84 1003.75,693.582 1008.73,696.31 1013.71,699.022 1018.68,701.719 1023.66,704.402 1028.64,707.07 1033.62,709.723 1038.6,712.361 1043.57,714.984 1048.55,717.592 1053.53,720.186 1058.51,722.764 1063.48,725.328 1068.46,727.877 1073.44,730.411 1078.42,732.93 1083.4,735.435 1088.37,737.924 1093.35,740.399 1098.33,742.858 1103.31,745.303 1108.29,747.733 1113.26,750.148 1118.24,752.548 1123.22,754.934 1128.2,757.304 1133.18,759.66 1138.15,762.001 1143.13,764.327 1148.11,766.638 1153.09,768.934 1158.06,771.216 1163.04,773.482 1168.02,775.734 1173,777.97 1177.98,780.192 1182.95,782.399 1187.93,784.592 1192.91,786.769 1197.89,788.931 1202.87,791.079 1207.84,793.212 1212.82,795.33 1217.8,797.433 1222.78,799.521 1227.75,801.594 1232.73,803.652 1237.71,805.696 1242.69,807.725 1247.67,809.739 1252.64,811.738 1257.62,813.722 1262.6,815.691 1267.58,817.645 1272.56,819.585 1277.53,821.51 1282.51,823.419 1287.49,825.314 1292.47,827.194 1297.45,829.06 1302.42,830.91 1307.4,832.745 1312.38,834.566 1317.36,836.372 1322.33,838.163 1327.31,839.939 1332.29,841.7 1337.27,843.446 1342.25,845.178 1347.22,846.894 1352.2,848.596 1357.18,850.283 1362.16,851.955 1367.14,853.612 1372.11,855.254 1377.09,856.882 1382.07,858.494 1387.05,860.092 1392.03,861.675 1397,863.243 1401.98,864.796 1406.96,866.334 1411.94,867.858 1416.91,869.366 1421.89,870.86 1426.87,872.339 1431.85,873.803 1436.83,875.252 1441.8,876.686 1446.78,878.105 1451.76,879.51 1456.74,880.899 1461.72,882.274 1466.69,883.634 1471.67,884.979 1476.65,886.309 1481.63,887.624 1486.6,888.925 1491.58,890.211 1496.56,891.481 1501.54,892.737 1506.52,893.978 1511.49,895.204 1516.47,896.416 1521.45,897.612 1526.43,898.793 1531.41,899.96 1536.38,901.112 1541.36,902.249 1546.34,903.371 1551.32,904.478 1556.3,905.571 1561.27,906.648 1566.25,907.711 1571.23,908.759 1576.21,909.792 1581.18,910.81 1586.16,911.813 1591.14,912.801 1596.12,913.775 1601.1,914.733 1606.07,915.677 1611.05,916.606 1616.03,917.52 1621.01,918.419 1625.99,919.303 1630.96,920.173 1635.94,921.027 1640.92,921.867 1645.9,922.692 1650.87,923.502 1655.85,924.297 1660.83,925.077 1665.81,925.843 1670.79,926.593 1675.76,927.329 1680.74,928.05 1685.72,928.756 1690.7,929.447 1695.68,930.123 1700.65,930.785 1705.63,931.431 1710.61,932.063 1715.59,932.68 1720.57,933.281 1725.54,933.868 1730.52,934.441 1735.5,934.998 1740.48,935.541 1745.45,936.068 1750.43,936.581 1755.41,937.079 1760.39,937.562 1765.37,938.03 1770.34,938.483 1775.32,938.922 1780.3,939.345 1785.28,939.754 1790.26,940.148 1795.23,940.527 1800.21,940.891 1805.19,941.24 1810.17,941.575 1815.14,941.894 1820.12,942.199 1825.1,942.489 1830.08,942.764 1835.06,943.024 1840.03,943.269 1845.01,943.499 1849.99,943.715 1854.97,943.915 1859.95,944.101 1864.92,944.272 1869.9,944.428 1874.88,944.569 1879.86,944.696 1884.84,944.807 1889.81,944.904 1894.79,944.985 1899.77,945.052 1904.75,945.104 1909.72,945.142 1914.7,945.164 1919.68,945.171 1924.66,945.164 1929.64,945.142 1934.61,945.104 1939.59,945.052 1944.57,944.985 1949.55,944.904 1954.53,944.807 1959.5,944.696 1964.48,944.569 1969.46,944.428 1974.44,944.272 1979.41,944.101 1984.39,943.915 1989.37,943.715 1994.35,943.499 1999.33,943.269 2004.3,943.024 2009.28,942.764 2014.26,942.489 2019.24,942.199 2024.22,941.894 2029.19,941.575 2034.17,941.24 2039.15,940.891 2044.13,940.527 2049.11,940.148 2054.08,939.754 2059.06,939.345 2064.04,938.922 2069.02,938.483 2073.99,938.03 2078.97,937.562 2083.95,937.079 2088.93,936.581 2093.91,936.068 2098.88,935.541 2103.86,934.998 2108.84,934.441 2113.82,933.868 2118.8,933.281 2123.77,932.68 2128.75,932.063 2133.73,931.431 2138.71,930.785 2143.68,930.123 2148.66,929.447 2153.64,928.756 2158.62,928.05 2163.6,927.329 2168.57,926.593 2173.55,925.843 2178.53,925.077 2183.51,924.297 2188.49,923.502 2193.46,922.692 2198.44,921.867 2203.42,921.027 2208.4,920.173 2213.38,919.303 2218.35,918.419 2223.33,917.52 2228.31,916.606 2233.29,915.677 2238.26,914.733 2243.24,913.775 2248.22,912.801 2253.2,911.813 2258.18,910.81 2263.15,909.792 2268.13,908.759 2273.11,907.711 2278.09,906.648 2283.07,905.571 2288.04,904.478 2293.02,903.371 \"/>\n",
       "<polyline clip-path=\"url(#clip722)\" style=\"stroke:#e26f46; stroke-linecap:round; stroke-linejoin:round; stroke-width:4; stroke-opacity:1; fill:none\" points=\"301.869,1386.4 306.847,1384.91 311.825,1383.42 316.803,1381.94 321.781,1380.45 326.759,1378.96 331.737,1377.48 336.714,1375.99 341.692,1374.51 346.67,1373.02 351.648,1371.53 356.626,1370.05 361.604,1368.56 366.582,1367.07 371.56,1365.59 376.537,1364.1 381.515,1362.62 386.493,1361.13 391.471,1359.64 396.449,1358.16 401.427,1356.67 406.405,1355.18 411.383,1353.7 416.36,1352.21 421.338,1350.73 426.316,1349.24 431.294,1347.75 436.272,1346.27 441.25,1344.78 446.228,1343.3 451.206,1341.81 456.184,1340.32 461.161,1338.84 466.139,1337.35 471.117,1335.86 476.095,1334.38 481.073,1332.89 486.051,1331.41 491.029,1329.92 496.007,1328.43 500.984,1326.95 505.962,1325.46 510.94,1323.97 515.918,1322.49 520.896,1321 525.874,1319.52 530.852,1318.03 535.83,1316.54 540.807,1315.06 545.785,1313.57 550.763,1312.08 555.741,1310.6 560.719,1309.11 565.697,1307.63 570.675,1306.14 575.653,1304.65 580.631,1303.17 585.608,1301.68 590.586,1300.19 595.564,1298.71 600.542,1297.22 605.52,1295.74 610.498,1294.25 615.476,1292.76 620.454,1291.28 625.431,1289.79 630.409,1288.3 635.387,1286.82 640.365,1285.33 645.343,1283.85 650.321,1282.36 655.299,1280.87 660.277,1279.39 665.254,1277.9 670.232,1276.41 675.21,1274.93 680.188,1273.44 685.166,1271.96 690.144,1270.47 695.122,1268.98 700.1,1267.5 705.078,1266.01 710.055,1264.52 715.033,1263.04 720.011,1261.55 724.989,1260.07 729.967,1258.58 734.945,1257.09 739.923,1255.61 744.901,1254.12 749.878,1252.64 754.856,1251.15 759.834,1249.66 764.812,1248.18 769.79,1246.69 774.768,1245.2 779.746,1243.72 784.724,1242.23 789.701,1240.75 794.679,1239.26 799.657,1237.77 804.635,1236.29 809.613,1234.8 814.591,1233.31 819.569,1231.83 824.547,1230.34 829.525,1228.86 834.502,1227.37 839.48,1225.88 844.458,1224.4 849.436,1222.91 854.414,1221.42 859.392,1219.94 864.37,1218.45 869.348,1216.97 874.325,1215.48 879.303,1213.99 884.281,1212.51 889.259,1211.02 894.237,1209.53 899.215,1208.05 904.193,1206.56 909.171,1205.08 914.149,1203.59 919.126,1202.1 924.104,1200.62 929.082,1199.13 934.06,1197.64 939.038,1196.16 944.016,1194.67 948.994,1193.19 953.972,1191.7 958.949,1190.21 963.927,1188.73 968.905,1187.24 973.883,1185.75 978.861,1184.27 983.839,1182.78 988.817,1181.3 993.795,1179.81 998.772,1178.32 1003.75,1176.84 1008.73,1175.35 1013.71,1173.86 1018.68,1172.38 1023.66,1170.89 1028.64,1169.41 1033.62,1167.92 1038.6,1166.43 1043.57,1164.95 1048.55,1163.46 1053.53,1161.98 1058.51,1160.49 1063.48,1159 1068.46,1157.52 1073.44,1156.03 1078.42,1154.54 1083.4,1153.06 1088.37,1151.57 1093.35,1150.09 1098.33,1148.6 1103.31,1147.11 1108.29,1145.63 1113.26,1144.14 1118.24,1142.65 1123.22,1141.17 1128.2,1139.68 1133.18,1138.2 1138.15,1136.71 1143.13,1135.22 1148.11,1133.74 1153.09,1132.25 1158.06,1130.76 1163.04,1129.28 1168.02,1127.79 1173,1126.31 1177.98,1124.82 1182.95,1123.33 1187.93,1121.85 1192.91,1120.36 1197.89,1118.87 1202.87,1117.39 1207.84,1115.9 1212.82,1114.42 1217.8,1112.93 1222.78,1111.44 1227.75,1109.96 1232.73,1108.47 1237.71,1106.98 1242.69,1105.5 1247.67,1104.01 1252.64,1102.53 1257.62,1101.04 1262.6,1099.55 1267.58,1098.07 1272.56,1096.58 1277.53,1095.09 1282.51,1093.61 1287.49,1092.12 1292.47,1090.64 1297.45,1089.15 1302.42,1087.66 1307.4,1086.18 1312.38,1084.69 1317.36,1083.2 1322.33,1081.72 1327.31,1080.23 1332.29,1078.75 1337.27,1077.26 1342.25,1075.77 1347.22,1074.29 1352.2,1072.8 1357.18,1071.32 1362.16,1069.83 1367.14,1068.34 1372.11,1066.86 1377.09,1065.37 1382.07,1063.88 1387.05,1062.4 1392.03,1060.91 1397,1059.43 1401.98,1057.94 1406.96,1056.45 1411.94,1054.97 1416.91,1053.48 1421.89,1051.99 1426.87,1050.51 1431.85,1049.02 1436.83,1047.54 1441.8,1046.05 1446.78,1044.56 1451.76,1043.08 1456.74,1041.59 1461.72,1040.1 1466.69,1038.62 1471.67,1037.13 1476.65,1035.65 1481.63,1034.16 1486.6,1032.67 1491.58,1031.19 1496.56,1029.7 1501.54,1028.21 1506.52,1026.73 1511.49,1025.24 1516.47,1023.76 1521.45,1022.27 1526.43,1020.78 1531.41,1019.3 1536.38,1017.81 1541.36,1016.32 1546.34,1014.84 1551.32,1013.35 1556.3,1011.87 1561.27,1010.38 1566.25,1008.89 1571.23,1007.41 1576.21,1005.92 1581.18,1004.43 1586.16,1002.95 1591.14,1001.46 1596.12,999.976 1601.1,998.49 1606.07,997.004 1611.05,995.517 1616.03,994.031 1621.01,992.545 1625.99,991.059 1630.96,989.572 1635.94,988.086 1640.92,986.6 1645.9,985.114 1650.87,983.627 1655.85,982.141 1660.83,980.655 1665.81,979.169 1670.79,977.683 1675.76,976.196 1680.74,974.71 1685.72,973.224 1690.7,971.738 1695.68,970.251 1700.65,968.765 1705.63,967.279 1710.61,965.793 1715.59,964.306 1720.57,962.82 1725.54,961.334 1730.52,959.848 1735.5,958.362 1740.48,956.875 1745.45,955.389 1750.43,953.903 1755.41,952.417 1760.39,950.93 1765.37,949.444 1770.34,947.958 1775.32,946.472 1780.3,944.985 1785.28,943.499 1790.26,942.013 1795.23,940.527 1800.21,939.041 1805.19,937.554 1810.17,936.068 1815.14,934.582 1820.12,933.096 1825.1,931.609 1830.08,930.123 1835.06,928.637 1840.03,927.151 1845.01,925.665 1849.99,924.178 1854.97,922.692 1859.95,921.206 1864.92,919.72 1869.9,918.233 1874.88,916.747 1879.86,915.261 1884.84,913.775 1889.81,912.288 1894.79,910.802 1899.77,909.316 1904.75,907.83 1909.72,906.344 1914.7,904.857 1919.68,903.371 1924.66,901.885 1929.64,900.399 1934.61,898.912 1939.59,897.426 1944.57,895.94 1949.55,894.454 1954.53,892.967 1959.5,891.481 1964.48,889.995 1969.46,888.509 1974.44,887.023 1979.41,885.536 1984.39,884.05 1989.37,882.564 1994.35,881.078 1999.33,879.591 2004.3,878.105 2009.28,876.619 2014.26,875.133 2019.24,873.646 2024.22,872.16 2029.19,870.674 2034.17,869.188 2039.15,867.702 2044.13,866.215 2049.11,864.729 2054.08,863.243 2059.06,861.757 2064.04,860.27 2069.02,858.784 2073.99,857.298 2078.97,855.812 2083.95,854.325 2088.93,852.839 2093.91,851.353 2098.88,849.867 2103.86,848.381 2108.84,846.894 2113.82,845.408 2118.8,843.922 2123.77,842.436 2128.75,840.949 2133.73,839.463 2138.71,837.977 2143.68,836.491 2148.66,835.005 2153.64,833.518 2158.62,832.032 2163.6,830.546 2168.57,829.06 2173.55,827.573 2178.53,826.087 2183.51,824.601 2188.49,823.115 2193.46,821.628 2198.44,820.142 2203.42,818.656 2208.4,817.17 2213.38,815.684 2218.35,814.197 2223.33,812.711 2228.31,811.225 2233.29,809.739 2238.26,808.252 2243.24,806.766 2248.22,805.28 2253.2,803.794 2258.18,802.307 2263.15,800.821 2268.13,799.335 2273.11,797.849 2278.09,796.363 2283.07,794.876 2288.04,793.39 2293.02,791.904 \"/>\n",
       "<path clip-path=\"url(#clip720)\" d=\"M1973.82 322.316 L2282.4 322.316 L2282.4 166.796 L1973.82 166.796  Z\" fill=\"#ffffff\" fill-rule=\"evenodd\" fill-opacity=\"1\"/>\n",
       "<polyline clip-path=\"url(#clip720)\" style=\"stroke:#000000; stroke-linecap:round; stroke-linejoin:round; stroke-width:4; stroke-opacity:1; fill:none\" points=\"1973.82,322.316 2282.4,322.316 2282.4,166.796 1973.82,166.796 1973.82,322.316 \"/>\n",
       "<polyline clip-path=\"url(#clip720)\" style=\"stroke:#009af9; stroke-linecap:round; stroke-linejoin:round; stroke-width:4; stroke-opacity:1; fill:none\" points=\"1997.27,218.636 2137.98,218.636 \"/>\n",
       "<path clip-path=\"url(#clip720)\" d=\"M2165.71 232.027 L2165.71 245.777 L2161.43 245.777 L2161.43 209.99 L2165.71 209.99 L2165.71 213.925 Q2167.05 211.61 2169.09 210.499 Q2171.15 209.365 2174 209.365 Q2178.72 209.365 2181.66 213.115 Q2184.62 216.865 2184.62 222.976 Q2184.62 229.087 2181.66 232.837 Q2178.72 236.587 2174 236.587 Q2171.15 236.587 2169.09 235.476 Q2167.05 234.342 2165.71 232.027 M2180.2 222.976 Q2180.2 218.277 2178.26 215.615 Q2176.34 212.93 2172.96 212.93 Q2169.58 212.93 2167.63 215.615 Q2165.71 218.277 2165.71 222.976 Q2165.71 227.675 2167.63 230.36 Q2169.58 233.022 2172.96 233.022 Q2176.34 233.022 2178.26 230.36 Q2180.2 227.675 2180.2 222.976 Z\" fill=\"#000000\" fill-rule=\"nonzero\" fill-opacity=\"1\" /><path clip-path=\"url(#clip720)\" d=\"M2201.91 199.944 Q2198.81 205.268 2197.31 210.476 Q2195.8 215.684 2195.8 221.032 Q2195.8 226.379 2197.31 231.633 Q2198.84 236.865 2201.91 242.166 L2198.21 242.166 Q2194.74 236.726 2193 231.471 Q2191.29 226.217 2191.29 221.032 Q2191.29 215.87 2193 210.638 Q2194.71 205.407 2198.21 199.944 L2201.91 199.944 Z\" fill=\"#000000\" fill-rule=\"nonzero\" fill-opacity=\"1\" /><path clip-path=\"url(#clip720)\" d=\"M2231.73 209.99 L2222.35 222.606 L2232.21 235.916 L2227.19 235.916 L2219.65 225.731 L2212.1 235.916 L2207.08 235.916 L2217.15 222.351 L2207.93 209.99 L2212.96 209.99 L2219.83 219.226 L2226.71 209.99 L2231.73 209.99 Z\" fill=\"#000000\" fill-rule=\"nonzero\" fill-opacity=\"1\" /><path clip-path=\"url(#clip720)\" d=\"M2237.56 199.944 L2241.27 199.944 Q2244.74 205.407 2246.45 210.638 Q2248.19 215.87 2248.19 221.032 Q2248.19 226.217 2246.45 231.471 Q2244.74 236.726 2241.27 242.166 L2237.56 242.166 Q2240.64 236.865 2242.15 231.633 Q2243.67 226.379 2243.67 221.032 Q2243.67 215.684 2242.15 210.476 Q2240.64 205.268 2237.56 199.944 Z\" fill=\"#000000\" fill-rule=\"nonzero\" fill-opacity=\"1\" /><polyline clip-path=\"url(#clip720)\" style=\"stroke:#e26f46; stroke-linecap:round; stroke-linejoin:round; stroke-width:4; stroke-opacity:1; fill:none\" points=\"1997.27,270.476 2137.98,270.476 \"/>\n",
       "<path clip-path=\"url(#clip720)\" d=\"M2165.71 283.867 L2165.71 297.617 L2161.43 297.617 L2161.43 261.83 L2165.71 261.83 L2165.71 265.765 Q2167.05 263.45 2169.09 262.339 Q2171.15 261.205 2174 261.205 Q2178.72 261.205 2181.66 264.955 Q2184.62 268.705 2184.62 274.816 Q2184.62 280.927 2181.66 284.677 Q2178.72 288.427 2174 288.427 Q2171.15 288.427 2169.09 287.316 Q2167.05 286.182 2165.71 283.867 M2180.2 274.816 Q2180.2 270.117 2178.26 267.455 Q2176.34 264.77 2172.96 264.77 Q2169.58 264.77 2167.63 267.455 Q2165.71 270.117 2165.71 274.816 Q2165.71 279.515 2167.63 282.2 Q2169.58 284.862 2172.96 284.862 Q2176.34 284.862 2178.26 282.2 Q2180.2 279.515 2180.2 274.816 Z\" fill=\"#000000\" fill-rule=\"nonzero\" fill-opacity=\"1\" /><path clip-path=\"url(#clip720)\" d=\"M2188.14 261.83 L2192.15 253.196 L2196.84 253.196 L2190.15 261.83 L2188.14 261.83 Z\" fill=\"#000000\" fill-rule=\"nonzero\" fill-opacity=\"1\" /><path clip-path=\"url(#clip720)\" d=\"M2212.68 251.784 Q2209.58 257.108 2208.07 262.316 Q2206.57 267.524 2206.57 272.872 Q2206.57 278.219 2208.07 283.473 Q2209.6 288.705 2212.68 294.006 L2208.97 294.006 Q2205.5 288.566 2203.77 283.311 Q2202.05 278.057 2202.05 272.872 Q2202.05 267.71 2203.77 262.478 Q2205.48 257.247 2208.97 251.784 L2212.68 251.784 Z\" fill=\"#000000\" fill-rule=\"nonzero\" fill-opacity=\"1\" /><path clip-path=\"url(#clip720)\" d=\"M2242.49 261.83 L2233.12 274.446 L2242.98 287.756 L2237.96 287.756 L2230.41 277.571 L2222.86 287.756 L2217.84 287.756 L2227.91 274.191 L2218.7 261.83 L2223.72 261.83 L2230.59 271.066 L2237.47 261.83 L2242.49 261.83 Z\" fill=\"#000000\" fill-rule=\"nonzero\" fill-opacity=\"1\" /><path clip-path=\"url(#clip720)\" d=\"M2248.33 251.784 L2252.03 251.784 Q2255.5 257.247 2257.21 262.478 Q2258.95 267.71 2258.95 272.872 Q2258.95 278.057 2257.21 283.311 Q2255.5 288.566 2252.03 294.006 L2248.33 294.006 Q2251.4 288.705 2252.91 283.473 Q2254.44 278.219 2254.44 272.872 Q2254.44 267.524 2252.91 262.316 Q2251.4 257.108 2248.33 251.784 Z\" fill=\"#000000\" fill-rule=\"nonzero\" fill-opacity=\"1\" /></svg>\n"
      ]
     },
     "metadata": {},
     "output_type": "display_data"
    }
   ],
   "source": [
    "using Polynomials\n",
    "\n",
    "p = Polynomial([2, -5, 2], :x)  # :x just gives a symbol for display\n",
    "\n",
    "@show p\n",
    "p′ = derivative(p)   # gives the derivative of p, another polynomial\n",
    "@show p(0.1), p′(0.1)  # call like a function\n",
    "@show roots(p);   # find roots such that p(x) = 0\n",
    "\n",
    "x = -2:0.01:2\n",
    "\n",
    "y = p.(x)  # broadcast over x\n",
    "y_prime = p′.(x)  # broadcast over x\n",
    "\n",
    "# Plot both p(x) and p′(x)\n",
    "plot(x, y, label=\"p(x)\", xlabel=\"x\", ylabel=\"y\", title=\"Plot of p(x) and p′(x)\")\n",
    "plot!(x, y_prime, label=\"p′(x)\")"
   ]
  },
  {
   "cell_type": "markdown",
   "id": "3993e494",
   "metadata": {},
   "source": [
    "Plot both `p(x)` and `p′(x)` for $ x \\in [-2, 2] $."
   ]
  },
  {
   "cell_type": "markdown",
   "id": "d45ad156",
   "metadata": {},
   "source": [
    "### Exercise 4\n",
    "\n",
    "Use your solution to Exercise 8(a/b) in [Introductory Examples](https://julia.quantecon.org/julia_by_example.html) to\n",
    "create a specialized version of Newton’s method for `Polynomials` using the `derivative` function.\n",
    "\n",
    "The signature of the function should be `newtonsmethod(p::Polynomial, x_0; tolerance = 1E-7, maxiter = 100)`,\n",
    "where `p::Polynomial` ensures that this version of the function will be used anytime a polynomial is passed (i.e. dispatch).\n",
    "\n",
    "Compare the results of this function to the built-in `roots(p)` function.\n",
    "\n",
    "\n",
    "<a id='intro-types-ex-5'></a>"
   ]
  },
  {
   "cell_type": "markdown",
   "id": "ae96e605",
   "metadata": {},
   "source": [
    "### Exercise 5 (Advanced)\n",
    "\n",
    "The [trapezoidal rule](https://en.wikipedia.org/wiki/Trapezoidal_rule)  approximates an integral with\n",
    "\n",
    "$$\n",
    "\\int_{\\underline{x}}^{\\bar{x}} f(x) \\, dx \\approx \\sum_{n=1}^N \\frac{f(x_{n-1}) + f(x_n)}{2} \\Delta x_n\n",
    "$$\n",
    "\n",
    "where $ x_0 = {\\underline{x}},\\, x_N = \\bar{x} $, and $ \\Delta x_n \\equiv x_{n-1} - x_n $.\n",
    "\n",
    "Given an `x` and a function `f`, implement a few variations of the trapezoidal rule using multiple dispatch\n",
    "\n",
    "- `trapezoidal(f, x)` for any `typeof(x) = AbstractArray` and `typeof(f) == AbstractArray` where `length(x) = length(f)`  \n",
    "- `trapezoidal(f, x)` for any `typeof(x) = AbstractRange` and `typeof(f) == AbstractArray` where `length(x) = length(f)`  \n",
    "  - Exploit the fact that `AbstractRange` has constant step sizes to specialize the algorithm  \n",
    "- `trapezoidal(f, x̲, x̄, N)` where `typeof(f) = Function`, and the other arguments are `Real`  \n",
    "  - For this, build a uniform grid with `N` points on `[x̲, x̄]` – call the `f` function at those grid points and use the existing `trapezoidal(f, x)` from the implementation  \n",
    "\n",
    "\n",
    "With these:\n",
    "\n",
    "1. Test each variation of the function with $ f(x) = x^2 $ with $ \\underline{x}=0,\\, \\bar{x} = 1 $.  \n",
    "1. From the analytical solution of the function, plot the error of `trapezoidal(f, x̲, x̄, N)` relative to the analytical solution for a grid of different `N` values.  \n",
    "1. Consider trying different functions for $ f(x) $ and compare the solutions for various `N`.  \n",
    "\n",
    "\n",
    "When trying different functions, instead of integrating by hand consider using a high-accuracy\n",
    "library for numerical integration such as [QuadGK.jl](https://juliamath.github.io/QuadGK.jl/latest/)"
   ]
  },
  {
   "cell_type": "code",
   "execution_count": null,
   "id": "15661960",
   "metadata": {
    "hide-output": false
   },
   "outputs": [],
   "source": [
    "using QuadGK\n",
    "\n",
    "f(x) = x^2\n",
    "value, accuracy = quadgk(f, 0.0, 1.0)"
   ]
  },
  {
   "cell_type": "markdown",
   "id": "e7759f8b",
   "metadata": {},
   "source": [
    "### Exercise 6 (Advanced)\n",
    "\n",
    "Take a variation of your code in Exercise 5.\n",
    "\n",
    "Use auto-differentiation to calculate the following derivative for the example functions\n",
    "\n",
    "$$\n",
    "\\frac{d}{d {\\bar{x}}}\\int_{\\underline{x}}^{\\bar{x}} f(x) \\, dx\n",
    "$$\n",
    "\n",
    "Hint: See the following code for the general pattern, and be careful to\n",
    "follow the [rules for generic programming](#generic-tips-tricks)."
   ]
  },
  {
   "cell_type": "code",
   "execution_count": null,
   "id": "6f8db784",
   "metadata": {
    "hide-output": false
   },
   "outputs": [],
   "source": [
    "using ForwardDiff\n",
    "\n",
    "function f(a, b; N = 50)\n",
    "    r = range(a, b, length = N) # one\n",
    "    return mean(r)\n",
    "end\n",
    "\n",
    "Df(x) = ForwardDiff.derivative(y -> f(0.0, y), x)\n",
    "\n",
    "@show f(0.0, 3.0)\n",
    "@show f(0.0, 3.1)\n",
    "\n",
    "Df(3.0)"
   ]
  }
 ],
 "metadata": {
  "date": 1704478551.980031,
  "filename": "introduction_to_types.md",
  "kernelspec": {
   "display_name": "Julia 1.10.4",
   "language": "julia",
   "name": "julia-1.10"
  },
  "language_info": {
   "file_extension": ".jl",
   "mimetype": "application/julia",
   "name": "julia",
   "version": "1.10.4"
  },
  "title": "Introduction to Types and Generic Programming"
 },
 "nbformat": 4,
 "nbformat_minor": 5
}
