{
 "cells": [
  {
   "cell_type": "markdown",
   "id": "e387ddd9",
   "metadata": {},
   "source": [
    "\n",
    "<a id='julia-essentials'></a>"
   ]
  },
  {
   "cell_type": "markdown",
   "id": "c471a8f7",
   "metadata": {},
   "source": [
    "# Julia Essentials"
   ]
  },
  {
   "cell_type": "markdown",
   "id": "0e67f30c",
   "metadata": {},
   "source": [
    "## Contents\n",
    "\n",
    "- [Julia Essentials](#Julia-Essentials)  \n",
    "  - [Overview](#Overview)  \n",
    "  - [Common Data Types](#Common-Data-Types)  \n",
    "  - [Iterating](#Iterating)  \n",
    "  - [Comparisons and Logical Operators](#Comparisons-and-Logical-Operators)  \n",
    "  - [User-Defined Functions](#User-Defined-Functions)  \n",
    "  - [Broadcasting](#Broadcasting)  \n",
    "  - [Scoping and Closures](#Scoping-and-Closures)  \n",
    "  - [Exercises](#Exercises)  \n",
    "  - [Solutions](#Solutions)  "
   ]
  },
  {
   "cell_type": "markdown",
   "id": "c4182db0",
   "metadata": {},
   "source": [
    "Having covered a few examples, let’s now turn to a more systematic exposition\n",
    "of the essential features of the language."
   ]
  },
  {
   "cell_type": "markdown",
   "id": "e9e583fb",
   "metadata": {},
   "source": [
    "## Overview\n",
    "\n",
    "Topics:\n",
    "\n",
    "- Common data types  \n",
    "- Iteration  \n",
    "- More on user-defined functions  \n",
    "- Comparisons and logic  "
   ]
  },
  {
   "cell_type": "code",
   "execution_count": 10,
   "id": "d8310671",
   "metadata": {
    "hide-output": false
   },
   "outputs": [],
   "source": [
    "using LinearAlgebra, Statistics, Plots"
   ]
  },
  {
   "cell_type": "markdown",
   "id": "6cda2fff",
   "metadata": {},
   "source": [
    "## Common Data Types\n",
    "\n",
    "Like most languages, Julia language defines and provides functions for operating on standard data types such as\n",
    "\n",
    "- integers  \n",
    "- floats  \n",
    "- strings  \n",
    "- arrays, etc…  \n",
    "\n",
    "\n",
    "Let’s learn a bit more about them."
   ]
  },
  {
   "cell_type": "markdown",
   "id": "53bfa22d",
   "metadata": {},
   "source": [
    "### Primitive Data Types\n",
    "\n",
    "A particularly simple data type is a Boolean value, which can be either `true` or\n",
    "`false`."
   ]
  },
  {
   "cell_type": "code",
   "execution_count": 1,
   "id": "66129a41",
   "metadata": {
    "hide-output": false
   },
   "outputs": [
    {
     "data": {
      "text/plain": [
       "true"
      ]
     },
     "metadata": {},
     "output_type": "display_data"
    }
   ],
   "source": [
    "x = true"
   ]
  },
  {
   "cell_type": "code",
   "execution_count": 3,
   "id": "d0eed808",
   "metadata": {
    "hide-output": false
   },
   "outputs": [
    {
     "data": {
      "text/plain": [
       "Bool"
      ]
     },
     "metadata": {},
     "output_type": "display_data"
    }
   ],
   "source": [
    "typeof(x)"
   ]
  },
  {
   "cell_type": "code",
   "execution_count": 4,
   "id": "36930142",
   "metadata": {
    "hide-output": false
   },
   "outputs": [
    {
     "data": {
      "text/plain": [
       "false"
      ]
     },
     "metadata": {},
     "output_type": "display_data"
    }
   ],
   "source": [
    "y = 1 > 2  # now y = false"
   ]
  },
  {
   "cell_type": "markdown",
   "id": "a0aa144e",
   "metadata": {},
   "source": [
    "The two most common data types used to represent numbers are integers and\n",
    "floats.\n",
    "\n",
    "(Computers distinguish between floats and integers because arithmetic is\n",
    "handled in a different way)"
   ]
  },
  {
   "cell_type": "code",
   "execution_count": 5,
   "id": "3da9037f",
   "metadata": {
    "hide-output": false
   },
   "outputs": [
    {
     "data": {
      "text/plain": [
       "Float64"
      ]
     },
     "metadata": {},
     "output_type": "display_data"
    }
   ],
   "source": [
    "typeof(1.0)"
   ]
  },
  {
   "cell_type": "code",
   "execution_count": 6,
   "id": "657ae92e",
   "metadata": {
    "hide-output": false
   },
   "outputs": [
    {
     "data": {
      "text/plain": [
       "Int64"
      ]
     },
     "metadata": {},
     "output_type": "display_data"
    }
   ],
   "source": [
    "typeof(1)"
   ]
  },
  {
   "cell_type": "markdown",
   "id": "3b14a6f4",
   "metadata": {},
   "source": [
    "If you’re running a 32 bit system you’ll still see `Float64`, but you will see `Int32` instead of `Int64` (see [the section on Integer types](https://docs.julialang.org/en/v1.1/manual/integers-and-floating-point-numbers/#Integers-1) from the Julia manual).\n",
    "\n",
    "Arithmetic operations are fairly standard."
   ]
  },
  {
   "cell_type": "code",
   "execution_count": 7,
   "id": "be01df18",
   "metadata": {
    "hide-output": false
   },
   "outputs": [],
   "source": [
    "x = 2;\n",
    "y = 1.0;"
   ]
  },
  {
   "cell_type": "markdown",
   "id": "24a592f7",
   "metadata": {},
   "source": [
    "The `;` can be used to suppress output from a line of code, or to combine two lines of code together (as above), but is otherwise not necessary."
   ]
  },
  {
   "cell_type": "code",
   "execution_count": 8,
   "id": "2aaab4a7",
   "metadata": {
    "hide-output": false
   },
   "outputs": [
    {
     "data": {
      "text/plain": [
       "2.0"
      ]
     },
     "metadata": {},
     "output_type": "display_data"
    }
   ],
   "source": [
    "x * y"
   ]
  },
  {
   "cell_type": "code",
   "execution_count": 9,
   "id": "84ef3040",
   "metadata": {
    "hide-output": false
   },
   "outputs": [
    {
     "data": {
      "text/plain": [
       "4"
      ]
     },
     "metadata": {},
     "output_type": "display_data"
    }
   ],
   "source": [
    "x^2"
   ]
  },
  {
   "cell_type": "code",
   "execution_count": 10,
   "id": "df0f8003",
   "metadata": {
    "hide-output": false
   },
   "outputs": [
    {
     "data": {
      "text/plain": [
       "0.5"
      ]
     },
     "metadata": {},
     "output_type": "display_data"
    }
   ],
   "source": [
    "y / x"
   ]
  },
  {
   "cell_type": "markdown",
   "id": "9d9e16fc",
   "metadata": {},
   "source": [
    "Although the `*` can be omitted for multiplication between a numeric literal and a variable."
   ]
  },
  {
   "cell_type": "code",
   "execution_count": 11,
   "id": "16f73302",
   "metadata": {
    "hide-output": false
   },
   "outputs": [
    {
     "data": {
      "text/plain": [
       "1.0"
      ]
     },
     "metadata": {},
     "output_type": "display_data"
    }
   ],
   "source": [
    "2x - 3y"
   ]
  },
  {
   "cell_type": "markdown",
   "id": "b37e4a1f",
   "metadata": {},
   "source": [
    "A useful tool for displaying both expressions and code is to use the `@show` macro, which displays the text and the results."
   ]
  },
  {
   "cell_type": "code",
   "execution_count": 14,
   "id": "678ce8b1",
   "metadata": {
    "hide-output": false
   },
   "outputs": [
    {
     "name": "stdout",
     "output_type": "stream",
     "text": [
      "2x - 3y = 1.0\n",
      "x + y = 3.0\n"
     ]
    }
   ],
   "source": [
    "@show 2x - 3y\n",
    "@show x + y;"
   ]
  },
  {
   "cell_type": "markdown",
   "id": "094d88e7",
   "metadata": {},
   "source": [
    "Here we have used `;` to suppress the output on the last line, which otherwise returns the results of `x + y`.\n",
    "\n",
    "Complex numbers are another primitive data type, with the imaginary part being specified by `im`."
   ]
  },
  {
   "cell_type": "code",
   "execution_count": null,
   "id": "a8c2884d",
   "metadata": {
    "hide-output": false
   },
   "outputs": [],
   "source": [
    "x = 1 + 2im"
   ]
  },
  {
   "cell_type": "code",
   "execution_count": null,
   "id": "fad7624f",
   "metadata": {
    "hide-output": false
   },
   "outputs": [],
   "source": [
    "y = 1 - 2im"
   ]
  },
  {
   "cell_type": "code",
   "execution_count": null,
   "id": "beb58266",
   "metadata": {
    "hide-output": false
   },
   "outputs": [],
   "source": [
    "x * y  # complex multiplication"
   ]
  },
  {
   "cell_type": "markdown",
   "id": "f20c919d",
   "metadata": {},
   "source": [
    "There are several more primitive data types that we’ll introduce as necessary."
   ]
  },
  {
   "cell_type": "markdown",
   "id": "0956151c",
   "metadata": {},
   "source": [
    "### Strings\n",
    "\n",
    "A string is a data type for storing a sequence of characters.\n",
    "\n",
    "In Julia, strings are created using double quotation marks (single quotations are\n",
    "reserved for the character type)."
   ]
  },
  {
   "cell_type": "code",
   "execution_count": 15,
   "id": "e62b77f5",
   "metadata": {
    "hide-output": false
   },
   "outputs": [
    {
     "data": {
      "text/plain": [
       "\"foobar\""
      ]
     },
     "metadata": {},
     "output_type": "display_data"
    }
   ],
   "source": [
    "x = \"foobar\""
   ]
  },
  {
   "cell_type": "code",
   "execution_count": 16,
   "id": "e2256057",
   "metadata": {
    "hide-output": false
   },
   "outputs": [
    {
     "data": {
      "text/plain": [
       "String"
      ]
     },
     "metadata": {},
     "output_type": "display_data"
    }
   ],
   "source": [
    "typeof(x)"
   ]
  },
  {
   "cell_type": "markdown",
   "id": "2a661450",
   "metadata": {},
   "source": [
    "You’ve already seen examples of Julia’s simple string formatting operations."
   ]
  },
  {
   "cell_type": "code",
   "execution_count": 17,
   "id": "958a83de",
   "metadata": {
    "hide-output": false
   },
   "outputs": [],
   "source": [
    "x = 10;\n",
    "y = 20;"
   ]
  },
  {
   "cell_type": "markdown",
   "id": "9aaa253f",
   "metadata": {},
   "source": [
    "The `\\$` inside of a string is used to interpolate a variable."
   ]
  },
  {
   "cell_type": "code",
   "execution_count": 18,
   "id": "eb1d81b9",
   "metadata": {
    "hide-output": false
   },
   "outputs": [
    {
     "data": {
      "text/plain": [
       "\"x = 10\""
      ]
     },
     "metadata": {},
     "output_type": "display_data"
    }
   ],
   "source": [
    "\"x = $x\""
   ]
  },
  {
   "cell_type": "markdown",
   "id": "7c1da8d6",
   "metadata": {},
   "source": [
    "With parentheses, you can splice the results of expressions into strings as well."
   ]
  },
  {
   "cell_type": "code",
   "execution_count": 19,
   "id": "63965fdc",
   "metadata": {
    "hide-output": false
   },
   "outputs": [
    {
     "data": {
      "text/plain": [
       "\"x + y = 30\""
      ]
     },
     "metadata": {},
     "output_type": "display_data"
    }
   ],
   "source": [
    "\"x + y = $(x + y)\""
   ]
  },
  {
   "cell_type": "markdown",
   "id": "c1c84866",
   "metadata": {},
   "source": [
    "To concatenate strings use `*`"
   ]
  },
  {
   "cell_type": "code",
   "execution_count": 20,
   "id": "d3e49a3f",
   "metadata": {
    "hide-output": false
   },
   "outputs": [
    {
     "data": {
      "text/plain": [
       "\"foobar\""
      ]
     },
     "metadata": {},
     "output_type": "display_data"
    }
   ],
   "source": [
    "\"foo\" * \"bar\""
   ]
  },
  {
   "cell_type": "markdown",
   "id": "9182e0b1",
   "metadata": {},
   "source": [
    "Julia provides many functions for working with strings."
   ]
  },
  {
   "cell_type": "code",
   "execution_count": 21,
   "id": "b35f7095",
   "metadata": {
    "hide-output": false
   },
   "outputs": [
    {
     "data": {
      "text/plain": [
       "\"Charlie don't surf\""
      ]
     },
     "metadata": {},
     "output_type": "display_data"
    }
   ],
   "source": [
    "s = \"Charlie don't surf\""
   ]
  },
  {
   "cell_type": "code",
   "execution_count": 22,
   "id": "977e182a",
   "metadata": {
    "hide-output": false
   },
   "outputs": [
    {
     "data": {
      "text/plain": [
       "3-element Vector{SubString{String}}:\n",
       " \"Charlie\"\n",
       " \"don't\"\n",
       " \"surf\""
      ]
     },
     "metadata": {},
     "output_type": "display_data"
    }
   ],
   "source": [
    "split(s)"
   ]
  },
  {
   "cell_type": "code",
   "execution_count": 23,
   "id": "12d3a8dc",
   "metadata": {
    "hide-output": false
   },
   "outputs": [
    {
     "data": {
      "text/plain": [
       "\"Charlie don't ski\""
      ]
     },
     "metadata": {},
     "output_type": "display_data"
    }
   ],
   "source": [
    "replace(s, \"surf\" => \"ski\")"
   ]
  },
  {
   "cell_type": "code",
   "execution_count": 24,
   "id": "ec38e7be",
   "metadata": {
    "hide-output": false
   },
   "outputs": [
    {
     "data": {
      "text/plain": [
       "3-element Vector{SubString{String}}:\n",
       " \"fee\"\n",
       " \"fi\"\n",
       " \"fo\""
      ]
     },
     "metadata": {},
     "output_type": "display_data"
    }
   ],
   "source": [
    "split(\"fee,fi,fo\", \",\")"
   ]
  },
  {
   "cell_type": "code",
   "execution_count": 25,
   "id": "9352c6f2",
   "metadata": {
    "hide-output": false
   },
   "outputs": [
    {
     "data": {
      "text/plain": [
       "\"foobar\""
      ]
     },
     "metadata": {},
     "output_type": "display_data"
    }
   ],
   "source": [
    "strip(\" foobar \")  # remove whitespace"
   ]
  },
  {
   "cell_type": "markdown",
   "id": "76c40f92",
   "metadata": {},
   "source": [
    "Julia can also find and replace using [regular expressions](https://en.wikipedia.org/wiki/Regular_expression) ([see regular expressions documentation](https://docs.julialang.org/en/v1/manual/strings/#Regular-Expressions-1) for more info)."
   ]
  },
  {
   "cell_type": "code",
   "execution_count": 26,
   "id": "28c13556",
   "metadata": {
    "hide-output": false
   },
   "outputs": [
    {
     "data": {
      "text/plain": [
       "RegexMatch(\"10\", 1=\"10\")"
      ]
     },
     "metadata": {},
     "output_type": "display_data"
    }
   ],
   "source": [
    "match(r\"(\\d+)\", \"Top 10\")  # find digits in string"
   ]
  },
  {
   "cell_type": "markdown",
   "id": "8acf0e33",
   "metadata": {},
   "source": [
    "### Containers\n",
    "\n",
    "Julia has several basic types for storing collections of data.\n",
    "\n",
    "We have already discussed arrays.\n",
    "\n",
    "A related data type is a **tuple**, which is immutable and can contain different types."
   ]
  },
  {
   "cell_type": "code",
   "execution_count": 27,
   "id": "f3471bfb",
   "metadata": {
    "hide-output": false
   },
   "outputs": [
    {
     "data": {
      "text/plain": [
       "(\"foo\", 2)"
      ]
     },
     "metadata": {},
     "output_type": "display_data"
    }
   ],
   "source": [
    "x = (\"foo\", \"bar\")\n",
    "y = (\"foo\", 2)"
   ]
  },
  {
   "cell_type": "code",
   "execution_count": 28,
   "id": "56eefe51",
   "metadata": {
    "hide-output": false
   },
   "outputs": [
    {
     "data": {
      "text/plain": [
       "(Tuple{String, String}, Tuple{String, Int64})"
      ]
     },
     "metadata": {},
     "output_type": "display_data"
    }
   ],
   "source": [
    "typeof(x), typeof(y)"
   ]
  },
  {
   "cell_type": "markdown",
   "id": "bdd6b2a9",
   "metadata": {},
   "source": [
    "An immutable value is one that cannot be altered once it resides in memory.\n",
    "\n",
    "In particular, tuples do not support item assignment (i.e. `x[1] = \"test\"` would fail).\n",
    "\n",
    "Tuples can be constructed with or without parentheses."
   ]
  },
  {
   "cell_type": "code",
   "execution_count": 29,
   "id": "99515814",
   "metadata": {
    "hide-output": false
   },
   "outputs": [
    {
     "data": {
      "text/plain": [
       "(\"foo\", 1)"
      ]
     },
     "metadata": {},
     "output_type": "display_data"
    }
   ],
   "source": [
    "x = \"foo\", 1"
   ]
  },
  {
   "cell_type": "code",
   "execution_count": 30,
   "id": "b125a8e2",
   "metadata": {
    "hide-output": false
   },
   "outputs": [
    {
     "data": {
      "text/plain": [
       "(\"foo\", 1)"
      ]
     },
     "metadata": {},
     "output_type": "display_data"
    }
   ],
   "source": [
    "function f()\n",
    "    return \"foo\", 1\n",
    "end\n",
    "f()"
   ]
  },
  {
   "cell_type": "markdown",
   "id": "22a66c6e",
   "metadata": {},
   "source": [
    "Tuples can also be unpacked directly into variables."
   ]
  },
  {
   "cell_type": "code",
   "execution_count": 31,
   "id": "2ec345f7",
   "metadata": {
    "hide-output": false
   },
   "outputs": [
    {
     "data": {
      "text/plain": [
       "(\"foo\", 1)"
      ]
     },
     "metadata": {},
     "output_type": "display_data"
    }
   ],
   "source": [
    "x = (\"foo\", 1)"
   ]
  },
  {
   "cell_type": "code",
   "execution_count": 32,
   "id": "722f0e55",
   "metadata": {
    "hide-output": false
   },
   "outputs": [
    {
     "name": "stdout",
     "output_type": "stream",
     "text": [
      "word = foo, val = 1\n"
     ]
    }
   ],
   "source": [
    "word, val = x\n",
    "println(\"word = $word, val = $val\")"
   ]
  },
  {
   "cell_type": "markdown",
   "id": "786fe042",
   "metadata": {},
   "source": [
    "Tuples can be created with a hanging `,` – this is useful to create a tuple with one element."
   ]
  },
  {
   "cell_type": "code",
   "execution_count": 33,
   "id": "1aed0759",
   "metadata": {
    "hide-output": false
   },
   "outputs": [
    {
     "data": {
      "text/plain": [
       "(Tuple{String, Int64}, Tuple{String})"
      ]
     },
     "metadata": {},
     "output_type": "display_data"
    }
   ],
   "source": [
    "x = (\"foo\", 1)\n",
    "y = (\"foo\",)\n",
    "typeof(x), typeof(y)"
   ]
  },
  {
   "cell_type": "markdown",
   "id": "c4155464",
   "metadata": {},
   "source": [
    "#### Referencing Items\n",
    "\n",
    "The last element of a sequence type can be accessed with the keyword `end`."
   ]
  },
  {
   "cell_type": "code",
   "execution_count": 34,
   "id": "d930b011",
   "metadata": {
    "hide-output": false
   },
   "outputs": [
    {
     "data": {
      "text/plain": [
       "4-element Vector{Int64}:\n",
       " 10\n",
       " 20\n",
       " 30\n",
       " 40"
      ]
     },
     "metadata": {},
     "output_type": "display_data"
    }
   ],
   "source": [
    "x = [10, 20, 30, 40]"
   ]
  },
  {
   "cell_type": "code",
   "execution_count": 35,
   "id": "e861f7b9",
   "metadata": {
    "hide-output": false
   },
   "outputs": [
    {
     "data": {
      "text/plain": [
       "40"
      ]
     },
     "metadata": {},
     "output_type": "display_data"
    }
   ],
   "source": [
    "x[end]"
   ]
  },
  {
   "cell_type": "code",
   "execution_count": 36,
   "id": "e4b14473",
   "metadata": {
    "hide-output": false
   },
   "outputs": [
    {
     "data": {
      "text/plain": [
       "30"
      ]
     },
     "metadata": {},
     "output_type": "display_data"
    }
   ],
   "source": [
    "x[end - 1]"
   ]
  },
  {
   "cell_type": "markdown",
   "id": "972a0c74",
   "metadata": {},
   "source": [
    "To access multiple elements of an array or tuple, you can use slice notation."
   ]
  },
  {
   "cell_type": "code",
   "execution_count": 37,
   "id": "2dd49340",
   "metadata": {
    "hide-output": false
   },
   "outputs": [
    {
     "data": {
      "text/plain": [
       "3-element Vector{Int64}:\n",
       " 10\n",
       " 20\n",
       " 30"
      ]
     },
     "metadata": {},
     "output_type": "display_data"
    }
   ],
   "source": [
    "x[1:3]"
   ]
  },
  {
   "cell_type": "code",
   "execution_count": 38,
   "id": "44005e52",
   "metadata": {
    "hide-output": false
   },
   "outputs": [
    {
     "data": {
      "text/plain": [
       "3-element Vector{Int64}:\n",
       " 20\n",
       " 30\n",
       " 40"
      ]
     },
     "metadata": {},
     "output_type": "display_data"
    }
   ],
   "source": [
    "x[2:end]"
   ]
  },
  {
   "cell_type": "markdown",
   "id": "2bded391",
   "metadata": {},
   "source": [
    "The same slice notation works on strings (but be careful with unicode strings, where a single element may not be a single character)"
   ]
  },
  {
   "cell_type": "code",
   "execution_count": 39,
   "id": "6f7fbcef",
   "metadata": {
    "hide-output": false
   },
   "outputs": [
    {
     "data": {
      "text/plain": [
       "\"obar\""
      ]
     },
     "metadata": {},
     "output_type": "display_data"
    }
   ],
   "source": [
    "str = \"foobar\"\n",
    "str[3:end]"
   ]
  },
  {
   "cell_type": "markdown",
   "id": "216b492c",
   "metadata": {},
   "source": [
    "#### Dictionaries\n",
    "\n",
    "Another container type worth mentioning is dictionaries.\n",
    "\n",
    "Dictionaries are like arrays except that the items are named instead of numbered."
   ]
  },
  {
   "cell_type": "code",
   "execution_count": 40,
   "id": "8f04ac39",
   "metadata": {
    "hide-output": false
   },
   "outputs": [
    {
     "data": {
      "text/plain": [
       "Dict{String, Any} with 2 entries:\n",
       "  \"name\" => \"Frodo\"\n",
       "  \"age\"  => 33"
      ]
     },
     "metadata": {},
     "output_type": "display_data"
    }
   ],
   "source": [
    "d = Dict(\"name\" => \"Frodo\", \"age\" => 33)"
   ]
  },
  {
   "cell_type": "code",
   "execution_count": 41,
   "id": "3ff544ad",
   "metadata": {
    "hide-output": false
   },
   "outputs": [
    {
     "data": {
      "text/plain": [
       "33"
      ]
     },
     "metadata": {},
     "output_type": "display_data"
    }
   ],
   "source": [
    "d[\"age\"]"
   ]
  },
  {
   "cell_type": "markdown",
   "id": "bc3daf87",
   "metadata": {},
   "source": [
    "The strings `name` and `age` are called the **keys**.\n",
    "\n",
    "The keys are mapped to **values** (in this case `\"Frodo\"` and `33`).\n",
    "\n",
    "They can be accessed via `keys(d)` and `values(d)` respectively.\n",
    "\n",
    "**Note** Unlike in Python and some other dynamic languages, dictionaries\n",
    "are rarely the right approach (ie. often referred to as “the devil’s datastructure”).\n",
    "\n",
    "The flexibility (i.e. can store anything and use anything as a key) frequently\n",
    "comes at the cost of performance if misused.\n",
    "\n",
    "It is usually better to have collections of parameters and results in a named\n",
    "tuple, which both provide the compiler with more opportunties to optimize the\n",
    "performance, and also makes the code more safe.\n",
    "\n",
    "\n",
    "<a id='iterating-version-1'></a>"
   ]
  },
  {
   "cell_type": "markdown",
   "id": "788c590d",
   "metadata": {},
   "source": [
    "## Iterating\n",
    "\n",
    "One of the most important tasks in computing is stepping through a\n",
    "sequence of data and performing a given action.\n",
    "\n",
    "Julia provides neat and flexible tools for iteration as we now discuss."
   ]
  },
  {
   "cell_type": "markdown",
   "id": "d75456cd",
   "metadata": {},
   "source": [
    "### Iterables\n",
    "\n",
    "An iterable is something you can put on the right hand side of `for` and loop over.\n",
    "\n",
    "These include sequence data types like arrays."
   ]
  },
  {
   "cell_type": "code",
   "execution_count": 42,
   "id": "951da8e9",
   "metadata": {
    "hide-output": false
   },
   "outputs": [
    {
     "name": "stdout",
     "output_type": "stream",
     "text": [
      "Charlie doesn't surf\n",
      "Charlie doesn't ski\n"
     ]
    }
   ],
   "source": [
    "actions = [\"surf\", \"ski\"]\n",
    "for action in actions\n",
    "    println(\"Charlie doesn't $action\")\n",
    "end"
   ]
  },
  {
   "cell_type": "markdown",
   "id": "2b524d98",
   "metadata": {},
   "source": [
    "They also include so-called **iterators**.\n",
    "\n",
    "You’ve already come across these types of values"
   ]
  },
  {
   "cell_type": "code",
   "execution_count": 43,
   "id": "92e71b5e",
   "metadata": {
    "hide-output": false
   },
   "outputs": [
    {
     "name": "stdout",
     "output_type": "stream",
     "text": [
      "123"
     ]
    }
   ],
   "source": [
    "for i in 1:3\n",
    "    print(i)\n",
    "end"
   ]
  },
  {
   "cell_type": "markdown",
   "id": "710cfe68",
   "metadata": {},
   "source": [
    "If you ask for the keys of dictionary you get an iterator"
   ]
  },
  {
   "cell_type": "code",
   "execution_count": 44,
   "id": "3c146131",
   "metadata": {
    "hide-output": false
   },
   "outputs": [
    {
     "data": {
      "text/plain": [
       "Dict{String, Any} with 2 entries:\n",
       "  \"name\" => \"Frodo\"\n",
       "  \"age\"  => 33"
      ]
     },
     "metadata": {},
     "output_type": "display_data"
    }
   ],
   "source": [
    "d = Dict(\"name\" => \"Frodo\", \"age\" => 33)"
   ]
  },
  {
   "cell_type": "code",
   "execution_count": 45,
   "id": "92cb2c3e",
   "metadata": {
    "hide-output": false
   },
   "outputs": [
    {
     "data": {
      "text/plain": [
       "KeySet for a Dict{String, Any} with 2 entries. Keys:\n",
       "  \"name\"\n",
       "  \"age\""
      ]
     },
     "metadata": {},
     "output_type": "display_data"
    }
   ],
   "source": [
    "keys(d)"
   ]
  },
  {
   "cell_type": "markdown",
   "id": "72ebc6a1",
   "metadata": {},
   "source": [
    "This makes sense, since the most common thing you want to do with keys is loop over them.\n",
    "\n",
    "The benefit of providing an iterator rather than an array, say, is that the former is more memory efficient.\n",
    "\n",
    "Should you need to transform an iterator into an array you can always use `collect()`."
   ]
  },
  {
   "cell_type": "code",
   "execution_count": 46,
   "id": "b217d363",
   "metadata": {
    "hide-output": false
   },
   "outputs": [
    {
     "data": {
      "text/plain": [
       "2-element Vector{String}:\n",
       " \"name\"\n",
       " \"age\""
      ]
     },
     "metadata": {},
     "output_type": "display_data"
    }
   ],
   "source": [
    "collect(keys(d))"
   ]
  },
  {
   "cell_type": "markdown",
   "id": "5d27e50e",
   "metadata": {},
   "source": [
    "### Looping without Indices\n",
    "\n",
    "You can loop over sequences without explicit indexing, which often leads to\n",
    "neater code.\n",
    "\n",
    "For example compare"
   ]
  },
  {
   "cell_type": "code",
   "execution_count": 47,
   "id": "c185e89c",
   "metadata": {
    "hide-output": false
   },
   "outputs": [
    {
     "data": {
      "text/plain": [
       "1:5"
      ]
     },
     "metadata": {},
     "output_type": "display_data"
    }
   ],
   "source": [
    "x_values = 1:5"
   ]
  },
  {
   "cell_type": "code",
   "execution_count": 48,
   "id": "c6d96b47",
   "metadata": {
    "hide-output": false
   },
   "outputs": [
    {
     "name": "stdout",
     "output_type": "stream",
     "text": [
      "1\n",
      "4\n",
      "9\n",
      "16\n",
      "25\n"
     ]
    }
   ],
   "source": [
    "for x in x_values\n",
    "    println(x * x)\n",
    "end"
   ]
  },
  {
   "cell_type": "code",
   "execution_count": 49,
   "id": "a1704294",
   "metadata": {
    "hide-output": false
   },
   "outputs": [
    {
     "name": "stdout",
     "output_type": "stream",
     "text": [
      "1\n",
      "4\n",
      "9\n",
      "16\n",
      "25\n"
     ]
    }
   ],
   "source": [
    "for i in eachindex(x_values)\n",
    "    println(x_values[i] * x_values[i])\n",
    "end"
   ]
  },
  {
   "cell_type": "markdown",
   "id": "f3752121",
   "metadata": {},
   "source": [
    "Julia provides some functional-style helper functions (similar to Python and R) to facilitate looping without indices.\n",
    "\n",
    "One is `zip()`, which is used for stepping through pairs from two sequences.\n",
    "\n",
    "For example, try running the following code"
   ]
  },
  {
   "cell_type": "code",
   "execution_count": 50,
   "id": "7b80c0f0",
   "metadata": {
    "hide-output": false
   },
   "outputs": [
    {
     "name": "stdout",
     "output_type": "stream",
     "text": [
      "The capital of Japan is Tokyo\n",
      "The capital of Korea is Seoul\n",
      "The capital of China is Beijing\n"
     ]
    }
   ],
   "source": [
    "countries = (\"Japan\", \"Korea\", \"China\")\n",
    "cities = (\"Tokyo\", \"Seoul\", \"Beijing\")\n",
    "for (country, city) in zip(countries, cities)\n",
    "    println(\"The capital of $country is $city\")\n",
    "end"
   ]
  },
  {
   "cell_type": "markdown",
   "id": "bcc6433c",
   "metadata": {},
   "source": [
    "If we happen to need the index as well as the value, one option is to use `enumerate()`.\n",
    "\n",
    "The following snippet will give you the idea"
   ]
  },
  {
   "cell_type": "code",
   "execution_count": 51,
   "id": "08bacef5",
   "metadata": {
    "hide-output": false
   },
   "outputs": [
    {
     "name": "stdout",
     "output_type": "stream",
     "text": [
      "The capital of Japan is Tokyo\n",
      "The capital of Korea is Seoul\n",
      "The capital of China is Beijing\n"
     ]
    }
   ],
   "source": [
    "countries = (\"Japan\", \"Korea\", \"China\")\n",
    "cities = (\"Tokyo\", \"Seoul\", \"Beijing\")\n",
    "for (i, country) in enumerate(countries)\n",
    "    city = cities[i]\n",
    "    println(\"The capital of $country is $city\")\n",
    "end"
   ]
  },
  {
   "cell_type": "markdown",
   "id": "627dadba",
   "metadata": {},
   "source": [
    "### Comprehensions\n",
    "\n",
    "([See comprehensions documentation](https://docs.julialang.org/en/v1/manual/arrays/#man-comprehensions-1))\n",
    "\n",
    "Comprehensions are an elegant tool for creating new arrays, dictionaries, etc. from iterables.\n",
    "\n",
    "Here are some examples"
   ]
  },
  {
   "cell_type": "code",
   "execution_count": 52,
   "id": "6060dc75",
   "metadata": {
    "hide-output": false
   },
   "outputs": [
    {
     "data": {
      "text/plain": [
       "4-element Vector{Int64}:\n",
       " 2\n",
       " 4\n",
       " 6\n",
       " 8"
      ]
     },
     "metadata": {},
     "output_type": "display_data"
    }
   ],
   "source": [
    "doubles = [2i for i in 1:4]"
   ]
  },
  {
   "cell_type": "code",
   "execution_count": 53,
   "id": "6dd3d385",
   "metadata": {
    "hide-output": false
   },
   "outputs": [],
   "source": [
    "animals = [\"dog\", \"cat\", \"bird\"];   # Semicolon suppresses output"
   ]
  },
  {
   "cell_type": "code",
   "execution_count": 54,
   "id": "70c91503",
   "metadata": {
    "hide-output": false
   },
   "outputs": [
    {
     "data": {
      "text/plain": [
       "3-element Vector{String}:\n",
       " \"dogs\"\n",
       " \"cats\"\n",
       " \"birds\""
      ]
     },
     "metadata": {},
     "output_type": "display_data"
    }
   ],
   "source": [
    "plurals = [animal * \"s\" for animal in animals]"
   ]
  },
  {
   "cell_type": "code",
   "execution_count": 55,
   "id": "f3515776",
   "metadata": {
    "hide-output": false
   },
   "outputs": [
    {
     "data": {
      "text/plain": [
       "3×3 Matrix{Int64}:\n",
       " 5  6  7\n",
       " 6  7  8\n",
       " 7  8  9"
      ]
     },
     "metadata": {},
     "output_type": "display_data"
    }
   ],
   "source": [
    "[i + j for i in 1:3, j in 4:6]"
   ]
  },
  {
   "cell_type": "code",
   "execution_count": 56,
   "id": "452aa2cf",
   "metadata": {
    "hide-output": false
   },
   "outputs": [
    {
     "data": {
      "text/plain": [
       "3×3×3 Array{Int64, 3}:\n",
       "[:, :, 1] =\n",
       " 12  13  14\n",
       " 13  14  15\n",
       " 14  15  16\n",
       "\n",
       "[:, :, 2] =\n",
       " 13  14  15\n",
       " 14  15  16\n",
       " 15  16  17\n",
       "\n",
       "[:, :, 3] =\n",
       " 14  15  16\n",
       " 15  16  17\n",
       " 16  17  18"
      ]
     },
     "metadata": {},
     "output_type": "display_data"
    }
   ],
   "source": [
    "[i + j + k for i in 1:3, j in 4:6, k in 7:9]"
   ]
  },
  {
   "cell_type": "markdown",
   "id": "5311fafd",
   "metadata": {},
   "source": [
    "Comprehensions can also create arrays of tuples or named tuples"
   ]
  },
  {
   "cell_type": "code",
   "execution_count": 57,
   "id": "096a97db",
   "metadata": {
    "hide-output": false
   },
   "outputs": [
    {
     "data": {
      "text/plain": [
       "2×3 Matrix{Tuple{Int64, String}}:\n",
       " (1, \"dog\")  (1, \"cat\")  (1, \"bird\")\n",
       " (2, \"dog\")  (2, \"cat\")  (2, \"bird\")"
      ]
     },
     "metadata": {},
     "output_type": "display_data"
    }
   ],
   "source": [
    "[(i, j) for i in 1:2, j in animals]"
   ]
  },
  {
   "cell_type": "code",
   "execution_count": 58,
   "id": "c5959b85",
   "metadata": {
    "hide-output": false
   },
   "outputs": [
    {
     "data": {
      "text/plain": [
       "2×3 Matrix{@NamedTuple{num::Int64, animal::String}}:\n",
       " (num = 1, animal = \"dog\")  …  (num = 1, animal = \"bird\")\n",
       " (num = 2, animal = \"dog\")     (num = 2, animal = \"bird\")"
      ]
     },
     "metadata": {},
     "output_type": "display_data"
    }
   ],
   "source": [
    "[(num = i, animal = j) for i in 1:2, j in animals]"
   ]
  },
  {
   "cell_type": "markdown",
   "id": "a6b9277f",
   "metadata": {},
   "source": [
    "### Generators\n",
    "\n",
    "([See generator documentation](https://docs.julialang.org/en/v1/manual/arrays/#Generator-Expressions-1))\n",
    "\n",
    "In some cases, you may wish to use a comprehension to create an iterable list rather\n",
    "than actually making it a concrete array.\n",
    "\n",
    "The benefit of this is that you can use functions which take general iterators rather\n",
    "than arrays without allocating and storing any temporary values.\n",
    "\n",
    "For example, the following code generates a temporary array of size 10,000 and finds the sum."
   ]
  },
  {
   "cell_type": "code",
   "execution_count": 59,
   "id": "2b491b5e",
   "metadata": {
    "hide-output": false
   },
   "outputs": [
    {
     "data": {
      "text/plain": [
       "333383335000"
      ]
     },
     "metadata": {},
     "output_type": "display_data"
    }
   ],
   "source": [
    "xs = 1:10000\n",
    "f(x) = x^2\n",
    "f_x = f.(xs)\n",
    "sum(f_x)"
   ]
  },
  {
   "cell_type": "markdown",
   "id": "82b857c5",
   "metadata": {},
   "source": [
    "We could have created the temporary using a comprehension, or even done the comprehension\n",
    "within the `sum` function, but these all create temporary arrays."
   ]
  },
  {
   "cell_type": "code",
   "execution_count": 60,
   "id": "141cdbfb",
   "metadata": {
    "hide-output": false
   },
   "outputs": [
    {
     "name": "stdout",
     "output_type": "stream",
     "text": [
      "sum(f_x2) = 333383335000\n",
      "sum([f(x) for x = xs]) = 333383335000\n"
     ]
    }
   ],
   "source": [
    "f_x2 = [f(x) for x in xs]\n",
    "@show sum(f_x2)\n",
    "@show sum([f(x) for x in xs]); # still allocates temporary"
   ]
  },
  {
   "cell_type": "markdown",
   "id": "e9fc6427",
   "metadata": {},
   "source": [
    "Note, that if you were hand-code this, you would be able to calculate the sum by simply\n",
    "iterating to 10000, applying `f` to each number, and accumulating the results.  No temporary\n",
    "vectors would be necessary.\n",
    "\n",
    "A generator can emulate this behavior, leading to clear (and sometimes more efficient) code when used\n",
    "with any function that accepts iterators.  All you need to do is drop the `]` brackets."
   ]
  },
  {
   "cell_type": "code",
   "execution_count": 61,
   "id": "e7a481bd",
   "metadata": {
    "hide-output": false
   },
   "outputs": [
    {
     "data": {
      "text/plain": [
       "333383335000"
      ]
     },
     "metadata": {},
     "output_type": "display_data"
    }
   ],
   "source": [
    "sum(f(x) for x in xs)"
   ]
  },
  {
   "cell_type": "markdown",
   "id": "f52a65b6",
   "metadata": {},
   "source": [
    "We can use `BenchmarkTools` to investigate"
   ]
  },
  {
   "cell_type": "code",
   "execution_count": 62,
   "id": "b4280e58",
   "metadata": {
    "hide-output": false
   },
   "outputs": [
    {
     "name": "stdout",
     "output_type": "stream",
     "text": [
      "  6.075 μs (2 allocations: 78.17 KiB)\n",
      "  6.200 μs (2 allocations: 78.17 KiB)\n",
      "  3.800 ns (0 allocations: 0 bytes)\n"
     ]
    }
   ],
   "source": [
    "using BenchmarkTools\n",
    "@btime sum([f(x) for x in $xs])\n",
    "@btime sum(f.($xs))\n",
    "@btime sum(f(x) for x in $xs);"
   ]
  },
  {
   "cell_type": "markdown",
   "id": "98c33e34",
   "metadata": {},
   "source": [
    "Notice that the first two cases are nearly identical, and allocate a temporary array, while the\n",
    "final case using generators has no allocations.\n",
    "\n",
    "In this example you may see a speedup of over 1000x.  Whether using generators leads to code that is faster or slower depends on the cirumstances, and you should (1) always profile rather than guess; and (2) worry about code clarify first, and performance second—if ever."
   ]
  },
  {
   "cell_type": "markdown",
   "id": "66dfcd60",
   "metadata": {},
   "source": [
    "## Comparisons and Logical Operators"
   ]
  },
  {
   "cell_type": "markdown",
   "id": "614434bc",
   "metadata": {},
   "source": [
    "### Comparisons\n",
    "\n",
    "As we saw earlier, when testing for equality we use `==`."
   ]
  },
  {
   "cell_type": "code",
   "execution_count": 63,
   "id": "993e65bd",
   "metadata": {
    "hide-output": false
   },
   "outputs": [
    {
     "data": {
      "text/plain": [
       "1"
      ]
     },
     "metadata": {},
     "output_type": "display_data"
    }
   ],
   "source": [
    "x = 1"
   ]
  },
  {
   "cell_type": "code",
   "execution_count": 64,
   "id": "7a55b42f",
   "metadata": {
    "hide-output": false
   },
   "outputs": [
    {
     "data": {
      "text/plain": [
       "false"
      ]
     },
     "metadata": {},
     "output_type": "display_data"
    }
   ],
   "source": [
    "x == 2"
   ]
  },
  {
   "cell_type": "markdown",
   "id": "c48300f4",
   "metadata": {},
   "source": [
    "For “not equal” use `!=` or `≠` (`\\ne<TAB>`)."
   ]
  },
  {
   "cell_type": "code",
   "execution_count": 65,
   "id": "8d64d0e1",
   "metadata": {
    "hide-output": false
   },
   "outputs": [
    {
     "data": {
      "text/plain": [
       "true"
      ]
     },
     "metadata": {},
     "output_type": "display_data"
    }
   ],
   "source": [
    "x != 3"
   ]
  },
  {
   "cell_type": "markdown",
   "id": "886e95e8",
   "metadata": {},
   "source": [
    "Julia can also test approximate equality with `≈` (`\\approx<TAB>`)."
   ]
  },
  {
   "cell_type": "code",
   "execution_count": 66,
   "id": "3d2d4e38",
   "metadata": {
    "hide-output": false
   },
   "outputs": [
    {
     "data": {
      "text/plain": [
       "true"
      ]
     },
     "metadata": {},
     "output_type": "display_data"
    }
   ],
   "source": [
    "1 + 1E-8 ≈ 1"
   ]
  },
  {
   "cell_type": "markdown",
   "id": "2bb96a32",
   "metadata": {},
   "source": [
    "Be careful when using this, however, as there are subtleties involving the scales of the quantities compared."
   ]
  },
  {
   "cell_type": "markdown",
   "id": "a1729b75",
   "metadata": {},
   "source": [
    "### Combining Expressions\n",
    "\n",
    "Here are the standard logical connectives (conjunction, disjunction)"
   ]
  },
  {
   "cell_type": "code",
   "execution_count": 67,
   "id": "8397c0e1",
   "metadata": {
    "hide-output": false
   },
   "outputs": [
    {
     "data": {
      "text/plain": [
       "false"
      ]
     },
     "metadata": {},
     "output_type": "display_data"
    }
   ],
   "source": [
    "true && false"
   ]
  },
  {
   "cell_type": "code",
   "execution_count": 68,
   "id": "92a4f0f1",
   "metadata": {
    "hide-output": false
   },
   "outputs": [
    {
     "data": {
      "text/plain": [
       "true"
      ]
     },
     "metadata": {},
     "output_type": "display_data"
    }
   ],
   "source": [
    "true || false"
   ]
  },
  {
   "cell_type": "markdown",
   "id": "fcf291a1",
   "metadata": {},
   "source": [
    "Remember\n",
    "\n",
    "- `P && Q` is `true` if both are `true`, otherwise it’s `false`.  \n",
    "- `P || Q` is `false` if both are `false`, otherwise it’s `true`.  "
   ]
  },
  {
   "cell_type": "markdown",
   "id": "a050df3e",
   "metadata": {},
   "source": [
    "## User-Defined Functions\n",
    "\n",
    "Let’s talk a little more about user-defined functions.\n",
    "\n",
    "User-defined functions are important for improving the clarity of your code by\n",
    "\n",
    "- separating different strands of logic  \n",
    "- facilitating code reuse (writing the same thing twice is always a bad idea)  \n",
    "\n",
    "\n",
    "Julia functions are convenient:\n",
    "\n",
    "- Any number of functions can be defined in a given file.  \n",
    "- Any “value” can be passed to a function as an argument, including other functions.  \n",
    "- Functions can be (and often are) defined inside other functions.  \n",
    "- A function can return any kind of value, including functions.  \n",
    "\n",
    "\n",
    "We’ll see many examples of these structures in the following lectures.\n",
    "\n",
    "For now let’s just cover some of the different ways of defining functions."
   ]
  },
  {
   "cell_type": "markdown",
   "id": "84c9d0b5",
   "metadata": {},
   "source": [
    "### Return Statement\n",
    "\n",
    "In Julia, the `return` statement is optional, so that the following functions\n",
    "have identical behavior"
   ]
  },
  {
   "cell_type": "code",
   "execution_count": null,
   "id": "649f44f5",
   "metadata": {
    "hide-output": false
   },
   "outputs": [],
   "source": [
    "function f1(a, b)\n",
    "    return a * b\n",
    "end\n",
    "\n",
    "function f2(a, b)\n",
    "    a * b\n",
    "end"
   ]
  },
  {
   "cell_type": "markdown",
   "id": "993f7790",
   "metadata": {},
   "source": [
    "When no return statement is present, the last value obtained when executing the code block is returned.\n",
    "\n",
    "Although some prefer the second option, we often favor the former on the basis that explicit is better than implicit.\n",
    "\n",
    "A function can have arbitrarily many `return` statements, with execution terminating when the first return is hit.\n",
    "\n",
    "You can see this in action when experimenting with the following function"
   ]
  },
  {
   "cell_type": "code",
   "execution_count": 69,
   "id": "3982fb27",
   "metadata": {
    "hide-output": false
   },
   "outputs": [
    {
     "data": {
      "text/plain": [
       "foo (generic function with 1 method)"
      ]
     },
     "metadata": {},
     "output_type": "display_data"
    }
   ],
   "source": [
    "function foo(x)\n",
    "    if x > 0\n",
    "        return \"positive\"\n",
    "    end\n",
    "    return \"nonpositive\"\n",
    "end"
   ]
  },
  {
   "cell_type": "markdown",
   "id": "d6ae1a89",
   "metadata": {},
   "source": [
    "### Other Syntax for Defining Functions\n",
    "\n",
    "For short function definitions Julia offers some attractive simplified syntax.\n",
    "\n",
    "First, when the function body is a simple expression, it can be defined\n",
    "without the `function` keyword or `end`."
   ]
  },
  {
   "cell_type": "code",
   "execution_count": 70,
   "id": "e0ec5e41",
   "metadata": {
    "hide-output": false
   },
   "outputs": [
    {
     "data": {
      "text/plain": [
       "f (generic function with 2 methods)"
      ]
     },
     "metadata": {},
     "output_type": "display_data"
    }
   ],
   "source": [
    "f(x) = sin(1 / x)"
   ]
  },
  {
   "cell_type": "markdown",
   "id": "3ebef416",
   "metadata": {},
   "source": [
    "Let’s check that it works"
   ]
  },
  {
   "cell_type": "code",
   "execution_count": 71,
   "id": "cbc0c958",
   "metadata": {
    "hide-output": false
   },
   "outputs": [
    {
     "data": {
      "text/plain": [
       "1.2246467991473532e-16"
      ]
     },
     "metadata": {},
     "output_type": "display_data"
    }
   ],
   "source": [
    "f(1 / pi)"
   ]
  },
  {
   "cell_type": "markdown",
   "id": "54c9c710",
   "metadata": {},
   "source": [
    "Julia also allows you to define anonymous functions.\n",
    "\n",
    "For example, to define `f(x) = sin(1 / x)` you can use `x -> sin(1 / x)`.\n",
    "\n",
    "The difference is that the second function has no name bound to it.\n",
    "\n",
    "How can you use a function with no name?\n",
    "\n",
    "Typically it’s as an argument to another function"
   ]
  },
  {
   "cell_type": "code",
   "execution_count": 72,
   "id": "424182bb",
   "metadata": {
    "hide-output": false
   },
   "outputs": [
    {
     "data": {
      "text/plain": [
       "3-element Vector{Float64}:\n",
       " -0.7413458744678029\n",
       " -0.8618348652778766\n",
       " -0.9245396400817307"
      ]
     },
     "metadata": {},
     "output_type": "display_data"
    }
   ],
   "source": [
    "map(x -> sin(1 / x), randn(3))  # apply function to each element"
   ]
  },
  {
   "cell_type": "markdown",
   "id": "c4da635b",
   "metadata": {},
   "source": [
    "### Optional and Keyword Arguments\n",
    "\n",
    "([See keyword arguments documentation](https://docs.julialang.org/en/v1/manual/functions/#Keyword-Arguments-1))\n",
    "\n",
    "Function arguments can be given default values"
   ]
  },
  {
   "cell_type": "code",
   "execution_count": 73,
   "id": "f17d1d24",
   "metadata": {
    "hide-output": false
   },
   "outputs": [
    {
     "data": {
      "text/plain": [
       "f (generic function with 3 methods)"
      ]
     },
     "metadata": {},
     "output_type": "display_data"
    }
   ],
   "source": [
    "f(x, a = 1) = exp(cos(a * x))"
   ]
  },
  {
   "cell_type": "markdown",
   "id": "40ff03c2",
   "metadata": {},
   "source": [
    "If the argument is not supplied, the default value is substituted."
   ]
  },
  {
   "cell_type": "code",
   "execution_count": 74,
   "id": "0278fb1a",
   "metadata": {
    "hide-output": false
   },
   "outputs": [
    {
     "data": {
      "text/plain": [
       "0.36787944117144233"
      ]
     },
     "metadata": {},
     "output_type": "display_data"
    }
   ],
   "source": [
    "f(pi)"
   ]
  },
  {
   "cell_type": "code",
   "execution_count": 75,
   "id": "e9e65732",
   "metadata": {
    "hide-output": false
   },
   "outputs": [
    {
     "data": {
      "text/plain": [
       "2.718281828459045"
      ]
     },
     "metadata": {},
     "output_type": "display_data"
    }
   ],
   "source": [
    "f(pi, 2)"
   ]
  },
  {
   "cell_type": "markdown",
   "id": "3fd058c9",
   "metadata": {},
   "source": [
    "Another option is to use **keyword** arguments.\n",
    "\n",
    "The difference between keyword and standard (positional) arguments is that\n",
    "they are parsed and bounded by name rather than the order in the function call.\n",
    "\n",
    "For example, in the call"
   ]
  },
  {
   "cell_type": "code",
   "execution_count": 76,
   "id": "91a0bd2d",
   "metadata": {
    "hide-output": false
   },
   "outputs": [
    {
     "data": {
      "text/plain": [
       "2.718281828459045"
      ]
     },
     "metadata": {},
     "output_type": "display_data"
    }
   ],
   "source": [
    "f(x; a = 1) = exp(cos(a * x))  # note the ; in the definition\n",
    "\n",
    "f(pi; a = 2)"
   ]
  },
  {
   "cell_type": "markdown",
   "id": "17a9cfdd",
   "metadata": {},
   "source": [
    "The `;` in this case for calling the function is optional and the last line could equivalently be `f(pi, a = 2)`.\n",
    "\n",
    "That said separating keyword arguments  `;` is encouraged to clarify the types of arguments, and enables some nice features.\n",
    "\n",
    "For example, local variables used as keyword arguments (or in named tuples) by default pass in the same name."
   ]
  },
  {
   "cell_type": "code",
   "execution_count": 77,
   "id": "37736930",
   "metadata": {
    "hide-output": false
   },
   "outputs": [
    {
     "data": {
      "text/plain": [
       "2.718281828459045"
      ]
     },
     "metadata": {},
     "output_type": "display_data"
    }
   ],
   "source": [
    "a = 2\n",
    "f(pi; a) # equivalent to f(pi; a = a)"
   ]
  },
  {
   "cell_type": "markdown",
   "id": "014ee9d0",
   "metadata": {},
   "source": [
    "While it may seem terse at first, this pattern is common across Julia and is worth getting used to.\n",
    "\n",
    "If you see an argument in in julia to the right of the `;` assume it is a keyword argument with the name matching the value.\n",
    "\n",
    "The automatic naming of keyword arguments is also picked up automatically when they are fields in named tuples or structs."
   ]
  },
  {
   "cell_type": "code",
   "execution_count": 78,
   "id": "3b9e40a3",
   "metadata": {
    "hide-output": false
   },
   "outputs": [
    {
     "data": {
      "text/plain": [
       "2.718281828459045"
      ]
     },
     "metadata": {},
     "output_type": "display_data"
    }
   ],
   "source": [
    "nt = (; a = 2, b = 10)\n",
    "f(pi; nt.a) # equivalent to f(pi; a = nt.a)"
   ]
  },
  {
   "cell_type": "markdown",
   "id": "f86e0aae",
   "metadata": {},
   "source": [
    "## Broadcasting\n",
    "\n",
    "([See broadcasting documentation](https://docs.julialang.org/en/v1/manual/arrays/#Broadcasting-1))\n",
    "\n",
    "A common scenario in computing is that\n",
    "\n",
    "- we have a function `f` such that `f(x)` returns a number for any number `x`  \n",
    "- we wish to apply `f` to every element of an iterable `x_vec` to produce a new result `y_vec`  \n",
    "\n",
    "\n",
    "In Julia loops are fast and we can do this easily enough with a loop.\n",
    "\n",
    "For example, suppose that we want to apply `sin` to `x_vec = [2.0, 4.0, 6.0, 8.0]`.\n",
    "\n",
    "The following code will do the job"
   ]
  },
  {
   "cell_type": "code",
   "execution_count": 1,
   "id": "d65b48a0",
   "metadata": {
    "hide-output": false
   },
   "outputs": [],
   "source": [
    "x_vec = [2.0, 4.0, 6.0, 8.0]\n",
    "y_vec = similar(x_vec)\n",
    "for (i, x) in enumerate(x_vec)\n",
    "    y_vec[i] = sin(x)\n",
    "end"
   ]
  },
  {
   "cell_type": "markdown",
   "id": "7d35ee23",
   "metadata": {},
   "source": [
    "or alternatively just iterating with indices"
   ]
  },
  {
   "cell_type": "code",
   "execution_count": 2,
   "id": "bbd3ed8c",
   "metadata": {
    "hide-output": false
   },
   "outputs": [],
   "source": [
    "x_vec = [2.0, 4.0, 6.0, 8.0]\n",
    "y_vec = similar(x_vec)\n",
    "for i in eachindex(x_vec)\n",
    "    y_vec[i] = sin(x_vec[i])\n",
    "end"
   ]
  },
  {
   "cell_type": "markdown",
   "id": "f67dff11",
   "metadata": {},
   "source": [
    "But this is a bit unwieldy so Julia offers the alternative syntax"
   ]
  },
  {
   "cell_type": "code",
   "execution_count": 3,
   "id": "40a05abe",
   "metadata": {
    "hide-output": false
   },
   "outputs": [
    {
     "data": {
      "text/plain": [
       "4-element Vector{Float64}:\n",
       "  0.9092974268256817\n",
       " -0.7568024953079282\n",
       " -0.27941549819892586\n",
       "  0.9893582466233818"
      ]
     },
     "metadata": {},
     "output_type": "display_data"
    }
   ],
   "source": [
    "y_vec = sin.(x_vec)"
   ]
  },
  {
   "cell_type": "markdown",
   "id": "62038426",
   "metadata": {},
   "source": [
    "More generally, if `f` is any Julia function, then `f.` references the broadcasted version.\n",
    "\n",
    "Conveniently, this applies to user-defined functions as well.\n",
    "\n",
    "To illustrate, let’s write a function `chisq` such that `chisq(k)` returns a chi-squared random variable with `k` degrees of freedom when `k` is an integer.\n",
    "\n",
    "In doing this we’ll exploit the fact that, if we take `k` independent standard normals, square them all and sum, we get a chi-squared with `k` degrees of freedom."
   ]
  },
  {
   "cell_type": "code",
   "execution_count": 4,
   "id": "a9ad7027",
   "metadata": {
    "hide-output": false
   },
   "outputs": [
    {
     "data": {
      "text/plain": [
       "chisq (generic function with 1 method)"
      ]
     },
     "metadata": {},
     "output_type": "display_data"
    }
   ],
   "source": [
    "function chisq(k)\n",
    "    @assert k > 0\n",
    "    z = randn(k)\n",
    "    return sum(z -> z^2, z)  # same as `sum(x^2 for x in z)`\n",
    "end"
   ]
  },
  {
   "cell_type": "markdown",
   "id": "86ed389c",
   "metadata": {},
   "source": [
    "The macro `@assert` will check that the next expression evaluates to `true`, and will stop and display an error otherwise."
   ]
  },
  {
   "cell_type": "code",
   "execution_count": 5,
   "id": "09cac9f3",
   "metadata": {
    "hide-output": false
   },
   "outputs": [
    {
     "data": {
      "text/plain": [
       "1.0261235188540552"
      ]
     },
     "metadata": {},
     "output_type": "display_data"
    }
   ],
   "source": [
    "chisq(3)"
   ]
  },
  {
   "cell_type": "markdown",
   "id": "95d9b8a2",
   "metadata": {},
   "source": [
    "Note that calls with integers less than 1 will trigger an assertion failure inside\n",
    "the function body."
   ]
  },
  {
   "cell_type": "code",
   "execution_count": 7,
   "id": "bf8c2790",
   "metadata": {
    "hide-output": false
   },
   "outputs": [
    {
     "ename": "AssertionError",
     "evalue": "AssertionError: k > 0",
     "output_type": "error",
     "traceback": [
      "AssertionError: k > 0\n",
      "\n",
      "Stacktrace:\n",
      " [1] chisq(k::Int64)\n",
      "   @ Main f:\\Documents\\Learn Julia\\lecture-julia.notebooks\\getting_started_julia\\jl_notebook_cell_df34fa98e69747e1a8f8a730347b8e2f_Y303sZmlsZQ==.jl:2\n",
      " [2] top-level scope\n",
      "   @ f:\\Documents\\Learn Julia\\lecture-julia.notebooks\\getting_started_julia\\jl_notebook_cell_df34fa98e69747e1a8f8a730347b8e2f_Y310sZmlsZQ==.jl:1"
     ]
    }
   ],
   "source": [
    "chisq(-2)"
   ]
  },
  {
   "cell_type": "markdown",
   "id": "a9e521f0",
   "metadata": {},
   "source": [
    "Let’s try this out on an array of integers, adding the broadcast"
   ]
  },
  {
   "cell_type": "code",
   "execution_count": 8,
   "id": "efa93088",
   "metadata": {
    "hide-output": false
   },
   "outputs": [
    {
     "data": {
      "text/plain": [
       "3-element Vector{Float64}:\n",
       " 0.3831222312317188\n",
       " 5.269169492600558\n",
       " 7.398889874039956"
      ]
     },
     "metadata": {},
     "output_type": "display_data"
    }
   ],
   "source": [
    "chisq.([2, 4, 6])"
   ]
  },
  {
   "cell_type": "markdown",
   "id": "ad63818f",
   "metadata": {},
   "source": [
    "The broadcasting notation is not simply vectorization, as it is able to “fuse” multiple broadcasts together to generate efficient code."
   ]
  },
  {
   "cell_type": "code",
   "execution_count": 9,
   "id": "5eef52ea",
   "metadata": {
    "hide-output": false
   },
   "outputs": [
    {
     "data": {
      "text/plain": [
       "5-element Vector{Float64}:\n",
       "  2.1585290151921033\n",
       "  5.090702573174318\n",
       "  7.858879991940133\n",
       " 10.756802495307928\n",
       " 13.958924274663138"
      ]
     },
     "metadata": {},
     "output_type": "display_data"
    }
   ],
   "source": [
    "x = 1.0:1.0:5.0\n",
    "y = [2.0, 4.0, 5.0, 6.0, 8.0]\n",
    "z = similar(y)\n",
    "z .= x .+ y .- sin.(x) # generates efficient code instead of many temporaries"
   ]
  },
  {
   "cell_type": "markdown",
   "id": "98f89c9b",
   "metadata": {},
   "source": [
    "A convenience macro for adding broadcasting on every function call is `@.`"
   ]
  },
  {
   "cell_type": "code",
   "execution_count": null,
   "id": "c60fb8f9",
   "metadata": {
    "hide-output": false
   },
   "outputs": [],
   "source": [
    "@. z = x + y - sin(x)"
   ]
  },
  {
   "cell_type": "markdown",
   "id": "aa9d9960",
   "metadata": {},
   "source": [
    "Since the `+, -, =` operators are functions, behind the scenes this is broadcasting against both the `x` and `y` vectors.\n",
    "\n",
    "The compiler will fix anything which is a scalar, and otherwise iterate across every vector"
   ]
  },
  {
   "cell_type": "code",
   "execution_count": 10,
   "id": "15e07cc6",
   "metadata": {
    "hide-output": false
   },
   "outputs": [
    {
     "name": "stdout",
     "output_type": "stream",
     "text": [
      "f.(a, b) = [5 7 9]\n",
      "f.(a, 2) = [3 4 5]\n"
     ]
    }
   ],
   "source": [
    "f(a, b) = a + b # bivariate function\n",
    "a = [1 2 3]\n",
    "b = [4 5 6]\n",
    "@show f.(a, b) # across both\n",
    "@show f.(a, 2); # fix scalar for second"
   ]
  },
  {
   "cell_type": "markdown",
   "id": "95d20410",
   "metadata": {},
   "source": [
    "The compiler is only able to detect “scalar” values in this way for a limited number of types (e.g. integers, floating points, etc) and some packages (e.g. Distributions).\n",
    "\n",
    "For other types, you will need to wrap any scalars in `Ref` to fix them, or else it will try to broadcast the value.\n",
    "\n",
    "Another place that you may use a `Ref` is to fix a function parameter you do not want to broadcast over."
   ]
  },
  {
   "cell_type": "code",
   "execution_count": 13,
   "id": "ae11dd7e",
   "metadata": {
    "hide-output": false
   },
   "outputs": [
    {
     "data": {
      "text/plain": [
       "2-element Vector{Int64}:\n",
       " 28\n",
       " 29"
      ]
     },
     "metadata": {},
     "output_type": "display_data"
    }
   ],
   "source": [
    "f(x, y) = [1, 2, 3] ⋅ x + y   # \"⋅\" can be typed by \\cdot<tab>\n",
    "f([3, 4, 5], 2)   # uses vector as first parameter\n",
    "f.(Ref([3, 4, 5]), [2, 3])   # broadcasting over 2nd parameter, fixing first"
   ]
  },
  {
   "cell_type": "markdown",
   "id": "8c4248dd",
   "metadata": {},
   "source": [
    "## Scoping and Closures\n",
    "\n",
    "Since global variables are usually a bad idea, we will concentrate on understanding the role of good local scoping practice.\n",
    "\n",
    "That said, while many of the variables in these Jupyter notebook are global, we have been careful to write the code so that the entire code could be copied inside of a function.\n",
    "\n",
    "When copied inside a function, variables become local and functions become closures.\n",
    "\n",
    "**Warning**.\n",
    "\n",
    "For/while loops and global variables in Jupyter vs. the REPL:\n",
    "\n",
    "- In the current version of Julia, there is a distinction between the use of scope in an interactive Jupyter environment.  \n",
    "- The description here of globals applies to Jupyter notebooks, and may also apply to the REPL and top-level scripts.  \n",
    "- In general, you should be creating functions when working with .jl files, and the distinction generally won’t apply.  \n",
    "\n",
    "\n",
    "For more information on using globals outside of Jupyter,\n",
    "([see variable scoping documentation](https://docs.julialang.org/en/v1/manual/variables-and-scoping/)), though these rules are likely to become consistent in a future version."
   ]
  },
  {
   "cell_type": "markdown",
   "id": "b8dbcd78",
   "metadata": {},
   "source": [
    "### Functions\n",
    "\n",
    "The scope of a variable name determines where it is valid to refer to it, and how clashes between names can occur.\n",
    "\n",
    "Think of the scope as a list of all of the name bindings of relevant variables.\n",
    "\n",
    "Different scopes could contain the same name but be assigned to different things.\n",
    "\n",
    "An obvious place to start is to notice that functions introduce their own local names."
   ]
  },
  {
   "cell_type": "code",
   "execution_count": 14,
   "id": "6ace89a6",
   "metadata": {
    "hide-output": false
   },
   "outputs": [
    {
     "data": {
      "text/plain": [
       "25"
      ]
     },
     "metadata": {},
     "output_type": "display_data"
    }
   ],
   "source": [
    "f(x) = x^2  # local `x` in scope\n",
    "\n",
    "# x is not bound to anything in this outer scope\n",
    "y = 5\n",
    "f(y)"
   ]
  },
  {
   "cell_type": "markdown",
   "id": "efa36b5d",
   "metadata": {},
   "source": [
    "This would be roughly equivalent to"
   ]
  },
  {
   "cell_type": "code",
   "execution_count": 15,
   "id": "582d5993",
   "metadata": {
    "hide-output": false
   },
   "outputs": [
    {
     "data": {
      "text/plain": [
       "25"
      ]
     },
     "metadata": {},
     "output_type": "display_data"
    }
   ],
   "source": [
    "function g() # scope within the `g` function\n",
    "    f(x) = x^2 # local `x` in scope\n",
    "\n",
    "    # x is not bound to anything in this outer scope\n",
    "    y = 5\n",
    "    f(y)\n",
    "end\n",
    "g() # run the function"
   ]
  },
  {
   "cell_type": "markdown",
   "id": "9c4d188c",
   "metadata": {},
   "source": [
    "This is also equivalent if the `y` was changed to `x`, since it is a different scope."
   ]
  },
  {
   "cell_type": "code",
   "execution_count": 16,
   "id": "6fe811cc",
   "metadata": {
    "hide-output": false
   },
   "outputs": [
    {
     "data": {
      "text/plain": [
       "25"
      ]
     },
     "metadata": {},
     "output_type": "display_data"
    }
   ],
   "source": [
    "f(x) = x^2  # local `x` in scope\n",
    "\n",
    "# x is not bound to anything in this outer scope\n",
    "x = 5   # a different `x` than the local variable name\n",
    "f(x)    # calling `f` with `x`"
   ]
  },
  {
   "cell_type": "markdown",
   "id": "a0d57d40",
   "metadata": {},
   "source": [
    "The scoping also applies to named arguments in functions."
   ]
  },
  {
   "cell_type": "code",
   "execution_count": 17,
   "id": "3f531710",
   "metadata": {
    "hide-output": false
   },
   "outputs": [
    {
     "data": {
      "text/plain": [
       "2.1"
      ]
     },
     "metadata": {},
     "output_type": "display_data"
    }
   ],
   "source": [
    "f(x; y = 1) = x + y  # `x` and `y` are names local to the `f` function\n",
    "xval = 0.1\n",
    "yval = 2\n",
    "f(xval; y = yval)"
   ]
  },
  {
   "cell_type": "markdown",
   "id": "00bb079a",
   "metadata": {},
   "source": [
    "Due to scoping, you could write this as"
   ]
  },
  {
   "cell_type": "code",
   "execution_count": 18,
   "id": "b691e04f",
   "metadata": {
    "hide-output": false
   },
   "outputs": [
    {
     "data": {
      "text/plain": [
       "2.1"
      ]
     },
     "metadata": {},
     "output_type": "display_data"
    }
   ],
   "source": [
    "f(x; y = 1) = x + y  # `x` and `y` are names local to the `f` function\n",
    "x = 0.1\n",
    "y = 2\n",
    "f(x; y) # the type and value of y taken from scope"
   ]
  },
  {
   "cell_type": "markdown",
   "id": "86671299",
   "metadata": {},
   "source": [
    "As always, the `f(x;y)` is equivalent to `f(x;y=y)`.\n",
    "\n",
    "Similarly to named arguments, the local scope also works with named tuples."
   ]
  },
  {
   "cell_type": "code",
   "execution_count": 19,
   "id": "e10b75af",
   "metadata": {
    "hide-output": false
   },
   "outputs": [
    {
     "name": "stdout",
     "output_type": "stream",
     "text": [
      "(; x = xval, y = yval) = (x = 0.1, y = 2)\n",
      "(; x = x, y = y) = (x = 0.1, y = 2)\n",
      "(; x, y) = (x = 0.1, y = 2)\n"
     ]
    }
   ],
   "source": [
    "xval = 0.1\n",
    "yval = 2\n",
    "@show (; x = xval, y = yval)  # named tuple with names `x` and `y`\n",
    "\n",
    "x = 0.1\n",
    "y = 2\n",
    "\n",
    "# create a named tuple with names `x` and `y` local to the tuple\n",
    "@show (; x = x, y = y)\n",
    "\n",
    "# better yet\n",
    "@show (; x, y);"
   ]
  },
  {
   "cell_type": "markdown",
   "id": "9e4c3c8f",
   "metadata": {},
   "source": [
    "As you use Julia, you will find that scoping is very natural and that there is no reason to avoid using `x` and `y` in both places.\n",
    "\n",
    "In fact, it frequently leads to clear code closer to the math when you don’t need to specify intermediaries.\n",
    "\n",
    "Another example is with broadcasting"
   ]
  },
  {
   "cell_type": "code",
   "execution_count": 1,
   "id": "d615e4ff",
   "metadata": {
    "hide-output": false
   },
   "outputs": [
    {
     "data": {
      "text/plain": [
       "5-element Vector{Int64}:\n",
       "  1\n",
       "  4\n",
       "  9\n",
       " 16\n",
       " 25"
      ]
     },
     "metadata": {},
     "output_type": "display_data"
    }
   ],
   "source": [
    "f(x) = x^2  # local `x` in scope\n",
    "\n",
    "x = 1:5     # not an integer\n",
    "\n",
    "f.(x)       # broadcasts the x^2 function over the vector"
   ]
  },
  {
   "cell_type": "markdown",
   "id": "ae96be92",
   "metadata": {},
   "source": [
    "### Closures\n",
    "\n",
    "Frequently, you will want to have a function that calculates a value given some fixed parameters."
   ]
  },
  {
   "cell_type": "code",
   "execution_count": 2,
   "id": "dd3497b9",
   "metadata": {
    "hide-output": false
   },
   "outputs": [
    {
     "data": {
      "text/plain": [
       "0.2"
      ]
     },
     "metadata": {},
     "output_type": "display_data"
    }
   ],
   "source": [
    "f(x, a) = a * x^2\n",
    "\n",
    "f(1, 0.2)"
   ]
  },
  {
   "cell_type": "markdown",
   "id": "a143dc38",
   "metadata": {},
   "source": [
    "While the above was convenient, there are other times when you want to simply fix a variable or refer to something already calculated."
   ]
  },
  {
   "cell_type": "code",
   "execution_count": 3,
   "id": "5862c8ff",
   "metadata": {
    "hide-output": false
   },
   "outputs": [
    {
     "data": {
      "text/plain": [
       "0.2"
      ]
     },
     "metadata": {},
     "output_type": "display_data"
    }
   ],
   "source": [
    "a = 0.2\n",
    "f(x) = a * x^2     # refers to the `a` in the outer scope\n",
    "f(1)               # univariate function"
   ]
  },
  {
   "cell_type": "markdown",
   "id": "5d88493a",
   "metadata": {},
   "source": [
    "When the function `f` is parsed in Julia, it will look to see if any of the variables are already defined in the current scope.\n",
    "\n",
    "In this case, it finds the `a` since it was defined previously, whereas if the\n",
    "code defines `a = 0.2` **after** the `f(x)` definition, it would fail.\n",
    "\n",
    "This also works when embedded in other functions"
   ]
  },
  {
   "cell_type": "code",
   "execution_count": 4,
   "id": "8866931e",
   "metadata": {
    "hide-output": false
   },
   "outputs": [
    {
     "data": {
      "text/plain": [
       "0.2"
      ]
     },
     "metadata": {},
     "output_type": "display_data"
    }
   ],
   "source": [
    "function g(a)\n",
    "    f(x) = a * x^2  # refers to the `a` passed in the function\n",
    "    f(1)            # univariate function\n",
    "end\n",
    "g(0.2)"
   ]
  },
  {
   "cell_type": "markdown",
   "id": "2b85dbe4",
   "metadata": {},
   "source": [
    "Comparing the two:  the key here is not that `a` is a global variable, but rather that the `f` function is defined to capture a variable from an outer scope.\n",
    "\n",
    "This is called a **closure**, and are used throughout the lectures.\n",
    "\n",
    "It is generally bad practice to modify the captured variable in the function, but otherwise the code becomes very clear.\n",
    "\n",
    "One place where this can be helpful is in a string of dependent calculations.\n",
    "\n",
    "For example, if you wanted to calculate a `(a, b, c)` from $ a = f(x), b = g(a), c = h(a, b) $ where $ f(x) = x^2, g(a) = 2 a, h(a, b) = a + b $"
   ]
  },
  {
   "cell_type": "code",
   "execution_count": 5,
   "id": "8b7e84aa",
   "metadata": {
    "hide-output": false
   },
   "outputs": [
    {
     "data": {
      "text/plain": [
       "(a = 0.010000000000000002, b = 0.020000000000000004, c = 0.030000000000000006)"
      ]
     },
     "metadata": {},
     "output_type": "display_data"
    }
   ],
   "source": [
    "function solve_model(x)\n",
    "    a = x^2\n",
    "    b = 2 * a\n",
    "    c = a + b\n",
    "    return (; a, b, c)  # note local scope of tuples!\n",
    "end\n",
    "\n",
    "solve_model(0.1)"
   ]
  },
  {
   "cell_type": "markdown",
   "id": "13097c63",
   "metadata": {},
   "source": [
    "Named tuple and structure parameters can then be unpacked using the reverse notation,"
   ]
  },
  {
   "cell_type": "code",
   "execution_count": 6,
   "id": "27fa08a4",
   "metadata": {
    "hide-output": false
   },
   "outputs": [
    {
     "name": "stdout",
     "output_type": "stream",
     "text": [
      "a = 0.010000000000000002, b = 0.020000000000000004, c = 0.030000000000000006\n"
     ]
    }
   ],
   "source": [
    "(; a, b, c) = solve_model(0.1)\n",
    "println(\"a = $a, b = $b, c = $c\")"
   ]
  },
  {
   "cell_type": "markdown",
   "id": "939fadd9",
   "metadata": {},
   "source": [
    "### Higher-Order Functions\n",
    "\n",
    "One of the benefits of working with closures and functions is that you can return them from other functions.\n",
    "\n",
    "This leads to some natural programming patterns we have already been using, where we can use **functions of functions** and **functions returning functions** (or closures).\n",
    "\n",
    "To see a simple example, consider functions that accept other functions (including closures)"
   ]
  },
  {
   "cell_type": "code",
   "execution_count": 7,
   "id": "d5fb04c5",
   "metadata": {
    "hide-output": false
   },
   "outputs": [
    {
     "name": "stdout",
     "output_type": "stream",
     "text": [
      "twice(f, 2.0) = 16.0\n",
      "twice(g, 2.0) = 50.0\n"
     ]
    }
   ],
   "source": [
    "twice(f, x) = f(f(x))  # applies f to itself twice\n",
    "f(x) = x^2\n",
    "@show twice(f, 2.0)\n",
    "\n",
    "twice(x -> x^2, 2.0)\n",
    "a = 5\n",
    "g(x) = a * x\n",
    "@show twice(g, 2.0);   # using a closure"
   ]
  },
  {
   "cell_type": "markdown",
   "id": "1d2fa17a",
   "metadata": {},
   "source": [
    "This pattern has already been used extensively in our code and is key to keeping things like interpolation, numerical integration, and plotting.\n",
    "\n",
    "An example is for a function that returns a closure itself."
   ]
  },
  {
   "cell_type": "code",
   "execution_count": 8,
   "id": "f1ae0e2f",
   "metadata": {
    "hide-output": false
   },
   "outputs": [
    {
     "data": {
      "text/plain": [
       "8.0"
      ]
     },
     "metadata": {},
     "output_type": "display_data"
    }
   ],
   "source": [
    "function multiplyit(a, g)\n",
    "    return x -> a * g(x) # function with `g` used in the closure\n",
    "end\n",
    "\n",
    "f(x) = x^2\n",
    "h = multiplyit(2.0, f) # returns function which doubles the result\n",
    "h(2)     # returned function is like any other function"
   ]
  },
  {
   "cell_type": "markdown",
   "id": "27f7653a",
   "metadata": {},
   "source": [
    "You can create and define using `function` as well"
   ]
  },
  {
   "cell_type": "code",
   "execution_count": 13,
   "id": "53e20d6f",
   "metadata": {
    "hide-output": false
   },
   "outputs": [
    {
     "data": {
      "image/png": "[encoded data removed]",
      "image/svg+xml": [
       "<?xml version=\"1.0\" encoding=\"utf-8\"?>\n",
       "<svg xmlns=\"http://www.w3.org/2000/svg\" xmlns:xlink=\"http://www.w3.org/1999/xlink\" width=\"600\" height=\"400\" viewBox=\"0 0 2400 1600\">\n",
       "<defs>\n",
       "  <clipPath id=\"clip480\">\n",
       "    <rect x=\"0\" y=\"0\" width=\"2400\" height=\"1600\"/>\n",
       "  </clipPath>\n",
       "</defs>\n",
       "<path clip-path=\"url(#clip480)\" d=\"M0 1600 L2400 1600 L2400 0 L0 0  Z\" fill=\"#ffffff\" fill-rule=\"evenodd\" fill-opacity=\"1\"/>\n",
       "<defs>\n",
       "  <clipPath id=\"clip481\">\n",
       "    <rect x=\"480\" y=\"0\" width=\"1681\" height=\"1600\"/>\n",
       "  </clipPath>\n",
       "</defs>\n",
       "<path clip-path=\"url(#clip480)\" d=\"M112.177 1486.45 L2352.76 1486.45 L2352.76 47.2441 L112.177 47.2441  Z\" fill=\"#ffffff\" fill-rule=\"evenodd\" fill-opacity=\"1\"/>\n",
       "<defs>\n",
       "  <clipPath id=\"clip482\">\n",
       "    <rect x=\"112\" y=\"47\" width=\"2242\" height=\"1440\"/>\n",
       "  </clipPath>\n",
       "</defs>\n",
       "<polyline clip-path=\"url(#clip482)\" style=\"stroke:#000000; stroke-linecap:round; stroke-linejoin:round; stroke-width:2; stroke-opacity:0.1; fill:none\" points=\"175.59,1486.45 175.59,47.2441 \"/>\n",
       "<polyline clip-path=\"url(#clip482)\" style=\"stroke:#000000; stroke-linecap:round; stroke-linejoin:round; stroke-width:2; stroke-opacity:0.1; fill:none\" points=\"880.174,1486.45 880.174,47.2441 \"/>\n",
       "<polyline clip-path=\"url(#clip482)\" style=\"stroke:#000000; stroke-linecap:round; stroke-linejoin:round; stroke-width:2; stroke-opacity:0.1; fill:none\" points=\"1584.76,1486.45 1584.76,47.2441 \"/>\n",
       "<polyline clip-path=\"url(#clip482)\" style=\"stroke:#000000; stroke-linecap:round; stroke-linejoin:round; stroke-width:2; stroke-opacity:0.1; fill:none\" points=\"2289.34,1486.45 2289.34,47.2441 \"/>\n",
       "<polyline clip-path=\"url(#clip480)\" style=\"stroke:#000000; stroke-linecap:round; stroke-linejoin:round; stroke-width:4; stroke-opacity:1; fill:none\" points=\"112.177,1486.45 2352.76,1486.45 \"/>\n",
       "<polyline clip-path=\"url(#clip480)\" style=\"stroke:#000000; stroke-linecap:round; stroke-linejoin:round; stroke-width:4; stroke-opacity:1; fill:none\" points=\"175.59,1486.45 175.59,1467.55 \"/>\n",
       "<polyline clip-path=\"url(#clip480)\" style=\"stroke:#000000; stroke-linecap:round; stroke-linejoin:round; stroke-width:4; stroke-opacity:1; fill:none\" points=\"880.174,1486.45 880.174,1467.55 \"/>\n",
       "<polyline clip-path=\"url(#clip480)\" style=\"stroke:#000000; stroke-linecap:round; stroke-linejoin:round; stroke-width:4; stroke-opacity:1; fill:none\" points=\"1584.76,1486.45 1584.76,1467.55 \"/>\n",
       "<polyline clip-path=\"url(#clip480)\" style=\"stroke:#000000; stroke-linecap:round; stroke-linejoin:round; stroke-width:4; stroke-opacity:1; fill:none\" points=\"2289.34,1486.45 2289.34,1467.55 \"/>\n",
       "<path clip-path=\"url(#clip480)\" d=\"M175.59 1517.37 Q171.979 1517.37 170.15 1520.93 Q168.344 1524.47 168.344 1531.6 Q168.344 1538.71 170.15 1542.27 Q171.979 1545.82 175.59 1545.82 Q179.224 1545.82 181.03 1542.27 Q182.858 1538.71 182.858 1531.6 Q182.858 1524.47 181.03 1520.93 Q179.224 1517.37 175.59 1517.37 M175.59 1513.66 Q181.4 1513.66 184.455 1518.27 Q187.534 1522.85 187.534 1531.6 Q187.534 1540.33 184.455 1544.94 Q181.4 1549.52 175.59 1549.52 Q169.78 1549.52 166.701 1544.94 Q163.645 1540.33 163.645 1531.6 Q163.645 1522.85 166.701 1518.27 Q169.78 1513.66 175.59 1513.66 Z\" fill=\"#000000\" fill-rule=\"nonzero\" fill-opacity=\"1\" /><path clip-path=\"url(#clip480)\" d=\"M870.556 1544.91 L878.195 1544.91 L878.195 1518.55 L869.885 1520.21 L869.885 1515.95 L878.149 1514.29 L882.825 1514.29 L882.825 1544.91 L890.464 1544.91 L890.464 1548.85 L870.556 1548.85 L870.556 1544.91 Z\" fill=\"#000000\" fill-rule=\"nonzero\" fill-opacity=\"1\" /><path clip-path=\"url(#clip480)\" d=\"M1579.41 1544.91 L1595.73 1544.91 L1595.73 1548.85 L1573.79 1548.85 L1573.79 1544.91 Q1576.45 1542.16 1581.03 1537.53 Q1585.64 1532.88 1586.82 1531.53 Q1589.06 1529.01 1589.94 1527.27 Q1590.85 1525.51 1590.85 1523.82 Q1590.85 1521.07 1588.9 1519.33 Q1586.98 1517.6 1583.88 1517.6 Q1581.68 1517.6 1579.23 1518.36 Q1576.8 1519.13 1574.02 1520.68 L1574.02 1515.95 Q1576.84 1514.82 1579.3 1514.24 Q1581.75 1513.66 1583.79 1513.66 Q1589.16 1513.66 1592.35 1516.35 Q1595.55 1519.03 1595.55 1523.52 Q1595.55 1525.65 1594.74 1527.57 Q1593.95 1529.47 1591.84 1532.07 Q1591.26 1532.74 1588.16 1535.95 Q1585.06 1539.15 1579.41 1544.91 Z\" fill=\"#000000\" fill-rule=\"nonzero\" fill-opacity=\"1\" /><path clip-path=\"url(#clip480)\" d=\"M2293.59 1530.21 Q2296.95 1530.93 2298.82 1533.2 Q2300.72 1535.47 2300.72 1538.8 Q2300.72 1543.92 2297.2 1546.72 Q2293.68 1549.52 2287.2 1549.52 Q2285.03 1549.52 2282.71 1549.08 Q2280.42 1548.66 2277.97 1547.81 L2277.97 1543.29 Q2279.91 1544.43 2282.23 1545.01 Q2284.54 1545.58 2287.06 1545.58 Q2291.46 1545.58 2293.75 1543.85 Q2296.07 1542.11 2296.07 1538.8 Q2296.07 1535.75 2293.92 1534.03 Q2291.79 1532.3 2287.97 1532.3 L2283.94 1532.3 L2283.94 1528.45 L2288.15 1528.45 Q2291.6 1528.45 2293.43 1527.09 Q2295.26 1525.7 2295.26 1523.11 Q2295.26 1520.45 2293.36 1519.03 Q2291.48 1517.6 2287.97 1517.6 Q2286.04 1517.6 2283.85 1518.01 Q2281.65 1518.43 2279.01 1519.31 L2279.01 1515.14 Q2281.67 1514.4 2283.98 1514.03 Q2286.32 1513.66 2288.38 1513.66 Q2293.71 1513.66 2296.81 1516.09 Q2299.91 1518.5 2299.91 1522.62 Q2299.91 1525.49 2298.27 1527.48 Q2296.62 1529.45 2293.59 1530.21 Z\" fill=\"#000000\" fill-rule=\"nonzero\" fill-opacity=\"1\" /><polyline clip-path=\"url(#clip482)\" style=\"stroke:#000000; stroke-linecap:round; stroke-linejoin:round; stroke-width:2; stroke-opacity:0.1; fill:none\" points=\"112.177,1445.72 2352.76,1445.72 \"/>\n",
       "<polyline clip-path=\"url(#clip482)\" style=\"stroke:#000000; stroke-linecap:round; stroke-linejoin:round; stroke-width:2; stroke-opacity:0.1; fill:none\" points=\"112.177,1174.17 2352.76,1174.17 \"/>\n",
       "<polyline clip-path=\"url(#clip482)\" style=\"stroke:#000000; stroke-linecap:round; stroke-linejoin:round; stroke-width:2; stroke-opacity:0.1; fill:none\" points=\"112.177,902.62 2352.76,902.62 \"/>\n",
       "<polyline clip-path=\"url(#clip482)\" style=\"stroke:#000000; stroke-linecap:round; stroke-linejoin:round; stroke-width:2; stroke-opacity:0.1; fill:none\" points=\"112.177,631.072 2352.76,631.072 \"/>\n",
       "<polyline clip-path=\"url(#clip482)\" style=\"stroke:#000000; stroke-linecap:round; stroke-linejoin:round; stroke-width:2; stroke-opacity:0.1; fill:none\" points=\"112.177,359.524 2352.76,359.524 \"/>\n",
       "<polyline clip-path=\"url(#clip482)\" style=\"stroke:#000000; stroke-linecap:round; stroke-linejoin:round; stroke-width:2; stroke-opacity:0.1; fill:none\" points=\"112.177,87.9763 2352.76,87.9763 \"/>\n",
       "<polyline clip-path=\"url(#clip480)\" style=\"stroke:#000000; stroke-linecap:round; stroke-linejoin:round; stroke-width:4; stroke-opacity:1; fill:none\" points=\"112.177,1486.45 112.177,47.2441 \"/>\n",
       "<polyline clip-path=\"url(#clip480)\" style=\"stroke:#000000; stroke-linecap:round; stroke-linejoin:round; stroke-width:4; stroke-opacity:1; fill:none\" points=\"112.177,1445.72 131.075,1445.72 \"/>\n",
       "<polyline clip-path=\"url(#clip480)\" style=\"stroke:#000000; stroke-linecap:round; stroke-linejoin:round; stroke-width:4; stroke-opacity:1; fill:none\" points=\"112.177,1174.17 131.075,1174.17 \"/>\n",
       "<polyline clip-path=\"url(#clip480)\" style=\"stroke:#000000; stroke-linecap:round; stroke-linejoin:round; stroke-width:4; stroke-opacity:1; fill:none\" points=\"112.177,902.62 131.075,902.62 \"/>\n",
       "<polyline clip-path=\"url(#clip480)\" style=\"stroke:#000000; stroke-linecap:round; stroke-linejoin:round; stroke-width:4; stroke-opacity:1; fill:none\" points=\"112.177,631.072 131.075,631.072 \"/>\n",
       "<polyline clip-path=\"url(#clip480)\" style=\"stroke:#000000; stroke-linecap:round; stroke-linejoin:round; stroke-width:4; stroke-opacity:1; fill:none\" points=\"112.177,359.524 131.075,359.524 \"/>\n",
       "<polyline clip-path=\"url(#clip480)\" style=\"stroke:#000000; stroke-linecap:round; stroke-linejoin:round; stroke-width:4; stroke-opacity:1; fill:none\" points=\"112.177,87.9763 131.075,87.9763 \"/>\n",
       "<path clip-path=\"url(#clip480)\" d=\"M66.5939 1432.51 L54.7884 1450.96 L66.5939 1450.96 L66.5939 1432.51 M65.367 1428.44 L71.2466 1428.44 L71.2466 1450.96 L76.1772 1450.96 L76.1772 1454.85 L71.2466 1454.85 L71.2466 1463 L66.5939 1463 L66.5939 1454.85 L50.9921 1454.85 L50.9921 1450.33 L65.367 1428.44 Z\" fill=\"#000000\" fill-rule=\"nonzero\" fill-opacity=\"1\" /><path clip-path=\"url(#clip480)\" d=\"M55.2745 1156.89 L73.6309 1156.89 L73.6309 1160.82 L59.5569 1160.82 L59.5569 1169.3 Q60.5754 1168.95 61.5939 1168.79 Q62.6124 1168.6 63.6309 1168.6 Q69.418 1168.6 72.7976 1171.77 Q76.1772 1174.94 76.1772 1180.36 Q76.1772 1185.94 72.705 1189.04 Q69.2328 1192.12 62.9134 1192.12 Q60.7374 1192.12 58.4689 1191.75 Q56.2236 1191.38 53.8162 1190.64 L53.8162 1185.94 Q55.8995 1187.07 58.1217 1187.63 Q60.3439 1188.18 62.8208 1188.18 Q66.8254 1188.18 69.1633 1186.08 Q71.5013 1183.97 71.5013 1180.36 Q71.5013 1176.75 69.1633 1174.64 Q66.8254 1172.54 62.8208 1172.54 Q60.9458 1172.54 59.0708 1172.95 Q57.2189 1173.37 55.2745 1174.25 L55.2745 1156.89 Z\" fill=\"#000000\" fill-rule=\"nonzero\" fill-opacity=\"1\" /><path clip-path=\"url(#clip480)\" d=\"M64.6495 900.757 Q61.5013 900.757 59.6495 902.909 Q57.8208 905.062 57.8208 908.812 Q57.8208 912.539 59.6495 914.715 Q61.5013 916.868 64.6495 916.868 Q67.7976 916.868 69.6263 914.715 Q71.4781 912.539 71.4781 908.812 Q71.4781 905.062 69.6263 902.909 Q67.7976 900.757 64.6495 900.757 M73.9318 886.104 L73.9318 890.363 Q72.1726 889.53 70.367 889.09 Q68.5846 888.65 66.8254 888.65 Q62.1958 888.65 59.7421 891.775 Q57.3115 894.9 56.9643 901.219 Q58.33 899.206 60.3902 898.141 Q62.4504 897.053 64.9272 897.053 Q70.1355 897.053 73.1448 900.224 Q76.1772 903.372 76.1772 908.812 Q76.1772 914.136 73.029 917.354 Q69.8809 920.571 64.6495 920.571 Q58.6541 920.571 55.4828 915.988 Q52.3116 911.381 52.3116 902.655 Q52.3116 894.46 56.2004 889.599 Q60.0893 884.715 66.6402 884.715 Q68.3994 884.715 70.1818 885.062 Q71.9874 885.409 73.9318 886.104 Z\" fill=\"#000000\" fill-rule=\"nonzero\" fill-opacity=\"1\" /><path clip-path=\"url(#clip480)\" d=\"M53.9551 613.792 L76.1772 613.792 L76.1772 615.783 L63.6309 648.352 L58.7467 648.352 L70.5522 617.727 L53.9551 617.727 L53.9551 613.792 Z\" fill=\"#000000\" fill-rule=\"nonzero\" fill-opacity=\"1\" /><path clip-path=\"url(#clip480)\" d=\"M64.3254 360.392 Q60.9921 360.392 59.0708 362.175 Q57.1726 363.957 57.1726 367.082 Q57.1726 370.207 59.0708 371.989 Q60.9921 373.772 64.3254 373.772 Q67.6587 373.772 69.58 371.989 Q71.5013 370.184 71.5013 367.082 Q71.5013 363.957 69.58 362.175 Q67.6819 360.392 64.3254 360.392 M59.6495 358.401 Q56.6402 357.661 54.9504 355.601 Q53.2838 353.54 53.2838 350.577 Q53.2838 346.434 56.2236 344.027 Q59.1865 341.619 64.3254 341.619 Q69.4874 341.619 72.4272 344.027 Q75.367 346.434 75.367 350.577 Q75.367 353.54 73.6772 355.601 Q72.0105 357.661 69.0244 358.401 Q72.404 359.189 74.279 361.48 Q76.1772 363.772 76.1772 367.082 Q76.1772 372.105 73.0985 374.79 Q70.0429 377.475 64.3254 377.475 Q58.6078 377.475 55.5291 374.79 Q52.4736 372.105 52.4736 367.082 Q52.4736 363.772 54.3717 361.48 Q56.2699 359.189 59.6495 358.401 M57.9365 351.017 Q57.9365 353.702 59.6032 355.207 Q61.293 356.712 64.3254 356.712 Q67.3346 356.712 69.0244 355.207 Q70.7374 353.702 70.7374 351.017 Q70.7374 348.332 69.0244 346.827 Q67.3346 345.323 64.3254 345.323 Q61.293 345.323 59.6032 346.827 Q57.9365 348.332 57.9365 351.017 Z\" fill=\"#000000\" fill-rule=\"nonzero\" fill-opacity=\"1\" /><path clip-path=\"url(#clip480)\" d=\"M54.5569 104.539 L54.5569 100.279 Q56.3162 101.113 58.1217 101.553 Q59.9273 101.992 61.6634 101.992 Q66.293 101.992 68.7235 98.8906 Q71.1772 95.7656 71.5244 89.423 Q70.1818 91.4138 68.1217 92.4786 Q66.0615 93.5434 63.5615 93.5434 Q58.3763 93.5434 55.344 90.4184 Q52.3347 87.2703 52.3347 81.8305 Q52.3347 76.5064 55.4828 73.2889 Q58.631 70.0713 63.8624 70.0713 Q69.8578 70.0713 73.0059 74.6777 Q76.1772 79.261 76.1772 88.011 Q76.1772 96.1823 72.2883 101.066 Q68.4226 105.928 61.8717 105.928 Q60.1124 105.928 58.3069 105.58 Q56.5014 105.233 54.5569 104.539 M63.8624 89.886 Q67.0106 89.886 68.8393 87.7332 Q70.6911 85.5805 70.6911 81.8305 Q70.6911 78.1036 68.8393 75.9509 Q67.0106 73.775 63.8624 73.775 Q60.7143 73.775 58.8625 75.9509 Q57.0338 78.1036 57.0338 81.8305 Q57.0338 85.5805 58.8625 87.7332 Q60.7143 89.886 63.8624 89.886 Z\" fill=\"#000000\" fill-rule=\"nonzero\" fill-opacity=\"1\" /><polyline clip-path=\"url(#clip482)\" style=\"stroke:#009af9; stroke-linecap:round; stroke-linejoin:round; stroke-width:4; stroke-opacity:1; fill:none\" points=\"175.59,1445.72 246.048,1445.72 316.507,1445.72 386.965,1445.72 457.424,1445.72 527.882,1445.72 598.34,1445.72 668.799,1445.72 739.257,1445.72 809.716,1445.72 880.174,1445.72 950.633,1445.72 1021.09,1445.72 1091.55,1445.72 1162.01,1445.72 1232.47,1445.72 1302.92,1445.72 1373.38,1445.72 1443.84,1445.72 1514.3,1445.72 1584.76,1445.72 1655.22,1334.38 1725.68,1217.62 1796.13,1095.42 1866.59,967.791 1937.05,834.733 2007.51,696.244 2077.97,552.323 2148.43,402.972 2218.88,248.19 2289.34,87.9763 \"/>\n",
       "<path clip-path=\"url(#clip480)\" d=\"M186.863 198.898 L463.351 198.898 L463.351 95.2176 L186.863 95.2176  Z\" fill=\"#ffffff\" fill-rule=\"evenodd\" fill-opacity=\"1\"/>\n",
       "<polyline clip-path=\"url(#clip480)\" style=\"stroke:#000000; stroke-linecap:round; stroke-linejoin:round; stroke-width:4; stroke-opacity:1; fill:none\" points=\"186.863,198.898 463.351,198.898 463.351,95.2176 186.863,95.2176 186.863,198.898 \"/>\n",
       "<polyline clip-path=\"url(#clip480)\" style=\"stroke:#009af9; stroke-linecap:round; stroke-linejoin:round; stroke-width:4; stroke-opacity:1; fill:none\" points=\"211.758,147.058 361.13,147.058 \"/>\n",
       "<path clip-path=\"url(#clip480)\" d=\"M399.868 166.745 Q398.063 171.375 396.35 172.787 Q394.637 174.199 391.766 174.199 L388.364 174.199 L388.364 170.634 L390.864 170.634 Q392.623 170.634 393.595 169.8 Q394.567 168.967 395.748 165.865 L396.512 163.921 L386.026 138.412 L390.54 138.412 L398.641 158.689 L406.743 138.412 L411.257 138.412 L399.868 166.745 Z\" fill=\"#000000\" fill-rule=\"nonzero\" fill-opacity=\"1\" /><path clip-path=\"url(#clip480)\" d=\"M418.549 160.402 L426.188 160.402 L426.188 134.037 L417.877 135.703 L417.877 131.444 L426.141 129.778 L430.817 129.778 L430.817 160.402 L438.456 160.402 L438.456 164.338 L418.549 164.338 L418.549 160.402 Z\" fill=\"#000000\" fill-rule=\"nonzero\" fill-opacity=\"1\" /></svg>\n"
      ],
      "text/html": [
       "<?xml version=\"1.0\" encoding=\"utf-8\"?>\n",
       "<svg xmlns=\"http://www.w3.org/2000/svg\" xmlns:xlink=\"http://www.w3.org/1999/xlink\" width=\"600\" height=\"400\" viewBox=\"0 0 2400 1600\">\n",
       "<defs>\n",
       "  <clipPath id=\"clip530\">\n",
       "    <rect x=\"0\" y=\"0\" width=\"2400\" height=\"1600\"/>\n",
       "  </clipPath>\n",
       "</defs>\n",
       "<path clip-path=\"url(#clip530)\" d=\"M0 1600 L2400 1600 L2400 0 L0 0  Z\" fill=\"#ffffff\" fill-rule=\"evenodd\" fill-opacity=\"1\"/>\n",
       "<defs>\n",
       "  <clipPath id=\"clip531\">\n",
       "    <rect x=\"480\" y=\"0\" width=\"1681\" height=\"1600\"/>\n",
       "  </clipPath>\n",
       "</defs>\n",
       "<path clip-path=\"url(#clip530)\" d=\"M112.177 1486.45 L2352.76 1486.45 L2352.76 47.2441 L112.177 47.2441  Z\" fill=\"#ffffff\" fill-rule=\"evenodd\" fill-opacity=\"1\"/>\n",
       "<defs>\n",
       "  <clipPath id=\"clip532\">\n",
       "    <rect x=\"112\" y=\"47\" width=\"2242\" height=\"1440\"/>\n",
       "  </clipPath>\n",
       "</defs>\n",
       "<polyline clip-path=\"url(#clip532)\" style=\"stroke:#000000; stroke-linecap:round; stroke-linejoin:round; stroke-width:2; stroke-opacity:0.1; fill:none\" points=\"175.59,1486.45 175.59,47.2441 \"/>\n",
       "<polyline clip-path=\"url(#clip532)\" style=\"stroke:#000000; stroke-linecap:round; stroke-linejoin:round; stroke-width:2; stroke-opacity:0.1; fill:none\" points=\"880.174,1486.45 880.174,47.2441 \"/>\n",
       "<polyline clip-path=\"url(#clip532)\" style=\"stroke:#000000; stroke-linecap:round; stroke-linejoin:round; stroke-width:2; stroke-opacity:0.1; fill:none\" points=\"1584.76,1486.45 1584.76,47.2441 \"/>\n",
       "<polyline clip-path=\"url(#clip532)\" style=\"stroke:#000000; stroke-linecap:round; stroke-linejoin:round; stroke-width:2; stroke-opacity:0.1; fill:none\" points=\"2289.34,1486.45 2289.34,47.2441 \"/>\n",
       "<polyline clip-path=\"url(#clip530)\" style=\"stroke:#000000; stroke-linecap:round; stroke-linejoin:round; stroke-width:4; stroke-opacity:1; fill:none\" points=\"112.177,1486.45 2352.76,1486.45 \"/>\n",
       "<polyline clip-path=\"url(#clip530)\" style=\"stroke:#000000; stroke-linecap:round; stroke-linejoin:round; stroke-width:4; stroke-opacity:1; fill:none\" points=\"175.59,1486.45 175.59,1467.55 \"/>\n",
       "<polyline clip-path=\"url(#clip530)\" style=\"stroke:#000000; stroke-linecap:round; stroke-linejoin:round; stroke-width:4; stroke-opacity:1; fill:none\" points=\"880.174,1486.45 880.174,1467.55 \"/>\n",
       "<polyline clip-path=\"url(#clip530)\" style=\"stroke:#000000; stroke-linecap:round; stroke-linejoin:round; stroke-width:4; stroke-opacity:1; fill:none\" points=\"1584.76,1486.45 1584.76,1467.55 \"/>\n",
       "<polyline clip-path=\"url(#clip530)\" style=\"stroke:#000000; stroke-linecap:round; stroke-linejoin:round; stroke-width:4; stroke-opacity:1; fill:none\" points=\"2289.34,1486.45 2289.34,1467.55 \"/>\n",
       "<path clip-path=\"url(#clip530)\" d=\"M175.59 1517.37 Q171.979 1517.37 170.15 1520.93 Q168.344 1524.47 168.344 1531.6 Q168.344 1538.71 170.15 1542.27 Q171.979 1545.82 175.59 1545.82 Q179.224 1545.82 181.03 1542.27 Q182.858 1538.71 182.858 1531.6 Q182.858 1524.47 181.03 1520.93 Q179.224 1517.37 175.59 1517.37 M175.59 1513.66 Q181.4 1513.66 184.455 1518.27 Q187.534 1522.85 187.534 1531.6 Q187.534 1540.33 184.455 1544.94 Q181.4 1549.52 175.59 1549.52 Q169.78 1549.52 166.701 1544.94 Q163.645 1540.33 163.645 1531.6 Q163.645 1522.85 166.701 1518.27 Q169.78 1513.66 175.59 1513.66 Z\" fill=\"#000000\" fill-rule=\"nonzero\" fill-opacity=\"1\" /><path clip-path=\"url(#clip530)\" d=\"M870.556 1544.91 L878.195 1544.91 L878.195 1518.55 L869.885 1520.21 L869.885 1515.95 L878.149 1514.29 L882.825 1514.29 L882.825 1544.91 L890.464 1544.91 L890.464 1548.85 L870.556 1548.85 L870.556 1544.91 Z\" fill=\"#000000\" fill-rule=\"nonzero\" fill-opacity=\"1\" /><path clip-path=\"url(#clip530)\" d=\"M1579.41 1544.91 L1595.73 1544.91 L1595.73 1548.85 L1573.79 1548.85 L1573.79 1544.91 Q1576.45 1542.16 1581.03 1537.53 Q1585.64 1532.88 1586.82 1531.53 Q1589.06 1529.01 1589.94 1527.27 Q1590.85 1525.51 1590.85 1523.82 Q1590.85 1521.07 1588.9 1519.33 Q1586.98 1517.6 1583.88 1517.6 Q1581.68 1517.6 1579.23 1518.36 Q1576.8 1519.13 1574.02 1520.68 L1574.02 1515.95 Q1576.84 1514.82 1579.3 1514.24 Q1581.75 1513.66 1583.79 1513.66 Q1589.16 1513.66 1592.35 1516.35 Q1595.55 1519.03 1595.55 1523.52 Q1595.55 1525.65 1594.74 1527.57 Q1593.95 1529.47 1591.84 1532.07 Q1591.26 1532.74 1588.16 1535.95 Q1585.06 1539.15 1579.41 1544.91 Z\" fill=\"#000000\" fill-rule=\"nonzero\" fill-opacity=\"1\" /><path clip-path=\"url(#clip530)\" d=\"M2293.59 1530.21 Q2296.95 1530.93 2298.82 1533.2 Q2300.72 1535.47 2300.72 1538.8 Q2300.72 1543.92 2297.2 1546.72 Q2293.68 1549.52 2287.2 1549.52 Q2285.03 1549.52 2282.71 1549.08 Q2280.42 1548.66 2277.97 1547.81 L2277.97 1543.29 Q2279.91 1544.43 2282.23 1545.01 Q2284.54 1545.58 2287.06 1545.58 Q2291.46 1545.58 2293.75 1543.85 Q2296.07 1542.11 2296.07 1538.8 Q2296.07 1535.75 2293.92 1534.03 Q2291.79 1532.3 2287.97 1532.3 L2283.94 1532.3 L2283.94 1528.45 L2288.15 1528.45 Q2291.6 1528.45 2293.43 1527.09 Q2295.26 1525.7 2295.26 1523.11 Q2295.26 1520.45 2293.36 1519.03 Q2291.48 1517.6 2287.97 1517.6 Q2286.04 1517.6 2283.85 1518.01 Q2281.65 1518.43 2279.01 1519.31 L2279.01 1515.14 Q2281.67 1514.4 2283.98 1514.03 Q2286.32 1513.66 2288.38 1513.66 Q2293.71 1513.66 2296.81 1516.09 Q2299.91 1518.5 2299.91 1522.62 Q2299.91 1525.49 2298.27 1527.48 Q2296.62 1529.45 2293.59 1530.21 Z\" fill=\"#000000\" fill-rule=\"nonzero\" fill-opacity=\"1\" /><polyline clip-path=\"url(#clip532)\" style=\"stroke:#000000; stroke-linecap:round; stroke-linejoin:round; stroke-width:2; stroke-opacity:0.1; fill:none\" points=\"112.177,1445.72 2352.76,1445.72 \"/>\n",
       "<polyline clip-path=\"url(#clip532)\" style=\"stroke:#000000; stroke-linecap:round; stroke-linejoin:round; stroke-width:2; stroke-opacity:0.1; fill:none\" points=\"112.177,1174.17 2352.76,1174.17 \"/>\n",
       "<polyline clip-path=\"url(#clip532)\" style=\"stroke:#000000; stroke-linecap:round; stroke-linejoin:round; stroke-width:2; stroke-opacity:0.1; fill:none\" points=\"112.177,902.62 2352.76,902.62 \"/>\n",
       "<polyline clip-path=\"url(#clip532)\" style=\"stroke:#000000; stroke-linecap:round; stroke-linejoin:round; stroke-width:2; stroke-opacity:0.1; fill:none\" points=\"112.177,631.072 2352.76,631.072 \"/>\n",
       "<polyline clip-path=\"url(#clip532)\" style=\"stroke:#000000; stroke-linecap:round; stroke-linejoin:round; stroke-width:2; stroke-opacity:0.1; fill:none\" points=\"112.177,359.524 2352.76,359.524 \"/>\n",
       "<polyline clip-path=\"url(#clip532)\" style=\"stroke:#000000; stroke-linecap:round; stroke-linejoin:round; stroke-width:2; stroke-opacity:0.1; fill:none\" points=\"112.177,87.9763 2352.76,87.9763 \"/>\n",
       "<polyline clip-path=\"url(#clip530)\" style=\"stroke:#000000; stroke-linecap:round; stroke-linejoin:round; stroke-width:4; stroke-opacity:1; fill:none\" points=\"112.177,1486.45 112.177,47.2441 \"/>\n",
       "<polyline clip-path=\"url(#clip530)\" style=\"stroke:#000000; stroke-linecap:round; stroke-linejoin:round; stroke-width:4; stroke-opacity:1; fill:none\" points=\"112.177,1445.72 131.075,1445.72 \"/>\n",
       "<polyline clip-path=\"url(#clip530)\" style=\"stroke:#000000; stroke-linecap:round; stroke-linejoin:round; stroke-width:4; stroke-opacity:1; fill:none\" points=\"112.177,1174.17 131.075,1174.17 \"/>\n",
       "<polyline clip-path=\"url(#clip530)\" style=\"stroke:#000000; stroke-linecap:round; stroke-linejoin:round; stroke-width:4; stroke-opacity:1; fill:none\" points=\"112.177,902.62 131.075,902.62 \"/>\n",
       "<polyline clip-path=\"url(#clip530)\" style=\"stroke:#000000; stroke-linecap:round; stroke-linejoin:round; stroke-width:4; stroke-opacity:1; fill:none\" points=\"112.177,631.072 131.075,631.072 \"/>\n",
       "<polyline clip-path=\"url(#clip530)\" style=\"stroke:#000000; stroke-linecap:round; stroke-linejoin:round; stroke-width:4; stroke-opacity:1; fill:none\" points=\"112.177,359.524 131.075,359.524 \"/>\n",
       "<polyline clip-path=\"url(#clip530)\" style=\"stroke:#000000; stroke-linecap:round; stroke-linejoin:round; stroke-width:4; stroke-opacity:1; fill:none\" points=\"112.177,87.9763 131.075,87.9763 \"/>\n",
       "<path clip-path=\"url(#clip530)\" d=\"M66.5939 1432.51 L54.7884 1450.96 L66.5939 1450.96 L66.5939 1432.51 M65.367 1428.44 L71.2466 1428.44 L71.2466 1450.96 L76.1772 1450.96 L76.1772 1454.85 L71.2466 1454.85 L71.2466 1463 L66.5939 1463 L66.5939 1454.85 L50.9921 1454.85 L50.9921 1450.33 L65.367 1428.44 Z\" fill=\"#000000\" fill-rule=\"nonzero\" fill-opacity=\"1\" /><path clip-path=\"url(#clip530)\" d=\"M55.2745 1156.89 L73.6309 1156.89 L73.6309 1160.82 L59.5569 1160.82 L59.5569 1169.3 Q60.5754 1168.95 61.5939 1168.79 Q62.6124 1168.6 63.6309 1168.6 Q69.418 1168.6 72.7976 1171.77 Q76.1772 1174.94 76.1772 1180.36 Q76.1772 1185.94 72.705 1189.04 Q69.2328 1192.12 62.9134 1192.12 Q60.7374 1192.12 58.4689 1191.75 Q56.2236 1191.38 53.8162 1190.64 L53.8162 1185.94 Q55.8995 1187.07 58.1217 1187.63 Q60.3439 1188.18 62.8208 1188.18 Q66.8254 1188.18 69.1633 1186.08 Q71.5013 1183.97 71.5013 1180.36 Q71.5013 1176.75 69.1633 1174.64 Q66.8254 1172.54 62.8208 1172.54 Q60.9458 1172.54 59.0708 1172.95 Q57.2189 1173.37 55.2745 1174.25 L55.2745 1156.89 Z\" fill=\"#000000\" fill-rule=\"nonzero\" fill-opacity=\"1\" /><path clip-path=\"url(#clip530)\" d=\"M64.6495 900.757 Q61.5013 900.757 59.6495 902.909 Q57.8208 905.062 57.8208 908.812 Q57.8208 912.539 59.6495 914.715 Q61.5013 916.868 64.6495 916.868 Q67.7976 916.868 69.6263 914.715 Q71.4781 912.539 71.4781 908.812 Q71.4781 905.062 69.6263 902.909 Q67.7976 900.757 64.6495 900.757 M73.9318 886.104 L73.9318 890.363 Q72.1726 889.53 70.367 889.09 Q68.5846 888.65 66.8254 888.65 Q62.1958 888.65 59.7421 891.775 Q57.3115 894.9 56.9643 901.219 Q58.33 899.206 60.3902 898.141 Q62.4504 897.053 64.9272 897.053 Q70.1355 897.053 73.1448 900.224 Q76.1772 903.372 76.1772 908.812 Q76.1772 914.136 73.029 917.354 Q69.8809 920.571 64.6495 920.571 Q58.6541 920.571 55.4828 915.988 Q52.3116 911.381 52.3116 902.655 Q52.3116 894.46 56.2004 889.599 Q60.0893 884.715 66.6402 884.715 Q68.3994 884.715 70.1818 885.062 Q71.9874 885.409 73.9318 886.104 Z\" fill=\"#000000\" fill-rule=\"nonzero\" fill-opacity=\"1\" /><path clip-path=\"url(#clip530)\" d=\"M53.9551 613.792 L76.1772 613.792 L76.1772 615.783 L63.6309 648.352 L58.7467 648.352 L70.5522 617.727 L53.9551 617.727 L53.9551 613.792 Z\" fill=\"#000000\" fill-rule=\"nonzero\" fill-opacity=\"1\" /><path clip-path=\"url(#clip530)\" d=\"M64.3254 360.392 Q60.9921 360.392 59.0708 362.175 Q57.1726 363.957 57.1726 367.082 Q57.1726 370.207 59.0708 371.989 Q60.9921 373.772 64.3254 373.772 Q67.6587 373.772 69.58 371.989 Q71.5013 370.184 71.5013 367.082 Q71.5013 363.957 69.58 362.175 Q67.6819 360.392 64.3254 360.392 M59.6495 358.401 Q56.6402 357.661 54.9504 355.601 Q53.2838 353.54 53.2838 350.577 Q53.2838 346.434 56.2236 344.027 Q59.1865 341.619 64.3254 341.619 Q69.4874 341.619 72.4272 344.027 Q75.367 346.434 75.367 350.577 Q75.367 353.54 73.6772 355.601 Q72.0105 357.661 69.0244 358.401 Q72.404 359.189 74.279 361.48 Q76.1772 363.772 76.1772 367.082 Q76.1772 372.105 73.0985 374.79 Q70.0429 377.475 64.3254 377.475 Q58.6078 377.475 55.5291 374.79 Q52.4736 372.105 52.4736 367.082 Q52.4736 363.772 54.3717 361.48 Q56.2699 359.189 59.6495 358.401 M57.9365 351.017 Q57.9365 353.702 59.6032 355.207 Q61.293 356.712 64.3254 356.712 Q67.3346 356.712 69.0244 355.207 Q70.7374 353.702 70.7374 351.017 Q70.7374 348.332 69.0244 346.827 Q67.3346 345.323 64.3254 345.323 Q61.293 345.323 59.6032 346.827 Q57.9365 348.332 57.9365 351.017 Z\" fill=\"#000000\" fill-rule=\"nonzero\" fill-opacity=\"1\" /><path clip-path=\"url(#clip530)\" d=\"M54.5569 104.539 L54.5569 100.279 Q56.3162 101.113 58.1217 101.553 Q59.9273 101.992 61.6634 101.992 Q66.293 101.992 68.7235 98.8906 Q71.1772 95.7656 71.5244 89.423 Q70.1818 91.4138 68.1217 92.4786 Q66.0615 93.5434 63.5615 93.5434 Q58.3763 93.5434 55.344 90.4184 Q52.3347 87.2703 52.3347 81.8305 Q52.3347 76.5064 55.4828 73.2889 Q58.631 70.0713 63.8624 70.0713 Q69.8578 70.0713 73.0059 74.6777 Q76.1772 79.261 76.1772 88.011 Q76.1772 96.1823 72.2883 101.066 Q68.4226 105.928 61.8717 105.928 Q60.1124 105.928 58.3069 105.58 Q56.5014 105.233 54.5569 104.539 M63.8624 89.886 Q67.0106 89.886 68.8393 87.7332 Q70.6911 85.5805 70.6911 81.8305 Q70.6911 78.1036 68.8393 75.9509 Q67.0106 73.775 63.8624 73.775 Q60.7143 73.775 58.8625 75.9509 Q57.0338 78.1036 57.0338 81.8305 Q57.0338 85.5805 58.8625 87.7332 Q60.7143 89.886 63.8624 89.886 Z\" fill=\"#000000\" fill-rule=\"nonzero\" fill-opacity=\"1\" /><polyline clip-path=\"url(#clip532)\" style=\"stroke:#009af9; stroke-linecap:round; stroke-linejoin:round; stroke-width:4; stroke-opacity:1; fill:none\" points=\"175.59,1445.72 246.048,1445.72 316.507,1445.72 386.965,1445.72 457.424,1445.72 527.882,1445.72 598.34,1445.72 668.799,1445.72 739.257,1445.72 809.716,1445.72 880.174,1445.72 950.633,1445.72 1021.09,1445.72 1091.55,1445.72 1162.01,1445.72 1232.47,1445.72 1302.92,1445.72 1373.38,1445.72 1443.84,1445.72 1514.3,1445.72 1584.76,1445.72 1655.22,1334.38 1725.68,1217.62 1796.13,1095.42 1866.59,967.791 1937.05,834.733 2007.51,696.244 2077.97,552.323 2148.43,402.972 2218.88,248.19 2289.34,87.9763 \"/>\n",
       "<path clip-path=\"url(#clip530)\" d=\"M186.863 198.898 L463.351 198.898 L463.351 95.2176 L186.863 95.2176  Z\" fill=\"#ffffff\" fill-rule=\"evenodd\" fill-opacity=\"1\"/>\n",
       "<polyline clip-path=\"url(#clip530)\" style=\"stroke:#000000; stroke-linecap:round; stroke-linejoin:round; stroke-width:4; stroke-opacity:1; fill:none\" points=\"186.863,198.898 463.351,198.898 463.351,95.2176 186.863,95.2176 186.863,198.898 \"/>\n",
       "<polyline clip-path=\"url(#clip530)\" style=\"stroke:#009af9; stroke-linecap:round; stroke-linejoin:round; stroke-width:4; stroke-opacity:1; fill:none\" points=\"211.758,147.058 361.13,147.058 \"/>\n",
       "<path clip-path=\"url(#clip530)\" d=\"M399.868 166.745 Q398.063 171.375 396.35 172.787 Q394.637 174.199 391.766 174.199 L388.364 174.199 L388.364 170.634 L390.864 170.634 Q392.623 170.634 393.595 169.8 Q394.567 168.967 395.748 165.865 L396.512 163.921 L386.026 138.412 L390.54 138.412 L398.641 158.689 L406.743 138.412 L411.257 138.412 L399.868 166.745 Z\" fill=\"#000000\" fill-rule=\"nonzero\" fill-opacity=\"1\" /><path clip-path=\"url(#clip530)\" d=\"M418.549 160.402 L426.188 160.402 L426.188 134.037 L417.877 135.703 L417.877 131.444 L426.141 129.778 L430.817 129.778 L430.817 160.402 L438.456 160.402 L438.456 164.338 L418.549 164.338 L418.549 160.402 Z\" fill=\"#000000\" fill-rule=\"nonzero\" fill-opacity=\"1\" /></svg>\n"
      ]
     },
     "metadata": {},
     "output_type": "display_data"
    }
   ],
   "source": [
    "function snapabove(g, a)\n",
    "    function f(x)\n",
    "        if x > a         # \"a\" is captured in the closure f\n",
    "            return g(x)\n",
    "        else\n",
    "            return g(a)\n",
    "        end\n",
    "    end\n",
    "    return f    # closure with the embedded a\n",
    "end\n",
    "\n",
    "f(x) = x^2\n",
    "h = snapabove(f, 2.0)\n",
    "plot(h, 0.0:0.1:3)"
   ]
  },
  {
   "cell_type": "markdown",
   "id": "1f28d27b",
   "metadata": {},
   "source": [
    "The above can be written more succinctly using the ternary operation, i.e., `a ? b : c` which returns `b` if `a` is true and `c` otherwise.\n",
    "\n",
    "That is"
   ]
  },
  {
   "cell_type": "code",
   "execution_count": 14,
   "id": "9d4a3e06",
   "metadata": {
    "hide-output": false
   },
   "outputs": [
    {
     "data": {
      "image/png": "[encoded data removed]",
      "image/svg+xml": [
       "<?xml version=\"1.0\" encoding=\"utf-8\"?>\n",
       "<svg xmlns=\"http://www.w3.org/2000/svg\" xmlns:xlink=\"http://www.w3.org/1999/xlink\" width=\"600\" height=\"400\" viewBox=\"0 0 2400 1600\">\n",
       "<defs>\n",
       "  <clipPath id=\"clip570\">\n",
       "    <rect x=\"0\" y=\"0\" width=\"2400\" height=\"1600\"/>\n",
       "  </clipPath>\n",
       "</defs>\n",
       "<path clip-path=\"url(#clip570)\" d=\"M0 1600 L2400 1600 L2400 0 L0 0  Z\" fill=\"#ffffff\" fill-rule=\"evenodd\" fill-opacity=\"1\"/>\n",
       "<defs>\n",
       "  <clipPath id=\"clip571\">\n",
       "    <rect x=\"480\" y=\"0\" width=\"1681\" height=\"1600\"/>\n",
       "  </clipPath>\n",
       "</defs>\n",
       "<path clip-path=\"url(#clip570)\" d=\"M112.177 1486.45 L2352.76 1486.45 L2352.76 47.2441 L112.177 47.2441  Z\" fill=\"#ffffff\" fill-rule=\"evenodd\" fill-opacity=\"1\"/>\n",
       "<defs>\n",
       "  <clipPath id=\"clip572\">\n",
       "    <rect x=\"112\" y=\"47\" width=\"2242\" height=\"1440\"/>\n",
       "  </clipPath>\n",
       "</defs>\n",
       "<polyline clip-path=\"url(#clip572)\" style=\"stroke:#000000; stroke-linecap:round; stroke-linejoin:round; stroke-width:2; stroke-opacity:0.1; fill:none\" points=\"175.59,1486.45 175.59,47.2441 \"/>\n",
       "<polyline clip-path=\"url(#clip572)\" style=\"stroke:#000000; stroke-linecap:round; stroke-linejoin:round; stroke-width:2; stroke-opacity:0.1; fill:none\" points=\"880.174,1486.45 880.174,47.2441 \"/>\n",
       "<polyline clip-path=\"url(#clip572)\" style=\"stroke:#000000; stroke-linecap:round; stroke-linejoin:round; stroke-width:2; stroke-opacity:0.1; fill:none\" points=\"1584.76,1486.45 1584.76,47.2441 \"/>\n",
       "<polyline clip-path=\"url(#clip572)\" style=\"stroke:#000000; stroke-linecap:round; stroke-linejoin:round; stroke-width:2; stroke-opacity:0.1; fill:none\" points=\"2289.34,1486.45 2289.34,47.2441 \"/>\n",
       "<polyline clip-path=\"url(#clip570)\" style=\"stroke:#000000; stroke-linecap:round; stroke-linejoin:round; stroke-width:4; stroke-opacity:1; fill:none\" points=\"112.177,1486.45 2352.76,1486.45 \"/>\n",
       "<polyline clip-path=\"url(#clip570)\" style=\"stroke:#000000; stroke-linecap:round; stroke-linejoin:round; stroke-width:4; stroke-opacity:1; fill:none\" points=\"175.59,1486.45 175.59,1467.55 \"/>\n",
       "<polyline clip-path=\"url(#clip570)\" style=\"stroke:#000000; stroke-linecap:round; stroke-linejoin:round; stroke-width:4; stroke-opacity:1; fill:none\" points=\"880.174,1486.45 880.174,1467.55 \"/>\n",
       "<polyline clip-path=\"url(#clip570)\" style=\"stroke:#000000; stroke-linecap:round; stroke-linejoin:round; stroke-width:4; stroke-opacity:1; fill:none\" points=\"1584.76,1486.45 1584.76,1467.55 \"/>\n",
       "<polyline clip-path=\"url(#clip570)\" style=\"stroke:#000000; stroke-linecap:round; stroke-linejoin:round; stroke-width:4; stroke-opacity:1; fill:none\" points=\"2289.34,1486.45 2289.34,1467.55 \"/>\n",
       "<path clip-path=\"url(#clip570)\" d=\"M175.59 1517.37 Q171.979 1517.37 170.15 1520.93 Q168.344 1524.47 168.344 1531.6 Q168.344 1538.71 170.15 1542.27 Q171.979 1545.82 175.59 1545.82 Q179.224 1545.82 181.03 1542.27 Q182.858 1538.71 182.858 1531.6 Q182.858 1524.47 181.03 1520.93 Q179.224 1517.37 175.59 1517.37 M175.59 1513.66 Q181.4 1513.66 184.455 1518.27 Q187.534 1522.85 187.534 1531.6 Q187.534 1540.33 184.455 1544.94 Q181.4 1549.52 175.59 1549.52 Q169.78 1549.52 166.701 1544.94 Q163.645 1540.33 163.645 1531.6 Q163.645 1522.85 166.701 1518.27 Q169.78 1513.66 175.59 1513.66 Z\" fill=\"#000000\" fill-rule=\"nonzero\" fill-opacity=\"1\" /><path clip-path=\"url(#clip570)\" d=\"M870.556 1544.91 L878.195 1544.91 L878.195 1518.55 L869.885 1520.21 L869.885 1515.95 L878.149 1514.29 L882.825 1514.29 L882.825 1544.91 L890.464 1544.91 L890.464 1548.85 L870.556 1548.85 L870.556 1544.91 Z\" fill=\"#000000\" fill-rule=\"nonzero\" fill-opacity=\"1\" /><path clip-path=\"url(#clip570)\" d=\"M1579.41 1544.91 L1595.73 1544.91 L1595.73 1548.85 L1573.79 1548.85 L1573.79 1544.91 Q1576.45 1542.16 1581.03 1537.53 Q1585.64 1532.88 1586.82 1531.53 Q1589.06 1529.01 1589.94 1527.27 Q1590.85 1525.51 1590.85 1523.82 Q1590.85 1521.07 1588.9 1519.33 Q1586.98 1517.6 1583.88 1517.6 Q1581.68 1517.6 1579.23 1518.36 Q1576.8 1519.13 1574.02 1520.68 L1574.02 1515.95 Q1576.84 1514.82 1579.3 1514.24 Q1581.75 1513.66 1583.79 1513.66 Q1589.16 1513.66 1592.35 1516.35 Q1595.55 1519.03 1595.55 1523.52 Q1595.55 1525.65 1594.74 1527.57 Q1593.95 1529.47 1591.84 1532.07 Q1591.26 1532.74 1588.16 1535.95 Q1585.06 1539.15 1579.41 1544.91 Z\" fill=\"#000000\" fill-rule=\"nonzero\" fill-opacity=\"1\" /><path clip-path=\"url(#clip570)\" d=\"M2293.59 1530.21 Q2296.95 1530.93 2298.82 1533.2 Q2300.72 1535.47 2300.72 1538.8 Q2300.72 1543.92 2297.2 1546.72 Q2293.68 1549.52 2287.2 1549.52 Q2285.03 1549.52 2282.71 1549.08 Q2280.42 1548.66 2277.97 1547.81 L2277.97 1543.29 Q2279.91 1544.43 2282.23 1545.01 Q2284.54 1545.58 2287.06 1545.58 Q2291.46 1545.58 2293.75 1543.85 Q2296.07 1542.11 2296.07 1538.8 Q2296.07 1535.75 2293.92 1534.03 Q2291.79 1532.3 2287.97 1532.3 L2283.94 1532.3 L2283.94 1528.45 L2288.15 1528.45 Q2291.6 1528.45 2293.43 1527.09 Q2295.26 1525.7 2295.26 1523.11 Q2295.26 1520.45 2293.36 1519.03 Q2291.48 1517.6 2287.97 1517.6 Q2286.04 1517.6 2283.85 1518.01 Q2281.65 1518.43 2279.01 1519.31 L2279.01 1515.14 Q2281.67 1514.4 2283.98 1514.03 Q2286.32 1513.66 2288.38 1513.66 Q2293.71 1513.66 2296.81 1516.09 Q2299.91 1518.5 2299.91 1522.62 Q2299.91 1525.49 2298.27 1527.48 Q2296.62 1529.45 2293.59 1530.21 Z\" fill=\"#000000\" fill-rule=\"nonzero\" fill-opacity=\"1\" /><polyline clip-path=\"url(#clip572)\" style=\"stroke:#000000; stroke-linecap:round; stroke-linejoin:round; stroke-width:2; stroke-opacity:0.1; fill:none\" points=\"112.177,1445.72 2352.76,1445.72 \"/>\n",
       "<polyline clip-path=\"url(#clip572)\" style=\"stroke:#000000; stroke-linecap:round; stroke-linejoin:round; stroke-width:2; stroke-opacity:0.1; fill:none\" points=\"112.177,1174.17 2352.76,1174.17 \"/>\n",
       "<polyline clip-path=\"url(#clip572)\" style=\"stroke:#000000; stroke-linecap:round; stroke-linejoin:round; stroke-width:2; stroke-opacity:0.1; fill:none\" points=\"112.177,902.62 2352.76,902.62 \"/>\n",
       "<polyline clip-path=\"url(#clip572)\" style=\"stroke:#000000; stroke-linecap:round; stroke-linejoin:round; stroke-width:2; stroke-opacity:0.1; fill:none\" points=\"112.177,631.072 2352.76,631.072 \"/>\n",
       "<polyline clip-path=\"url(#clip572)\" style=\"stroke:#000000; stroke-linecap:round; stroke-linejoin:round; stroke-width:2; stroke-opacity:0.1; fill:none\" points=\"112.177,359.524 2352.76,359.524 \"/>\n",
       "<polyline clip-path=\"url(#clip572)\" style=\"stroke:#000000; stroke-linecap:round; stroke-linejoin:round; stroke-width:2; stroke-opacity:0.1; fill:none\" points=\"112.177,87.9763 2352.76,87.9763 \"/>\n",
       "<polyline clip-path=\"url(#clip570)\" style=\"stroke:#000000; stroke-linecap:round; stroke-linejoin:round; stroke-width:4; stroke-opacity:1; fill:none\" points=\"112.177,1486.45 112.177,47.2441 \"/>\n",
       "<polyline clip-path=\"url(#clip570)\" style=\"stroke:#000000; stroke-linecap:round; stroke-linejoin:round; stroke-width:4; stroke-opacity:1; fill:none\" points=\"112.177,1445.72 131.075,1445.72 \"/>\n",
       "<polyline clip-path=\"url(#clip570)\" style=\"stroke:#000000; stroke-linecap:round; stroke-linejoin:round; stroke-width:4; stroke-opacity:1; fill:none\" points=\"112.177,1174.17 131.075,1174.17 \"/>\n",
       "<polyline clip-path=\"url(#clip570)\" style=\"stroke:#000000; stroke-linecap:round; stroke-linejoin:round; stroke-width:4; stroke-opacity:1; fill:none\" points=\"112.177,902.62 131.075,902.62 \"/>\n",
       "<polyline clip-path=\"url(#clip570)\" style=\"stroke:#000000; stroke-linecap:round; stroke-linejoin:round; stroke-width:4; stroke-opacity:1; fill:none\" points=\"112.177,631.072 131.075,631.072 \"/>\n",
       "<polyline clip-path=\"url(#clip570)\" style=\"stroke:#000000; stroke-linecap:round; stroke-linejoin:round; stroke-width:4; stroke-opacity:1; fill:none\" points=\"112.177,359.524 131.075,359.524 \"/>\n",
       "<polyline clip-path=\"url(#clip570)\" style=\"stroke:#000000; stroke-linecap:round; stroke-linejoin:round; stroke-width:4; stroke-opacity:1; fill:none\" points=\"112.177,87.9763 131.075,87.9763 \"/>\n",
       "<path clip-path=\"url(#clip570)\" d=\"M66.5939 1432.51 L54.7884 1450.96 L66.5939 1450.96 L66.5939 1432.51 M65.367 1428.44 L71.2466 1428.44 L71.2466 1450.96 L76.1772 1450.96 L76.1772 1454.85 L71.2466 1454.85 L71.2466 1463 L66.5939 1463 L66.5939 1454.85 L50.9921 1454.85 L50.9921 1450.33 L65.367 1428.44 Z\" fill=\"#000000\" fill-rule=\"nonzero\" fill-opacity=\"1\" /><path clip-path=\"url(#clip570)\" d=\"M55.2745 1156.89 L73.6309 1156.89 L73.6309 1160.82 L59.5569 1160.82 L59.5569 1169.3 Q60.5754 1168.95 61.5939 1168.79 Q62.6124 1168.6 63.6309 1168.6 Q69.418 1168.6 72.7976 1171.77 Q76.1772 1174.94 76.1772 1180.36 Q76.1772 1185.94 72.705 1189.04 Q69.2328 1192.12 62.9134 1192.12 Q60.7374 1192.12 58.4689 1191.75 Q56.2236 1191.38 53.8162 1190.64 L53.8162 1185.94 Q55.8995 1187.07 58.1217 1187.63 Q60.3439 1188.18 62.8208 1188.18 Q66.8254 1188.18 69.1633 1186.08 Q71.5013 1183.97 71.5013 1180.36 Q71.5013 1176.75 69.1633 1174.64 Q66.8254 1172.54 62.8208 1172.54 Q60.9458 1172.54 59.0708 1172.95 Q57.2189 1173.37 55.2745 1174.25 L55.2745 1156.89 Z\" fill=\"#000000\" fill-rule=\"nonzero\" fill-opacity=\"1\" /><path clip-path=\"url(#clip570)\" d=\"M64.6495 900.757 Q61.5013 900.757 59.6495 902.909 Q57.8208 905.062 57.8208 908.812 Q57.8208 912.539 59.6495 914.715 Q61.5013 916.868 64.6495 916.868 Q67.7976 916.868 69.6263 914.715 Q71.4781 912.539 71.4781 908.812 Q71.4781 905.062 69.6263 902.909 Q67.7976 900.757 64.6495 900.757 M73.9318 886.104 L73.9318 890.363 Q72.1726 889.53 70.367 889.09 Q68.5846 888.65 66.8254 888.65 Q62.1958 888.65 59.7421 891.775 Q57.3115 894.9 56.9643 901.219 Q58.33 899.206 60.3902 898.141 Q62.4504 897.053 64.9272 897.053 Q70.1355 897.053 73.1448 900.224 Q76.1772 903.372 76.1772 908.812 Q76.1772 914.136 73.029 917.354 Q69.8809 920.571 64.6495 920.571 Q58.6541 920.571 55.4828 915.988 Q52.3116 911.381 52.3116 902.655 Q52.3116 894.46 56.2004 889.599 Q60.0893 884.715 66.6402 884.715 Q68.3994 884.715 70.1818 885.062 Q71.9874 885.409 73.9318 886.104 Z\" fill=\"#000000\" fill-rule=\"nonzero\" fill-opacity=\"1\" /><path clip-path=\"url(#clip570)\" d=\"M53.9551 613.792 L76.1772 613.792 L76.1772 615.783 L63.6309 648.352 L58.7467 648.352 L70.5522 617.727 L53.9551 617.727 L53.9551 613.792 Z\" fill=\"#000000\" fill-rule=\"nonzero\" fill-opacity=\"1\" /><path clip-path=\"url(#clip570)\" d=\"M64.3254 360.392 Q60.9921 360.392 59.0708 362.175 Q57.1726 363.957 57.1726 367.082 Q57.1726 370.207 59.0708 371.989 Q60.9921 373.772 64.3254 373.772 Q67.6587 373.772 69.58 371.989 Q71.5013 370.184 71.5013 367.082 Q71.5013 363.957 69.58 362.175 Q67.6819 360.392 64.3254 360.392 M59.6495 358.401 Q56.6402 357.661 54.9504 355.601 Q53.2838 353.54 53.2838 350.577 Q53.2838 346.434 56.2236 344.027 Q59.1865 341.619 64.3254 341.619 Q69.4874 341.619 72.4272 344.027 Q75.367 346.434 75.367 350.577 Q75.367 353.54 73.6772 355.601 Q72.0105 357.661 69.0244 358.401 Q72.404 359.189 74.279 361.48 Q76.1772 363.772 76.1772 367.082 Q76.1772 372.105 73.0985 374.79 Q70.0429 377.475 64.3254 377.475 Q58.6078 377.475 55.5291 374.79 Q52.4736 372.105 52.4736 367.082 Q52.4736 363.772 54.3717 361.48 Q56.2699 359.189 59.6495 358.401 M57.9365 351.017 Q57.9365 353.702 59.6032 355.207 Q61.293 356.712 64.3254 356.712 Q67.3346 356.712 69.0244 355.207 Q70.7374 353.702 70.7374 351.017 Q70.7374 348.332 69.0244 346.827 Q67.3346 345.323 64.3254 345.323 Q61.293 345.323 59.6032 346.827 Q57.9365 348.332 57.9365 351.017 Z\" fill=\"#000000\" fill-rule=\"nonzero\" fill-opacity=\"1\" /><path clip-path=\"url(#clip570)\" d=\"M54.5569 104.539 L54.5569 100.279 Q56.3162 101.113 58.1217 101.553 Q59.9273 101.992 61.6634 101.992 Q66.293 101.992 68.7235 98.8906 Q71.1772 95.7656 71.5244 89.423 Q70.1818 91.4138 68.1217 92.4786 Q66.0615 93.5434 63.5615 93.5434 Q58.3763 93.5434 55.344 90.4184 Q52.3347 87.2703 52.3347 81.8305 Q52.3347 76.5064 55.4828 73.2889 Q58.631 70.0713 63.8624 70.0713 Q69.8578 70.0713 73.0059 74.6777 Q76.1772 79.261 76.1772 88.011 Q76.1772 96.1823 72.2883 101.066 Q68.4226 105.928 61.8717 105.928 Q60.1124 105.928 58.3069 105.58 Q56.5014 105.233 54.5569 104.539 M63.8624 89.886 Q67.0106 89.886 68.8393 87.7332 Q70.6911 85.5805 70.6911 81.8305 Q70.6911 78.1036 68.8393 75.9509 Q67.0106 73.775 63.8624 73.775 Q60.7143 73.775 58.8625 75.9509 Q57.0338 78.1036 57.0338 81.8305 Q57.0338 85.5805 58.8625 87.7332 Q60.7143 89.886 63.8624 89.886 Z\" fill=\"#000000\" fill-rule=\"nonzero\" fill-opacity=\"1\" /><polyline clip-path=\"url(#clip572)\" style=\"stroke:#009af9; stroke-linecap:round; stroke-linejoin:round; stroke-width:4; stroke-opacity:1; fill:none\" points=\"175.59,1445.72 246.048,1445.72 316.507,1445.72 386.965,1445.72 457.424,1445.72 527.882,1445.72 598.34,1445.72 668.799,1445.72 739.257,1445.72 809.716,1445.72 880.174,1445.72 950.633,1445.72 1021.09,1445.72 1091.55,1445.72 1162.01,1445.72 1232.47,1445.72 1302.92,1445.72 1373.38,1445.72 1443.84,1445.72 1514.3,1445.72 1584.76,1445.72 1655.22,1334.38 1725.68,1217.62 1796.13,1095.42 1866.59,967.791 1937.05,834.733 2007.51,696.244 2077.97,552.323 2148.43,402.972 2218.88,248.19 2289.34,87.9763 \"/>\n",
       "<path clip-path=\"url(#clip570)\" d=\"M186.863 198.898 L463.351 198.898 L463.351 95.2176 L186.863 95.2176  Z\" fill=\"#ffffff\" fill-rule=\"evenodd\" fill-opacity=\"1\"/>\n",
       "<polyline clip-path=\"url(#clip570)\" style=\"stroke:#000000; stroke-linecap:round; stroke-linejoin:round; stroke-width:4; stroke-opacity:1; fill:none\" points=\"186.863,198.898 463.351,198.898 463.351,95.2176 186.863,95.2176 186.863,198.898 \"/>\n",
       "<polyline clip-path=\"url(#clip570)\" style=\"stroke:#009af9; stroke-linecap:round; stroke-linejoin:round; stroke-width:4; stroke-opacity:1; fill:none\" points=\"211.758,147.058 361.13,147.058 \"/>\n",
       "<path clip-path=\"url(#clip570)\" d=\"M399.868 166.745 Q398.063 171.375 396.35 172.787 Q394.637 174.199 391.766 174.199 L388.364 174.199 L388.364 170.634 L390.864 170.634 Q392.623 170.634 393.595 169.8 Q394.567 168.967 395.748 165.865 L396.512 163.921 L386.026 138.412 L390.54 138.412 L398.641 158.689 L406.743 138.412 L411.257 138.412 L399.868 166.745 Z\" fill=\"#000000\" fill-rule=\"nonzero\" fill-opacity=\"1\" /><path clip-path=\"url(#clip570)\" d=\"M418.549 160.402 L426.188 160.402 L426.188 134.037 L417.877 135.703 L417.877 131.444 L426.141 129.778 L430.817 129.778 L430.817 160.402 L438.456 160.402 L438.456 164.338 L418.549 164.338 L418.549 160.402 Z\" fill=\"#000000\" fill-rule=\"nonzero\" fill-opacity=\"1\" /></svg>\n"
      ],
      "text/html": [
       "<?xml version=\"1.0\" encoding=\"utf-8\"?>\n",
       "<svg xmlns=\"http://www.w3.org/2000/svg\" xmlns:xlink=\"http://www.w3.org/1999/xlink\" width=\"600\" height=\"400\" viewBox=\"0 0 2400 1600\">\n",
       "<defs>\n",
       "  <clipPath id=\"clip620\">\n",
       "    <rect x=\"0\" y=\"0\" width=\"2400\" height=\"1600\"/>\n",
       "  </clipPath>\n",
       "</defs>\n",
       "<path clip-path=\"url(#clip620)\" d=\"M0 1600 L2400 1600 L2400 0 L0 0  Z\" fill=\"#ffffff\" fill-rule=\"evenodd\" fill-opacity=\"1\"/>\n",
       "<defs>\n",
       "  <clipPath id=\"clip621\">\n",
       "    <rect x=\"480\" y=\"0\" width=\"1681\" height=\"1600\"/>\n",
       "  </clipPath>\n",
       "</defs>\n",
       "<path clip-path=\"url(#clip620)\" d=\"M112.177 1486.45 L2352.76 1486.45 L2352.76 47.2441 L112.177 47.2441  Z\" fill=\"#ffffff\" fill-rule=\"evenodd\" fill-opacity=\"1\"/>\n",
       "<defs>\n",
       "  <clipPath id=\"clip622\">\n",
       "    <rect x=\"112\" y=\"47\" width=\"2242\" height=\"1440\"/>\n",
       "  </clipPath>\n",
       "</defs>\n",
       "<polyline clip-path=\"url(#clip622)\" style=\"stroke:#000000; stroke-linecap:round; stroke-linejoin:round; stroke-width:2; stroke-opacity:0.1; fill:none\" points=\"175.59,1486.45 175.59,47.2441 \"/>\n",
       "<polyline clip-path=\"url(#clip622)\" style=\"stroke:#000000; stroke-linecap:round; stroke-linejoin:round; stroke-width:2; stroke-opacity:0.1; fill:none\" points=\"880.174,1486.45 880.174,47.2441 \"/>\n",
       "<polyline clip-path=\"url(#clip622)\" style=\"stroke:#000000; stroke-linecap:round; stroke-linejoin:round; stroke-width:2; stroke-opacity:0.1; fill:none\" points=\"1584.76,1486.45 1584.76,47.2441 \"/>\n",
       "<polyline clip-path=\"url(#clip622)\" style=\"stroke:#000000; stroke-linecap:round; stroke-linejoin:round; stroke-width:2; stroke-opacity:0.1; fill:none\" points=\"2289.34,1486.45 2289.34,47.2441 \"/>\n",
       "<polyline clip-path=\"url(#clip620)\" style=\"stroke:#000000; stroke-linecap:round; stroke-linejoin:round; stroke-width:4; stroke-opacity:1; fill:none\" points=\"112.177,1486.45 2352.76,1486.45 \"/>\n",
       "<polyline clip-path=\"url(#clip620)\" style=\"stroke:#000000; stroke-linecap:round; stroke-linejoin:round; stroke-width:4; stroke-opacity:1; fill:none\" points=\"175.59,1486.45 175.59,1467.55 \"/>\n",
       "<polyline clip-path=\"url(#clip620)\" style=\"stroke:#000000; stroke-linecap:round; stroke-linejoin:round; stroke-width:4; stroke-opacity:1; fill:none\" points=\"880.174,1486.45 880.174,1467.55 \"/>\n",
       "<polyline clip-path=\"url(#clip620)\" style=\"stroke:#000000; stroke-linecap:round; stroke-linejoin:round; stroke-width:4; stroke-opacity:1; fill:none\" points=\"1584.76,1486.45 1584.76,1467.55 \"/>\n",
       "<polyline clip-path=\"url(#clip620)\" style=\"stroke:#000000; stroke-linecap:round; stroke-linejoin:round; stroke-width:4; stroke-opacity:1; fill:none\" points=\"2289.34,1486.45 2289.34,1467.55 \"/>\n",
       "<path clip-path=\"url(#clip620)\" d=\"M175.59 1517.37 Q171.979 1517.37 170.15 1520.93 Q168.344 1524.47 168.344 1531.6 Q168.344 1538.71 170.15 1542.27 Q171.979 1545.82 175.59 1545.82 Q179.224 1545.82 181.03 1542.27 Q182.858 1538.71 182.858 1531.6 Q182.858 1524.47 181.03 1520.93 Q179.224 1517.37 175.59 1517.37 M175.59 1513.66 Q181.4 1513.66 184.455 1518.27 Q187.534 1522.85 187.534 1531.6 Q187.534 1540.33 184.455 1544.94 Q181.4 1549.52 175.59 1549.52 Q169.78 1549.52 166.701 1544.94 Q163.645 1540.33 163.645 1531.6 Q163.645 1522.85 166.701 1518.27 Q169.78 1513.66 175.59 1513.66 Z\" fill=\"#000000\" fill-rule=\"nonzero\" fill-opacity=\"1\" /><path clip-path=\"url(#clip620)\" d=\"M870.556 1544.91 L878.195 1544.91 L878.195 1518.55 L869.885 1520.21 L869.885 1515.95 L878.149 1514.29 L882.825 1514.29 L882.825 1544.91 L890.464 1544.91 L890.464 1548.85 L870.556 1548.85 L870.556 1544.91 Z\" fill=\"#000000\" fill-rule=\"nonzero\" fill-opacity=\"1\" /><path clip-path=\"url(#clip620)\" d=\"M1579.41 1544.91 L1595.73 1544.91 L1595.73 1548.85 L1573.79 1548.85 L1573.79 1544.91 Q1576.45 1542.16 1581.03 1537.53 Q1585.64 1532.88 1586.82 1531.53 Q1589.06 1529.01 1589.94 1527.27 Q1590.85 1525.51 1590.85 1523.82 Q1590.85 1521.07 1588.9 1519.33 Q1586.98 1517.6 1583.88 1517.6 Q1581.68 1517.6 1579.23 1518.36 Q1576.8 1519.13 1574.02 1520.68 L1574.02 1515.95 Q1576.84 1514.82 1579.3 1514.24 Q1581.75 1513.66 1583.79 1513.66 Q1589.16 1513.66 1592.35 1516.35 Q1595.55 1519.03 1595.55 1523.52 Q1595.55 1525.65 1594.74 1527.57 Q1593.95 1529.47 1591.84 1532.07 Q1591.26 1532.74 1588.16 1535.95 Q1585.06 1539.15 1579.41 1544.91 Z\" fill=\"#000000\" fill-rule=\"nonzero\" fill-opacity=\"1\" /><path clip-path=\"url(#clip620)\" d=\"M2293.59 1530.21 Q2296.95 1530.93 2298.82 1533.2 Q2300.72 1535.47 2300.72 1538.8 Q2300.72 1543.92 2297.2 1546.72 Q2293.68 1549.52 2287.2 1549.52 Q2285.03 1549.52 2282.71 1549.08 Q2280.42 1548.66 2277.97 1547.81 L2277.97 1543.29 Q2279.91 1544.43 2282.23 1545.01 Q2284.54 1545.58 2287.06 1545.58 Q2291.46 1545.58 2293.75 1543.85 Q2296.07 1542.11 2296.07 1538.8 Q2296.07 1535.75 2293.92 1534.03 Q2291.79 1532.3 2287.97 1532.3 L2283.94 1532.3 L2283.94 1528.45 L2288.15 1528.45 Q2291.6 1528.45 2293.43 1527.09 Q2295.26 1525.7 2295.26 1523.11 Q2295.26 1520.45 2293.36 1519.03 Q2291.48 1517.6 2287.97 1517.6 Q2286.04 1517.6 2283.85 1518.01 Q2281.65 1518.43 2279.01 1519.31 L2279.01 1515.14 Q2281.67 1514.4 2283.98 1514.03 Q2286.32 1513.66 2288.38 1513.66 Q2293.71 1513.66 2296.81 1516.09 Q2299.91 1518.5 2299.91 1522.62 Q2299.91 1525.49 2298.27 1527.48 Q2296.62 1529.45 2293.59 1530.21 Z\" fill=\"#000000\" fill-rule=\"nonzero\" fill-opacity=\"1\" /><polyline clip-path=\"url(#clip622)\" style=\"stroke:#000000; stroke-linecap:round; stroke-linejoin:round; stroke-width:2; stroke-opacity:0.1; fill:none\" points=\"112.177,1445.72 2352.76,1445.72 \"/>\n",
       "<polyline clip-path=\"url(#clip622)\" style=\"stroke:#000000; stroke-linecap:round; stroke-linejoin:round; stroke-width:2; stroke-opacity:0.1; fill:none\" points=\"112.177,1174.17 2352.76,1174.17 \"/>\n",
       "<polyline clip-path=\"url(#clip622)\" style=\"stroke:#000000; stroke-linecap:round; stroke-linejoin:round; stroke-width:2; stroke-opacity:0.1; fill:none\" points=\"112.177,902.62 2352.76,902.62 \"/>\n",
       "<polyline clip-path=\"url(#clip622)\" style=\"stroke:#000000; stroke-linecap:round; stroke-linejoin:round; stroke-width:2; stroke-opacity:0.1; fill:none\" points=\"112.177,631.072 2352.76,631.072 \"/>\n",
       "<polyline clip-path=\"url(#clip622)\" style=\"stroke:#000000; stroke-linecap:round; stroke-linejoin:round; stroke-width:2; stroke-opacity:0.1; fill:none\" points=\"112.177,359.524 2352.76,359.524 \"/>\n",
       "<polyline clip-path=\"url(#clip622)\" style=\"stroke:#000000; stroke-linecap:round; stroke-linejoin:round; stroke-width:2; stroke-opacity:0.1; fill:none\" points=\"112.177,87.9763 2352.76,87.9763 \"/>\n",
       "<polyline clip-path=\"url(#clip620)\" style=\"stroke:#000000; stroke-linecap:round; stroke-linejoin:round; stroke-width:4; stroke-opacity:1; fill:none\" points=\"112.177,1486.45 112.177,47.2441 \"/>\n",
       "<polyline clip-path=\"url(#clip620)\" style=\"stroke:#000000; stroke-linecap:round; stroke-linejoin:round; stroke-width:4; stroke-opacity:1; fill:none\" points=\"112.177,1445.72 131.075,1445.72 \"/>\n",
       "<polyline clip-path=\"url(#clip620)\" style=\"stroke:#000000; stroke-linecap:round; stroke-linejoin:round; stroke-width:4; stroke-opacity:1; fill:none\" points=\"112.177,1174.17 131.075,1174.17 \"/>\n",
       "<polyline clip-path=\"url(#clip620)\" style=\"stroke:#000000; stroke-linecap:round; stroke-linejoin:round; stroke-width:4; stroke-opacity:1; fill:none\" points=\"112.177,902.62 131.075,902.62 \"/>\n",
       "<polyline clip-path=\"url(#clip620)\" style=\"stroke:#000000; stroke-linecap:round; stroke-linejoin:round; stroke-width:4; stroke-opacity:1; fill:none\" points=\"112.177,631.072 131.075,631.072 \"/>\n",
       "<polyline clip-path=\"url(#clip620)\" style=\"stroke:#000000; stroke-linecap:round; stroke-linejoin:round; stroke-width:4; stroke-opacity:1; fill:none\" points=\"112.177,359.524 131.075,359.524 \"/>\n",
       "<polyline clip-path=\"url(#clip620)\" style=\"stroke:#000000; stroke-linecap:round; stroke-linejoin:round; stroke-width:4; stroke-opacity:1; fill:none\" points=\"112.177,87.9763 131.075,87.9763 \"/>\n",
       "<path clip-path=\"url(#clip620)\" d=\"M66.5939 1432.51 L54.7884 1450.96 L66.5939 1450.96 L66.5939 1432.51 M65.367 1428.44 L71.2466 1428.44 L71.2466 1450.96 L76.1772 1450.96 L76.1772 1454.85 L71.2466 1454.85 L71.2466 1463 L66.5939 1463 L66.5939 1454.85 L50.9921 1454.85 L50.9921 1450.33 L65.367 1428.44 Z\" fill=\"#000000\" fill-rule=\"nonzero\" fill-opacity=\"1\" /><path clip-path=\"url(#clip620)\" d=\"M55.2745 1156.89 L73.6309 1156.89 L73.6309 1160.82 L59.5569 1160.82 L59.5569 1169.3 Q60.5754 1168.95 61.5939 1168.79 Q62.6124 1168.6 63.6309 1168.6 Q69.418 1168.6 72.7976 1171.77 Q76.1772 1174.94 76.1772 1180.36 Q76.1772 1185.94 72.705 1189.04 Q69.2328 1192.12 62.9134 1192.12 Q60.7374 1192.12 58.4689 1191.75 Q56.2236 1191.38 53.8162 1190.64 L53.8162 1185.94 Q55.8995 1187.07 58.1217 1187.63 Q60.3439 1188.18 62.8208 1188.18 Q66.8254 1188.18 69.1633 1186.08 Q71.5013 1183.97 71.5013 1180.36 Q71.5013 1176.75 69.1633 1174.64 Q66.8254 1172.54 62.8208 1172.54 Q60.9458 1172.54 59.0708 1172.95 Q57.2189 1173.37 55.2745 1174.25 L55.2745 1156.89 Z\" fill=\"#000000\" fill-rule=\"nonzero\" fill-opacity=\"1\" /><path clip-path=\"url(#clip620)\" d=\"M64.6495 900.757 Q61.5013 900.757 59.6495 902.909 Q57.8208 905.062 57.8208 908.812 Q57.8208 912.539 59.6495 914.715 Q61.5013 916.868 64.6495 916.868 Q67.7976 916.868 69.6263 914.715 Q71.4781 912.539 71.4781 908.812 Q71.4781 905.062 69.6263 902.909 Q67.7976 900.757 64.6495 900.757 M73.9318 886.104 L73.9318 890.363 Q72.1726 889.53 70.367 889.09 Q68.5846 888.65 66.8254 888.65 Q62.1958 888.65 59.7421 891.775 Q57.3115 894.9 56.9643 901.219 Q58.33 899.206 60.3902 898.141 Q62.4504 897.053 64.9272 897.053 Q70.1355 897.053 73.1448 900.224 Q76.1772 903.372 76.1772 908.812 Q76.1772 914.136 73.029 917.354 Q69.8809 920.571 64.6495 920.571 Q58.6541 920.571 55.4828 915.988 Q52.3116 911.381 52.3116 902.655 Q52.3116 894.46 56.2004 889.599 Q60.0893 884.715 66.6402 884.715 Q68.3994 884.715 70.1818 885.062 Q71.9874 885.409 73.9318 886.104 Z\" fill=\"#000000\" fill-rule=\"nonzero\" fill-opacity=\"1\" /><path clip-path=\"url(#clip620)\" d=\"M53.9551 613.792 L76.1772 613.792 L76.1772 615.783 L63.6309 648.352 L58.7467 648.352 L70.5522 617.727 L53.9551 617.727 L53.9551 613.792 Z\" fill=\"#000000\" fill-rule=\"nonzero\" fill-opacity=\"1\" /><path clip-path=\"url(#clip620)\" d=\"M64.3254 360.392 Q60.9921 360.392 59.0708 362.175 Q57.1726 363.957 57.1726 367.082 Q57.1726 370.207 59.0708 371.989 Q60.9921 373.772 64.3254 373.772 Q67.6587 373.772 69.58 371.989 Q71.5013 370.184 71.5013 367.082 Q71.5013 363.957 69.58 362.175 Q67.6819 360.392 64.3254 360.392 M59.6495 358.401 Q56.6402 357.661 54.9504 355.601 Q53.2838 353.54 53.2838 350.577 Q53.2838 346.434 56.2236 344.027 Q59.1865 341.619 64.3254 341.619 Q69.4874 341.619 72.4272 344.027 Q75.367 346.434 75.367 350.577 Q75.367 353.54 73.6772 355.601 Q72.0105 357.661 69.0244 358.401 Q72.404 359.189 74.279 361.48 Q76.1772 363.772 76.1772 367.082 Q76.1772 372.105 73.0985 374.79 Q70.0429 377.475 64.3254 377.475 Q58.6078 377.475 55.5291 374.79 Q52.4736 372.105 52.4736 367.082 Q52.4736 363.772 54.3717 361.48 Q56.2699 359.189 59.6495 358.401 M57.9365 351.017 Q57.9365 353.702 59.6032 355.207 Q61.293 356.712 64.3254 356.712 Q67.3346 356.712 69.0244 355.207 Q70.7374 353.702 70.7374 351.017 Q70.7374 348.332 69.0244 346.827 Q67.3346 345.323 64.3254 345.323 Q61.293 345.323 59.6032 346.827 Q57.9365 348.332 57.9365 351.017 Z\" fill=\"#000000\" fill-rule=\"nonzero\" fill-opacity=\"1\" /><path clip-path=\"url(#clip620)\" d=\"M54.5569 104.539 L54.5569 100.279 Q56.3162 101.113 58.1217 101.553 Q59.9273 101.992 61.6634 101.992 Q66.293 101.992 68.7235 98.8906 Q71.1772 95.7656 71.5244 89.423 Q70.1818 91.4138 68.1217 92.4786 Q66.0615 93.5434 63.5615 93.5434 Q58.3763 93.5434 55.344 90.4184 Q52.3347 87.2703 52.3347 81.8305 Q52.3347 76.5064 55.4828 73.2889 Q58.631 70.0713 63.8624 70.0713 Q69.8578 70.0713 73.0059 74.6777 Q76.1772 79.261 76.1772 88.011 Q76.1772 96.1823 72.2883 101.066 Q68.4226 105.928 61.8717 105.928 Q60.1124 105.928 58.3069 105.58 Q56.5014 105.233 54.5569 104.539 M63.8624 89.886 Q67.0106 89.886 68.8393 87.7332 Q70.6911 85.5805 70.6911 81.8305 Q70.6911 78.1036 68.8393 75.9509 Q67.0106 73.775 63.8624 73.775 Q60.7143 73.775 58.8625 75.9509 Q57.0338 78.1036 57.0338 81.8305 Q57.0338 85.5805 58.8625 87.7332 Q60.7143 89.886 63.8624 89.886 Z\" fill=\"#000000\" fill-rule=\"nonzero\" fill-opacity=\"1\" /><polyline clip-path=\"url(#clip622)\" style=\"stroke:#009af9; stroke-linecap:round; stroke-linejoin:round; stroke-width:4; stroke-opacity:1; fill:none\" points=\"175.59,1445.72 246.048,1445.72 316.507,1445.72 386.965,1445.72 457.424,1445.72 527.882,1445.72 598.34,1445.72 668.799,1445.72 739.257,1445.72 809.716,1445.72 880.174,1445.72 950.633,1445.72 1021.09,1445.72 1091.55,1445.72 1162.01,1445.72 1232.47,1445.72 1302.92,1445.72 1373.38,1445.72 1443.84,1445.72 1514.3,1445.72 1584.76,1445.72 1655.22,1334.38 1725.68,1217.62 1796.13,1095.42 1866.59,967.791 1937.05,834.733 2007.51,696.244 2077.97,552.323 2148.43,402.972 2218.88,248.19 2289.34,87.9763 \"/>\n",
       "<path clip-path=\"url(#clip620)\" d=\"M186.863 198.898 L463.351 198.898 L463.351 95.2176 L186.863 95.2176  Z\" fill=\"#ffffff\" fill-rule=\"evenodd\" fill-opacity=\"1\"/>\n",
       "<polyline clip-path=\"url(#clip620)\" style=\"stroke:#000000; stroke-linecap:round; stroke-linejoin:round; stroke-width:4; stroke-opacity:1; fill:none\" points=\"186.863,198.898 463.351,198.898 463.351,95.2176 186.863,95.2176 186.863,198.898 \"/>\n",
       "<polyline clip-path=\"url(#clip620)\" style=\"stroke:#009af9; stroke-linecap:round; stroke-linejoin:round; stroke-width:4; stroke-opacity:1; fill:none\" points=\"211.758,147.058 361.13,147.058 \"/>\n",
       "<path clip-path=\"url(#clip620)\" d=\"M399.868 166.745 Q398.063 171.375 396.35 172.787 Q394.637 174.199 391.766 174.199 L388.364 174.199 L388.364 170.634 L390.864 170.634 Q392.623 170.634 393.595 169.8 Q394.567 168.967 395.748 165.865 L396.512 163.921 L386.026 138.412 L390.54 138.412 L398.641 158.689 L406.743 138.412 L411.257 138.412 L399.868 166.745 Z\" fill=\"#000000\" fill-rule=\"nonzero\" fill-opacity=\"1\" /><path clip-path=\"url(#clip620)\" d=\"M418.549 160.402 L426.188 160.402 L426.188 134.037 L417.877 135.703 L417.877 131.444 L426.141 129.778 L430.817 129.778 L430.817 160.402 L438.456 160.402 L438.456 164.338 L418.549 164.338 L418.549 160.402 Z\" fill=\"#000000\" fill-rule=\"nonzero\" fill-opacity=\"1\" /></svg>\n"
      ]
     },
     "metadata": {},
     "output_type": "display_data"
    }
   ],
   "source": [
    "function snapabove2(g, a)\n",
    "    return x -> x > a ? g(x) : g(a) # returns a closure\n",
    "end\n",
    "plot(snapabove2(f, 2.0), 0.0:0.1:3.0)"
   ]
  },
  {
   "cell_type": "markdown",
   "id": "1dce5125",
   "metadata": {},
   "source": [
    "### Loops\n",
    "\n",
    "The `for` and `while` loops also introduce a local scope, and you can roughly reason about them the same way you would a function/closure.\n",
    "\n",
    "In particular"
   ]
  },
  {
   "cell_type": "code",
   "execution_count": 15,
   "id": "4c740187",
   "metadata": {
    "hide-output": false
   },
   "outputs": [
    {
     "name": "stdout",
     "output_type": "stream",
     "text": [
      "1\n",
      "2\n",
      "1\n",
      "2\n"
     ]
    }
   ],
   "source": [
    "for i in 1:2  # introduces local i\n",
    "    dval1 = i\n",
    "    println(i)\n",
    "end\n",
    "\n",
    "# @show (i, dval1)  # would fail as neither exists in this scope\n",
    "\n",
    "for i in 1:2  # introduces a different local i\n",
    "    println(i)\n",
    "end"
   ]
  },
  {
   "cell_type": "markdown",
   "id": "b5db8e3b",
   "metadata": {},
   "source": [
    "On the other hand just as with closures, if a variable is already defined it will be available in the inner scope."
   ]
  },
  {
   "cell_type": "code",
   "execution_count": 16,
   "id": "791ff374",
   "metadata": {
    "hide-output": false
   },
   "outputs": [
    {
     "data": {
      "text/plain": [
       "2"
      ]
     },
     "metadata": {},
     "output_type": "display_data"
    }
   ],
   "source": [
    "dval2 = 0  # introduces variables\n",
    "for i in 1:2   # introduces local i\n",
    "    dval2 = i  # refers to outer variable\n",
    "end\n",
    "\n",
    "dval2 # still can't refer to `i`"
   ]
  },
  {
   "cell_type": "markdown",
   "id": "8d47ba62",
   "metadata": {},
   "source": [
    "Similarly, for while loops"
   ]
  },
  {
   "cell_type": "code",
   "execution_count": 17,
   "id": "9caed05a",
   "metadata": {
    "hide-output": false
   },
   "outputs": [
    {
     "name": "stdout",
     "output_type": "stream",
     "text": [
      "val = 0.001953125\n"
     ]
    },
    {
     "data": {
      "text/plain": [
       "0.001953125"
      ]
     },
     "metadata": {},
     "output_type": "display_data"
    }
   ],
   "source": [
    "val = 1.0\n",
    "tol = 0.002\n",
    "while val > tol\n",
    "    old = val\n",
    "    val = val / 2\n",
    "    difference = val - old\n",
    "end\n",
    "\n",
    "@show val;\n",
    "# @show difference fails, not in scope"
   ]
  },
  {
   "cell_type": "markdown",
   "id": "8ee38d0b",
   "metadata": {},
   "source": [
    "### A Quick Check for Scoping Design\n",
    "\n",
    "While we have argued against global variables as poor practice, you may have noticed that in Jupyter notebooks we have been using them throughout.\n",
    "\n",
    "Here, global variables are used in an interactive editor because they are convenient, and not because they are essential to the design of functions.\n",
    "\n",
    "A simple test of the difference is to take a segment of code and wrap it in a function, for example"
   ]
  },
  {
   "cell_type": "code",
   "execution_count": 18,
   "id": "6b2c074d",
   "metadata": {
    "hide-output": false
   },
   "outputs": [
    {
     "name": "stdout",
     "output_type": "stream",
     "text": [
      "z = 12.0\n"
     ]
    }
   ],
   "source": [
    "x = 2.0\n",
    "f(y) = x + y\n",
    "z = f(4.0)\n",
    "\n",
    "for i in 1:3\n",
    "    z += i\n",
    "end\n",
    "\n",
    "println(\"z = $z\")"
   ]
  },
  {
   "cell_type": "markdown",
   "id": "4a12d085",
   "metadata": {},
   "source": [
    "Here, the `x` and `z` are global variables, the function `f` refers to the global variable `x`, and the global variable `z` is modified in the `for` loop.\n",
    "\n",
    "However, you can simply wrap the entire code in a function"
   ]
  },
  {
   "cell_type": "code",
   "execution_count": 19,
   "id": "cc127d5c",
   "metadata": {
    "hide-output": false
   },
   "outputs": [
    {
     "name": "stdout",
     "output_type": "stream",
     "text": [
      "z = 12.0\n"
     ]
    }
   ],
   "source": [
    "function wrapped()\n",
    "    x = 2.0\n",
    "    f(y) = x + y\n",
    "    z = f(4.0)\n",
    "\n",
    "    for i in 1:3\n",
    "        z += i\n",
    "    end\n",
    "\n",
    "    println(\"z = $z\")\n",
    "end\n",
    "\n",
    "wrapped()"
   ]
  },
  {
   "cell_type": "markdown",
   "id": "6912c471",
   "metadata": {},
   "source": [
    "Now, there are no global variables.\n",
    "\n",
    "While it is convenient to skip wrapping our code throughout, in general you will want to wrap any performance sensitive code in this way."
   ]
  },
  {
   "cell_type": "markdown",
   "id": "6b1e197c",
   "metadata": {},
   "source": [
    "## Exercises\n",
    "\n",
    "\n",
    "<a id='pyess-ex1'></a>"
   ]
  },
  {
   "cell_type": "markdown",
   "id": "d4e2ac67",
   "metadata": {},
   "source": [
    "### Exercise 1\n",
    "\n",
    "Part 1: Given two numeric arrays or tuples `x_vals` and `y_vals` of equal length, compute\n",
    "their inner product using `zip()`.\n",
    "\n",
    "Part 2: Using a comprehension, count the number of even numbers between 0 and 99.\n",
    "\n",
    "- Hint: `iseven` returns `true` for even numbers and `false` for odds.  \n",
    "\n",
    "\n",
    "Part 3: Using a comprehension, take `my_pairs = ((2, 5), (4, 2), (9, 8), (12, 10))` and count the number of pairs `(a, b)` such that both `a` and `b` are even.\n",
    "\n",
    "\n",
    "<a id='pyess-ex2'></a>"
   ]
  },
  {
   "cell_type": "code",
   "execution_count": 20,
   "id": "298bbc29",
   "metadata": {},
   "outputs": [
    {
     "data": {
      "text/plain": [
       "0.03358500770573763"
      ]
     },
     "metadata": {},
     "output_type": "display_data"
    }
   ],
   "source": [
    "# Part 1\n",
    "n = 50\n",
    "x_vals, y_vals = rand(n)\n",
    "sum(x * y for (x, y) in zip(x_vals, y_vals))"
   ]
  },
  {
   "cell_type": "code",
   "execution_count": 21,
   "id": "3d6ea6cf",
   "metadata": {},
   "outputs": [
    {
     "data": {
      "text/plain": [
       "50"
      ]
     },
     "metadata": {},
     "output_type": "display_data"
    }
   ],
   "source": [
    "# Part 2\n",
    "sum(iseven, 0:99)"
   ]
  },
  {
   "cell_type": "code",
   "execution_count": 24,
   "id": "5ef28f3e",
   "metadata": {},
   "outputs": [
    {
     "data": {
      "text/plain": [
       "2"
      ]
     },
     "metadata": {},
     "output_type": "display_data"
    }
   ],
   "source": [
    "# Part 3\n",
    "my_pairs = ((2, 5), (4, 2), (9, 8), (12, 10))\n",
    "sum(xy -> all(iseven, xy), my_pairs)"
   ]
  },
  {
   "cell_type": "markdown",
   "id": "e128e724",
   "metadata": {},
   "source": [
    "### Exercise 2\n",
    "\n",
    "Consider the polynomial\n",
    "\n",
    "\n",
    "<a id='equation-polynom0'></a>\n",
    "$$\n",
    "p(x)\n",
    "= a_0 + a_1 x + a_2 x^2 + \\cdots a_n x^n\n",
    "= \\sum_{i=0}^n a_i x^i \\tag{3.1}\n",
    "$$\n",
    "\n",
    "Using `enumerate()` in your loop, write a function `p` such that `p(x, coeff)` computes the value in [(3.1)](#equation-polynom0) given a point `x` and an array of coefficients `coeff`.\n",
    "\n",
    "\n",
    "<a id='pyess-ex3'></a>"
   ]
  },
  {
   "cell_type": "code",
   "execution_count": 28,
   "id": "712759f9",
   "metadata": {},
   "outputs": [
    {
     "data": {
      "text/plain": [
       "501.7187486292089"
      ]
     },
     "metadata": {},
     "output_type": "display_data"
    }
   ],
   "source": [
    "n = 10\n",
    "a = rand(n + 1)\n",
    "x = 2.0\n",
    "\n",
    "p(x, coeff) = sum(a * x^(i - 1) for (i, a) in enumerate(coeff))\n",
    "\n",
    "p(x, a)"
   ]
  },
  {
   "cell_type": "markdown",
   "id": "900bc41a",
   "metadata": {},
   "source": [
    "### Exercise 3\n",
    "\n",
    "Write a function that takes a string as an argument and returns the number of capital letters in the string.\n",
    "\n",
    "Hint: `uppercase(\"foo\")` returns `\"FOO\"`.\n",
    "\n",
    "\n",
    "<a id='pyess-ex4'></a>"
   ]
  },
  {
   "cell_type": "code",
   "execution_count": 30,
   "id": "5de2ca2f",
   "metadata": {},
   "outputs": [
    {
     "data": {
      "text/plain": [
       "3"
      ]
     },
     "metadata": {},
     "output_type": "display_data"
    }
   ],
   "source": [
    "function capitalnum(s)\n",
    "    return sum(1 for c in s if isuppercase(c))\n",
    "end\n",
    "\n",
    "capitalnum(\"The Rain in Spain\")"
   ]
  },
  {
   "cell_type": "markdown",
   "id": "d5c48b1b",
   "metadata": {},
   "source": [
    "### Exercise 4\n",
    "\n",
    "Write a function that takes two sequences `seq_a` and `seq_b` as arguments and\n",
    "returns `true` if every element in `seq_a` is also an element of `seq_b`, else\n",
    "`false`.\n",
    "\n",
    "- By “sequence” we mean an array, tuple or string.  \n",
    "\n",
    "\n",
    "\n",
    "<a id='pyess-ex5'></a>"
   ]
  },
  {
   "cell_type": "code",
   "execution_count": 36,
   "metadata": {},
   "outputs": [
    {
     "data": {
      "text/plain": [
       "false"
      ]
     },
     "metadata": {},
     "output_type": "display_data"
    }
   ],
   "source": [
    "function subset_deterimine(seq_a, seq_b)\n",
    "    return all(x -> x in seq_b, seq_a)\n",
    "end\n",
    "\n",
    "subset_deterimine((\"dog\", \"cat\", \"fish\"), (\"dog\", \"cat\", \"bird\"))"
   ]
  },
  {
   "cell_type": "markdown",
   "id": "3056f78a",
   "metadata": {},
   "source": [
    "### Exercise 5\n",
    "\n",
    "The Julia libraries include functions for interpolation and approximation.\n",
    "\n",
    "Nevertheless, let’s write our own function approximation routine as an exercise.\n",
    "\n",
    "In particular, write a function `linapprox` that takes as arguments\n",
    "\n",
    "- A function `f` mapping some interval $ [a, b] $ into $ \\mathbb R $.  \n",
    "- two scalars `a` and `b` providing the limits of this interval.  \n",
    "- An integer `n` determining the number of grid points.  \n",
    "- A number `x` satisfying `a ≤ x ≤ b`.  \n",
    "\n",
    "\n",
    "and returns the [piecewise linear interpolation](https://en.wikipedia.org/wiki/Linear_interpolation) of `f` at `x`, based on `n` evenly spaced grid points `a = point[1] < point[2] < ... < point[n] = b`.\n",
    "\n",
    "Aim for clarity, not efficiency.\n",
    "\n",
    "Hint: use the function `range` to linearly space numbers."
   ]
  },
  {
   "cell_type": "markdown",
   "id": "09bd4091",
   "metadata": {},
   "source": [
    "### Exercise 6\n",
    "\n",
    "The following data lists US cities and their populations.\n",
    "\n",
    "Copy this text into a text file called `us_cities.txt` and save it in your present working directory.\n",
    "\n",
    "- That is, save it in the location Julia returns when you call `pwd()`.  \n",
    "\n",
    "\n",
    "This can also be achieved by running the following Julia code:"
   ]
  },
  {
   "cell_type": "code",
   "execution_count": 38,
   "id": "e7fe14aa",
   "metadata": {
    "hide-output": false
   },
   "outputs": [
    {
     "data": {
      "text/plain": [
       "167"
      ]
     },
     "metadata": {},
     "output_type": "display_data"
    }
   ],
   "source": [
    "data = \"new york: 8244910\n",
    "los angeles: 3819702\n",
    "chicago: 2707120\n",
    "houston: 2145146\n",
    "philadelphia: 1536471\n",
    "phoenix: 1469471\n",
    "san antonio: 1359758\n",
    "san diego: 1326179\n",
    "dallas: 1223229\"\n",
    "open(\"us_cities.txt\", \"w\") do f\n",
    "    write(f, data)\n",
    "end"
   ]
  },
  {
   "cell_type": "markdown",
   "id": "deaf266d",
   "metadata": {},
   "source": [
    "Write a program to calculate total population across these cities.\n",
    "\n",
    "Hints:\n",
    "\n",
    "- If `f` is a file type then `eachline(f)` provides an iterable that steps you through the lines in the file.  \n",
    "- `parse(Int, \"100\")` converts the string `\"100\"` into an integer.  \n",
    "\n",
    "\n",
    "\n",
    "<a id='pyess-ex7'></a>"
   ]
  },
  {
   "cell_type": "code",
   "execution_count": 46,
   "id": "8d986337",
   "metadata": {},
   "outputs": [
    {
     "name": "stdout",
     "output_type": "stream",
     "text": [
      "Total population = 23831986\n"
     ]
    }
   ],
   "source": [
    "citydata = open(\"us_cities.txt\") do f\n",
    "    readlines(f)\n",
    "end\n",
    "\n",
    "total_pop = 0\n",
    "for line in citydata\n",
    "    city, population = split(line, \":\")\n",
    "    total_pop += parse(Int, population)\n",
    "end\n",
    "\n",
    "println(\"Total population = $total_pop\")"
   ]
  },
  {
   "cell_type": "markdown",
   "id": "1ac4b959",
   "metadata": {},
   "source": [
    "### Exercise 7\n",
    "\n",
    "Redo Exercise 5 except\n",
    "\n",
    "1. Pass in a range instead of the `a, b,` and `n`.  Test with a range such as `nodes = -1.0:0.5:1.0`.  \n",
    "1. Instead of the `while` used in the solution to Exercise 5, find a better way to efficiently bracket the `x` in the nodes.  \n",
    "\n",
    "\n",
    "Hints:\n",
    "\n",
    "- Rather than the signature as `function linapprox(f, a, b, n, x)`, it should be called as `function linapprox(f, nodes, x)`.  \n",
    "- `step(nodes), length(nodes), nodes[1]`, and `nodes[end]` may be useful.  \n",
    "- Type `?÷` into jupyter to explore quotients from Euclidean division for more efficient bracketing.  "
   ]
  },
  {
   "cell_type": "markdown",
   "id": "5f779070",
   "metadata": {},
   "source": [
    "## Solutions"
   ]
  },
  {
   "cell_type": "markdown",
   "id": "52505d37",
   "metadata": {},
   "source": [
    "### Exercise 1\n",
    "\n",
    "Part 1 solution:\n",
    "\n",
    "Here’s one possible solution"
   ]
  },
  {
   "cell_type": "code",
   "execution_count": null,
   "id": "d58ff60e",
   "metadata": {
    "hide-output": false
   },
   "outputs": [],
   "source": [
    "x_vals = [1, 2, 3]\n",
    "y_vals = [1, 1, 1]\n",
    "sum(x * y for (x, y) in zip(x_vals, y_vals))"
   ]
  },
  {
   "cell_type": "markdown",
   "id": "e50ce8ff",
   "metadata": {},
   "source": [
    "Part 2 solution:\n",
    "\n",
    "One solution is"
   ]
  },
  {
   "cell_type": "code",
   "execution_count": null,
   "id": "3685414e",
   "metadata": {
    "hide-output": false
   },
   "outputs": [],
   "source": [
    "sum(iseven, 0:99)"
   ]
  },
  {
   "cell_type": "markdown",
   "id": "c0d6fe69",
   "metadata": {},
   "source": [
    "Part 3 solution:\n",
    "\n",
    "Here’s one possibility"
   ]
  },
  {
   "cell_type": "code",
   "execution_count": null,
   "id": "abfbe63b",
   "metadata": {
    "hide-output": false
   },
   "outputs": [],
   "source": [
    "pairs = ((2, 5), (4, 2), (9, 8), (12, 10))\n",
    "sum(xy -> all(iseven, xy), pairs)"
   ]
  },
  {
   "cell_type": "markdown",
   "id": "972041ad",
   "metadata": {},
   "source": [
    "### Exercise 2"
   ]
  },
  {
   "cell_type": "code",
   "execution_count": null,
   "id": "5d3f56c9",
   "metadata": {
    "hide-output": false
   },
   "outputs": [],
   "source": [
    "p(x, coeff) = sum(a * x^(i - 1) for (i, a) in enumerate(coeff))"
   ]
  },
  {
   "cell_type": "code",
   "execution_count": null,
   "id": "ef763920",
   "metadata": {
    "hide-output": false
   },
   "outputs": [],
   "source": [
    "p(1, (2, 4))"
   ]
  },
  {
   "cell_type": "markdown",
   "id": "b67e2e17",
   "metadata": {},
   "source": [
    "### Exercise 3\n",
    "\n",
    "Here’s one solutions:"
   ]
  },
  {
   "cell_type": "code",
   "execution_count": null,
   "id": "e9f1cdf9",
   "metadata": {
    "hide-output": false
   },
   "outputs": [],
   "source": [
    "function f_ex3(string)\n",
    "    count = 0\n",
    "    for letter in string\n",
    "        if (letter == uppercase(letter)) && isletter(letter)\n",
    "            count += 1\n",
    "        end\n",
    "    end\n",
    "    return count\n",
    "end\n",
    "\n",
    "f_ex3(\"The Rain in Spain\")"
   ]
  },
  {
   "cell_type": "markdown",
   "id": "d0ff186a",
   "metadata": {},
   "source": [
    "### Exercise 4\n",
    "\n",
    "Here’s one solutions:"
   ]
  },
  {
   "cell_type": "code",
   "execution_count": null,
   "id": "99a7fab3",
   "metadata": {
    "hide-output": false
   },
   "outputs": [],
   "source": [
    "function f_ex4(seq_a, seq_b)\n",
    "    is_subset = true\n",
    "    for a in seq_a\n",
    "        if a ∉ seq_b\n",
    "            is_subset = false\n",
    "        end\n",
    "    end\n",
    "    return is_subset\n",
    "end\n",
    "\n",
    "# test\n",
    "println(f_ex4([1, 2], [1, 2, 3]))\n",
    "println(f_ex4([1, 2, 3], [1, 2]))"
   ]
  },
  {
   "cell_type": "markdown",
   "id": "0c04c874",
   "metadata": {},
   "source": [
    "if we use the Set data type then the solution is easier"
   ]
  },
  {
   "cell_type": "code",
   "execution_count": null,
   "id": "a57d586a",
   "metadata": {
    "hide-output": false
   },
   "outputs": [],
   "source": [
    "f_ex4_2(seq_a, seq_b) = Set(seq_a) ⊆ Set(seq_b) # \\subseteq (⊆) is unicode for `issubset`\n",
    "\n",
    "println(f_ex4_2([1, 2], [1, 2, 3]))\n",
    "println(f_ex4_2([1, 2, 3], [1, 2]))"
   ]
  },
  {
   "cell_type": "markdown",
   "id": "a128f87d",
   "metadata": {},
   "source": [
    "### Exercise 5"
   ]
  },
  {
   "cell_type": "code",
   "execution_count": 39,
   "id": "3b4253c8",
   "metadata": {
    "hide-output": false
   },
   "outputs": [
    {
     "data": {
      "text/plain": [
       "linapprox (generic function with 1 method)"
      ]
     },
     "metadata": {},
     "output_type": "display_data"
    }
   ],
   "source": [
    "function linapprox(f, a, b, n, x)\n",
    "    # evaluates the piecewise linear interpolant of f at x,\n",
    "    # on the interval [a, b], with n evenly spaced grid points.\n",
    "\n",
    "    length_of_interval = b - a\n",
    "    num_subintervals = n - 1\n",
    "    step = length_of_interval / num_subintervals\n",
    "\n",
    "    # find first grid point larger than x\n",
    "    point = a\n",
    "    while point <= x\n",
    "        point += step\n",
    "    end\n",
    "\n",
    "    # x must lie between the gridpoints (point - step) and point\n",
    "    u, v = point - step, point\n",
    "\n",
    "    return f(u) + (x - u) * (f(v) - f(u)) / (v - u)\n",
    "end"
   ]
  },
  {
   "cell_type": "markdown",
   "id": "0f0f2212",
   "metadata": {},
   "source": [
    "Let’s test it"
   ]
  },
  {
   "cell_type": "code",
   "execution_count": 43,
   "id": "62588501",
   "metadata": {
    "hide-output": false
   },
   "outputs": [
    {
     "data": {
      "text/plain": [
       "g_ex5 (generic function with 1 method)"
      ]
     },
     "metadata": {},
     "output_type": "display_data"
    }
   ],
   "source": [
    "f_ex5(x) = x^2\n",
    "g_ex5(x) = linapprox(f_ex5, -1, 1, 10, x)"
   ]
  },
  {
   "cell_type": "code",
   "execution_count": 44,
   "id": "43db32f9",
   "metadata": {
    "hide-output": false
   },
   "outputs": [
    {
     "data": {
      "image/png": "[encoded data removed]",
      "image/svg+xml": [
       "<?xml version=\"1.0\" encoding=\"utf-8\"?>\n",
       "<svg xmlns=\"http://www.w3.org/2000/svg\" xmlns:xlink=\"http://www.w3.org/1999/xlink\" width=\"600\" height=\"400\" viewBox=\"0 0 2400 1600\">\n",
       "<defs>\n",
       "  <clipPath id=\"clip750\">\n",
       "    <rect x=\"0\" y=\"0\" width=\"2400\" height=\"1600\"/>\n",
       "  </clipPath>\n",
       "</defs>\n",
       "<path clip-path=\"url(#clip750)\" d=\"M0 1600 L2400 1600 L2400 0 L0 0  Z\" fill=\"#ffffff\" fill-rule=\"evenodd\" fill-opacity=\"1\"/>\n",
       "<defs>\n",
       "  <clipPath id=\"clip751\">\n",
       "    <rect x=\"480\" y=\"0\" width=\"1681\" height=\"1600\"/>\n",
       "  </clipPath>\n",
       "</defs>\n",
       "<path clip-path=\"url(#clip750)\" d=\"M186.274 1486.45 L2352.76 1486.45 L2352.76 47.2441 L186.274 47.2441  Z\" fill=\"#ffffff\" fill-rule=\"evenodd\" fill-opacity=\"1\"/>\n",
       "<defs>\n",
       "  <clipPath id=\"clip752\">\n",
       "    <rect x=\"186\" y=\"47\" width=\"2167\" height=\"1440\"/>\n",
       "  </clipPath>\n",
       "</defs>\n",
       "<polyline clip-path=\"url(#clip752)\" style=\"stroke:#000000; stroke-linecap:round; stroke-linejoin:round; stroke-width:2; stroke-opacity:0.1; fill:none\" points=\"247.59,1486.45 247.59,47.2441 \"/>\n",
       "<polyline clip-path=\"url(#clip752)\" style=\"stroke:#000000; stroke-linecap:round; stroke-linejoin:round; stroke-width:2; stroke-opacity:0.1; fill:none\" points=\"758.552,1486.45 758.552,47.2441 \"/>\n",
       "<polyline clip-path=\"url(#clip752)\" style=\"stroke:#000000; stroke-linecap:round; stroke-linejoin:round; stroke-width:2; stroke-opacity:0.1; fill:none\" points=\"1269.51,1486.45 1269.51,47.2441 \"/>\n",
       "<polyline clip-path=\"url(#clip752)\" style=\"stroke:#000000; stroke-linecap:round; stroke-linejoin:round; stroke-width:2; stroke-opacity:0.1; fill:none\" points=\"1780.48,1486.45 1780.48,47.2441 \"/>\n",
       "<polyline clip-path=\"url(#clip752)\" style=\"stroke:#000000; stroke-linecap:round; stroke-linejoin:round; stroke-width:2; stroke-opacity:0.1; fill:none\" points=\"2291.44,1486.45 2291.44,47.2441 \"/>\n",
       "<polyline clip-path=\"url(#clip750)\" style=\"stroke:#000000; stroke-linecap:round; stroke-linejoin:round; stroke-width:4; stroke-opacity:1; fill:none\" points=\"186.274,1486.45 2352.76,1486.45 \"/>\n",
       "<polyline clip-path=\"url(#clip750)\" style=\"stroke:#000000; stroke-linecap:round; stroke-linejoin:round; stroke-width:4; stroke-opacity:1; fill:none\" points=\"247.59,1486.45 247.59,1467.55 \"/>\n",
       "<polyline clip-path=\"url(#clip750)\" style=\"stroke:#000000; stroke-linecap:round; stroke-linejoin:round; stroke-width:4; stroke-opacity:1; fill:none\" points=\"758.552,1486.45 758.552,1467.55 \"/>\n",
       "<polyline clip-path=\"url(#clip750)\" style=\"stroke:#000000; stroke-linecap:round; stroke-linejoin:round; stroke-width:4; stroke-opacity:1; fill:none\" points=\"1269.51,1486.45 1269.51,1467.55 \"/>\n",
       "<polyline clip-path=\"url(#clip750)\" style=\"stroke:#000000; stroke-linecap:round; stroke-linejoin:round; stroke-width:4; stroke-opacity:1; fill:none\" points=\"1780.48,1486.45 1780.48,1467.55 \"/>\n",
       "<polyline clip-path=\"url(#clip750)\" style=\"stroke:#000000; stroke-linecap:round; stroke-linejoin:round; stroke-width:4; stroke-opacity:1; fill:none\" points=\"2291.44,1486.45 2291.44,1467.55 \"/>\n",
       "<path clip-path=\"url(#clip750)\" d=\"M194.118 1532.02 L223.793 1532.02 L223.793 1535.95 L194.118 1535.95 L194.118 1532.02 Z\" fill=\"#000000\" fill-rule=\"nonzero\" fill-opacity=\"1\" /><path clip-path=\"url(#clip750)\" d=\"M234.696 1544.91 L242.335 1544.91 L242.335 1518.55 L234.025 1520.21 L234.025 1515.95 L242.289 1514.29 L246.965 1514.29 L246.965 1544.91 L254.603 1544.91 L254.603 1548.85 L234.696 1548.85 L234.696 1544.91 Z\" fill=\"#000000\" fill-rule=\"nonzero\" fill-opacity=\"1\" /><path clip-path=\"url(#clip750)\" d=\"M264.048 1542.97 L268.932 1542.97 L268.932 1548.85 L264.048 1548.85 L264.048 1542.97 Z\" fill=\"#000000\" fill-rule=\"nonzero\" fill-opacity=\"1\" /><path clip-path=\"url(#clip750)\" d=\"M289.117 1517.37 Q285.506 1517.37 283.677 1520.93 Q281.872 1524.47 281.872 1531.6 Q281.872 1538.71 283.677 1542.27 Q285.506 1545.82 289.117 1545.82 Q292.751 1545.82 294.557 1542.27 Q296.386 1538.71 296.386 1531.6 Q296.386 1524.47 294.557 1520.93 Q292.751 1517.37 289.117 1517.37 M289.117 1513.66 Q294.927 1513.66 297.983 1518.27 Q301.061 1522.85 301.061 1531.6 Q301.061 1540.33 297.983 1544.94 Q294.927 1549.52 289.117 1549.52 Q283.307 1549.52 280.228 1544.94 Q277.173 1540.33 277.173 1531.6 Q277.173 1522.85 280.228 1518.27 Q283.307 1513.66 289.117 1513.66 Z\" fill=\"#000000\" fill-rule=\"nonzero\" fill-opacity=\"1\" /><path clip-path=\"url(#clip750)\" d=\"M705.578 1532.02 L735.254 1532.02 L735.254 1535.95 L705.578 1535.95 L705.578 1532.02 Z\" fill=\"#000000\" fill-rule=\"nonzero\" fill-opacity=\"1\" /><path clip-path=\"url(#clip750)\" d=\"M755.346 1517.37 Q751.735 1517.37 749.906 1520.93 Q748.101 1524.47 748.101 1531.6 Q748.101 1538.71 749.906 1542.27 Q751.735 1545.82 755.346 1545.82 Q758.98 1545.82 760.786 1542.27 Q762.615 1538.71 762.615 1531.6 Q762.615 1524.47 760.786 1520.93 Q758.98 1517.37 755.346 1517.37 M755.346 1513.66 Q761.156 1513.66 764.212 1518.27 Q767.291 1522.85 767.291 1531.6 Q767.291 1540.33 764.212 1544.94 Q761.156 1549.52 755.346 1549.52 Q749.536 1549.52 746.457 1544.94 Q743.402 1540.33 743.402 1531.6 Q743.402 1522.85 746.457 1518.27 Q749.536 1513.66 755.346 1513.66 Z\" fill=\"#000000\" fill-rule=\"nonzero\" fill-opacity=\"1\" /><path clip-path=\"url(#clip750)\" d=\"M775.508 1542.97 L780.392 1542.97 L780.392 1548.85 L775.508 1548.85 L775.508 1542.97 Z\" fill=\"#000000\" fill-rule=\"nonzero\" fill-opacity=\"1\" /><path clip-path=\"url(#clip750)\" d=\"M790.624 1514.29 L808.98 1514.29 L808.98 1518.22 L794.906 1518.22 L794.906 1526.7 Q795.925 1526.35 796.943 1526.19 Q797.962 1526 798.98 1526 Q804.767 1526 808.147 1529.17 Q811.526 1532.34 811.526 1537.76 Q811.526 1543.34 808.054 1546.44 Q804.582 1549.52 798.263 1549.52 Q796.087 1549.52 793.818 1549.15 Q791.573 1548.78 789.166 1548.04 L789.166 1543.34 Q791.249 1544.47 793.471 1545.03 Q795.693 1545.58 798.17 1545.58 Q802.175 1545.58 804.513 1543.48 Q806.851 1541.37 806.851 1537.76 Q806.851 1534.15 804.513 1532.04 Q802.175 1529.94 798.17 1529.94 Q796.295 1529.94 794.42 1530.35 Q792.568 1530.77 790.624 1531.65 L790.624 1514.29 Z\" fill=\"#000000\" fill-rule=\"nonzero\" fill-opacity=\"1\" /><path clip-path=\"url(#clip750)\" d=\"M1246.9 1517.37 Q1243.29 1517.37 1241.46 1520.93 Q1239.65 1524.47 1239.65 1531.6 Q1239.65 1538.71 1241.46 1542.27 Q1243.29 1545.82 1246.9 1545.82 Q1250.53 1545.82 1252.34 1542.27 Q1254.17 1538.71 1254.17 1531.6 Q1254.17 1524.47 1252.34 1520.93 Q1250.53 1517.37 1246.9 1517.37 M1246.9 1513.66 Q1252.71 1513.66 1255.77 1518.27 Q1258.84 1522.85 1258.84 1531.6 Q1258.84 1540.33 1255.77 1544.94 Q1252.71 1549.52 1246.9 1549.52 Q1241.09 1549.52 1238.01 1544.94 Q1234.95 1540.33 1234.95 1531.6 Q1234.95 1522.85 1238.01 1518.27 Q1241.09 1513.66 1246.9 1513.66 Z\" fill=\"#000000\" fill-rule=\"nonzero\" fill-opacity=\"1\" /><path clip-path=\"url(#clip750)\" d=\"M1267.06 1542.97 L1271.95 1542.97 L1271.95 1548.85 L1267.06 1548.85 L1267.06 1542.97 Z\" fill=\"#000000\" fill-rule=\"nonzero\" fill-opacity=\"1\" /><path clip-path=\"url(#clip750)\" d=\"M1292.13 1517.37 Q1288.52 1517.37 1286.69 1520.93 Q1284.89 1524.47 1284.89 1531.6 Q1284.89 1538.71 1286.69 1542.27 Q1288.52 1545.82 1292.13 1545.82 Q1295.76 1545.82 1297.57 1542.27 Q1299.4 1538.71 1299.4 1531.6 Q1299.4 1524.47 1297.57 1520.93 Q1295.76 1517.37 1292.13 1517.37 M1292.13 1513.66 Q1297.94 1513.66 1301 1518.27 Q1304.07 1522.85 1304.07 1531.6 Q1304.07 1540.33 1301 1544.94 Q1297.94 1549.52 1292.13 1549.52 Q1286.32 1549.52 1283.24 1544.94 Q1280.19 1540.33 1280.19 1531.6 Q1280.19 1522.85 1283.24 1518.27 Q1286.32 1513.66 1292.13 1513.66 Z\" fill=\"#000000\" fill-rule=\"nonzero\" fill-opacity=\"1\" /><path clip-path=\"url(#clip750)\" d=\"M1758.36 1517.37 Q1754.75 1517.37 1752.92 1520.93 Q1751.11 1524.47 1751.11 1531.6 Q1751.11 1538.71 1752.92 1542.27 Q1754.75 1545.82 1758.36 1545.82 Q1761.99 1545.82 1763.8 1542.27 Q1765.63 1538.71 1765.63 1531.6 Q1765.63 1524.47 1763.8 1520.93 Q1761.99 1517.37 1758.36 1517.37 M1758.36 1513.66 Q1764.17 1513.66 1767.23 1518.27 Q1770.3 1522.85 1770.3 1531.6 Q1770.3 1540.33 1767.23 1544.94 Q1764.17 1549.52 1758.36 1549.52 Q1752.55 1549.52 1749.47 1544.94 Q1746.42 1540.33 1746.42 1531.6 Q1746.42 1522.85 1749.47 1518.27 Q1752.55 1513.66 1758.36 1513.66 Z\" fill=\"#000000\" fill-rule=\"nonzero\" fill-opacity=\"1\" /><path clip-path=\"url(#clip750)\" d=\"M1778.52 1542.97 L1783.41 1542.97 L1783.41 1548.85 L1778.52 1548.85 L1778.52 1542.97 Z\" fill=\"#000000\" fill-rule=\"nonzero\" fill-opacity=\"1\" /><path clip-path=\"url(#clip750)\" d=\"M1793.64 1514.29 L1811.99 1514.29 L1811.99 1518.22 L1797.92 1518.22 L1797.92 1526.7 Q1798.94 1526.35 1799.96 1526.19 Q1800.98 1526 1801.99 1526 Q1807.78 1526 1811.16 1529.17 Q1814.54 1532.34 1814.54 1537.76 Q1814.54 1543.34 1811.07 1546.44 Q1807.6 1549.52 1801.28 1549.52 Q1799.1 1549.52 1796.83 1549.15 Q1794.59 1548.78 1792.18 1548.04 L1792.18 1543.34 Q1794.26 1544.47 1796.48 1545.03 Q1798.71 1545.58 1801.18 1545.58 Q1805.19 1545.58 1807.53 1543.48 Q1809.86 1541.37 1809.86 1537.76 Q1809.86 1534.15 1807.53 1532.04 Q1805.19 1529.94 1801.18 1529.94 Q1799.31 1529.94 1797.43 1530.35 Q1795.58 1530.77 1793.64 1531.65 L1793.64 1514.29 Z\" fill=\"#000000\" fill-rule=\"nonzero\" fill-opacity=\"1\" /><path clip-path=\"url(#clip750)\" d=\"M2258.59 1544.91 L2266.23 1544.91 L2266.23 1518.55 L2257.92 1520.21 L2257.92 1515.95 L2266.19 1514.29 L2270.86 1514.29 L2270.86 1544.91 L2278.5 1544.91 L2278.5 1548.85 L2258.59 1548.85 L2258.59 1544.91 Z\" fill=\"#000000\" fill-rule=\"nonzero\" fill-opacity=\"1\" /><path clip-path=\"url(#clip750)\" d=\"M2287.95 1542.97 L2292.83 1542.97 L2292.83 1548.85 L2287.95 1548.85 L2287.95 1542.97 Z\" fill=\"#000000\" fill-rule=\"nonzero\" fill-opacity=\"1\" /><path clip-path=\"url(#clip750)\" d=\"M2313.01 1517.37 Q2309.4 1517.37 2307.57 1520.93 Q2305.77 1524.47 2305.77 1531.6 Q2305.77 1538.71 2307.57 1542.27 Q2309.4 1545.82 2313.01 1545.82 Q2316.65 1545.82 2318.45 1542.27 Q2320.28 1538.71 2320.28 1531.6 Q2320.28 1524.47 2318.45 1520.93 Q2316.65 1517.37 2313.01 1517.37 M2313.01 1513.66 Q2318.82 1513.66 2321.88 1518.27 Q2324.96 1522.85 2324.96 1531.6 Q2324.96 1540.33 2321.88 1544.94 Q2318.82 1549.52 2313.01 1549.52 Q2307.2 1549.52 2304.13 1544.94 Q2301.07 1540.33 2301.07 1531.6 Q2301.07 1522.85 2304.13 1518.27 Q2307.2 1513.66 2313.01 1513.66 Z\" fill=\"#000000\" fill-rule=\"nonzero\" fill-opacity=\"1\" /><polyline clip-path=\"url(#clip752)\" style=\"stroke:#000000; stroke-linecap:round; stroke-linejoin:round; stroke-width:2; stroke-opacity:0.1; fill:none\" points=\"186.274,1445.85 2352.76,1445.85 \"/>\n",
       "<polyline clip-path=\"url(#clip752)\" style=\"stroke:#000000; stroke-linecap:round; stroke-linejoin:round; stroke-width:2; stroke-opacity:0.1; fill:none\" points=\"186.274,1106.38 2352.76,1106.38 \"/>\n",
       "<polyline clip-path=\"url(#clip752)\" style=\"stroke:#000000; stroke-linecap:round; stroke-linejoin:round; stroke-width:2; stroke-opacity:0.1; fill:none\" points=\"186.274,766.915 2352.76,766.915 \"/>\n",
       "<polyline clip-path=\"url(#clip752)\" style=\"stroke:#000000; stroke-linecap:round; stroke-linejoin:round; stroke-width:2; stroke-opacity:0.1; fill:none\" points=\"186.274,427.446 2352.76,427.446 \"/>\n",
       "<polyline clip-path=\"url(#clip752)\" style=\"stroke:#000000; stroke-linecap:round; stroke-linejoin:round; stroke-width:2; stroke-opacity:0.1; fill:none\" points=\"186.274,87.9763 2352.76,87.9763 \"/>\n",
       "<polyline clip-path=\"url(#clip750)\" style=\"stroke:#000000; stroke-linecap:round; stroke-linejoin:round; stroke-width:4; stroke-opacity:1; fill:none\" points=\"186.274,1486.45 186.274,47.2441 \"/>\n",
       "<polyline clip-path=\"url(#clip750)\" style=\"stroke:#000000; stroke-linecap:round; stroke-linejoin:round; stroke-width:4; stroke-opacity:1; fill:none\" points=\"186.274,1445.85 205.172,1445.85 \"/>\n",
       "<polyline clip-path=\"url(#clip750)\" style=\"stroke:#000000; stroke-linecap:round; stroke-linejoin:round; stroke-width:4; stroke-opacity:1; fill:none\" points=\"186.274,1106.38 205.172,1106.38 \"/>\n",
       "<polyline clip-path=\"url(#clip750)\" style=\"stroke:#000000; stroke-linecap:round; stroke-linejoin:round; stroke-width:4; stroke-opacity:1; fill:none\" points=\"186.274,766.915 205.172,766.915 \"/>\n",
       "<polyline clip-path=\"url(#clip750)\" style=\"stroke:#000000; stroke-linecap:round; stroke-linejoin:round; stroke-width:4; stroke-opacity:1; fill:none\" points=\"186.274,427.446 205.172,427.446 \"/>\n",
       "<polyline clip-path=\"url(#clip750)\" style=\"stroke:#000000; stroke-linecap:round; stroke-linejoin:round; stroke-width:4; stroke-opacity:1; fill:none\" points=\"186.274,87.9763 205.172,87.9763 \"/>\n",
       "<path clip-path=\"url(#clip750)\" d=\"M62.9365 1431.65 Q59.3254 1431.65 57.4967 1435.22 Q55.6912 1438.76 55.6912 1445.89 Q55.6912 1453 57.4967 1456.56 Q59.3254 1460.1 62.9365 1460.1 Q66.5707 1460.1 68.3763 1456.56 Q70.205 1453 70.205 1445.89 Q70.205 1438.76 68.3763 1435.22 Q66.5707 1431.65 62.9365 1431.65 M62.9365 1427.95 Q68.7467 1427.95 71.8022 1432.56 Q74.8809 1437.14 74.8809 1445.89 Q74.8809 1454.62 71.8022 1459.22 Q68.7467 1463.81 62.9365 1463.81 Q57.1264 1463.81 54.0477 1459.22 Q50.9921 1454.62 50.9921 1445.89 Q50.9921 1437.14 54.0477 1432.56 Q57.1264 1427.95 62.9365 1427.95 Z\" fill=\"#000000\" fill-rule=\"nonzero\" fill-opacity=\"1\" /><path clip-path=\"url(#clip750)\" d=\"M83.0984 1457.25 L87.9827 1457.25 L87.9827 1463.13 L83.0984 1463.13 L83.0984 1457.25 Z\" fill=\"#000000\" fill-rule=\"nonzero\" fill-opacity=\"1\" /><path clip-path=\"url(#clip750)\" d=\"M108.168 1431.65 Q104.557 1431.65 102.728 1435.22 Q100.922 1438.76 100.922 1445.89 Q100.922 1453 102.728 1456.56 Q104.557 1460.1 108.168 1460.1 Q111.802 1460.1 113.608 1456.56 Q115.436 1453 115.436 1445.89 Q115.436 1438.76 113.608 1435.22 Q111.802 1431.65 108.168 1431.65 M108.168 1427.95 Q113.978 1427.95 117.033 1432.56 Q120.112 1437.14 120.112 1445.89 Q120.112 1454.62 117.033 1459.22 Q113.978 1463.81 108.168 1463.81 Q102.358 1463.81 99.2789 1459.22 Q96.2234 1454.62 96.2234 1445.89 Q96.2234 1437.14 99.2789 1432.56 Q102.358 1427.95 108.168 1427.95 Z\" fill=\"#000000\" fill-rule=\"nonzero\" fill-opacity=\"1\" /><path clip-path=\"url(#clip750)\" d=\"M138.33 1431.65 Q134.719 1431.65 132.89 1435.22 Q131.084 1438.76 131.084 1445.89 Q131.084 1453 132.89 1456.56 Q134.719 1460.1 138.33 1460.1 Q141.964 1460.1 143.769 1456.56 Q145.598 1453 145.598 1445.89 Q145.598 1438.76 143.769 1435.22 Q141.964 1431.65 138.33 1431.65 M138.33 1427.95 Q144.14 1427.95 147.195 1432.56 Q150.274 1437.14 150.274 1445.89 Q150.274 1454.62 147.195 1459.22 Q144.14 1463.81 138.33 1463.81 Q132.519 1463.81 129.441 1459.22 Q126.385 1454.62 126.385 1445.89 Q126.385 1437.14 129.441 1432.56 Q132.519 1427.95 138.33 1427.95 Z\" fill=\"#000000\" fill-rule=\"nonzero\" fill-opacity=\"1\" /><path clip-path=\"url(#clip750)\" d=\"M63.9319 1092.18 Q60.3208 1092.18 58.4921 1095.75 Q56.6865 1099.29 56.6865 1106.42 Q56.6865 1113.53 58.4921 1117.09 Q60.3208 1120.63 63.9319 1120.63 Q67.5661 1120.63 69.3717 1117.09 Q71.2004 1113.53 71.2004 1106.42 Q71.2004 1099.29 69.3717 1095.75 Q67.5661 1092.18 63.9319 1092.18 M63.9319 1088.48 Q69.742 1088.48 72.7976 1093.09 Q75.8763 1097.67 75.8763 1106.42 Q75.8763 1115.15 72.7976 1119.75 Q69.742 1124.34 63.9319 1124.34 Q58.1217 1124.34 55.043 1119.75 Q51.9875 1115.15 51.9875 1106.42 Q51.9875 1097.67 55.043 1093.09 Q58.1217 1088.48 63.9319 1088.48 Z\" fill=\"#000000\" fill-rule=\"nonzero\" fill-opacity=\"1\" /><path clip-path=\"url(#clip750)\" d=\"M84.0938 1117.79 L88.978 1117.79 L88.978 1123.66 L84.0938 1123.66 L84.0938 1117.79 Z\" fill=\"#000000\" fill-rule=\"nonzero\" fill-opacity=\"1\" /><path clip-path=\"url(#clip750)\" d=\"M103.191 1119.73 L119.51 1119.73 L119.51 1123.66 L97.566 1123.66 L97.566 1119.73 Q100.228 1116.97 104.811 1112.35 Q109.418 1107.69 110.598 1106.35 Q112.844 1103.83 113.723 1102.09 Q114.626 1100.33 114.626 1098.64 Q114.626 1095.89 112.682 1094.15 Q110.76 1092.41 107.658 1092.41 Q105.459 1092.41 103.006 1093.18 Q100.575 1093.94 97.7974 1095.49 L97.7974 1090.77 Q100.621 1089.64 103.075 1089.06 Q105.529 1088.48 107.566 1088.48 Q112.936 1088.48 116.131 1091.16 Q119.325 1093.85 119.325 1098.34 Q119.325 1100.47 118.515 1102.39 Q117.728 1104.29 115.621 1106.88 Q115.043 1107.55 111.941 1110.77 Q108.839 1113.97 103.191 1119.73 Z\" fill=\"#000000\" fill-rule=\"nonzero\" fill-opacity=\"1\" /><path clip-path=\"url(#clip750)\" d=\"M129.371 1089.1 L147.728 1089.1 L147.728 1093.04 L133.654 1093.04 L133.654 1101.51 Q134.672 1101.16 135.691 1101 Q136.709 1100.82 137.728 1100.82 Q143.515 1100.82 146.894 1103.99 Q150.274 1107.16 150.274 1112.58 Q150.274 1118.16 146.802 1121.26 Q143.33 1124.34 137.01 1124.34 Q134.834 1124.34 132.566 1123.97 Q130.32 1123.6 127.913 1122.85 L127.913 1118.16 Q129.996 1119.29 132.219 1119.85 Q134.441 1120.4 136.918 1120.4 Q140.922 1120.4 143.26 1118.29 Q145.598 1116.19 145.598 1112.58 Q145.598 1108.97 143.26 1106.86 Q140.922 1104.75 136.918 1104.75 Q135.043 1104.75 133.168 1105.17 Q131.316 1105.59 129.371 1106.47 L129.371 1089.1 Z\" fill=\"#000000\" fill-rule=\"nonzero\" fill-opacity=\"1\" /><path clip-path=\"url(#clip750)\" d=\"M62.9365 752.714 Q59.3254 752.714 57.4967 756.279 Q55.6912 759.82 55.6912 766.95 Q55.6912 774.056 57.4967 777.621 Q59.3254 781.163 62.9365 781.163 Q66.5707 781.163 68.3763 777.621 Q70.205 774.056 70.205 766.95 Q70.205 759.82 68.3763 756.279 Q66.5707 752.714 62.9365 752.714 M62.9365 749.01 Q68.7467 749.01 71.8022 753.617 Q74.8809 758.2 74.8809 766.95 Q74.8809 775.677 71.8022 780.283 Q68.7467 784.867 62.9365 784.867 Q57.1264 784.867 54.0477 780.283 Q50.9921 775.677 50.9921 766.95 Q50.9921 758.2 54.0477 753.617 Q57.1264 749.01 62.9365 749.01 Z\" fill=\"#000000\" fill-rule=\"nonzero\" fill-opacity=\"1\" /><path clip-path=\"url(#clip750)\" d=\"M83.0984 778.316 L87.9827 778.316 L87.9827 784.195 L83.0984 784.195 L83.0984 778.316 Z\" fill=\"#000000\" fill-rule=\"nonzero\" fill-opacity=\"1\" /><path clip-path=\"url(#clip750)\" d=\"M98.2141 749.635 L116.57 749.635 L116.57 753.57 L102.496 753.57 L102.496 762.043 Q103.515 761.695 104.534 761.533 Q105.552 761.348 106.571 761.348 Q112.358 761.348 115.737 764.519 Q119.117 767.691 119.117 773.107 Q119.117 778.686 115.645 781.788 Q112.172 784.867 105.853 784.867 Q103.677 784.867 101.409 784.496 Q99.1632 784.126 96.7558 783.385 L96.7558 778.686 Q98.8391 779.82 101.061 780.376 Q103.284 780.931 105.76 780.931 Q109.765 780.931 112.103 778.825 Q114.441 776.718 114.441 773.107 Q114.441 769.496 112.103 767.39 Q109.765 765.283 105.76 765.283 Q103.885 765.283 102.01 765.7 Q100.159 766.117 98.2141 766.996 L98.2141 749.635 Z\" fill=\"#000000\" fill-rule=\"nonzero\" fill-opacity=\"1\" /><path clip-path=\"url(#clip750)\" d=\"M138.33 752.714 Q134.719 752.714 132.89 756.279 Q131.084 759.82 131.084 766.95 Q131.084 774.056 132.89 777.621 Q134.719 781.163 138.33 781.163 Q141.964 781.163 143.769 777.621 Q145.598 774.056 145.598 766.95 Q145.598 759.82 143.769 756.279 Q141.964 752.714 138.33 752.714 M138.33 749.01 Q144.14 749.01 147.195 753.617 Q150.274 758.2 150.274 766.95 Q150.274 775.677 147.195 780.283 Q144.14 784.867 138.33 784.867 Q132.519 784.867 129.441 780.283 Q126.385 775.677 126.385 766.95 Q126.385 758.2 129.441 753.617 Q132.519 749.01 138.33 749.01 Z\" fill=\"#000000\" fill-rule=\"nonzero\" fill-opacity=\"1\" /><path clip-path=\"url(#clip750)\" d=\"M63.9319 413.244 Q60.3208 413.244 58.4921 416.809 Q56.6865 420.351 56.6865 427.48 Q56.6865 434.587 58.4921 438.152 Q60.3208 441.693 63.9319 441.693 Q67.5661 441.693 69.3717 438.152 Q71.2004 434.587 71.2004 427.48 Q71.2004 420.351 69.3717 416.809 Q67.5661 413.244 63.9319 413.244 M63.9319 409.541 Q69.742 409.541 72.7976 414.147 Q75.8763 418.731 75.8763 427.48 Q75.8763 436.207 72.7976 440.814 Q69.742 445.397 63.9319 445.397 Q58.1217 445.397 55.043 440.814 Q51.9875 436.207 51.9875 427.48 Q51.9875 418.731 55.043 414.147 Q58.1217 409.541 63.9319 409.541 Z\" fill=\"#000000\" fill-rule=\"nonzero\" fill-opacity=\"1\" /><path clip-path=\"url(#clip750)\" d=\"M84.0938 438.846 L88.978 438.846 L88.978 444.726 L84.0938 444.726 L84.0938 438.846 Z\" fill=\"#000000\" fill-rule=\"nonzero\" fill-opacity=\"1\" /><path clip-path=\"url(#clip750)\" d=\"M97.9826 410.166 L120.205 410.166 L120.205 412.156 L107.658 444.726 L102.774 444.726 L114.58 414.101 L97.9826 414.101 L97.9826 410.166 Z\" fill=\"#000000\" fill-rule=\"nonzero\" fill-opacity=\"1\" /><path clip-path=\"url(#clip750)\" d=\"M129.371 410.166 L147.728 410.166 L147.728 414.101 L133.654 414.101 L133.654 422.573 Q134.672 422.226 135.691 422.064 Q136.709 421.879 137.728 421.879 Q143.515 421.879 146.894 425.05 Q150.274 428.221 150.274 433.638 Q150.274 439.217 146.802 442.318 Q143.33 445.397 137.01 445.397 Q134.834 445.397 132.566 445.027 Q130.32 444.656 127.913 443.916 L127.913 439.217 Q129.996 440.351 132.219 440.906 Q134.441 441.462 136.918 441.462 Q140.922 441.462 143.26 439.355 Q145.598 437.249 145.598 433.638 Q145.598 430.027 143.26 427.92 Q140.922 425.814 136.918 425.814 Q135.043 425.814 133.168 426.23 Q131.316 426.647 129.371 427.527 L129.371 410.166 Z\" fill=\"#000000\" fill-rule=\"nonzero\" fill-opacity=\"1\" /><path clip-path=\"url(#clip750)\" d=\"M53.7467 101.321 L61.3856 101.321 L61.3856 74.9555 L53.0754 76.6222 L53.0754 72.3629 L61.3393 70.6963 L66.0152 70.6963 L66.0152 101.321 L73.654 101.321 L73.654 105.256 L53.7467 105.256 L53.7467 101.321 Z\" fill=\"#000000\" fill-rule=\"nonzero\" fill-opacity=\"1\" /><path clip-path=\"url(#clip750)\" d=\"M83.0984 99.3767 L87.9827 99.3767 L87.9827 105.256 L83.0984 105.256 L83.0984 99.3767 Z\" fill=\"#000000\" fill-rule=\"nonzero\" fill-opacity=\"1\" /><path clip-path=\"url(#clip750)\" d=\"M108.168 73.775 Q104.557 73.775 102.728 77.3398 Q100.922 80.8814 100.922 88.011 Q100.922 95.1174 102.728 98.6822 Q104.557 102.224 108.168 102.224 Q111.802 102.224 113.608 98.6822 Q115.436 95.1174 115.436 88.011 Q115.436 80.8814 113.608 77.3398 Q111.802 73.775 108.168 73.775 M108.168 70.0713 Q113.978 70.0713 117.033 74.6777 Q120.112 79.261 120.112 88.011 Q120.112 96.7378 117.033 101.344 Q113.978 105.928 108.168 105.928 Q102.358 105.928 99.2789 101.344 Q96.2234 96.7378 96.2234 88.011 Q96.2234 79.261 99.2789 74.6777 Q102.358 70.0713 108.168 70.0713 Z\" fill=\"#000000\" fill-rule=\"nonzero\" fill-opacity=\"1\" /><path clip-path=\"url(#clip750)\" d=\"M138.33 73.775 Q134.719 73.775 132.89 77.3398 Q131.084 80.8814 131.084 88.011 Q131.084 95.1174 132.89 98.6822 Q134.719 102.224 138.33 102.224 Q141.964 102.224 143.769 98.6822 Q145.598 95.1174 145.598 88.011 Q145.598 80.8814 143.769 77.3398 Q141.964 73.775 138.33 73.775 M138.33 70.0713 Q144.14 70.0713 147.195 74.6777 Q150.274 79.261 150.274 88.011 Q150.274 96.7378 147.195 101.344 Q144.14 105.928 138.33 105.928 Q132.519 105.928 129.441 101.344 Q126.385 96.7378 126.385 88.011 Q126.385 79.261 129.441 74.6777 Q132.519 70.0713 138.33 70.0713 Z\" fill=\"#000000\" fill-rule=\"nonzero\" fill-opacity=\"1\" /><polyline clip-path=\"url(#clip752)\" style=\"stroke:#009af9; stroke-linecap:round; stroke-linejoin:round; stroke-width:4; stroke-opacity:1; fill:none\" points=\"247.59,87.9763 268.234,142.286 288.879,195.487 309.524,247.58 330.169,298.564 350.814,348.441 371.459,397.208 392.104,444.868 412.749,491.419 433.394,536.862 454.039,581.196 474.684,624.422 495.329,666.54 515.974,707.549 536.619,747.45 557.264,786.242 577.909,823.926 598.554,860.502 619.199,895.97 639.844,930.329 660.489,963.58 681.134,995.722 701.779,1026.76 722.424,1056.68 743.069,1085.5 763.713,1113.21 784.358,1139.81 805.003,1165.3 825.648,1189.68 846.293,1212.96 866.938,1235.13 887.583,1256.19 908.228,1276.14 928.873,1294.98 949.518,1312.71 970.163,1329.34 990.808,1344.86 1011.45,1359.26 1032.1,1372.56 1052.74,1384.76 1073.39,1395.84 1094.03,1405.81 1114.68,1414.68 1135.32,1422.44 1155.97,1429.09 1176.61,1434.63 1197.26,1439.07 1217.9,1442.39 1238.55,1444.61 1259.19,1445.72 1279.84,1445.72 1300.48,1444.61 1321.13,1442.39 1341.77,1439.07 1362.42,1434.63 1383.06,1429.09 1403.71,1422.44 1424.35,1414.68 1445,1405.81 1465.64,1395.84 1486.29,1384.76 1506.93,1372.56 1527.58,1359.26 1548.22,1344.86 1568.87,1329.34 1589.51,1312.71 1610.16,1294.98 1630.8,1276.14 1651.45,1256.19 1672.09,1235.13 1692.74,1212.96 1713.38,1189.68 1734.03,1165.3 1754.67,1139.81 1775.32,1113.21 1795.96,1085.5 1816.61,1056.68 1837.25,1026.76 1857.9,995.722 1878.54,963.58 1899.19,930.329 1919.83,895.97 1940.48,860.502 1961.12,823.926 1981.77,786.242 2002.41,747.45 2023.06,707.549 2043.7,666.54 2064.35,624.422 2084.99,581.196 2105.64,536.862 2126.28,491.419 2146.93,444.868 2167.57,397.208 2188.22,348.441 2208.86,298.564 2229.51,247.58 2250.15,195.487 2270.8,142.286 2291.44,87.9763 \"/>\n",
       "<polyline clip-path=\"url(#clip752)\" style=\"stroke:#e26f46; stroke-linecap:round; stroke-linejoin:round; stroke-width:4; stroke-opacity:1; fill:none\" points=\"247.59,87.9763 268.234,136.744 288.879,185.512 309.524,234.28 330.169,283.047 350.814,331.815 371.459,380.583 392.104,429.351 412.749,478.119 433.394,526.886 454.039,575.654 474.684,624.422 495.329,660.998 515.974,697.574 536.619,734.149 557.264,770.725 577.909,807.301 598.554,843.877 619.199,880.453 639.844,917.029 660.489,953.604 681.134,990.18 701.779,1026.76 722.424,1051.14 743.069,1075.52 763.713,1099.91 784.358,1124.29 805.003,1148.68 825.648,1173.06 846.293,1197.44 866.938,1221.83 887.583,1246.21 908.228,1270.6 928.873,1294.98 949.518,1307.17 970.163,1319.36 990.808,1331.55 1011.45,1343.75 1032.1,1355.94 1052.74,1368.13 1073.39,1380.32 1094.03,1392.51 1114.68,1404.71 1135.32,1416.9 1155.97,1429.09 1176.61,1429.09 1197.26,1429.09 1217.9,1429.09 1238.55,1429.09 1259.19,1429.09 1279.84,1429.09 1300.48,1429.09 1321.13,1429.09 1341.77,1429.09 1362.42,1429.09 1383.06,1429.09 1403.71,1416.9 1424.35,1404.71 1445,1392.51 1465.64,1380.32 1486.29,1368.13 1506.93,1355.94 1527.58,1343.75 1548.22,1331.55 1568.87,1319.36 1589.51,1307.17 1610.16,1294.98 1630.8,1270.6 1651.45,1246.21 1672.09,1221.83 1692.74,1197.44 1713.38,1173.06 1734.03,1148.68 1754.67,1124.29 1775.32,1099.91 1795.96,1075.52 1816.61,1051.14 1837.25,1026.76 1857.9,990.18 1878.54,953.604 1899.19,917.029 1919.83,880.453 1940.48,843.877 1961.12,807.301 1981.77,770.725 2002.41,734.149 2023.06,697.574 2043.7,660.998 2064.35,624.422 2084.99,575.654 2105.64,526.886 2126.28,478.119 2146.93,429.351 2167.57,380.583 2188.22,331.815 2208.86,283.047 2229.51,234.28 2250.15,185.512 2270.8,136.744 2291.44,87.9763 \"/>\n",
       "<path clip-path=\"url(#clip750)\" d=\"M1728.27 1438.47 L2280.54 1438.47 L2280.54 1282.95 L1728.27 1282.95  Z\" fill=\"#ffffff\" fill-rule=\"evenodd\" fill-opacity=\"1\"/>\n",
       "<polyline clip-path=\"url(#clip750)\" style=\"stroke:#000000; stroke-linecap:round; stroke-linejoin:round; stroke-width:4; stroke-opacity:1; fill:none\" points=\"1728.27,1438.47 2280.54,1438.47 2280.54,1282.95 1728.27,1282.95 1728.27,1438.47 \"/>\n",
       "<polyline clip-path=\"url(#clip750)\" style=\"stroke:#009af9; stroke-linecap:round; stroke-linejoin:round; stroke-width:4; stroke-opacity:1; fill:none\" points=\"1752.34,1334.79 1896.77,1334.79 \"/>\n",
       "<path clip-path=\"url(#clip750)\" d=\"M1928.25 1318.79 L1928.25 1326.15 L1937.03 1326.15 L1937.03 1329.46 L1928.25 1329.46 L1928.25 1343.53 Q1928.25 1346.7 1929.11 1347.61 Q1929.99 1348.51 1932.65 1348.51 L1937.03 1348.51 L1937.03 1352.07 L1932.65 1352.07 Q1927.72 1352.07 1925.84 1350.25 Q1923.97 1348.39 1923.97 1343.53 L1923.97 1329.46 L1920.84 1329.46 L1920.84 1326.15 L1923.97 1326.15 L1923.97 1318.79 L1928.25 1318.79 Z\" fill=\"#000000\" fill-rule=\"nonzero\" fill-opacity=\"1\" /><path clip-path=\"url(#clip750)\" d=\"M1957.65 1330.13 Q1956.93 1329.71 1956.08 1329.53 Q1955.24 1329.32 1954.22 1329.32 Q1950.61 1329.32 1948.67 1331.68 Q1946.75 1334.02 1946.75 1338.42 L1946.75 1352.07 L1942.46 1352.07 L1942.46 1326.15 L1946.75 1326.15 L1946.75 1330.18 Q1948.09 1327.82 1950.24 1326.68 Q1952.4 1325.52 1955.47 1325.52 Q1955.91 1325.52 1956.45 1325.59 Q1956.98 1325.64 1957.63 1325.76 L1957.65 1330.13 Z\" fill=\"#000000\" fill-rule=\"nonzero\" fill-opacity=\"1\" /><path clip-path=\"url(#clip750)\" d=\"M1961.68 1341.84 L1961.68 1326.15 L1965.94 1326.15 L1965.94 1341.68 Q1965.94 1345.36 1967.37 1347.21 Q1968.81 1349.04 1971.68 1349.04 Q1975.13 1349.04 1977.12 1346.84 Q1979.13 1344.64 1979.13 1340.85 L1979.13 1326.15 L1983.39 1326.15 L1983.39 1352.07 L1979.13 1352.07 L1979.13 1348.09 Q1977.58 1350.45 1975.52 1351.61 Q1973.48 1352.75 1970.77 1352.75 Q1966.31 1352.75 1963.99 1349.97 Q1961.68 1347.19 1961.68 1341.84 M1972.4 1325.52 L1972.4 1325.52 Z\" fill=\"#000000\" fill-rule=\"nonzero\" fill-opacity=\"1\" /><path clip-path=\"url(#clip750)\" d=\"M2014.34 1338.05 L2014.34 1340.13 L1994.76 1340.13 Q1995.03 1344.53 1997.4 1346.84 Q1999.78 1349.13 2004.02 1349.13 Q2006.47 1349.13 2008.76 1348.53 Q2011.08 1347.93 2013.34 1346.73 L2013.34 1350.75 Q2011.05 1351.73 2008.65 1352.24 Q2006.24 1352.75 2003.76 1352.75 Q1997.56 1352.75 1993.92 1349.13 Q1990.31 1345.52 1990.31 1339.37 Q1990.31 1333 1993.74 1329.27 Q1997.19 1325.52 2003.02 1325.52 Q2008.25 1325.52 2011.28 1328.9 Q2014.34 1332.26 2014.34 1338.05 M2010.08 1336.8 Q2010.03 1333.3 2008.11 1331.22 Q2006.21 1329.13 2003.07 1329.13 Q1999.5 1329.13 1997.35 1331.15 Q1995.22 1333.16 1994.9 1336.82 L2010.08 1336.8 Z\" fill=\"#000000\" fill-rule=\"nonzero\" fill-opacity=\"1\" /><polyline clip-path=\"url(#clip750)\" style=\"stroke:#e26f46; stroke-linecap:round; stroke-linejoin:round; stroke-width:4; stroke-opacity:1; fill:none\" points=\"1752.34,1386.63 1896.77,1386.63 \"/>\n",
       "<path clip-path=\"url(#clip750)\" d=\"M1934.25 1390.88 Q1929.09 1390.88 1927.09 1392.06 Q1925.1 1393.24 1925.1 1396.09 Q1925.1 1398.36 1926.59 1399.7 Q1928.09 1401.02 1930.66 1401.02 Q1934.2 1401.02 1936.33 1398.52 Q1938.48 1396 1938.48 1391.83 L1938.48 1390.88 L1934.25 1390.88 M1942.74 1389.12 L1942.74 1403.91 L1938.48 1403.91 L1938.48 1399.98 Q1937.03 1402.34 1934.85 1403.47 Q1932.67 1404.59 1929.53 1404.59 Q1925.54 1404.59 1923.18 1402.36 Q1920.84 1400.12 1920.84 1396.37 Q1920.84 1391.99 1923.76 1389.77 Q1926.7 1387.55 1932.51 1387.55 L1938.48 1387.55 L1938.48 1387.13 Q1938.48 1384.19 1936.54 1382.6 Q1934.62 1380.97 1931.12 1380.97 Q1928.9 1380.97 1926.79 1381.51 Q1924.69 1382.04 1922.74 1383.1 L1922.74 1379.17 Q1925.08 1378.27 1927.28 1377.83 Q1929.48 1377.36 1931.56 1377.36 Q1937.19 1377.36 1939.96 1380.28 Q1942.74 1383.2 1942.74 1389.12 Z\" fill=\"#000000\" fill-rule=\"nonzero\" fill-opacity=\"1\" /><path clip-path=\"url(#clip750)\" d=\"M1955.64 1400.03 L1955.64 1413.78 L1951.35 1413.78 L1951.35 1377.99 L1955.64 1377.99 L1955.64 1381.92 Q1956.98 1379.61 1959.02 1378.5 Q1961.08 1377.36 1963.92 1377.36 Q1968.65 1377.36 1971.59 1381.11 Q1974.55 1384.86 1974.55 1390.97 Q1974.55 1397.09 1971.59 1400.84 Q1968.65 1404.59 1963.92 1404.59 Q1961.08 1404.59 1959.02 1403.47 Q1956.98 1402.34 1955.64 1400.03 M1970.13 1390.97 Q1970.13 1386.28 1968.18 1383.61 Q1966.26 1380.93 1962.88 1380.93 Q1959.5 1380.93 1957.56 1383.61 Q1955.64 1386.28 1955.64 1390.97 Q1955.64 1395.67 1957.56 1398.36 Q1959.5 1401.02 1962.88 1401.02 Q1966.26 1401.02 1968.18 1398.36 Q1970.13 1395.67 1970.13 1390.97 Z\" fill=\"#000000\" fill-rule=\"nonzero\" fill-opacity=\"1\" /><path clip-path=\"url(#clip750)\" d=\"M1985.73 1400.03 L1985.73 1413.78 L1981.45 1413.78 L1981.45 1377.99 L1985.73 1377.99 L1985.73 1381.92 Q1987.07 1379.61 1989.11 1378.5 Q1991.17 1377.36 1994.02 1377.36 Q1998.74 1377.36 2001.68 1381.11 Q2004.64 1384.86 2004.64 1390.97 Q2004.64 1397.09 2001.68 1400.84 Q1998.74 1404.59 1994.02 1404.59 Q1991.17 1404.59 1989.11 1403.47 Q1987.07 1402.34 1985.73 1400.03 M2000.22 1390.97 Q2000.22 1386.28 1998.27 1383.61 Q1996.35 1380.93 1992.97 1380.93 Q1989.59 1380.93 1987.65 1383.61 Q1985.73 1386.28 1985.73 1390.97 Q1985.73 1395.67 1987.65 1398.36 Q1989.59 1401.02 1992.97 1401.02 Q1996.35 1401.02 1998.27 1398.36 Q2000.22 1395.67 2000.22 1390.97 Z\" fill=\"#000000\" fill-rule=\"nonzero\" fill-opacity=\"1\" /><path clip-path=\"url(#clip750)\" d=\"M2026.72 1381.97 Q2026.01 1381.55 2025.15 1381.37 Q2024.32 1381.16 2023.3 1381.16 Q2019.69 1381.16 2017.74 1383.52 Q2015.82 1385.86 2015.82 1390.26 L2015.82 1403.91 L2011.54 1403.91 L2011.54 1377.99 L2015.82 1377.99 L2015.82 1382.02 Q2017.16 1379.66 2019.32 1378.52 Q2021.47 1377.36 2024.55 1377.36 Q2024.99 1377.36 2025.52 1377.43 Q2026.05 1377.48 2026.7 1377.6 L2026.72 1381.97 Z\" fill=\"#000000\" fill-rule=\"nonzero\" fill-opacity=\"1\" /><path clip-path=\"url(#clip750)\" d=\"M2040.2 1380.97 Q2036.77 1380.97 2034.78 1383.66 Q2032.79 1386.32 2032.79 1390.97 Q2032.79 1395.63 2034.76 1398.31 Q2036.75 1400.97 2040.2 1400.97 Q2043.6 1400.97 2045.59 1398.29 Q2047.58 1395.6 2047.58 1390.97 Q2047.58 1386.37 2045.59 1383.68 Q2043.6 1380.97 2040.2 1380.97 M2040.2 1377.36 Q2045.75 1377.36 2048.92 1380.97 Q2052.09 1384.59 2052.09 1390.97 Q2052.09 1397.34 2048.92 1400.97 Q2045.75 1404.59 2040.2 1404.59 Q2034.62 1404.59 2031.45 1400.97 Q2028.3 1397.34 2028.3 1390.97 Q2028.3 1384.59 2031.45 1380.97 Q2034.62 1377.36 2040.2 1377.36 Z\" fill=\"#000000\" fill-rule=\"nonzero\" fill-opacity=\"1\" /><path clip-path=\"url(#clip750)\" d=\"M2079.25 1377.99 L2069.87 1390.6 L2079.73 1403.91 L2074.71 1403.91 L2067.16 1393.73 L2059.62 1403.91 L2054.59 1403.91 L2064.66 1390.35 L2055.45 1377.99 L2060.47 1377.99 L2067.35 1387.22 L2074.22 1377.99 L2079.25 1377.99 Z\" fill=\"#000000\" fill-rule=\"nonzero\" fill-opacity=\"1\" /><path clip-path=\"url(#clip750)\" d=\"M2085.75 1377.99 L2090.01 1377.99 L2090.01 1403.91 L2085.75 1403.91 L2085.75 1377.99 M2085.75 1367.9 L2090.01 1367.9 L2090.01 1373.29 L2085.75 1373.29 L2085.75 1367.9 Z\" fill=\"#000000\" fill-rule=\"nonzero\" fill-opacity=\"1\" /><path clip-path=\"url(#clip750)\" d=\"M2119.11 1382.97 Q2120.7 1380.1 2122.93 1378.73 Q2125.15 1377.36 2128.16 1377.36 Q2132.21 1377.36 2134.41 1380.21 Q2136.61 1383.03 2136.61 1388.27 L2136.61 1403.91 L2132.32 1403.91 L2132.32 1388.41 Q2132.32 1384.68 2131.01 1382.87 Q2129.69 1381.07 2126.98 1381.07 Q2123.67 1381.07 2121.75 1383.27 Q2119.83 1385.47 2119.83 1389.26 L2119.83 1403.91 L2115.54 1403.91 L2115.54 1388.41 Q2115.54 1384.66 2114.22 1382.87 Q2112.9 1381.07 2110.15 1381.07 Q2106.89 1381.07 2104.96 1383.29 Q2103.04 1385.49 2103.04 1389.26 L2103.04 1403.91 L2098.76 1403.91 L2098.76 1377.99 L2103.04 1377.99 L2103.04 1382.02 Q2104.5 1379.63 2106.54 1378.5 Q2108.58 1377.36 2111.38 1377.36 Q2114.2 1377.36 2116.17 1378.8 Q2118.16 1380.23 2119.11 1382.97 Z\" fill=\"#000000\" fill-rule=\"nonzero\" fill-opacity=\"1\" /><path clip-path=\"url(#clip750)\" d=\"M2156.89 1390.88 Q2151.72 1390.88 2149.73 1392.06 Q2147.74 1393.24 2147.74 1396.09 Q2147.74 1398.36 2149.22 1399.7 Q2150.73 1401.02 2153.3 1401.02 Q2156.84 1401.02 2158.97 1398.52 Q2161.12 1396 2161.12 1391.83 L2161.12 1390.88 L2156.89 1390.88 M2165.38 1389.12 L2165.38 1403.91 L2161.12 1403.91 L2161.12 1399.98 Q2159.66 1402.34 2157.49 1403.47 Q2155.31 1404.59 2152.16 1404.59 Q2148.18 1404.59 2145.82 1402.36 Q2143.48 1400.12 2143.48 1396.37 Q2143.48 1391.99 2146.4 1389.77 Q2149.34 1387.55 2155.15 1387.55 L2161.12 1387.55 L2161.12 1387.13 Q2161.12 1384.19 2159.18 1382.6 Q2157.26 1380.97 2153.76 1380.97 Q2151.54 1380.97 2149.43 1381.51 Q2147.32 1382.04 2145.38 1383.1 L2145.38 1379.17 Q2147.72 1378.27 2149.92 1377.83 Q2152.12 1377.36 2154.2 1377.36 Q2159.82 1377.36 2162.6 1380.28 Q2165.38 1383.2 2165.38 1389.12 Z\" fill=\"#000000\" fill-rule=\"nonzero\" fill-opacity=\"1\" /><path clip-path=\"url(#clip750)\" d=\"M2178.37 1370.63 L2178.37 1377.99 L2187.14 1377.99 L2187.14 1381.3 L2178.37 1381.3 L2178.37 1395.37 Q2178.37 1398.54 2179.22 1399.45 Q2180.1 1400.35 2182.76 1400.35 L2187.14 1400.35 L2187.14 1403.91 L2182.76 1403.91 Q2177.83 1403.91 2175.96 1402.09 Q2174.08 1400.23 2174.08 1395.37 L2174.08 1381.3 L2170.96 1381.3 L2170.96 1377.99 L2174.08 1377.99 L2174.08 1370.63 L2178.37 1370.63 Z\" fill=\"#000000\" fill-rule=\"nonzero\" fill-opacity=\"1\" /><path clip-path=\"url(#clip750)\" d=\"M2192.74 1377.99 L2197 1377.99 L2197 1403.91 L2192.74 1403.91 L2192.74 1377.99 M2192.74 1367.9 L2197 1367.9 L2197 1373.29 L2192.74 1373.29 L2192.74 1367.9 Z\" fill=\"#000000\" fill-rule=\"nonzero\" fill-opacity=\"1\" /><path clip-path=\"url(#clip750)\" d=\"M2215.96 1380.97 Q2212.53 1380.97 2210.54 1383.66 Q2208.55 1386.32 2208.55 1390.97 Q2208.55 1395.63 2210.52 1398.31 Q2212.51 1400.97 2215.96 1400.97 Q2219.36 1400.97 2221.35 1398.29 Q2223.34 1395.6 2223.34 1390.97 Q2223.34 1386.37 2221.35 1383.68 Q2219.36 1380.97 2215.96 1380.97 M2215.96 1377.36 Q2221.51 1377.36 2224.69 1380.97 Q2227.86 1384.59 2227.86 1390.97 Q2227.86 1397.34 2224.69 1400.97 Q2221.51 1404.59 2215.96 1404.59 Q2210.38 1404.59 2207.21 1400.97 Q2204.06 1397.34 2204.06 1390.97 Q2204.06 1384.59 2207.21 1380.97 Q2210.38 1377.36 2215.96 1377.36 Z\" fill=\"#000000\" fill-rule=\"nonzero\" fill-opacity=\"1\" /><path clip-path=\"url(#clip750)\" d=\"M2256.47 1388.27 L2256.47 1403.91 L2252.21 1403.91 L2252.21 1388.41 Q2252.21 1384.72 2250.77 1382.9 Q2249.34 1381.07 2246.47 1381.07 Q2243.02 1381.07 2241.03 1383.27 Q2239.04 1385.47 2239.04 1389.26 L2239.04 1403.91 L2234.75 1403.91 L2234.75 1377.99 L2239.04 1377.99 L2239.04 1382.02 Q2240.57 1379.68 2242.63 1378.52 Q2244.71 1377.36 2247.42 1377.36 Q2251.88 1377.36 2254.18 1380.14 Q2256.47 1382.9 2256.47 1388.27 Z\" fill=\"#000000\" fill-rule=\"nonzero\" fill-opacity=\"1\" /></svg>\n"
      ],
      "text/html": [
       "<?xml version=\"1.0\" encoding=\"utf-8\"?>\n",
       "<svg xmlns=\"http://www.w3.org/2000/svg\" xmlns:xlink=\"http://www.w3.org/1999/xlink\" width=\"600\" height=\"400\" viewBox=\"0 0 2400 1600\">\n",
       "<defs>\n",
       "  <clipPath id=\"clip800\">\n",
       "    <rect x=\"0\" y=\"0\" width=\"2400\" height=\"1600\"/>\n",
       "  </clipPath>\n",
       "</defs>\n",
       "<path clip-path=\"url(#clip800)\" d=\"M0 1600 L2400 1600 L2400 0 L0 0  Z\" fill=\"#ffffff\" fill-rule=\"evenodd\" fill-opacity=\"1\"/>\n",
       "<defs>\n",
       "  <clipPath id=\"clip801\">\n",
       "    <rect x=\"480\" y=\"0\" width=\"1681\" height=\"1600\"/>\n",
       "  </clipPath>\n",
       "</defs>\n",
       "<path clip-path=\"url(#clip800)\" d=\"M186.274 1486.45 L2352.76 1486.45 L2352.76 47.2441 L186.274 47.2441  Z\" fill=\"#ffffff\" fill-rule=\"evenodd\" fill-opacity=\"1\"/>\n",
       "<defs>\n",
       "  <clipPath id=\"clip802\">\n",
       "    <rect x=\"186\" y=\"47\" width=\"2167\" height=\"1440\"/>\n",
       "  </clipPath>\n",
       "</defs>\n",
       "<polyline clip-path=\"url(#clip802)\" style=\"stroke:#000000; stroke-linecap:round; stroke-linejoin:round; stroke-width:2; stroke-opacity:0.1; fill:none\" points=\"247.59,1486.45 247.59,47.2441 \"/>\n",
       "<polyline clip-path=\"url(#clip802)\" style=\"stroke:#000000; stroke-linecap:round; stroke-linejoin:round; stroke-width:2; stroke-opacity:0.1; fill:none\" points=\"758.552,1486.45 758.552,47.2441 \"/>\n",
       "<polyline clip-path=\"url(#clip802)\" style=\"stroke:#000000; stroke-linecap:round; stroke-linejoin:round; stroke-width:2; stroke-opacity:0.1; fill:none\" points=\"1269.51,1486.45 1269.51,47.2441 \"/>\n",
       "<polyline clip-path=\"url(#clip802)\" style=\"stroke:#000000; stroke-linecap:round; stroke-linejoin:round; stroke-width:2; stroke-opacity:0.1; fill:none\" points=\"1780.48,1486.45 1780.48,47.2441 \"/>\n",
       "<polyline clip-path=\"url(#clip802)\" style=\"stroke:#000000; stroke-linecap:round; stroke-linejoin:round; stroke-width:2; stroke-opacity:0.1; fill:none\" points=\"2291.44,1486.45 2291.44,47.2441 \"/>\n",
       "<polyline clip-path=\"url(#clip800)\" style=\"stroke:#000000; stroke-linecap:round; stroke-linejoin:round; stroke-width:4; stroke-opacity:1; fill:none\" points=\"186.274,1486.45 2352.76,1486.45 \"/>\n",
       "<polyline clip-path=\"url(#clip800)\" style=\"stroke:#000000; stroke-linecap:round; stroke-linejoin:round; stroke-width:4; stroke-opacity:1; fill:none\" points=\"247.59,1486.45 247.59,1467.55 \"/>\n",
       "<polyline clip-path=\"url(#clip800)\" style=\"stroke:#000000; stroke-linecap:round; stroke-linejoin:round; stroke-width:4; stroke-opacity:1; fill:none\" points=\"758.552,1486.45 758.552,1467.55 \"/>\n",
       "<polyline clip-path=\"url(#clip800)\" style=\"stroke:#000000; stroke-linecap:round; stroke-linejoin:round; stroke-width:4; stroke-opacity:1; fill:none\" points=\"1269.51,1486.45 1269.51,1467.55 \"/>\n",
       "<polyline clip-path=\"url(#clip800)\" style=\"stroke:#000000; stroke-linecap:round; stroke-linejoin:round; stroke-width:4; stroke-opacity:1; fill:none\" points=\"1780.48,1486.45 1780.48,1467.55 \"/>\n",
       "<polyline clip-path=\"url(#clip800)\" style=\"stroke:#000000; stroke-linecap:round; stroke-linejoin:round; stroke-width:4; stroke-opacity:1; fill:none\" points=\"2291.44,1486.45 2291.44,1467.55 \"/>\n",
       "<path clip-path=\"url(#clip800)\" d=\"M194.118 1532.02 L223.793 1532.02 L223.793 1535.95 L194.118 1535.95 L194.118 1532.02 Z\" fill=\"#000000\" fill-rule=\"nonzero\" fill-opacity=\"1\" /><path clip-path=\"url(#clip800)\" d=\"M234.696 1544.91 L242.335 1544.91 L242.335 1518.55 L234.025 1520.21 L234.025 1515.95 L242.289 1514.29 L246.965 1514.29 L246.965 1544.91 L254.603 1544.91 L254.603 1548.85 L234.696 1548.85 L234.696 1544.91 Z\" fill=\"#000000\" fill-rule=\"nonzero\" fill-opacity=\"1\" /><path clip-path=\"url(#clip800)\" d=\"M264.048 1542.97 L268.932 1542.97 L268.932 1548.85 L264.048 1548.85 L264.048 1542.97 Z\" fill=\"#000000\" fill-rule=\"nonzero\" fill-opacity=\"1\" /><path clip-path=\"url(#clip800)\" d=\"M289.117 1517.37 Q285.506 1517.37 283.677 1520.93 Q281.872 1524.47 281.872 1531.6 Q281.872 1538.71 283.677 1542.27 Q285.506 1545.82 289.117 1545.82 Q292.751 1545.82 294.557 1542.27 Q296.386 1538.71 296.386 1531.6 Q296.386 1524.47 294.557 1520.93 Q292.751 1517.37 289.117 1517.37 M289.117 1513.66 Q294.927 1513.66 297.983 1518.27 Q301.061 1522.85 301.061 1531.6 Q301.061 1540.33 297.983 1544.94 Q294.927 1549.52 289.117 1549.52 Q283.307 1549.52 280.228 1544.94 Q277.173 1540.33 277.173 1531.6 Q277.173 1522.85 280.228 1518.27 Q283.307 1513.66 289.117 1513.66 Z\" fill=\"#000000\" fill-rule=\"nonzero\" fill-opacity=\"1\" /><path clip-path=\"url(#clip800)\" d=\"M705.578 1532.02 L735.254 1532.02 L735.254 1535.95 L705.578 1535.95 L705.578 1532.02 Z\" fill=\"#000000\" fill-rule=\"nonzero\" fill-opacity=\"1\" /><path clip-path=\"url(#clip800)\" d=\"M755.346 1517.37 Q751.735 1517.37 749.906 1520.93 Q748.101 1524.47 748.101 1531.6 Q748.101 1538.71 749.906 1542.27 Q751.735 1545.82 755.346 1545.82 Q758.98 1545.82 760.786 1542.27 Q762.615 1538.71 762.615 1531.6 Q762.615 1524.47 760.786 1520.93 Q758.98 1517.37 755.346 1517.37 M755.346 1513.66 Q761.156 1513.66 764.212 1518.27 Q767.291 1522.85 767.291 1531.6 Q767.291 1540.33 764.212 1544.94 Q761.156 1549.52 755.346 1549.52 Q749.536 1549.52 746.457 1544.94 Q743.402 1540.33 743.402 1531.6 Q743.402 1522.85 746.457 1518.27 Q749.536 1513.66 755.346 1513.66 Z\" fill=\"#000000\" fill-rule=\"nonzero\" fill-opacity=\"1\" /><path clip-path=\"url(#clip800)\" d=\"M775.508 1542.97 L780.392 1542.97 L780.392 1548.85 L775.508 1548.85 L775.508 1542.97 Z\" fill=\"#000000\" fill-rule=\"nonzero\" fill-opacity=\"1\" /><path clip-path=\"url(#clip800)\" d=\"M790.624 1514.29 L808.98 1514.29 L808.98 1518.22 L794.906 1518.22 L794.906 1526.7 Q795.925 1526.35 796.943 1526.19 Q797.962 1526 798.98 1526 Q804.767 1526 808.147 1529.17 Q811.526 1532.34 811.526 1537.76 Q811.526 1543.34 808.054 1546.44 Q804.582 1549.52 798.263 1549.52 Q796.087 1549.52 793.818 1549.15 Q791.573 1548.78 789.166 1548.04 L789.166 1543.34 Q791.249 1544.47 793.471 1545.03 Q795.693 1545.58 798.17 1545.58 Q802.175 1545.58 804.513 1543.48 Q806.851 1541.37 806.851 1537.76 Q806.851 1534.15 804.513 1532.04 Q802.175 1529.94 798.17 1529.94 Q796.295 1529.94 794.42 1530.35 Q792.568 1530.77 790.624 1531.65 L790.624 1514.29 Z\" fill=\"#000000\" fill-rule=\"nonzero\" fill-opacity=\"1\" /><path clip-path=\"url(#clip800)\" d=\"M1246.9 1517.37 Q1243.29 1517.37 1241.46 1520.93 Q1239.65 1524.47 1239.65 1531.6 Q1239.65 1538.71 1241.46 1542.27 Q1243.29 1545.82 1246.9 1545.82 Q1250.53 1545.82 1252.34 1542.27 Q1254.17 1538.71 1254.17 1531.6 Q1254.17 1524.47 1252.34 1520.93 Q1250.53 1517.37 1246.9 1517.37 M1246.9 1513.66 Q1252.71 1513.66 1255.77 1518.27 Q1258.84 1522.85 1258.84 1531.6 Q1258.84 1540.33 1255.77 1544.94 Q1252.71 1549.52 1246.9 1549.52 Q1241.09 1549.52 1238.01 1544.94 Q1234.95 1540.33 1234.95 1531.6 Q1234.95 1522.85 1238.01 1518.27 Q1241.09 1513.66 1246.9 1513.66 Z\" fill=\"#000000\" fill-rule=\"nonzero\" fill-opacity=\"1\" /><path clip-path=\"url(#clip800)\" d=\"M1267.06 1542.97 L1271.95 1542.97 L1271.95 1548.85 L1267.06 1548.85 L1267.06 1542.97 Z\" fill=\"#000000\" fill-rule=\"nonzero\" fill-opacity=\"1\" /><path clip-path=\"url(#clip800)\" d=\"M1292.13 1517.37 Q1288.52 1517.37 1286.69 1520.93 Q1284.89 1524.47 1284.89 1531.6 Q1284.89 1538.71 1286.69 1542.27 Q1288.52 1545.82 1292.13 1545.82 Q1295.76 1545.82 1297.57 1542.27 Q1299.4 1538.71 1299.4 1531.6 Q1299.4 1524.47 1297.57 1520.93 Q1295.76 1517.37 1292.13 1517.37 M1292.13 1513.66 Q1297.94 1513.66 1301 1518.27 Q1304.07 1522.85 1304.07 1531.6 Q1304.07 1540.33 1301 1544.94 Q1297.94 1549.52 1292.13 1549.52 Q1286.32 1549.52 1283.24 1544.94 Q1280.19 1540.33 1280.19 1531.6 Q1280.19 1522.85 1283.24 1518.27 Q1286.32 1513.66 1292.13 1513.66 Z\" fill=\"#000000\" fill-rule=\"nonzero\" fill-opacity=\"1\" /><path clip-path=\"url(#clip800)\" d=\"M1758.36 1517.37 Q1754.75 1517.37 1752.92 1520.93 Q1751.11 1524.47 1751.11 1531.6 Q1751.11 1538.71 1752.92 1542.27 Q1754.75 1545.82 1758.36 1545.82 Q1761.99 1545.82 1763.8 1542.27 Q1765.63 1538.71 1765.63 1531.6 Q1765.63 1524.47 1763.8 1520.93 Q1761.99 1517.37 1758.36 1517.37 M1758.36 1513.66 Q1764.17 1513.66 1767.23 1518.27 Q1770.3 1522.85 1770.3 1531.6 Q1770.3 1540.33 1767.23 1544.94 Q1764.17 1549.52 1758.36 1549.52 Q1752.55 1549.52 1749.47 1544.94 Q1746.42 1540.33 1746.42 1531.6 Q1746.42 1522.85 1749.47 1518.27 Q1752.55 1513.66 1758.36 1513.66 Z\" fill=\"#000000\" fill-rule=\"nonzero\" fill-opacity=\"1\" /><path clip-path=\"url(#clip800)\" d=\"M1778.52 1542.97 L1783.41 1542.97 L1783.41 1548.85 L1778.52 1548.85 L1778.52 1542.97 Z\" fill=\"#000000\" fill-rule=\"nonzero\" fill-opacity=\"1\" /><path clip-path=\"url(#clip800)\" d=\"M1793.64 1514.29 L1811.99 1514.29 L1811.99 1518.22 L1797.92 1518.22 L1797.92 1526.7 Q1798.94 1526.35 1799.96 1526.19 Q1800.98 1526 1801.99 1526 Q1807.78 1526 1811.16 1529.17 Q1814.54 1532.34 1814.54 1537.76 Q1814.54 1543.34 1811.07 1546.44 Q1807.6 1549.52 1801.28 1549.52 Q1799.1 1549.52 1796.83 1549.15 Q1794.59 1548.78 1792.18 1548.04 L1792.18 1543.34 Q1794.26 1544.47 1796.48 1545.03 Q1798.71 1545.58 1801.18 1545.58 Q1805.19 1545.58 1807.53 1543.48 Q1809.86 1541.37 1809.86 1537.76 Q1809.86 1534.15 1807.53 1532.04 Q1805.19 1529.94 1801.18 1529.94 Q1799.31 1529.94 1797.43 1530.35 Q1795.58 1530.77 1793.64 1531.65 L1793.64 1514.29 Z\" fill=\"#000000\" fill-rule=\"nonzero\" fill-opacity=\"1\" /><path clip-path=\"url(#clip800)\" d=\"M2258.59 1544.91 L2266.23 1544.91 L2266.23 1518.55 L2257.92 1520.21 L2257.92 1515.95 L2266.19 1514.29 L2270.86 1514.29 L2270.86 1544.91 L2278.5 1544.91 L2278.5 1548.85 L2258.59 1548.85 L2258.59 1544.91 Z\" fill=\"#000000\" fill-rule=\"nonzero\" fill-opacity=\"1\" /><path clip-path=\"url(#clip800)\" d=\"M2287.95 1542.97 L2292.83 1542.97 L2292.83 1548.85 L2287.95 1548.85 L2287.95 1542.97 Z\" fill=\"#000000\" fill-rule=\"nonzero\" fill-opacity=\"1\" /><path clip-path=\"url(#clip800)\" d=\"M2313.01 1517.37 Q2309.4 1517.37 2307.57 1520.93 Q2305.77 1524.47 2305.77 1531.6 Q2305.77 1538.71 2307.57 1542.27 Q2309.4 1545.82 2313.01 1545.82 Q2316.65 1545.82 2318.45 1542.27 Q2320.28 1538.71 2320.28 1531.6 Q2320.28 1524.47 2318.45 1520.93 Q2316.65 1517.37 2313.01 1517.37 M2313.01 1513.66 Q2318.82 1513.66 2321.88 1518.27 Q2324.96 1522.85 2324.96 1531.6 Q2324.96 1540.33 2321.88 1544.94 Q2318.82 1549.52 2313.01 1549.52 Q2307.2 1549.52 2304.13 1544.94 Q2301.07 1540.33 2301.07 1531.6 Q2301.07 1522.85 2304.13 1518.27 Q2307.2 1513.66 2313.01 1513.66 Z\" fill=\"#000000\" fill-rule=\"nonzero\" fill-opacity=\"1\" /><polyline clip-path=\"url(#clip802)\" style=\"stroke:#000000; stroke-linecap:round; stroke-linejoin:round; stroke-width:2; stroke-opacity:0.1; fill:none\" points=\"186.274,1445.85 2352.76,1445.85 \"/>\n",
       "<polyline clip-path=\"url(#clip802)\" style=\"stroke:#000000; stroke-linecap:round; stroke-linejoin:round; stroke-width:2; stroke-opacity:0.1; fill:none\" points=\"186.274,1106.38 2352.76,1106.38 \"/>\n",
       "<polyline clip-path=\"url(#clip802)\" style=\"stroke:#000000; stroke-linecap:round; stroke-linejoin:round; stroke-width:2; stroke-opacity:0.1; fill:none\" points=\"186.274,766.915 2352.76,766.915 \"/>\n",
       "<polyline clip-path=\"url(#clip802)\" style=\"stroke:#000000; stroke-linecap:round; stroke-linejoin:round; stroke-width:2; stroke-opacity:0.1; fill:none\" points=\"186.274,427.446 2352.76,427.446 \"/>\n",
       "<polyline clip-path=\"url(#clip802)\" style=\"stroke:#000000; stroke-linecap:round; stroke-linejoin:round; stroke-width:2; stroke-opacity:0.1; fill:none\" points=\"186.274,87.9763 2352.76,87.9763 \"/>\n",
       "<polyline clip-path=\"url(#clip800)\" style=\"stroke:#000000; stroke-linecap:round; stroke-linejoin:round; stroke-width:4; stroke-opacity:1; fill:none\" points=\"186.274,1486.45 186.274,47.2441 \"/>\n",
       "<polyline clip-path=\"url(#clip800)\" style=\"stroke:#000000; stroke-linecap:round; stroke-linejoin:round; stroke-width:4; stroke-opacity:1; fill:none\" points=\"186.274,1445.85 205.172,1445.85 \"/>\n",
       "<polyline clip-path=\"url(#clip800)\" style=\"stroke:#000000; stroke-linecap:round; stroke-linejoin:round; stroke-width:4; stroke-opacity:1; fill:none\" points=\"186.274,1106.38 205.172,1106.38 \"/>\n",
       "<polyline clip-path=\"url(#clip800)\" style=\"stroke:#000000; stroke-linecap:round; stroke-linejoin:round; stroke-width:4; stroke-opacity:1; fill:none\" points=\"186.274,766.915 205.172,766.915 \"/>\n",
       "<polyline clip-path=\"url(#clip800)\" style=\"stroke:#000000; stroke-linecap:round; stroke-linejoin:round; stroke-width:4; stroke-opacity:1; fill:none\" points=\"186.274,427.446 205.172,427.446 \"/>\n",
       "<polyline clip-path=\"url(#clip800)\" style=\"stroke:#000000; stroke-linecap:round; stroke-linejoin:round; stroke-width:4; stroke-opacity:1; fill:none\" points=\"186.274,87.9763 205.172,87.9763 \"/>\n",
       "<path clip-path=\"url(#clip800)\" d=\"M62.9365 1431.65 Q59.3254 1431.65 57.4967 1435.22 Q55.6912 1438.76 55.6912 1445.89 Q55.6912 1453 57.4967 1456.56 Q59.3254 1460.1 62.9365 1460.1 Q66.5707 1460.1 68.3763 1456.56 Q70.205 1453 70.205 1445.89 Q70.205 1438.76 68.3763 1435.22 Q66.5707 1431.65 62.9365 1431.65 M62.9365 1427.95 Q68.7467 1427.95 71.8022 1432.56 Q74.8809 1437.14 74.8809 1445.89 Q74.8809 1454.62 71.8022 1459.22 Q68.7467 1463.81 62.9365 1463.81 Q57.1264 1463.81 54.0477 1459.22 Q50.9921 1454.62 50.9921 1445.89 Q50.9921 1437.14 54.0477 1432.56 Q57.1264 1427.95 62.9365 1427.95 Z\" fill=\"#000000\" fill-rule=\"nonzero\" fill-opacity=\"1\" /><path clip-path=\"url(#clip800)\" d=\"M83.0984 1457.25 L87.9827 1457.25 L87.9827 1463.13 L83.0984 1463.13 L83.0984 1457.25 Z\" fill=\"#000000\" fill-rule=\"nonzero\" fill-opacity=\"1\" /><path clip-path=\"url(#clip800)\" d=\"M108.168 1431.65 Q104.557 1431.65 102.728 1435.22 Q100.922 1438.76 100.922 1445.89 Q100.922 1453 102.728 1456.56 Q104.557 1460.1 108.168 1460.1 Q111.802 1460.1 113.608 1456.56 Q115.436 1453 115.436 1445.89 Q115.436 1438.76 113.608 1435.22 Q111.802 1431.65 108.168 1431.65 M108.168 1427.95 Q113.978 1427.95 117.033 1432.56 Q120.112 1437.14 120.112 1445.89 Q120.112 1454.62 117.033 1459.22 Q113.978 1463.81 108.168 1463.81 Q102.358 1463.81 99.2789 1459.22 Q96.2234 1454.62 96.2234 1445.89 Q96.2234 1437.14 99.2789 1432.56 Q102.358 1427.95 108.168 1427.95 Z\" fill=\"#000000\" fill-rule=\"nonzero\" fill-opacity=\"1\" /><path clip-path=\"url(#clip800)\" d=\"M138.33 1431.65 Q134.719 1431.65 132.89 1435.22 Q131.084 1438.76 131.084 1445.89 Q131.084 1453 132.89 1456.56 Q134.719 1460.1 138.33 1460.1 Q141.964 1460.1 143.769 1456.56 Q145.598 1453 145.598 1445.89 Q145.598 1438.76 143.769 1435.22 Q141.964 1431.65 138.33 1431.65 M138.33 1427.95 Q144.14 1427.95 147.195 1432.56 Q150.274 1437.14 150.274 1445.89 Q150.274 1454.62 147.195 1459.22 Q144.14 1463.81 138.33 1463.81 Q132.519 1463.81 129.441 1459.22 Q126.385 1454.62 126.385 1445.89 Q126.385 1437.14 129.441 1432.56 Q132.519 1427.95 138.33 1427.95 Z\" fill=\"#000000\" fill-rule=\"nonzero\" fill-opacity=\"1\" /><path clip-path=\"url(#clip800)\" d=\"M63.9319 1092.18 Q60.3208 1092.18 58.4921 1095.75 Q56.6865 1099.29 56.6865 1106.42 Q56.6865 1113.53 58.4921 1117.09 Q60.3208 1120.63 63.9319 1120.63 Q67.5661 1120.63 69.3717 1117.09 Q71.2004 1113.53 71.2004 1106.42 Q71.2004 1099.29 69.3717 1095.75 Q67.5661 1092.18 63.9319 1092.18 M63.9319 1088.48 Q69.742 1088.48 72.7976 1093.09 Q75.8763 1097.67 75.8763 1106.42 Q75.8763 1115.15 72.7976 1119.75 Q69.742 1124.34 63.9319 1124.34 Q58.1217 1124.34 55.043 1119.75 Q51.9875 1115.15 51.9875 1106.42 Q51.9875 1097.67 55.043 1093.09 Q58.1217 1088.48 63.9319 1088.48 Z\" fill=\"#000000\" fill-rule=\"nonzero\" fill-opacity=\"1\" /><path clip-path=\"url(#clip800)\" d=\"M84.0938 1117.79 L88.978 1117.79 L88.978 1123.66 L84.0938 1123.66 L84.0938 1117.79 Z\" fill=\"#000000\" fill-rule=\"nonzero\" fill-opacity=\"1\" /><path clip-path=\"url(#clip800)\" d=\"M103.191 1119.73 L119.51 1119.73 L119.51 1123.66 L97.566 1123.66 L97.566 1119.73 Q100.228 1116.97 104.811 1112.35 Q109.418 1107.69 110.598 1106.35 Q112.844 1103.83 113.723 1102.09 Q114.626 1100.33 114.626 1098.64 Q114.626 1095.89 112.682 1094.15 Q110.76 1092.41 107.658 1092.41 Q105.459 1092.41 103.006 1093.18 Q100.575 1093.94 97.7974 1095.49 L97.7974 1090.77 Q100.621 1089.64 103.075 1089.06 Q105.529 1088.48 107.566 1088.48 Q112.936 1088.48 116.131 1091.16 Q119.325 1093.85 119.325 1098.34 Q119.325 1100.47 118.515 1102.39 Q117.728 1104.29 115.621 1106.88 Q115.043 1107.55 111.941 1110.77 Q108.839 1113.97 103.191 1119.73 Z\" fill=\"#000000\" fill-rule=\"nonzero\" fill-opacity=\"1\" /><path clip-path=\"url(#clip800)\" d=\"M129.371 1089.1 L147.728 1089.1 L147.728 1093.04 L133.654 1093.04 L133.654 1101.51 Q134.672 1101.16 135.691 1101 Q136.709 1100.82 137.728 1100.82 Q143.515 1100.82 146.894 1103.99 Q150.274 1107.16 150.274 1112.58 Q150.274 1118.16 146.802 1121.26 Q143.33 1124.34 137.01 1124.34 Q134.834 1124.34 132.566 1123.97 Q130.32 1123.6 127.913 1122.85 L127.913 1118.16 Q129.996 1119.29 132.219 1119.85 Q134.441 1120.4 136.918 1120.4 Q140.922 1120.4 143.26 1118.29 Q145.598 1116.19 145.598 1112.58 Q145.598 1108.97 143.26 1106.86 Q140.922 1104.75 136.918 1104.75 Q135.043 1104.75 133.168 1105.17 Q131.316 1105.59 129.371 1106.47 L129.371 1089.1 Z\" fill=\"#000000\" fill-rule=\"nonzero\" fill-opacity=\"1\" /><path clip-path=\"url(#clip800)\" d=\"M62.9365 752.714 Q59.3254 752.714 57.4967 756.279 Q55.6912 759.82 55.6912 766.95 Q55.6912 774.056 57.4967 777.621 Q59.3254 781.163 62.9365 781.163 Q66.5707 781.163 68.3763 777.621 Q70.205 774.056 70.205 766.95 Q70.205 759.82 68.3763 756.279 Q66.5707 752.714 62.9365 752.714 M62.9365 749.01 Q68.7467 749.01 71.8022 753.617 Q74.8809 758.2 74.8809 766.95 Q74.8809 775.677 71.8022 780.283 Q68.7467 784.867 62.9365 784.867 Q57.1264 784.867 54.0477 780.283 Q50.9921 775.677 50.9921 766.95 Q50.9921 758.2 54.0477 753.617 Q57.1264 749.01 62.9365 749.01 Z\" fill=\"#000000\" fill-rule=\"nonzero\" fill-opacity=\"1\" /><path clip-path=\"url(#clip800)\" d=\"M83.0984 778.316 L87.9827 778.316 L87.9827 784.195 L83.0984 784.195 L83.0984 778.316 Z\" fill=\"#000000\" fill-rule=\"nonzero\" fill-opacity=\"1\" /><path clip-path=\"url(#clip800)\" d=\"M98.2141 749.635 L116.57 749.635 L116.57 753.57 L102.496 753.57 L102.496 762.043 Q103.515 761.695 104.534 761.533 Q105.552 761.348 106.571 761.348 Q112.358 761.348 115.737 764.519 Q119.117 767.691 119.117 773.107 Q119.117 778.686 115.645 781.788 Q112.172 784.867 105.853 784.867 Q103.677 784.867 101.409 784.496 Q99.1632 784.126 96.7558 783.385 L96.7558 778.686 Q98.8391 779.82 101.061 780.376 Q103.284 780.931 105.76 780.931 Q109.765 780.931 112.103 778.825 Q114.441 776.718 114.441 773.107 Q114.441 769.496 112.103 767.39 Q109.765 765.283 105.76 765.283 Q103.885 765.283 102.01 765.7 Q100.159 766.117 98.2141 766.996 L98.2141 749.635 Z\" fill=\"#000000\" fill-rule=\"nonzero\" fill-opacity=\"1\" /><path clip-path=\"url(#clip800)\" d=\"M138.33 752.714 Q134.719 752.714 132.89 756.279 Q131.084 759.82 131.084 766.95 Q131.084 774.056 132.89 777.621 Q134.719 781.163 138.33 781.163 Q141.964 781.163 143.769 777.621 Q145.598 774.056 145.598 766.95 Q145.598 759.82 143.769 756.279 Q141.964 752.714 138.33 752.714 M138.33 749.01 Q144.14 749.01 147.195 753.617 Q150.274 758.2 150.274 766.95 Q150.274 775.677 147.195 780.283 Q144.14 784.867 138.33 784.867 Q132.519 784.867 129.441 780.283 Q126.385 775.677 126.385 766.95 Q126.385 758.2 129.441 753.617 Q132.519 749.01 138.33 749.01 Z\" fill=\"#000000\" fill-rule=\"nonzero\" fill-opacity=\"1\" /><path clip-path=\"url(#clip800)\" d=\"M63.9319 413.244 Q60.3208 413.244 58.4921 416.809 Q56.6865 420.351 56.6865 427.48 Q56.6865 434.587 58.4921 438.152 Q60.3208 441.693 63.9319 441.693 Q67.5661 441.693 69.3717 438.152 Q71.2004 434.587 71.2004 427.48 Q71.2004 420.351 69.3717 416.809 Q67.5661 413.244 63.9319 413.244 M63.9319 409.541 Q69.742 409.541 72.7976 414.147 Q75.8763 418.731 75.8763 427.48 Q75.8763 436.207 72.7976 440.814 Q69.742 445.397 63.9319 445.397 Q58.1217 445.397 55.043 440.814 Q51.9875 436.207 51.9875 427.48 Q51.9875 418.731 55.043 414.147 Q58.1217 409.541 63.9319 409.541 Z\" fill=\"#000000\" fill-rule=\"nonzero\" fill-opacity=\"1\" /><path clip-path=\"url(#clip800)\" d=\"M84.0938 438.846 L88.978 438.846 L88.978 444.726 L84.0938 444.726 L84.0938 438.846 Z\" fill=\"#000000\" fill-rule=\"nonzero\" fill-opacity=\"1\" /><path clip-path=\"url(#clip800)\" d=\"M97.9826 410.166 L120.205 410.166 L120.205 412.156 L107.658 444.726 L102.774 444.726 L114.58 414.101 L97.9826 414.101 L97.9826 410.166 Z\" fill=\"#000000\" fill-rule=\"nonzero\" fill-opacity=\"1\" /><path clip-path=\"url(#clip800)\" d=\"M129.371 410.166 L147.728 410.166 L147.728 414.101 L133.654 414.101 L133.654 422.573 Q134.672 422.226 135.691 422.064 Q136.709 421.879 137.728 421.879 Q143.515 421.879 146.894 425.05 Q150.274 428.221 150.274 433.638 Q150.274 439.217 146.802 442.318 Q143.33 445.397 137.01 445.397 Q134.834 445.397 132.566 445.027 Q130.32 444.656 127.913 443.916 L127.913 439.217 Q129.996 440.351 132.219 440.906 Q134.441 441.462 136.918 441.462 Q140.922 441.462 143.26 439.355 Q145.598 437.249 145.598 433.638 Q145.598 430.027 143.26 427.92 Q140.922 425.814 136.918 425.814 Q135.043 425.814 133.168 426.23 Q131.316 426.647 129.371 427.527 L129.371 410.166 Z\" fill=\"#000000\" fill-rule=\"nonzero\" fill-opacity=\"1\" /><path clip-path=\"url(#clip800)\" d=\"M53.7467 101.321 L61.3856 101.321 L61.3856 74.9555 L53.0754 76.6222 L53.0754 72.3629 L61.3393 70.6963 L66.0152 70.6963 L66.0152 101.321 L73.654 101.321 L73.654 105.256 L53.7467 105.256 L53.7467 101.321 Z\" fill=\"#000000\" fill-rule=\"nonzero\" fill-opacity=\"1\" /><path clip-path=\"url(#clip800)\" d=\"M83.0984 99.3767 L87.9827 99.3767 L87.9827 105.256 L83.0984 105.256 L83.0984 99.3767 Z\" fill=\"#000000\" fill-rule=\"nonzero\" fill-opacity=\"1\" /><path clip-path=\"url(#clip800)\" d=\"M108.168 73.775 Q104.557 73.775 102.728 77.3398 Q100.922 80.8814 100.922 88.011 Q100.922 95.1174 102.728 98.6822 Q104.557 102.224 108.168 102.224 Q111.802 102.224 113.608 98.6822 Q115.436 95.1174 115.436 88.011 Q115.436 80.8814 113.608 77.3398 Q111.802 73.775 108.168 73.775 M108.168 70.0713 Q113.978 70.0713 117.033 74.6777 Q120.112 79.261 120.112 88.011 Q120.112 96.7378 117.033 101.344 Q113.978 105.928 108.168 105.928 Q102.358 105.928 99.2789 101.344 Q96.2234 96.7378 96.2234 88.011 Q96.2234 79.261 99.2789 74.6777 Q102.358 70.0713 108.168 70.0713 Z\" fill=\"#000000\" fill-rule=\"nonzero\" fill-opacity=\"1\" /><path clip-path=\"url(#clip800)\" d=\"M138.33 73.775 Q134.719 73.775 132.89 77.3398 Q131.084 80.8814 131.084 88.011 Q131.084 95.1174 132.89 98.6822 Q134.719 102.224 138.33 102.224 Q141.964 102.224 143.769 98.6822 Q145.598 95.1174 145.598 88.011 Q145.598 80.8814 143.769 77.3398 Q141.964 73.775 138.33 73.775 M138.33 70.0713 Q144.14 70.0713 147.195 74.6777 Q150.274 79.261 150.274 88.011 Q150.274 96.7378 147.195 101.344 Q144.14 105.928 138.33 105.928 Q132.519 105.928 129.441 101.344 Q126.385 96.7378 126.385 88.011 Q126.385 79.261 129.441 74.6777 Q132.519 70.0713 138.33 70.0713 Z\" fill=\"#000000\" fill-rule=\"nonzero\" fill-opacity=\"1\" /><polyline clip-path=\"url(#clip802)\" style=\"stroke:#009af9; stroke-linecap:round; stroke-linejoin:round; stroke-width:4; stroke-opacity:1; fill:none\" points=\"247.59,87.9763 268.234,142.286 288.879,195.487 309.524,247.58 330.169,298.564 350.814,348.441 371.459,397.208 392.104,444.868 412.749,491.419 433.394,536.862 454.039,581.196 474.684,624.422 495.329,666.54 515.974,707.549 536.619,747.45 557.264,786.242 577.909,823.926 598.554,860.502 619.199,895.97 639.844,930.329 660.489,963.58 681.134,995.722 701.779,1026.76 722.424,1056.68 743.069,1085.5 763.713,1113.21 784.358,1139.81 805.003,1165.3 825.648,1189.68 846.293,1212.96 866.938,1235.13 887.583,1256.19 908.228,1276.14 928.873,1294.98 949.518,1312.71 970.163,1329.34 990.808,1344.86 1011.45,1359.26 1032.1,1372.56 1052.74,1384.76 1073.39,1395.84 1094.03,1405.81 1114.68,1414.68 1135.32,1422.44 1155.97,1429.09 1176.61,1434.63 1197.26,1439.07 1217.9,1442.39 1238.55,1444.61 1259.19,1445.72 1279.84,1445.72 1300.48,1444.61 1321.13,1442.39 1341.77,1439.07 1362.42,1434.63 1383.06,1429.09 1403.71,1422.44 1424.35,1414.68 1445,1405.81 1465.64,1395.84 1486.29,1384.76 1506.93,1372.56 1527.58,1359.26 1548.22,1344.86 1568.87,1329.34 1589.51,1312.71 1610.16,1294.98 1630.8,1276.14 1651.45,1256.19 1672.09,1235.13 1692.74,1212.96 1713.38,1189.68 1734.03,1165.3 1754.67,1139.81 1775.32,1113.21 1795.96,1085.5 1816.61,1056.68 1837.25,1026.76 1857.9,995.722 1878.54,963.58 1899.19,930.329 1919.83,895.97 1940.48,860.502 1961.12,823.926 1981.77,786.242 2002.41,747.45 2023.06,707.549 2043.7,666.54 2064.35,624.422 2084.99,581.196 2105.64,536.862 2126.28,491.419 2146.93,444.868 2167.57,397.208 2188.22,348.441 2208.86,298.564 2229.51,247.58 2250.15,195.487 2270.8,142.286 2291.44,87.9763 \"/>\n",
       "<polyline clip-path=\"url(#clip802)\" style=\"stroke:#e26f46; stroke-linecap:round; stroke-linejoin:round; stroke-width:4; stroke-opacity:1; fill:none\" points=\"247.59,87.9763 268.234,136.744 288.879,185.512 309.524,234.28 330.169,283.047 350.814,331.815 371.459,380.583 392.104,429.351 412.749,478.119 433.394,526.886 454.039,575.654 474.684,624.422 495.329,660.998 515.974,697.574 536.619,734.149 557.264,770.725 577.909,807.301 598.554,843.877 619.199,880.453 639.844,917.029 660.489,953.604 681.134,990.18 701.779,1026.76 722.424,1051.14 743.069,1075.52 763.713,1099.91 784.358,1124.29 805.003,1148.68 825.648,1173.06 846.293,1197.44 866.938,1221.83 887.583,1246.21 908.228,1270.6 928.873,1294.98 949.518,1307.17 970.163,1319.36 990.808,1331.55 1011.45,1343.75 1032.1,1355.94 1052.74,1368.13 1073.39,1380.32 1094.03,1392.51 1114.68,1404.71 1135.32,1416.9 1155.97,1429.09 1176.61,1429.09 1197.26,1429.09 1217.9,1429.09 1238.55,1429.09 1259.19,1429.09 1279.84,1429.09 1300.48,1429.09 1321.13,1429.09 1341.77,1429.09 1362.42,1429.09 1383.06,1429.09 1403.71,1416.9 1424.35,1404.71 1445,1392.51 1465.64,1380.32 1486.29,1368.13 1506.93,1355.94 1527.58,1343.75 1548.22,1331.55 1568.87,1319.36 1589.51,1307.17 1610.16,1294.98 1630.8,1270.6 1651.45,1246.21 1672.09,1221.83 1692.74,1197.44 1713.38,1173.06 1734.03,1148.68 1754.67,1124.29 1775.32,1099.91 1795.96,1075.52 1816.61,1051.14 1837.25,1026.76 1857.9,990.18 1878.54,953.604 1899.19,917.029 1919.83,880.453 1940.48,843.877 1961.12,807.301 1981.77,770.725 2002.41,734.149 2023.06,697.574 2043.7,660.998 2064.35,624.422 2084.99,575.654 2105.64,526.886 2126.28,478.119 2146.93,429.351 2167.57,380.583 2188.22,331.815 2208.86,283.047 2229.51,234.28 2250.15,185.512 2270.8,136.744 2291.44,87.9763 \"/>\n",
       "<path clip-path=\"url(#clip800)\" d=\"M1728.27 1438.47 L2280.54 1438.47 L2280.54 1282.95 L1728.27 1282.95  Z\" fill=\"#ffffff\" fill-rule=\"evenodd\" fill-opacity=\"1\"/>\n",
       "<polyline clip-path=\"url(#clip800)\" style=\"stroke:#000000; stroke-linecap:round; stroke-linejoin:round; stroke-width:4; stroke-opacity:1; fill:none\" points=\"1728.27,1438.47 2280.54,1438.47 2280.54,1282.95 1728.27,1282.95 1728.27,1438.47 \"/>\n",
       "<polyline clip-path=\"url(#clip800)\" style=\"stroke:#009af9; stroke-linecap:round; stroke-linejoin:round; stroke-width:4; stroke-opacity:1; fill:none\" points=\"1752.34,1334.79 1896.77,1334.79 \"/>\n",
       "<path clip-path=\"url(#clip800)\" d=\"M1928.25 1318.79 L1928.25 1326.15 L1937.03 1326.15 L1937.03 1329.46 L1928.25 1329.46 L1928.25 1343.53 Q1928.25 1346.7 1929.11 1347.61 Q1929.99 1348.51 1932.65 1348.51 L1937.03 1348.51 L1937.03 1352.07 L1932.65 1352.07 Q1927.72 1352.07 1925.84 1350.25 Q1923.97 1348.39 1923.97 1343.53 L1923.97 1329.46 L1920.84 1329.46 L1920.84 1326.15 L1923.97 1326.15 L1923.97 1318.79 L1928.25 1318.79 Z\" fill=\"#000000\" fill-rule=\"nonzero\" fill-opacity=\"1\" /><path clip-path=\"url(#clip800)\" d=\"M1957.65 1330.13 Q1956.93 1329.71 1956.08 1329.53 Q1955.24 1329.32 1954.22 1329.32 Q1950.61 1329.32 1948.67 1331.68 Q1946.75 1334.02 1946.75 1338.42 L1946.75 1352.07 L1942.46 1352.07 L1942.46 1326.15 L1946.75 1326.15 L1946.75 1330.18 Q1948.09 1327.82 1950.24 1326.68 Q1952.4 1325.52 1955.47 1325.52 Q1955.91 1325.52 1956.45 1325.59 Q1956.98 1325.64 1957.63 1325.76 L1957.65 1330.13 Z\" fill=\"#000000\" fill-rule=\"nonzero\" fill-opacity=\"1\" /><path clip-path=\"url(#clip800)\" d=\"M1961.68 1341.84 L1961.68 1326.15 L1965.94 1326.15 L1965.94 1341.68 Q1965.94 1345.36 1967.37 1347.21 Q1968.81 1349.04 1971.68 1349.04 Q1975.13 1349.04 1977.12 1346.84 Q1979.13 1344.64 1979.13 1340.85 L1979.13 1326.15 L1983.39 1326.15 L1983.39 1352.07 L1979.13 1352.07 L1979.13 1348.09 Q1977.58 1350.45 1975.52 1351.61 Q1973.48 1352.75 1970.77 1352.75 Q1966.31 1352.75 1963.99 1349.97 Q1961.68 1347.19 1961.68 1341.84 M1972.4 1325.52 L1972.4 1325.52 Z\" fill=\"#000000\" fill-rule=\"nonzero\" fill-opacity=\"1\" /><path clip-path=\"url(#clip800)\" d=\"M2014.34 1338.05 L2014.34 1340.13 L1994.76 1340.13 Q1995.03 1344.53 1997.4 1346.84 Q1999.78 1349.13 2004.02 1349.13 Q2006.47 1349.13 2008.76 1348.53 Q2011.08 1347.93 2013.34 1346.73 L2013.34 1350.75 Q2011.05 1351.73 2008.65 1352.24 Q2006.24 1352.75 2003.76 1352.75 Q1997.56 1352.75 1993.92 1349.13 Q1990.31 1345.52 1990.31 1339.37 Q1990.31 1333 1993.74 1329.27 Q1997.19 1325.52 2003.02 1325.52 Q2008.25 1325.52 2011.28 1328.9 Q2014.34 1332.26 2014.34 1338.05 M2010.08 1336.8 Q2010.03 1333.3 2008.11 1331.22 Q2006.21 1329.13 2003.07 1329.13 Q1999.5 1329.13 1997.35 1331.15 Q1995.22 1333.16 1994.9 1336.82 L2010.08 1336.8 Z\" fill=\"#000000\" fill-rule=\"nonzero\" fill-opacity=\"1\" /><polyline clip-path=\"url(#clip800)\" style=\"stroke:#e26f46; stroke-linecap:round; stroke-linejoin:round; stroke-width:4; stroke-opacity:1; fill:none\" points=\"1752.34,1386.63 1896.77,1386.63 \"/>\n",
       "<path clip-path=\"url(#clip800)\" d=\"M1934.25 1390.88 Q1929.09 1390.88 1927.09 1392.06 Q1925.1 1393.24 1925.1 1396.09 Q1925.1 1398.36 1926.59 1399.7 Q1928.09 1401.02 1930.66 1401.02 Q1934.2 1401.02 1936.33 1398.52 Q1938.48 1396 1938.48 1391.83 L1938.48 1390.88 L1934.25 1390.88 M1942.74 1389.12 L1942.74 1403.91 L1938.48 1403.91 L1938.48 1399.98 Q1937.03 1402.34 1934.85 1403.47 Q1932.67 1404.59 1929.53 1404.59 Q1925.54 1404.59 1923.18 1402.36 Q1920.84 1400.12 1920.84 1396.37 Q1920.84 1391.99 1923.76 1389.77 Q1926.7 1387.55 1932.51 1387.55 L1938.48 1387.55 L1938.48 1387.13 Q1938.48 1384.19 1936.54 1382.6 Q1934.62 1380.97 1931.12 1380.97 Q1928.9 1380.97 1926.79 1381.51 Q1924.69 1382.04 1922.74 1383.1 L1922.74 1379.17 Q1925.08 1378.27 1927.28 1377.83 Q1929.48 1377.36 1931.56 1377.36 Q1937.19 1377.36 1939.96 1380.28 Q1942.74 1383.2 1942.74 1389.12 Z\" fill=\"#000000\" fill-rule=\"nonzero\" fill-opacity=\"1\" /><path clip-path=\"url(#clip800)\" d=\"M1955.64 1400.03 L1955.64 1413.78 L1951.35 1413.78 L1951.35 1377.99 L1955.64 1377.99 L1955.64 1381.92 Q1956.98 1379.61 1959.02 1378.5 Q1961.08 1377.36 1963.92 1377.36 Q1968.65 1377.36 1971.59 1381.11 Q1974.55 1384.86 1974.55 1390.97 Q1974.55 1397.09 1971.59 1400.84 Q1968.65 1404.59 1963.92 1404.59 Q1961.08 1404.59 1959.02 1403.47 Q1956.98 1402.34 1955.64 1400.03 M1970.13 1390.97 Q1970.13 1386.28 1968.18 1383.61 Q1966.26 1380.93 1962.88 1380.93 Q1959.5 1380.93 1957.56 1383.61 Q1955.64 1386.28 1955.64 1390.97 Q1955.64 1395.67 1957.56 1398.36 Q1959.5 1401.02 1962.88 1401.02 Q1966.26 1401.02 1968.18 1398.36 Q1970.13 1395.67 1970.13 1390.97 Z\" fill=\"#000000\" fill-rule=\"nonzero\" fill-opacity=\"1\" /><path clip-path=\"url(#clip800)\" d=\"M1985.73 1400.03 L1985.73 1413.78 L1981.45 1413.78 L1981.45 1377.99 L1985.73 1377.99 L1985.73 1381.92 Q1987.07 1379.61 1989.11 1378.5 Q1991.17 1377.36 1994.02 1377.36 Q1998.74 1377.36 2001.68 1381.11 Q2004.64 1384.86 2004.64 1390.97 Q2004.64 1397.09 2001.68 1400.84 Q1998.74 1404.59 1994.02 1404.59 Q1991.17 1404.59 1989.11 1403.47 Q1987.07 1402.34 1985.73 1400.03 M2000.22 1390.97 Q2000.22 1386.28 1998.27 1383.61 Q1996.35 1380.93 1992.97 1380.93 Q1989.59 1380.93 1987.65 1383.61 Q1985.73 1386.28 1985.73 1390.97 Q1985.73 1395.67 1987.65 1398.36 Q1989.59 1401.02 1992.97 1401.02 Q1996.35 1401.02 1998.27 1398.36 Q2000.22 1395.67 2000.22 1390.97 Z\" fill=\"#000000\" fill-rule=\"nonzero\" fill-opacity=\"1\" /><path clip-path=\"url(#clip800)\" d=\"M2026.72 1381.97 Q2026.01 1381.55 2025.15 1381.37 Q2024.32 1381.16 2023.3 1381.16 Q2019.69 1381.16 2017.74 1383.52 Q2015.82 1385.86 2015.82 1390.26 L2015.82 1403.91 L2011.54 1403.91 L2011.54 1377.99 L2015.82 1377.99 L2015.82 1382.02 Q2017.16 1379.66 2019.32 1378.52 Q2021.47 1377.36 2024.55 1377.36 Q2024.99 1377.36 2025.52 1377.43 Q2026.05 1377.48 2026.7 1377.6 L2026.72 1381.97 Z\" fill=\"#000000\" fill-rule=\"nonzero\" fill-opacity=\"1\" /><path clip-path=\"url(#clip800)\" d=\"M2040.2 1380.97 Q2036.77 1380.97 2034.78 1383.66 Q2032.79 1386.32 2032.79 1390.97 Q2032.79 1395.63 2034.76 1398.31 Q2036.75 1400.97 2040.2 1400.97 Q2043.6 1400.97 2045.59 1398.29 Q2047.58 1395.6 2047.58 1390.97 Q2047.58 1386.37 2045.59 1383.68 Q2043.6 1380.97 2040.2 1380.97 M2040.2 1377.36 Q2045.75 1377.36 2048.92 1380.97 Q2052.09 1384.59 2052.09 1390.97 Q2052.09 1397.34 2048.92 1400.97 Q2045.75 1404.59 2040.2 1404.59 Q2034.62 1404.59 2031.45 1400.97 Q2028.3 1397.34 2028.3 1390.97 Q2028.3 1384.59 2031.45 1380.97 Q2034.62 1377.36 2040.2 1377.36 Z\" fill=\"#000000\" fill-rule=\"nonzero\" fill-opacity=\"1\" /><path clip-path=\"url(#clip800)\" d=\"M2079.25 1377.99 L2069.87 1390.6 L2079.73 1403.91 L2074.71 1403.91 L2067.16 1393.73 L2059.62 1403.91 L2054.59 1403.91 L2064.66 1390.35 L2055.45 1377.99 L2060.47 1377.99 L2067.35 1387.22 L2074.22 1377.99 L2079.25 1377.99 Z\" fill=\"#000000\" fill-rule=\"nonzero\" fill-opacity=\"1\" /><path clip-path=\"url(#clip800)\" d=\"M2085.75 1377.99 L2090.01 1377.99 L2090.01 1403.91 L2085.75 1403.91 L2085.75 1377.99 M2085.75 1367.9 L2090.01 1367.9 L2090.01 1373.29 L2085.75 1373.29 L2085.75 1367.9 Z\" fill=\"#000000\" fill-rule=\"nonzero\" fill-opacity=\"1\" /><path clip-path=\"url(#clip800)\" d=\"M2119.11 1382.97 Q2120.7 1380.1 2122.93 1378.73 Q2125.15 1377.36 2128.16 1377.36 Q2132.21 1377.36 2134.41 1380.21 Q2136.61 1383.03 2136.61 1388.27 L2136.61 1403.91 L2132.32 1403.91 L2132.32 1388.41 Q2132.32 1384.68 2131.01 1382.87 Q2129.69 1381.07 2126.98 1381.07 Q2123.67 1381.07 2121.75 1383.27 Q2119.83 1385.47 2119.83 1389.26 L2119.83 1403.91 L2115.54 1403.91 L2115.54 1388.41 Q2115.54 1384.66 2114.22 1382.87 Q2112.9 1381.07 2110.15 1381.07 Q2106.89 1381.07 2104.96 1383.29 Q2103.04 1385.49 2103.04 1389.26 L2103.04 1403.91 L2098.76 1403.91 L2098.76 1377.99 L2103.04 1377.99 L2103.04 1382.02 Q2104.5 1379.63 2106.54 1378.5 Q2108.58 1377.36 2111.38 1377.36 Q2114.2 1377.36 2116.17 1378.8 Q2118.16 1380.23 2119.11 1382.97 Z\" fill=\"#000000\" fill-rule=\"nonzero\" fill-opacity=\"1\" /><path clip-path=\"url(#clip800)\" d=\"M2156.89 1390.88 Q2151.72 1390.88 2149.73 1392.06 Q2147.74 1393.24 2147.74 1396.09 Q2147.74 1398.36 2149.22 1399.7 Q2150.73 1401.02 2153.3 1401.02 Q2156.84 1401.02 2158.97 1398.52 Q2161.12 1396 2161.12 1391.83 L2161.12 1390.88 L2156.89 1390.88 M2165.38 1389.12 L2165.38 1403.91 L2161.12 1403.91 L2161.12 1399.98 Q2159.66 1402.34 2157.49 1403.47 Q2155.31 1404.59 2152.16 1404.59 Q2148.18 1404.59 2145.82 1402.36 Q2143.48 1400.12 2143.48 1396.37 Q2143.48 1391.99 2146.4 1389.77 Q2149.34 1387.55 2155.15 1387.55 L2161.12 1387.55 L2161.12 1387.13 Q2161.12 1384.19 2159.18 1382.6 Q2157.26 1380.97 2153.76 1380.97 Q2151.54 1380.97 2149.43 1381.51 Q2147.32 1382.04 2145.38 1383.1 L2145.38 1379.17 Q2147.72 1378.27 2149.92 1377.83 Q2152.12 1377.36 2154.2 1377.36 Q2159.82 1377.36 2162.6 1380.28 Q2165.38 1383.2 2165.38 1389.12 Z\" fill=\"#000000\" fill-rule=\"nonzero\" fill-opacity=\"1\" /><path clip-path=\"url(#clip800)\" d=\"M2178.37 1370.63 L2178.37 1377.99 L2187.14 1377.99 L2187.14 1381.3 L2178.37 1381.3 L2178.37 1395.37 Q2178.37 1398.54 2179.22 1399.45 Q2180.1 1400.35 2182.76 1400.35 L2187.14 1400.35 L2187.14 1403.91 L2182.76 1403.91 Q2177.83 1403.91 2175.96 1402.09 Q2174.08 1400.23 2174.08 1395.37 L2174.08 1381.3 L2170.96 1381.3 L2170.96 1377.99 L2174.08 1377.99 L2174.08 1370.63 L2178.37 1370.63 Z\" fill=\"#000000\" fill-rule=\"nonzero\" fill-opacity=\"1\" /><path clip-path=\"url(#clip800)\" d=\"M2192.74 1377.99 L2197 1377.99 L2197 1403.91 L2192.74 1403.91 L2192.74 1377.99 M2192.74 1367.9 L2197 1367.9 L2197 1373.29 L2192.74 1373.29 L2192.74 1367.9 Z\" fill=\"#000000\" fill-rule=\"nonzero\" fill-opacity=\"1\" /><path clip-path=\"url(#clip800)\" d=\"M2215.96 1380.97 Q2212.53 1380.97 2210.54 1383.66 Q2208.55 1386.32 2208.55 1390.97 Q2208.55 1395.63 2210.52 1398.31 Q2212.51 1400.97 2215.96 1400.97 Q2219.36 1400.97 2221.35 1398.29 Q2223.34 1395.6 2223.34 1390.97 Q2223.34 1386.37 2221.35 1383.68 Q2219.36 1380.97 2215.96 1380.97 M2215.96 1377.36 Q2221.51 1377.36 2224.69 1380.97 Q2227.86 1384.59 2227.86 1390.97 Q2227.86 1397.34 2224.69 1400.97 Q2221.51 1404.59 2215.96 1404.59 Q2210.38 1404.59 2207.21 1400.97 Q2204.06 1397.34 2204.06 1390.97 Q2204.06 1384.59 2207.21 1380.97 Q2210.38 1377.36 2215.96 1377.36 Z\" fill=\"#000000\" fill-rule=\"nonzero\" fill-opacity=\"1\" /><path clip-path=\"url(#clip800)\" d=\"M2256.47 1388.27 L2256.47 1403.91 L2252.21 1403.91 L2252.21 1388.41 Q2252.21 1384.72 2250.77 1382.9 Q2249.34 1381.07 2246.47 1381.07 Q2243.02 1381.07 2241.03 1383.27 Q2239.04 1385.47 2239.04 1389.26 L2239.04 1403.91 L2234.75 1403.91 L2234.75 1377.99 L2239.04 1377.99 L2239.04 1382.02 Q2240.57 1379.68 2242.63 1378.52 Q2244.71 1377.36 2247.42 1377.36 Q2251.88 1377.36 2254.18 1380.14 Q2256.47 1382.9 2256.47 1388.27 Z\" fill=\"#000000\" fill-rule=\"nonzero\" fill-opacity=\"1\" /></svg>\n"
      ]
     },
     "metadata": {},
     "output_type": "display_data"
    }
   ],
   "source": [
    "x_grid = range(-1.0, 1.0, length = 100)\n",
    "y_vals = f_ex5.(x_grid)\n",
    "y = g_ex5.(x_grid)\n",
    "plot(x_grid, y_vals, label = \"true\")\n",
    "plot!(x_grid, y, label = \"approximation\")"
   ]
  },
  {
   "cell_type": "markdown",
   "id": "cf5057c6",
   "metadata": {},
   "source": [
    "### Exercise 6"
   ]
  },
  {
   "cell_type": "code",
   "execution_count": null,
   "id": "0c3d56e8",
   "metadata": {
    "hide-output": false
   },
   "outputs": [],
   "source": [
    "f_ex6 = open(\"us_cities.txt\", \"r\")\n",
    "total_pop = 0\n",
    "for line in eachline(f_ex6)\n",
    "    city, population = split(line, ':')  # tuple unpacking\n",
    "    total_pop += parse(Int, population)\n",
    "end\n",
    "close(f_ex6)\n",
    "println(\"Total population = $total_pop\")"
   ]
  }
 ],
 "metadata": {
  "date": 1704478552.1572797,
  "filename": "julia_essentials.md",
  "kernelspec": {
   "display_name": "Julia 1.10.4",
   "language": "julia",
   "name": "julia-1.10"
  },
  "language_info": {
   "file_extension": ".jl",
   "mimetype": "application/julia",
   "name": "julia",
   "version": "1.10.4"
  },
  "title": "Julia Essentials"
 },
 "nbformat": 4,
 "nbformat_minor": 5
}
